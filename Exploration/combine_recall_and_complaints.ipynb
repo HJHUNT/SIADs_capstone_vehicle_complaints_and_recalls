{
 "cells": [
  {
   "cell_type": "markdown",
   "metadata": {},
   "source": [
    "# Combining Complaints and Recall for Information Retrieval\n",
    "\n",
    "**Author:** Harris Zheng\n",
    "\n",
    "**Date:** March 2nd, 2025\n",
    "\n",
    "TODO: Add remainder columns"
   ]
  },
  {
   "cell_type": "markdown",
   "metadata": {},
   "source": [
    "# Import Packages"
   ]
  },
  {
   "cell_type": "code",
   "execution_count": 1,
   "metadata": {},
   "outputs": [],
   "source": [
    "import pandas as pd\n",
    "import pprint\n",
    "import numpy as np\n",
    "from sklearn.feature_extraction.text import CountVectorizer\n",
    "import matplotlib.pyplot as plt\n",
    "import os\n",
    "import string\n",
    "import re\n"
   ]
  },
  {
   "cell_type": "markdown",
   "metadata": {},
   "source": [
    "# Utilities"
   ]
  },
  {
   "cell_type": "code",
   "execution_count": 2,
   "metadata": {},
   "outputs": [],
   "source": [
    "def fill_string_spaces(df : pd.DataFrame):\n",
    "    # Fill null string columns in DataFrame\n",
    "    for column in df.columns:\n",
    "        if df[column].dtype == object:\n",
    "            df[column] = df[column].str.replace(\"\\s+\", \" \", regex=True)"
   ]
  },
  {
   "cell_type": "code",
   "execution_count": 3,
   "metadata": {},
   "outputs": [],
   "source": [
    "def fill_string_nulls(df : pd.DataFrame):\n",
    "    # Fill null string columns in DataFrame\n",
    "    for column in df.columns:\n",
    "        if df[column].dtype == object:\n",
    "            df[column] = df[column].fillna(\"\")"
   ]
  },
  {
   "cell_type": "code",
   "execution_count": 4,
   "metadata": {},
   "outputs": [],
   "source": [
    "def trim_strings(df : pd.DataFrame):\n",
    "    # Fill null string columns in DataFrame\n",
    "    for column in df.columns:\n",
    "        if df[column].dtype == object:\n",
    "            df[column] = df[column].str.strip()"
   ]
  },
  {
   "cell_type": "code",
   "execution_count": 5,
   "metadata": {},
   "outputs": [],
   "source": [
    "def find_duplicate_and_non_duplicate_columns(df : pd.DataFrame, \n",
    "                                             column_defining_uniqueness : str):\n",
    "    '''\n",
    "    input: dataframe, and unique column identifier\n",
    "    returns: duplicated columns and non-duplicated columns\n",
    "    '''\n",
    "    column_uniqueness = (\n",
    "        df.groupby(column_defining_uniqueness)\n",
    "        .nunique().sum(axis=0) \n",
    "        - \n",
    "        len(df[column_defining_uniqueness].unique())\n",
    "    )\n",
    "    duplicated_columns = column_uniqueness.loc[column_uniqueness > 0].index\n",
    "    non_duplicated_columns = set(df.columns) - set(duplicated_columns)\n",
    "\n",
    "    return list(duplicated_columns), list(non_duplicated_columns)"
   ]
  },
  {
   "cell_type": "markdown",
   "metadata": {},
   "source": [
    "# Ingest Data"
   ]
  },
  {
   "cell_type": "markdown",
   "metadata": {},
   "source": [
    "## Recall"
   ]
  },
  {
   "cell_type": "code",
   "execution_count": 6,
   "metadata": {},
   "outputs": [],
   "source": [
    "PARENT_DIR = os.getcwd().rsplit(\"\\\\\", maxsplit=1)[0]\n",
    "DATASET_DIR = os.path.join(PARENT_DIR, \"Datasets\")"
   ]
  },
  {
   "cell_type": "code",
   "execution_count": 7,
   "metadata": {},
   "outputs": [
    {
     "name": "stderr",
     "output_type": "stream",
     "text": [
      "C:\\Users\\harri\\AppData\\Local\\Temp\\ipykernel_52892\\2915165312.py:1: DtypeWarning: Columns (17,18,24,25,26) have mixed types. Specify dtype option on import or set low_memory=False.\n",
      "  df_recall = pd.read_csv(f\"{DATASET_DIR}/FLAT_RCL.txt\", sep='\\t', header=None, on_bad_lines='skip')\n"
     ]
    },
    {
     "data": {
      "text/html": [
       "<div>\n",
       "<style scoped>\n",
       "    .dataframe tbody tr th:only-of-type {\n",
       "        vertical-align: middle;\n",
       "    }\n",
       "\n",
       "    .dataframe tbody tr th {\n",
       "        vertical-align: top;\n",
       "    }\n",
       "\n",
       "    .dataframe thead th {\n",
       "        text-align: right;\n",
       "    }\n",
       "</style>\n",
       "<table border=\"1\" class=\"dataframe\">\n",
       "  <thead>\n",
       "    <tr style=\"text-align: right;\">\n",
       "      <th></th>\n",
       "      <th>RECORD_ID</th>\n",
       "      <th>CAMPNO</th>\n",
       "      <th>MAKETXT</th>\n",
       "      <th>MODELTXT</th>\n",
       "      <th>YEARTXT</th>\n",
       "      <th>MFGCAMPNO</th>\n",
       "      <th>COMPNAME</th>\n",
       "      <th>MFGNAME</th>\n",
       "      <th>BGMAN</th>\n",
       "      <th>ENDMAN</th>\n",
       "      <th>...</th>\n",
       "      <th>RPNO</th>\n",
       "      <th>FMVSS</th>\n",
       "      <th>DESC_DEFECT</th>\n",
       "      <th>CONSEQUENCE_DEFECT</th>\n",
       "      <th>CORRECTIVE_ACTION</th>\n",
       "      <th>NOTES</th>\n",
       "      <th>RCL_CMPT_ID</th>\n",
       "      <th>MFR_COMP_NAME</th>\n",
       "      <th>MFR_COMP_DESC</th>\n",
       "      <th>MFR_COMP_PTNO</th>\n",
       "    </tr>\n",
       "  </thead>\n",
       "  <tbody>\n",
       "    <tr>\n",
       "      <th>0</th>\n",
       "      <td>1</td>\n",
       "      <td>02V288000</td>\n",
       "      <td>FORD</td>\n",
       "      <td>FOCUS</td>\n",
       "      <td>2000</td>\n",
       "      <td>02S41</td>\n",
       "      <td>ELECTRICAL SYSTEM:12V/24V/48V BATTERY:CABLES</td>\n",
       "      <td>FORD MOTOR COMPANY</td>\n",
       "      <td>19990719.0</td>\n",
       "      <td>20010531.0</td>\n",
       "      <td>...</td>\n",
       "      <td>NaN</td>\n",
       "      <td>NaN</td>\n",
       "      <td>CERTAIN PASSENGER VEHICLES EQUIPPED WITH ZETEC...</td>\n",
       "      <td>THIS, IN TURN, COULD CAUSE THE BATTERY CABLES ...</td>\n",
       "      <td>DEALERS WILL INSPECT THE BATTERY CABLES FOR TH...</td>\n",
       "      <td>ALSO CONTACT THE NATIONAL HIGHWAY TRAFFIC SAFE...</td>\n",
       "      <td>000015339000215021000000202</td>\n",
       "      <td>NaN</td>\n",
       "      <td>NaN</td>\n",
       "      <td>NaN</td>\n",
       "    </tr>\n",
       "    <tr>\n",
       "      <th>1</th>\n",
       "      <td>2</td>\n",
       "      <td>02V288000</td>\n",
       "      <td>FORD</td>\n",
       "      <td>FOCUS</td>\n",
       "      <td>2001</td>\n",
       "      <td>02S41</td>\n",
       "      <td>ELECTRICAL SYSTEM:12V/24V/48V BATTERY:CABLES</td>\n",
       "      <td>FORD MOTOR COMPANY</td>\n",
       "      <td>19990719.0</td>\n",
       "      <td>20010531.0</td>\n",
       "      <td>...</td>\n",
       "      <td>NaN</td>\n",
       "      <td>NaN</td>\n",
       "      <td>CERTAIN PASSENGER VEHICLES EQUIPPED WITH ZETEC...</td>\n",
       "      <td>THIS, IN TURN, COULD CAUSE THE BATTERY CABLES ...</td>\n",
       "      <td>DEALERS WILL INSPECT THE BATTERY CABLES FOR TH...</td>\n",
       "      <td>ALSO CONTACT THE NATIONAL HIGHWAY TRAFFIC SAFE...</td>\n",
       "      <td>000015339000215022000000202</td>\n",
       "      <td>NaN</td>\n",
       "      <td>NaN</td>\n",
       "      <td>NaN</td>\n",
       "    </tr>\n",
       "    <tr>\n",
       "      <th>2</th>\n",
       "      <td>3</td>\n",
       "      <td>02V236000</td>\n",
       "      <td>JAYCO</td>\n",
       "      <td>FT EAGLE 10 SG</td>\n",
       "      <td>2003</td>\n",
       "      <td>NaN</td>\n",
       "      <td>EQUIPMENT:OTHER:LABELS</td>\n",
       "      <td>JAYCO, INC.</td>\n",
       "      <td>20020730.0</td>\n",
       "      <td>20020813.0</td>\n",
       "      <td>...</td>\n",
       "      <td>NaN</td>\n",
       "      <td>NaN</td>\n",
       "      <td>ON CERTAIN FOLDING TENT CAMPERS, THE FEDERAL C...</td>\n",
       "      <td>IF THE TIRES WERE INFLATED TO 80 PSI, THEY COU...</td>\n",
       "      <td>OWNERS WILL BE MAILED CORRECT LABELS FOR INSTA...</td>\n",
       "      <td>ALSO, CUSTOMERS CAN CONTACT THE NATIONAL HIGHW...</td>\n",
       "      <td>000015210000106403000000349</td>\n",
       "      <td>NaN</td>\n",
       "      <td>NaN</td>\n",
       "      <td>NaN</td>\n",
       "    </tr>\n",
       "    <tr>\n",
       "      <th>3</th>\n",
       "      <td>4</td>\n",
       "      <td>02V237000</td>\n",
       "      <td>HOLIDAY RAMBLER</td>\n",
       "      <td>ENDEAVOR</td>\n",
       "      <td>2000</td>\n",
       "      <td>NaN</td>\n",
       "      <td>STRUCTURE</td>\n",
       "      <td>MONACO COACH CORP.</td>\n",
       "      <td>NaN</td>\n",
       "      <td>NaN</td>\n",
       "      <td>...</td>\n",
       "      <td>NaN</td>\n",
       "      <td>NaN</td>\n",
       "      <td>ON CERTAIN CLASS A MOTOR HOMES, THE FLOOR TRUS...</td>\n",
       "      <td>CONDITIONS CAN RESULT IN THE BOTTOMING OUT THE...</td>\n",
       "      <td>DEALERS WILL INSPECT THE FLOOR TRUSS NETWORK S...</td>\n",
       "      <td>CUSTOMERS CAN ALSO CONTACT THE NATIONAL HIGHWA...</td>\n",
       "      <td>000015211000083965000000272</td>\n",
       "      <td>NaN</td>\n",
       "      <td>NaN</td>\n",
       "      <td>NaN</td>\n",
       "    </tr>\n",
       "    <tr>\n",
       "      <th>4</th>\n",
       "      <td>5</td>\n",
       "      <td>02V237000</td>\n",
       "      <td>HOLIDAY RAMBLER</td>\n",
       "      <td>ENDEAVOR</td>\n",
       "      <td>1999</td>\n",
       "      <td>NaN</td>\n",
       "      <td>STRUCTURE</td>\n",
       "      <td>MONACO COACH CORP.</td>\n",
       "      <td>NaN</td>\n",
       "      <td>NaN</td>\n",
       "      <td>...</td>\n",
       "      <td>NaN</td>\n",
       "      <td>NaN</td>\n",
       "      <td>ON CERTAIN CLASS A MOTOR HOMES, THE FLOOR TRUS...</td>\n",
       "      <td>CONDITIONS CAN RESULT IN THE BOTTOMING OUT THE...</td>\n",
       "      <td>DEALERS WILL INSPECT THE FLOOR TRUSS NETWORK S...</td>\n",
       "      <td>CUSTOMERS CAN ALSO CONTACT THE NATIONAL HIGHWA...</td>\n",
       "      <td>000015211000080938000000272</td>\n",
       "      <td>NaN</td>\n",
       "      <td>NaN</td>\n",
       "      <td>NaN</td>\n",
       "    </tr>\n",
       "  </tbody>\n",
       "</table>\n",
       "<p>5 rows × 27 columns</p>\n",
       "</div>"
      ],
      "text/plain": [
       "   RECORD_ID     CAMPNO          MAKETXT        MODELTXT  YEARTXT MFGCAMPNO  \\\n",
       "0          1  02V288000             FORD           FOCUS     2000     02S41   \n",
       "1          2  02V288000             FORD           FOCUS     2001     02S41   \n",
       "2          3  02V236000            JAYCO  FT EAGLE 10 SG     2003       NaN   \n",
       "3          4  02V237000  HOLIDAY RAMBLER        ENDEAVOR     2000       NaN   \n",
       "4          5  02V237000  HOLIDAY RAMBLER        ENDEAVOR     1999       NaN   \n",
       "\n",
       "                                       COMPNAME             MFGNAME  \\\n",
       "0  ELECTRICAL SYSTEM:12V/24V/48V BATTERY:CABLES  FORD MOTOR COMPANY   \n",
       "1  ELECTRICAL SYSTEM:12V/24V/48V BATTERY:CABLES  FORD MOTOR COMPANY   \n",
       "2                        EQUIPMENT:OTHER:LABELS         JAYCO, INC.   \n",
       "3                                     STRUCTURE  MONACO COACH CORP.   \n",
       "4                                     STRUCTURE  MONACO COACH CORP.   \n",
       "\n",
       "        BGMAN      ENDMAN  ... RPNO  FMVSS  \\\n",
       "0  19990719.0  20010531.0  ...  NaN    NaN   \n",
       "1  19990719.0  20010531.0  ...  NaN    NaN   \n",
       "2  20020730.0  20020813.0  ...  NaN    NaN   \n",
       "3         NaN         NaN  ...  NaN    NaN   \n",
       "4         NaN         NaN  ...  NaN    NaN   \n",
       "\n",
       "                                         DESC_DEFECT  \\\n",
       "0  CERTAIN PASSENGER VEHICLES EQUIPPED WITH ZETEC...   \n",
       "1  CERTAIN PASSENGER VEHICLES EQUIPPED WITH ZETEC...   \n",
       "2  ON CERTAIN FOLDING TENT CAMPERS, THE FEDERAL C...   \n",
       "3  ON CERTAIN CLASS A MOTOR HOMES, THE FLOOR TRUS...   \n",
       "4  ON CERTAIN CLASS A MOTOR HOMES, THE FLOOR TRUS...   \n",
       "\n",
       "                                  CONSEQUENCE_DEFECT  \\\n",
       "0  THIS, IN TURN, COULD CAUSE THE BATTERY CABLES ...   \n",
       "1  THIS, IN TURN, COULD CAUSE THE BATTERY CABLES ...   \n",
       "2  IF THE TIRES WERE INFLATED TO 80 PSI, THEY COU...   \n",
       "3  CONDITIONS CAN RESULT IN THE BOTTOMING OUT THE...   \n",
       "4  CONDITIONS CAN RESULT IN THE BOTTOMING OUT THE...   \n",
       "\n",
       "                                   CORRECTIVE_ACTION  \\\n",
       "0  DEALERS WILL INSPECT THE BATTERY CABLES FOR TH...   \n",
       "1  DEALERS WILL INSPECT THE BATTERY CABLES FOR TH...   \n",
       "2  OWNERS WILL BE MAILED CORRECT LABELS FOR INSTA...   \n",
       "3  DEALERS WILL INSPECT THE FLOOR TRUSS NETWORK S...   \n",
       "4  DEALERS WILL INSPECT THE FLOOR TRUSS NETWORK S...   \n",
       "\n",
       "                                               NOTES  \\\n",
       "0  ALSO CONTACT THE NATIONAL HIGHWAY TRAFFIC SAFE...   \n",
       "1  ALSO CONTACT THE NATIONAL HIGHWAY TRAFFIC SAFE...   \n",
       "2  ALSO, CUSTOMERS CAN CONTACT THE NATIONAL HIGHW...   \n",
       "3  CUSTOMERS CAN ALSO CONTACT THE NATIONAL HIGHWA...   \n",
       "4  CUSTOMERS CAN ALSO CONTACT THE NATIONAL HIGHWA...   \n",
       "\n",
       "                   RCL_CMPT_ID MFR_COMP_NAME MFR_COMP_DESC MFR_COMP_PTNO  \n",
       "0  000015339000215021000000202           NaN           NaN           NaN  \n",
       "1  000015339000215022000000202           NaN           NaN           NaN  \n",
       "2  000015210000106403000000349           NaN           NaN           NaN  \n",
       "3  000015211000083965000000272           NaN           NaN           NaN  \n",
       "4  000015211000080938000000272           NaN           NaN           NaN  \n",
       "\n",
       "[5 rows x 27 columns]"
      ]
     },
     "execution_count": 7,
     "metadata": {},
     "output_type": "execute_result"
    }
   ],
   "source": [
    "df_recall = pd.read_csv(f\"{DATASET_DIR}/FLAT_RCL.txt\", sep='\\t', header=None, on_bad_lines='skip')\n",
    "# use the column names listed above\n",
    "df_recall.columns = ['RECORD_ID', 'CAMPNO', 'MAKETXT', 'MODELTXT', 'YEARTXT', 'MFGCAMPNO', 'COMPNAME', 'MFGNAME', 'BGMAN', 'ENDMAN', 'RCLTYPECD', 'POTAFF', 'ODATE', 'INFLUENCED_BY', 'MFGTXT', 'RCDATE', 'DATEA', 'RPNO', 'FMVSS', 'DESC_DEFECT', 'CONSEQUENCE_DEFECT', 'CORRECTIVE_ACTION', 'NOTES', 'RCL_CMPT_ID', 'MFR_COMP_NAME', 'MFR_COMP_DESC', 'MFR_COMP_PTNO']\n",
    "df_recall.head()"
   ]
  },
  {
   "cell_type": "markdown",
   "metadata": {},
   "source": [
    "## Complaints\n",
    "2025 data"
   ]
  },
  {
   "cell_type": "code",
   "execution_count": 11,
   "metadata": {},
   "outputs": [
    {
     "name": "stderr",
     "output_type": "stream",
     "text": [
      "C:\\Users\\harri\\AppData\\Local\\Temp\\ipykernel_52892\\1656787543.py:1: DtypeWarning: Columns (27,28,29,30,33,38,41,44) have mixed types. Specify dtype option on import or set low_memory=False.\n",
      "  df_complaints = pd.read_csv(f\"{DATASET_DIR}/COMPLAINTS_RECEIVED_2020-2024.txt\",\n"
     ]
    }
   ],
   "source": [
    "df_complaints = pd.read_csv(f\"{DATASET_DIR}/COMPLAINTS_RECEIVED_2020-2024.txt\", \n",
    "                            sep='\\t', \n",
    "                            header=None, \n",
    "                            index_col=0)\n",
    "df_complaints.columns = ['ODINO', 'MFR_NAME', 'MAKETXT', 'MODELTXT', 'YEARTXT', 'CRASH', 'FAILDATE', 'FIRE', 'INJURED', 'DEATHS', 'COMPDESC', 'CITY', 'STATE', 'VIN', 'DATEA', 'LDATE', 'MILES', 'OCCURENCES', 'CDESCR', 'CMPL_TYPE', 'POLICE_RPT_YN', 'PURCH_DT', 'ORIG_OWNER_YN', 'ANTI_BRAKES_YN', 'CRUISE_CONT_YN', 'NUM_CYLS', 'DRIVE_TRAIN', 'FUEL_SYS', 'FUEL_TYPE',\n",
    "              'TRANS_TYPE', 'VEH_SPEED', 'DOT', 'TIRE_SIZE', 'LOC_OF_TIRE', 'TIRE_FAIL_TYPE', 'ORIG_EQUIP_YN', 'MANUF_DT', 'SEAT_TYPE', 'RESTRAINT_TYPE', 'DEALER_NAME', 'DEALER_TEL', 'DEALER_CITY', 'DEALER_STATE', 'DEALER_ZIP', 'PROD_TYPE', 'REPAIRED_YN', 'MEDICAL_ATTN', 'VEHICLES_TOWED_YN']"
   ]
  },
  {
   "cell_type": "code",
   "execution_count": 12,
   "metadata": {},
   "outputs": [
    {
     "data": {
      "text/plain": [
       "418344"
      ]
     },
     "execution_count": 12,
     "metadata": {},
     "output_type": "execute_result"
    }
   ],
   "source": [
    "len(df_complaints)"
   ]
  },
  {
   "cell_type": "code",
   "execution_count": 13,
   "metadata": {},
   "outputs": [
    {
     "data": {
      "text/html": [
       "<div>\n",
       "<style scoped>\n",
       "    .dataframe tbody tr th:only-of-type {\n",
       "        vertical-align: middle;\n",
       "    }\n",
       "\n",
       "    .dataframe tbody tr th {\n",
       "        vertical-align: top;\n",
       "    }\n",
       "\n",
       "    .dataframe thead th {\n",
       "        text-align: right;\n",
       "    }\n",
       "</style>\n",
       "<table border=\"1\" class=\"dataframe\">\n",
       "  <thead>\n",
       "    <tr style=\"text-align: right;\">\n",
       "      <th></th>\n",
       "      <th>ODINO</th>\n",
       "      <th>MFR_NAME</th>\n",
       "      <th>MAKETXT</th>\n",
       "      <th>MODELTXT</th>\n",
       "      <th>YEARTXT</th>\n",
       "      <th>CRASH</th>\n",
       "      <th>FAILDATE</th>\n",
       "      <th>FIRE</th>\n",
       "      <th>INJURED</th>\n",
       "      <th>DEATHS</th>\n",
       "      <th>...</th>\n",
       "      <th>RESTRAINT_TYPE</th>\n",
       "      <th>DEALER_NAME</th>\n",
       "      <th>DEALER_TEL</th>\n",
       "      <th>DEALER_CITY</th>\n",
       "      <th>DEALER_STATE</th>\n",
       "      <th>DEALER_ZIP</th>\n",
       "      <th>PROD_TYPE</th>\n",
       "      <th>REPAIRED_YN</th>\n",
       "      <th>MEDICAL_ATTN</th>\n",
       "      <th>VEHICLES_TOWED_YN</th>\n",
       "    </tr>\n",
       "    <tr>\n",
       "      <th>0</th>\n",
       "      <th></th>\n",
       "      <th></th>\n",
       "      <th></th>\n",
       "      <th></th>\n",
       "      <th></th>\n",
       "      <th></th>\n",
       "      <th></th>\n",
       "      <th></th>\n",
       "      <th></th>\n",
       "      <th></th>\n",
       "      <th></th>\n",
       "      <th></th>\n",
       "      <th></th>\n",
       "      <th></th>\n",
       "      <th></th>\n",
       "      <th></th>\n",
       "      <th></th>\n",
       "      <th></th>\n",
       "      <th></th>\n",
       "      <th></th>\n",
       "      <th></th>\n",
       "    </tr>\n",
       "  </thead>\n",
       "  <tbody>\n",
       "    <tr>\n",
       "      <th>1633298</th>\n",
       "      <td>11292384</td>\n",
       "      <td>Honda (American Honda Motor Co.)</td>\n",
       "      <td>HONDA</td>\n",
       "      <td>ACCORD</td>\n",
       "      <td>2018.0</td>\n",
       "      <td>N</td>\n",
       "      <td>20191221</td>\n",
       "      <td>N</td>\n",
       "      <td>0</td>\n",
       "      <td>0</td>\n",
       "      <td>...</td>\n",
       "      <td>NaN</td>\n",
       "      <td>NaN</td>\n",
       "      <td>NaN</td>\n",
       "      <td>NaN</td>\n",
       "      <td>NaN</td>\n",
       "      <td>NaN</td>\n",
       "      <td>V</td>\n",
       "      <td>NaN</td>\n",
       "      <td>N</td>\n",
       "      <td>N</td>\n",
       "    </tr>\n",
       "    <tr>\n",
       "      <th>1633299</th>\n",
       "      <td>11292384</td>\n",
       "      <td>Honda (American Honda Motor Co.)</td>\n",
       "      <td>HONDA</td>\n",
       "      <td>ACCORD</td>\n",
       "      <td>2018.0</td>\n",
       "      <td>N</td>\n",
       "      <td>20191221</td>\n",
       "      <td>N</td>\n",
       "      <td>0</td>\n",
       "      <td>0</td>\n",
       "      <td>...</td>\n",
       "      <td>NaN</td>\n",
       "      <td>NaN</td>\n",
       "      <td>NaN</td>\n",
       "      <td>NaN</td>\n",
       "      <td>NaN</td>\n",
       "      <td>NaN</td>\n",
       "      <td>V</td>\n",
       "      <td>NaN</td>\n",
       "      <td>N</td>\n",
       "      <td>N</td>\n",
       "    </tr>\n",
       "    <tr>\n",
       "      <th>1633300</th>\n",
       "      <td>11292384</td>\n",
       "      <td>Honda (American Honda Motor Co.)</td>\n",
       "      <td>HONDA</td>\n",
       "      <td>ACCORD</td>\n",
       "      <td>2018.0</td>\n",
       "      <td>N</td>\n",
       "      <td>20191221</td>\n",
       "      <td>N</td>\n",
       "      <td>0</td>\n",
       "      <td>0</td>\n",
       "      <td>...</td>\n",
       "      <td>NaN</td>\n",
       "      <td>NaN</td>\n",
       "      <td>NaN</td>\n",
       "      <td>NaN</td>\n",
       "      <td>NaN</td>\n",
       "      <td>NaN</td>\n",
       "      <td>V</td>\n",
       "      <td>NaN</td>\n",
       "      <td>N</td>\n",
       "      <td>N</td>\n",
       "    </tr>\n",
       "    <tr>\n",
       "      <th>1633301</th>\n",
       "      <td>11292385</td>\n",
       "      <td>Ford Motor Company</td>\n",
       "      <td>FORD</td>\n",
       "      <td>EXPLORER</td>\n",
       "      <td>2020.0</td>\n",
       "      <td>N</td>\n",
       "      <td>20191226</td>\n",
       "      <td>N</td>\n",
       "      <td>0</td>\n",
       "      <td>0</td>\n",
       "      <td>...</td>\n",
       "      <td>NaN</td>\n",
       "      <td>NaN</td>\n",
       "      <td>NaN</td>\n",
       "      <td>NaN</td>\n",
       "      <td>NaN</td>\n",
       "      <td>NaN</td>\n",
       "      <td>V</td>\n",
       "      <td>NaN</td>\n",
       "      <td>N</td>\n",
       "      <td>N</td>\n",
       "    </tr>\n",
       "    <tr>\n",
       "      <th>1633302</th>\n",
       "      <td>11292386</td>\n",
       "      <td>General Motors, LLC</td>\n",
       "      <td>CHEVROLET</td>\n",
       "      <td>VOLT</td>\n",
       "      <td>2017.0</td>\n",
       "      <td>N</td>\n",
       "      <td>20190712</td>\n",
       "      <td>N</td>\n",
       "      <td>0</td>\n",
       "      <td>0</td>\n",
       "      <td>...</td>\n",
       "      <td>NaN</td>\n",
       "      <td>NaN</td>\n",
       "      <td>NaN</td>\n",
       "      <td>NaN</td>\n",
       "      <td>NaN</td>\n",
       "      <td>NaN</td>\n",
       "      <td>V</td>\n",
       "      <td>NaN</td>\n",
       "      <td>N</td>\n",
       "      <td>N</td>\n",
       "    </tr>\n",
       "  </tbody>\n",
       "</table>\n",
       "<p>5 rows × 48 columns</p>\n",
       "</div>"
      ],
      "text/plain": [
       "            ODINO                          MFR_NAME    MAKETXT  MODELTXT  \\\n",
       "0                                                                          \n",
       "1633298  11292384  Honda (American Honda Motor Co.)      HONDA    ACCORD   \n",
       "1633299  11292384  Honda (American Honda Motor Co.)      HONDA    ACCORD   \n",
       "1633300  11292384  Honda (American Honda Motor Co.)      HONDA    ACCORD   \n",
       "1633301  11292385                Ford Motor Company       FORD  EXPLORER   \n",
       "1633302  11292386               General Motors, LLC  CHEVROLET      VOLT   \n",
       "\n",
       "         YEARTXT CRASH  FAILDATE FIRE  INJURED  DEATHS  ... RESTRAINT_TYPE  \\\n",
       "0                                                       ...                  \n",
       "1633298   2018.0     N  20191221    N        0       0  ...            NaN   \n",
       "1633299   2018.0     N  20191221    N        0       0  ...            NaN   \n",
       "1633300   2018.0     N  20191221    N        0       0  ...            NaN   \n",
       "1633301   2020.0     N  20191226    N        0       0  ...            NaN   \n",
       "1633302   2017.0     N  20190712    N        0       0  ...            NaN   \n",
       "\n",
       "        DEALER_NAME DEALER_TEL DEALER_CITY  DEALER_STATE  DEALER_ZIP  \\\n",
       "0                                                                      \n",
       "1633298         NaN        NaN         NaN           NaN         NaN   \n",
       "1633299         NaN        NaN         NaN           NaN         NaN   \n",
       "1633300         NaN        NaN         NaN           NaN         NaN   \n",
       "1633301         NaN        NaN         NaN           NaN         NaN   \n",
       "1633302         NaN        NaN         NaN           NaN         NaN   \n",
       "\n",
       "         PROD_TYPE  REPAIRED_YN MEDICAL_ATTN VEHICLES_TOWED_YN  \n",
       "0                                                               \n",
       "1633298          V          NaN            N                 N  \n",
       "1633299          V          NaN            N                 N  \n",
       "1633300          V          NaN            N                 N  \n",
       "1633301          V          NaN            N                 N  \n",
       "1633302          V          NaN            N                 N  \n",
       "\n",
       "[5 rows x 48 columns]"
      ]
     },
     "execution_count": 13,
     "metadata": {},
     "output_type": "execute_result"
    }
   ],
   "source": [
    "df_complaints.head()"
   ]
  },
  {
   "cell_type": "markdown",
   "metadata": {},
   "source": [
    "## Column Intersection Between Recall and Complaints"
   ]
  },
  {
   "cell_type": "code",
   "execution_count": 14,
   "metadata": {},
   "outputs": [
    {
     "data": {
      "text/plain": [
       "Index(['RECORD_ID', 'CAMPNO', 'MAKETXT', 'MODELTXT', 'YEARTXT', 'MFGCAMPNO',\n",
       "       'COMPNAME', 'MFGNAME', 'BGMAN', 'ENDMAN', 'RCLTYPECD', 'POTAFF',\n",
       "       'ODATE', 'INFLUENCED_BY', 'MFGTXT', 'RCDATE', 'DATEA', 'RPNO', 'FMVSS',\n",
       "       'DESC_DEFECT', 'CONSEQUENCE_DEFECT', 'CORRECTIVE_ACTION', 'NOTES',\n",
       "       'RCL_CMPT_ID', 'MFR_COMP_NAME', 'MFR_COMP_DESC', 'MFR_COMP_PTNO'],\n",
       "      dtype='object')"
      ]
     },
     "execution_count": 14,
     "metadata": {},
     "output_type": "execute_result"
    }
   ],
   "source": [
    "df_recall.columns"
   ]
  },
  {
   "cell_type": "code",
   "execution_count": 15,
   "metadata": {},
   "outputs": [
    {
     "data": {
      "text/plain": [
       "Index(['ODINO', 'MFR_NAME', 'MAKETXT', 'MODELTXT', 'YEARTXT', 'CRASH',\n",
       "       'FAILDATE', 'FIRE', 'INJURED', 'DEATHS', 'COMPDESC', 'CITY', 'STATE',\n",
       "       'VIN', 'DATEA', 'LDATE', 'MILES', 'OCCURENCES', 'CDESCR', 'CMPL_TYPE',\n",
       "       'POLICE_RPT_YN', 'PURCH_DT', 'ORIG_OWNER_YN', 'ANTI_BRAKES_YN',\n",
       "       'CRUISE_CONT_YN', 'NUM_CYLS', 'DRIVE_TRAIN', 'FUEL_SYS', 'FUEL_TYPE',\n",
       "       'TRANS_TYPE', 'VEH_SPEED', 'DOT', 'TIRE_SIZE', 'LOC_OF_TIRE',\n",
       "       'TIRE_FAIL_TYPE', 'ORIG_EQUIP_YN', 'MANUF_DT', 'SEAT_TYPE',\n",
       "       'RESTRAINT_TYPE', 'DEALER_NAME', 'DEALER_TEL', 'DEALER_CITY',\n",
       "       'DEALER_STATE', 'DEALER_ZIP', 'PROD_TYPE', 'REPAIRED_YN',\n",
       "       'MEDICAL_ATTN', 'VEHICLES_TOWED_YN'],\n",
       "      dtype='object')"
      ]
     },
     "execution_count": 15,
     "metadata": {},
     "output_type": "execute_result"
    }
   ],
   "source": [
    "df_complaints.columns"
   ]
  },
  {
   "cell_type": "code",
   "execution_count": 16,
   "metadata": {},
   "outputs": [
    {
     "data": {
      "text/plain": [
       "{'DATEA', 'MAKETXT', 'MODELTXT', 'YEARTXT'}"
      ]
     },
     "execution_count": 16,
     "metadata": {},
     "output_type": "execute_result"
    }
   ],
   "source": [
    "set(df_complaints.columns) & set(df_recall.columns)"
   ]
  },
  {
   "cell_type": "markdown",
   "metadata": {},
   "source": [
    "Other columns we should merge together aside from intersecting columns: \n",
    "- COMPNAME, COMPDESC. \n",
    "- MFR_NAME, MFG_NAME. "
   ]
  },
  {
   "cell_type": "markdown",
   "metadata": {},
   "source": [
    "# Preprocessing"
   ]
  },
  {
   "cell_type": "markdown",
   "metadata": {},
   "source": [
    "### Setting up Text"
   ]
  },
  {
   "cell_type": "code",
   "execution_count": 17,
   "metadata": {},
   "outputs": [],
   "source": [
    "fill_string_nulls(df_complaints)\n",
    "fill_string_nulls(df_recall)"
   ]
  },
  {
   "cell_type": "code",
   "execution_count": 18,
   "metadata": {},
   "outputs": [],
   "source": [
    "df_complaints[\"MMYTXT\"] = (\n",
    "    df_complaints[\"MAKETXT\"] + \" \" + df_complaints[\"MODELTXT\"] + \" \" + df_complaints[\"YEARTXT\"].astype(str).fillna(\"\")\n",
    ")\n",
    "df_complaints[\"CDESCR_CODE\"] = pd.factorize(df_complaints['CDESCR'])[0]\n",
    "\n",
    "df_recall[\"MMYTXT\"] = (\n",
    "    df_recall[\"MAKETXT\"] + \" \" + df_recall[\"MODELTXT\"] + \" \" + df_recall[\"YEARTXT\"].astype(str).fillna(\"\")\n",
    ")\n",
    "df_recall[\"CDESCR\"] = (\n",
    "    df_recall[\"DESC_DEFECT\"]\n",
    "    .str.cat(\n",
    "        df_recall[[\"CONSEQUENCE_DEFECT\"]],\n",
    "        sep=\"\\r\\n\"\n",
    "    )\n",
    ")\n",
    "df_recall[\"CDESCR_CODE\"] = pd.factorize(df_recall['CDESCR'])[0]\n"
   ]
  },
  {
   "cell_type": "code",
   "execution_count": 19,
   "metadata": {},
   "outputs": [],
   "source": [
    "assert max(df_recall[\"CDESCR\"].str.split(\"\\r\\n\").str.len()) == 2, \"Split is not clean\""
   ]
  },
  {
   "cell_type": "code",
   "execution_count": 20,
   "metadata": {},
   "outputs": [],
   "source": [
    "# df_recall[\"CDESCR-\"] = df_recall[\"DESC_DEFECT\"].str.cat(\n",
    "#     df_recall[[\"CONSEQUENCE_DEFECT\", \"CORRECTIVE_ACTION\"]],\n",
    "#     sep=\"- \"\n",
    "# )\n",
    "# df_recall[\"CDESCR-\"].str.split(\"- \").str.len().describe()"
   ]
  },
  {
   "cell_type": "markdown",
   "metadata": {},
   "source": [
    "Ideally we want cdescr to always split into number of elements we desire. Let's use a different separator."
   ]
  },
  {
   "cell_type": "code",
   "execution_count": 21,
   "metadata": {},
   "outputs": [],
   "source": [
    "# df_complaints[\"MMYTXT\"] = (\n",
    "#     df_complaints[\"MAKETXT\"] + \" \" + df_complaints[\"MODELTXT\"] + \" \" + df_complaints[\"YEARTXT\"].astype(str).fillna(\"\")\n",
    "# )\n",
    "# df_recall[\"MMYTXT\"] = (\n",
    "#     df_recall[\"MAKETXT\"] + \" \" + df_recall[\"MODELTXT\"] + \" \" + df_recall[\"YEARTXT\"].astype(str).fillna(\"\")\n",
    "# )\n",
    "# df_recall[\"CDESCR\"] = df_recall[\"DESC_DEFECT\"].str.cat(\n",
    "#     df_recall[[\"CONSEQUENCE_DEFECT\", \"CORRECTIVE_ACTION\"]],\n",
    "#     sep=\"\\r\\n\"\n",
    "# )"
   ]
  },
  {
   "cell_type": "markdown",
   "metadata": {},
   "source": [
    "Better split :))"
   ]
  },
  {
   "cell_type": "code",
   "execution_count": 22,
   "metadata": {},
   "outputs": [
    {
     "ename": "KeyboardInterrupt",
     "evalue": "",
     "output_type": "error",
     "traceback": [
      "\u001b[1;31m---------------------------------------------------------------------------\u001b[0m",
      "\u001b[1;31mKeyboardInterrupt\u001b[0m                         Traceback (most recent call last)",
      "Cell \u001b[1;32mIn[22], line 1\u001b[0m\n\u001b[1;32m----> 1\u001b[0m \u001b[43mfill_string_spaces\u001b[49m\u001b[43m(\u001b[49m\u001b[43mdf_complaints\u001b[49m\u001b[43m)\u001b[49m\n\u001b[0;32m      2\u001b[0m fill_string_spaces(df_recall)\n",
      "Cell \u001b[1;32mIn[2], line 5\u001b[0m, in \u001b[0;36mfill_string_spaces\u001b[1;34m(df)\u001b[0m\n\u001b[0;32m      3\u001b[0m \u001b[38;5;28;01mfor\u001b[39;00m column \u001b[38;5;129;01min\u001b[39;00m df\u001b[38;5;241m.\u001b[39mcolumns:\n\u001b[0;32m      4\u001b[0m     \u001b[38;5;28;01mif\u001b[39;00m df[column]\u001b[38;5;241m.\u001b[39mdtype \u001b[38;5;241m==\u001b[39m \u001b[38;5;28mobject\u001b[39m:\n\u001b[1;32m----> 5\u001b[0m         df[column] \u001b[38;5;241m=\u001b[39m \u001b[43mdf\u001b[49m\u001b[43m[\u001b[49m\u001b[43mcolumn\u001b[49m\u001b[43m]\u001b[49m\u001b[38;5;241;43m.\u001b[39;49m\u001b[43mstr\u001b[49m\u001b[38;5;241;43m.\u001b[39;49m\u001b[43mreplace\u001b[49m\u001b[43m(\u001b[49m\u001b[38;5;124;43m\"\u001b[39;49m\u001b[38;5;124;43m\\\u001b[39;49m\u001b[38;5;124;43ms+\u001b[39;49m\u001b[38;5;124;43m\"\u001b[39;49m\u001b[43m,\u001b[49m\u001b[43m \u001b[49m\u001b[38;5;124;43m\"\u001b[39;49m\u001b[38;5;124;43m \u001b[39;49m\u001b[38;5;124;43m\"\u001b[39;49m\u001b[43m,\u001b[49m\u001b[43m \u001b[49m\u001b[43mregex\u001b[49m\u001b[38;5;241;43m=\u001b[39;49m\u001b[38;5;28;43;01mTrue\u001b[39;49;00m\u001b[43m)\u001b[49m\n",
      "File \u001b[1;32mc:\\Users\\harri\\anaconda3\\envs\\capstone_vehicle_recall\\lib\\site-packages\\pandas\\core\\strings\\accessor.py:137\u001b[0m, in \u001b[0;36mforbid_nonstring_types.<locals>._forbid_nonstring_types.<locals>.wrapper\u001b[1;34m(self, *args, **kwargs)\u001b[0m\n\u001b[0;32m    132\u001b[0m     msg \u001b[38;5;241m=\u001b[39m (\n\u001b[0;32m    133\u001b[0m         \u001b[38;5;124mf\u001b[39m\u001b[38;5;124m\"\u001b[39m\u001b[38;5;124mCannot use .str.\u001b[39m\u001b[38;5;132;01m{\u001b[39;00mfunc_name\u001b[38;5;132;01m}\u001b[39;00m\u001b[38;5;124m with values of \u001b[39m\u001b[38;5;124m\"\u001b[39m\n\u001b[0;32m    134\u001b[0m         \u001b[38;5;124mf\u001b[39m\u001b[38;5;124m\"\u001b[39m\u001b[38;5;124minferred dtype \u001b[39m\u001b[38;5;124m'\u001b[39m\u001b[38;5;132;01m{\u001b[39;00m\u001b[38;5;28mself\u001b[39m\u001b[38;5;241m.\u001b[39m_inferred_dtype\u001b[38;5;132;01m}\u001b[39;00m\u001b[38;5;124m'\u001b[39m\u001b[38;5;124m.\u001b[39m\u001b[38;5;124m\"\u001b[39m\n\u001b[0;32m    135\u001b[0m     )\n\u001b[0;32m    136\u001b[0m     \u001b[38;5;28;01mraise\u001b[39;00m \u001b[38;5;167;01mTypeError\u001b[39;00m(msg)\n\u001b[1;32m--> 137\u001b[0m \u001b[38;5;28;01mreturn\u001b[39;00m func(\u001b[38;5;28mself\u001b[39m, \u001b[38;5;241m*\u001b[39margs, \u001b[38;5;241m*\u001b[39m\u001b[38;5;241m*\u001b[39mkwargs)\n",
      "File \u001b[1;32mc:\\Users\\harri\\anaconda3\\envs\\capstone_vehicle_recall\\lib\\site-packages\\pandas\\core\\strings\\accessor.py:1567\u001b[0m, in \u001b[0;36mStringMethods.replace\u001b[1;34m(self, pat, repl, n, case, flags, regex)\u001b[0m\n\u001b[0;32m   1564\u001b[0m \u001b[38;5;28;01mif\u001b[39;00m case \u001b[38;5;129;01mis\u001b[39;00m \u001b[38;5;28;01mNone\u001b[39;00m:\n\u001b[0;32m   1565\u001b[0m     case \u001b[38;5;241m=\u001b[39m \u001b[38;5;28;01mTrue\u001b[39;00m\n\u001b[1;32m-> 1567\u001b[0m result \u001b[38;5;241m=\u001b[39m \u001b[38;5;28;43mself\u001b[39;49m\u001b[38;5;241;43m.\u001b[39;49m\u001b[43m_data\u001b[49m\u001b[38;5;241;43m.\u001b[39;49m\u001b[43marray\u001b[49m\u001b[38;5;241;43m.\u001b[39;49m\u001b[43m_str_replace\u001b[49m\u001b[43m(\u001b[49m\n\u001b[0;32m   1568\u001b[0m \u001b[43m    \u001b[49m\u001b[43mpat\u001b[49m\u001b[43m,\u001b[49m\u001b[43m \u001b[49m\u001b[43mrepl\u001b[49m\u001b[43m,\u001b[49m\u001b[43m \u001b[49m\u001b[43mn\u001b[49m\u001b[38;5;241;43m=\u001b[39;49m\u001b[43mn\u001b[49m\u001b[43m,\u001b[49m\u001b[43m \u001b[49m\u001b[43mcase\u001b[49m\u001b[38;5;241;43m=\u001b[39;49m\u001b[43mcase\u001b[49m\u001b[43m,\u001b[49m\u001b[43m \u001b[49m\u001b[43mflags\u001b[49m\u001b[38;5;241;43m=\u001b[39;49m\u001b[43mflags\u001b[49m\u001b[43m,\u001b[49m\u001b[43m \u001b[49m\u001b[43mregex\u001b[49m\u001b[38;5;241;43m=\u001b[39;49m\u001b[43mregex\u001b[49m\n\u001b[0;32m   1569\u001b[0m \u001b[43m\u001b[49m\u001b[43m)\u001b[49m\n\u001b[0;32m   1570\u001b[0m \u001b[38;5;28;01mreturn\u001b[39;00m \u001b[38;5;28mself\u001b[39m\u001b[38;5;241m.\u001b[39m_wrap_result(result)\n",
      "File \u001b[1;32mc:\\Users\\harri\\anaconda3\\envs\\capstone_vehicle_recall\\lib\\site-packages\\pandas\\core\\strings\\object_array.py:179\u001b[0m, in \u001b[0;36mObjectStringArrayMixin._str_replace\u001b[1;34m(self, pat, repl, n, case, flags, regex)\u001b[0m\n\u001b[0;32m    176\u001b[0m \u001b[38;5;28;01melse\u001b[39;00m:\n\u001b[0;32m    177\u001b[0m     f \u001b[38;5;241m=\u001b[39m \u001b[38;5;28;01mlambda\u001b[39;00m x: x\u001b[38;5;241m.\u001b[39mreplace(pat, repl, n)\n\u001b[1;32m--> 179\u001b[0m \u001b[38;5;28;01mreturn\u001b[39;00m \u001b[38;5;28;43mself\u001b[39;49m\u001b[38;5;241;43m.\u001b[39;49m\u001b[43m_str_map\u001b[49m\u001b[43m(\u001b[49m\u001b[43mf\u001b[49m\u001b[43m,\u001b[49m\u001b[43m \u001b[49m\u001b[43mdtype\u001b[49m\u001b[38;5;241;43m=\u001b[39;49m\u001b[38;5;28;43mstr\u001b[39;49m\u001b[43m)\u001b[49m\n",
      "File \u001b[1;32mc:\\Users\\harri\\anaconda3\\envs\\capstone_vehicle_recall\\lib\\site-packages\\pandas\\core\\strings\\object_array.py:78\u001b[0m, in \u001b[0;36mObjectStringArrayMixin._str_map\u001b[1;34m(self, f, na_value, dtype, convert)\u001b[0m\n\u001b[0;32m     76\u001b[0m map_convert \u001b[38;5;241m=\u001b[39m convert \u001b[38;5;129;01mand\u001b[39;00m \u001b[38;5;129;01mnot\u001b[39;00m np\u001b[38;5;241m.\u001b[39mall(mask)\n\u001b[0;32m     77\u001b[0m \u001b[38;5;28;01mtry\u001b[39;00m:\n\u001b[1;32m---> 78\u001b[0m     result \u001b[38;5;241m=\u001b[39m \u001b[43mlib\u001b[49m\u001b[38;5;241;43m.\u001b[39;49m\u001b[43mmap_infer_mask\u001b[49m\u001b[43m(\u001b[49m\u001b[43marr\u001b[49m\u001b[43m,\u001b[49m\u001b[43m \u001b[49m\u001b[43mf\u001b[49m\u001b[43m,\u001b[49m\u001b[43m \u001b[49m\u001b[43mmask\u001b[49m\u001b[38;5;241;43m.\u001b[39;49m\u001b[43mview\u001b[49m\u001b[43m(\u001b[49m\u001b[43mnp\u001b[49m\u001b[38;5;241;43m.\u001b[39;49m\u001b[43muint8\u001b[49m\u001b[43m)\u001b[49m\u001b[43m,\u001b[49m\u001b[43m \u001b[49m\u001b[43mmap_convert\u001b[49m\u001b[43m)\u001b[49m\n\u001b[0;32m     79\u001b[0m \u001b[38;5;28;01mexcept\u001b[39;00m (\u001b[38;5;167;01mTypeError\u001b[39;00m, \u001b[38;5;167;01mAttributeError\u001b[39;00m) \u001b[38;5;28;01mas\u001b[39;00m err:\n\u001b[0;32m     80\u001b[0m     \u001b[38;5;66;03m# Reraise the exception if callable `f` got wrong number of args.\u001b[39;00m\n\u001b[0;32m     81\u001b[0m     \u001b[38;5;66;03m# The user may want to be warned by this, instead of getting NaN\u001b[39;00m\n\u001b[0;32m     82\u001b[0m     p_err \u001b[38;5;241m=\u001b[39m (\n\u001b[0;32m     83\u001b[0m         \u001b[38;5;124mr\u001b[39m\u001b[38;5;124m\"\u001b[39m\u001b[38;5;124m((takes)|(missing)) (?(2)from \u001b[39m\u001b[38;5;124m\\\u001b[39m\u001b[38;5;124md+ to )?\u001b[39m\u001b[38;5;124m\\\u001b[39m\u001b[38;5;124md+ \u001b[39m\u001b[38;5;124m\"\u001b[39m\n\u001b[0;32m     84\u001b[0m         \u001b[38;5;124mr\u001b[39m\u001b[38;5;124m\"\u001b[39m\u001b[38;5;124m(?(3)required )positional arguments?\u001b[39m\u001b[38;5;124m\"\u001b[39m\n\u001b[0;32m     85\u001b[0m     )\n",
      "File \u001b[1;32mlib.pyx:2895\u001b[0m, in \u001b[0;36mpandas._libs.lib.map_infer_mask\u001b[1;34m()\u001b[0m\n",
      "File \u001b[1;32mlib.pyx:2932\u001b[0m, in \u001b[0;36mpandas._libs.lib._map_infer_mask\u001b[1;34m()\u001b[0m\n",
      "File \u001b[1;32mc:\\Users\\harri\\anaconda3\\envs\\capstone_vehicle_recall\\lib\\site-packages\\pandas\\core\\strings\\object_array.py:175\u001b[0m, in \u001b[0;36mObjectStringArrayMixin._str_replace.<locals>.<lambda>\u001b[1;34m(x)\u001b[0m\n\u001b[0;32m    172\u001b[0m         pat \u001b[38;5;241m=\u001b[39m re\u001b[38;5;241m.\u001b[39mcompile(pat, flags\u001b[38;5;241m=\u001b[39mflags)\n\u001b[0;32m    174\u001b[0m     n \u001b[38;5;241m=\u001b[39m n \u001b[38;5;28;01mif\u001b[39;00m n \u001b[38;5;241m>\u001b[39m\u001b[38;5;241m=\u001b[39m \u001b[38;5;241m0\u001b[39m \u001b[38;5;28;01melse\u001b[39;00m \u001b[38;5;241m0\u001b[39m\n\u001b[1;32m--> 175\u001b[0m     f \u001b[38;5;241m=\u001b[39m \u001b[38;5;28;01mlambda\u001b[39;00m x: pat\u001b[38;5;241m.\u001b[39msub(repl\u001b[38;5;241m=\u001b[39mrepl, string\u001b[38;5;241m=\u001b[39mx, count\u001b[38;5;241m=\u001b[39mn)\n\u001b[0;32m    176\u001b[0m \u001b[38;5;28;01melse\u001b[39;00m:\n\u001b[0;32m    177\u001b[0m     f \u001b[38;5;241m=\u001b[39m \u001b[38;5;28;01mlambda\u001b[39;00m x: x\u001b[38;5;241m.\u001b[39mreplace(pat, repl, n)\n",
      "\u001b[1;31mKeyboardInterrupt\u001b[0m: "
     ]
    }
   ],
   "source": [
    "fill_string_spaces(df_complaints)\n",
    "fill_string_spaces(df_recall)"
   ]
  },
  {
   "cell_type": "code",
   "execution_count": 23,
   "metadata": {},
   "outputs": [],
   "source": [
    "trim_strings(df_complaints)\n",
    "trim_strings(df_recall)"
   ]
  },
  {
   "cell_type": "code",
   "execution_count": 24,
   "metadata": {},
   "outputs": [],
   "source": [
    "# df_recall[\"CDESCR\"].str.split(\"<br>\").str.len().describe()"
   ]
  },
  {
   "cell_type": "code",
   "execution_count": 25,
   "metadata": {},
   "outputs": [],
   "source": [
    "# df_complaints[\"YEARTXT\"] = df_complaints[\"YEARTXT\"].astype(str) # None entries get converted to literal string 'None'\n",
    "# df_recall[\"YEARTXT\"] = df_recall[\"YEARTXT\"].astype(str)"
   ]
  },
  {
   "cell_type": "code",
   "execution_count": 26,
   "metadata": {},
   "outputs": [
    {
     "data": {
      "text/plain": [
       "Index(['RECORD_ID', 'CAMPNO', 'MAKETXT', 'MODELTXT', 'YEARTXT', 'MFGCAMPNO',\n",
       "       'COMPNAME', 'MFGNAME', 'BGMAN', 'ENDMAN', 'RCLTYPECD', 'POTAFF',\n",
       "       'ODATE', 'INFLUENCED_BY', 'MFGTXT', 'RCDATE', 'DATEA', 'RPNO', 'FMVSS',\n",
       "       'DESC_DEFECT', 'CONSEQUENCE_DEFECT', 'CORRECTIVE_ACTION', 'NOTES',\n",
       "       'RCL_CMPT_ID', 'MFR_COMP_NAME', 'MFR_COMP_DESC', 'MFR_COMP_PTNO',\n",
       "       'MMYTXT', 'CDESCR', 'CDESCR_CODE'],\n",
       "      dtype='object')"
      ]
     },
     "execution_count": 26,
     "metadata": {},
     "output_type": "execute_result"
    }
   ],
   "source": [
    "df_recall.columns"
   ]
  },
  {
   "cell_type": "code",
   "execution_count": 27,
   "metadata": {},
   "outputs": [
    {
     "data": {
      "text/plain": [
       "Index(['ODINO', 'MFR_NAME', 'MAKETXT', 'MODELTXT', 'YEARTXT', 'CRASH',\n",
       "       'FAILDATE', 'FIRE', 'INJURED', 'DEATHS', 'COMPDESC', 'CITY', 'STATE',\n",
       "       'VIN', 'DATEA', 'LDATE', 'MILES', 'OCCURENCES', 'CDESCR', 'CMPL_TYPE',\n",
       "       'POLICE_RPT_YN', 'PURCH_DT', 'ORIG_OWNER_YN', 'ANTI_BRAKES_YN',\n",
       "       'CRUISE_CONT_YN', 'NUM_CYLS', 'DRIVE_TRAIN', 'FUEL_SYS', 'FUEL_TYPE',\n",
       "       'TRANS_TYPE', 'VEH_SPEED', 'DOT', 'TIRE_SIZE', 'LOC_OF_TIRE',\n",
       "       'TIRE_FAIL_TYPE', 'ORIG_EQUIP_YN', 'MANUF_DT', 'SEAT_TYPE',\n",
       "       'RESTRAINT_TYPE', 'DEALER_NAME', 'DEALER_TEL', 'DEALER_CITY',\n",
       "       'DEALER_STATE', 'DEALER_ZIP', 'PROD_TYPE', 'REPAIRED_YN',\n",
       "       'MEDICAL_ATTN', 'VEHICLES_TOWED_YN', 'MMYTXT', 'CDESCR_CODE'],\n",
       "      dtype='object')"
      ]
     },
     "execution_count": 27,
     "metadata": {},
     "output_type": "execute_result"
    }
   ],
   "source": [
    "df_complaints.columns"
   ]
  },
  {
   "cell_type": "markdown",
   "metadata": {},
   "source": [
    "### Remove Duplicates (If Specified)"
   ]
  },
  {
   "cell_type": "code",
   "execution_count": 28,
   "metadata": {},
   "outputs": [
    {
     "data": {
      "text/plain": [
       "0\n",
       "1633298    11292384\n",
       "1633299    11292384\n",
       "1633300    11292384\n",
       "1633301    11292385\n",
       "1633302    11292386\n",
       "             ...   \n",
       "2051715    11633470\n",
       "2051716    11633470\n",
       "2051717    11633471\n",
       "2051718    11633471\n",
       "2051719    11633471\n",
       "Name: ODINO, Length: 418344, dtype: int64"
      ]
     },
     "execution_count": 28,
     "metadata": {},
     "output_type": "execute_result"
    }
   ],
   "source": [
    "df_complaints[\"ODINO\"]"
   ]
  },
  {
   "cell_type": "code",
   "execution_count": 37,
   "metadata": {},
   "outputs": [],
   "source": [
    "from helpers import catchtime"
   ]
  },
  {
   "cell_type": "code",
   "execution_count": 38,
   "metadata": {},
   "outputs": [],
   "source": [
    "def join_unique_fast(series):\n",
    "    return ', '.join(set(series.dropna()))\n",
    "\n",
    "def process_columns_accordingly(df : pd.DataFrame, \n",
    "                                    column_defining_uniqueness : str):\n",
    "        '''\n",
    "            Sorry the naming scheme doesn't make too munch sense here.\n",
    "            Duplicate columns is supposed to be columns that have multiple values for\n",
    "            one CDESCR value, so it really should be called one_to_many_columns,\n",
    "            while non_duplicate_columns have one-to-one relationship with CDESCR (only one unique value per CDESCR).\n",
    "        '''\n",
    "        print(\"Finding Duplicate Columns\")\n",
    "        with catchtime() as c:\n",
    "            duplicate_columns, non_duplicate_columns = find_duplicate_and_non_duplicate_columns(\n",
    "                df, \n",
    "                column_defining_uniqueness\n",
    "            )\n",
    "\n",
    "        print(\"Preprocess\")\n",
    "        with catchtime() as c:\n",
    "            df[duplicate_columns] = df[duplicate_columns].fillna(\"\").astype(str) # Preprocess ahead of time\n",
    "        \n",
    "        print(\"Aggregating\")\n",
    "        agg_dict = {\n",
    "            **{col: pd.NamedAgg(column=col, aggfunc=join_unique_fast) for col in duplicate_columns},\n",
    "            **{col: pd.NamedAgg(column=col, aggfunc='first') for col in non_duplicate_columns}\n",
    "        }\n",
    "        with catchtime() as c:\n",
    "            grouper = df.groupby(column_defining_uniqueness)\n",
    "            df_new = grouper.agg(\n",
    "                **agg_dict   \n",
    "            )\n",
    "            df_new[\"NUMRECORDS\"] = grouper.size()\n",
    "        \n",
    "        return df_new\n",
    "    \n",
    "\n",
    "\n",
    "    \n"
   ]
  },
  {
   "cell_type": "code",
   "execution_count": 39,
   "metadata": {},
   "outputs": [
    {
     "name": "stdout",
     "output_type": "stream",
     "text": [
      "Finding Duplicate Columns\n",
      "Total time elapsed: 2.9503s\n",
      "Preprocess\n",
      "Total time elapsed: 1.2211s\n",
      "Aggregating\n"
     ]
    },
    {
     "ename": "KeyboardInterrupt",
     "evalue": "",
     "output_type": "error",
     "traceback": [
      "\u001b[1;31m---------------------------------------------------------------------------\u001b[0m",
      "\u001b[1;31mKeyboardInterrupt\u001b[0m                         Traceback (most recent call last)",
      "Cell \u001b[1;32mIn[39], line 1\u001b[0m\n\u001b[1;32m----> 1\u001b[0m df_complaints_new \u001b[38;5;241m=\u001b[39m \u001b[43mprocess_columns_accordingly\u001b[49m\u001b[43m(\u001b[49m\n\u001b[0;32m      2\u001b[0m \u001b[43m    \u001b[49m\u001b[43mdf_complaints\u001b[49m\u001b[43m,\u001b[49m\u001b[43m \u001b[49m\u001b[38;5;124;43m\"\u001b[39;49m\u001b[38;5;124;43mCDESCR_CODE\u001b[39;49m\u001b[38;5;124;43m\"\u001b[39;49m\n\u001b[0;32m      3\u001b[0m \u001b[43m)\u001b[49m\n",
      "Cell \u001b[1;32mIn[38], line 30\u001b[0m, in \u001b[0;36mprocess_columns_accordingly\u001b[1;34m(df, column_defining_uniqueness)\u001b[0m\n\u001b[0;32m     28\u001b[0m \u001b[38;5;28;01mwith\u001b[39;00m catchtime() \u001b[38;5;28;01mas\u001b[39;00m c:\n\u001b[0;32m     29\u001b[0m     grouper \u001b[38;5;241m=\u001b[39m df\u001b[38;5;241m.\u001b[39mgroupby(column_defining_uniqueness)\n\u001b[1;32m---> 30\u001b[0m     df_new \u001b[38;5;241m=\u001b[39m grouper\u001b[38;5;241m.\u001b[39magg(\n\u001b[0;32m     31\u001b[0m         \u001b[38;5;241m*\u001b[39m\u001b[38;5;241m*\u001b[39magg_dict   \n\u001b[0;32m     32\u001b[0m     )\n\u001b[0;32m     33\u001b[0m     df_new[\u001b[38;5;124m\"\u001b[39m\u001b[38;5;124mNUMRECORDS\u001b[39m\u001b[38;5;124m\"\u001b[39m] \u001b[38;5;241m=\u001b[39m grouper\u001b[38;5;241m.\u001b[39msize()\n\u001b[0;32m     35\u001b[0m \u001b[38;5;28;01mreturn\u001b[39;00m df_new\n",
      "File \u001b[1;32mc:\\Users\\harri\\anaconda3\\envs\\capstone_vehicle_recall\\lib\\site-packages\\pandas\\core\\groupby\\generic.py:1432\u001b[0m, in \u001b[0;36mDataFrameGroupBy.aggregate\u001b[1;34m(self, func, engine, engine_kwargs, *args, **kwargs)\u001b[0m\n\u001b[0;32m   1429\u001b[0m     kwargs[\u001b[38;5;124m\"\u001b[39m\u001b[38;5;124mengine_kwargs\u001b[39m\u001b[38;5;124m\"\u001b[39m] \u001b[38;5;241m=\u001b[39m engine_kwargs\n\u001b[0;32m   1431\u001b[0m op \u001b[38;5;241m=\u001b[39m GroupByApply(\u001b[38;5;28mself\u001b[39m, func, args\u001b[38;5;241m=\u001b[39margs, kwargs\u001b[38;5;241m=\u001b[39mkwargs)\n\u001b[1;32m-> 1432\u001b[0m result \u001b[38;5;241m=\u001b[39m \u001b[43mop\u001b[49m\u001b[38;5;241;43m.\u001b[39;49m\u001b[43magg\u001b[49m\u001b[43m(\u001b[49m\u001b[43m)\u001b[49m\n\u001b[0;32m   1433\u001b[0m \u001b[38;5;28;01mif\u001b[39;00m \u001b[38;5;129;01mnot\u001b[39;00m is_dict_like(func) \u001b[38;5;129;01mand\u001b[39;00m result \u001b[38;5;129;01mis\u001b[39;00m \u001b[38;5;129;01mnot\u001b[39;00m \u001b[38;5;28;01mNone\u001b[39;00m:\n\u001b[0;32m   1434\u001b[0m     \u001b[38;5;66;03m# GH #52849\u001b[39;00m\n\u001b[0;32m   1435\u001b[0m     \u001b[38;5;28;01mif\u001b[39;00m \u001b[38;5;129;01mnot\u001b[39;00m \u001b[38;5;28mself\u001b[39m\u001b[38;5;241m.\u001b[39mas_index \u001b[38;5;129;01mand\u001b[39;00m is_list_like(func):\n",
      "File \u001b[1;32mc:\\Users\\harri\\anaconda3\\envs\\capstone_vehicle_recall\\lib\\site-packages\\pandas\\core\\apply.py:190\u001b[0m, in \u001b[0;36mApply.agg\u001b[1;34m(self)\u001b[0m\n\u001b[0;32m    187\u001b[0m     \u001b[38;5;28;01mreturn\u001b[39;00m \u001b[38;5;28mself\u001b[39m\u001b[38;5;241m.\u001b[39mapply_str()\n\u001b[0;32m    189\u001b[0m \u001b[38;5;28;01mif\u001b[39;00m is_dict_like(func):\n\u001b[1;32m--> 190\u001b[0m     \u001b[38;5;28;01mreturn\u001b[39;00m \u001b[38;5;28;43mself\u001b[39;49m\u001b[38;5;241;43m.\u001b[39;49m\u001b[43magg_dict_like\u001b[49m\u001b[43m(\u001b[49m\u001b[43m)\u001b[49m\n\u001b[0;32m    191\u001b[0m \u001b[38;5;28;01melif\u001b[39;00m is_list_like(func):\n\u001b[0;32m    192\u001b[0m     \u001b[38;5;66;03m# we require a list, but not a 'str'\u001b[39;00m\n\u001b[0;32m    193\u001b[0m     \u001b[38;5;28;01mreturn\u001b[39;00m \u001b[38;5;28mself\u001b[39m\u001b[38;5;241m.\u001b[39magg_list_like()\n",
      "File \u001b[1;32mc:\\Users\\harri\\anaconda3\\envs\\capstone_vehicle_recall\\lib\\site-packages\\pandas\\core\\apply.py:423\u001b[0m, in \u001b[0;36mApply.agg_dict_like\u001b[1;34m(self)\u001b[0m\n\u001b[0;32m    415\u001b[0m \u001b[38;5;28;01mdef\u001b[39;00m\u001b[38;5;250m \u001b[39m\u001b[38;5;21magg_dict_like\u001b[39m(\u001b[38;5;28mself\u001b[39m) \u001b[38;5;241m-\u001b[39m\u001b[38;5;241m>\u001b[39m DataFrame \u001b[38;5;241m|\u001b[39m Series:\n\u001b[0;32m    416\u001b[0m \u001b[38;5;250m    \u001b[39m\u001b[38;5;124;03m\"\"\"\u001b[39;00m\n\u001b[0;32m    417\u001b[0m \u001b[38;5;124;03m    Compute aggregation in the case of a dict-like argument.\u001b[39;00m\n\u001b[0;32m    418\u001b[0m \n\u001b[1;32m   (...)\u001b[0m\n\u001b[0;32m    421\u001b[0m \u001b[38;5;124;03m    Result of aggregation.\u001b[39;00m\n\u001b[0;32m    422\u001b[0m \u001b[38;5;124;03m    \"\"\"\u001b[39;00m\n\u001b[1;32m--> 423\u001b[0m     \u001b[38;5;28;01mreturn\u001b[39;00m \u001b[38;5;28;43mself\u001b[39;49m\u001b[38;5;241;43m.\u001b[39;49m\u001b[43magg_or_apply_dict_like\u001b[49m\u001b[43m(\u001b[49m\u001b[43mop_name\u001b[49m\u001b[38;5;241;43m=\u001b[39;49m\u001b[38;5;124;43m\"\u001b[39;49m\u001b[38;5;124;43magg\u001b[39;49m\u001b[38;5;124;43m\"\u001b[39;49m\u001b[43m)\u001b[49m\n",
      "File \u001b[1;32mc:\\Users\\harri\\anaconda3\\envs\\capstone_vehicle_recall\\lib\\site-packages\\pandas\\core\\apply.py:1608\u001b[0m, in \u001b[0;36mGroupByApply.agg_or_apply_dict_like\u001b[1;34m(self, op_name)\u001b[0m\n\u001b[0;32m   1603\u001b[0m     kwargs\u001b[38;5;241m.\u001b[39mupdate({\u001b[38;5;124m\"\u001b[39m\u001b[38;5;124mengine\u001b[39m\u001b[38;5;124m\"\u001b[39m: engine, \u001b[38;5;124m\"\u001b[39m\u001b[38;5;124mengine_kwargs\u001b[39m\u001b[38;5;124m\"\u001b[39m: engine_kwargs})\n\u001b[0;32m   1605\u001b[0m \u001b[38;5;28;01mwith\u001b[39;00m com\u001b[38;5;241m.\u001b[39mtemp_setattr(\n\u001b[0;32m   1606\u001b[0m     obj, \u001b[38;5;124m\"\u001b[39m\u001b[38;5;124mas_index\u001b[39m\u001b[38;5;124m\"\u001b[39m, \u001b[38;5;28;01mTrue\u001b[39;00m, condition\u001b[38;5;241m=\u001b[39m\u001b[38;5;28mhasattr\u001b[39m(obj, \u001b[38;5;124m\"\u001b[39m\u001b[38;5;124mas_index\u001b[39m\u001b[38;5;124m\"\u001b[39m)\n\u001b[0;32m   1607\u001b[0m ):\n\u001b[1;32m-> 1608\u001b[0m     result_index, result_data \u001b[38;5;241m=\u001b[39m \u001b[38;5;28;43mself\u001b[39;49m\u001b[38;5;241;43m.\u001b[39;49m\u001b[43mcompute_dict_like\u001b[49m\u001b[43m(\u001b[49m\n\u001b[0;32m   1609\u001b[0m \u001b[43m        \u001b[49m\u001b[43mop_name\u001b[49m\u001b[43m,\u001b[49m\u001b[43m \u001b[49m\u001b[43mselected_obj\u001b[49m\u001b[43m,\u001b[49m\u001b[43m \u001b[49m\u001b[43mselection\u001b[49m\u001b[43m,\u001b[49m\u001b[43m \u001b[49m\u001b[43mkwargs\u001b[49m\n\u001b[0;32m   1610\u001b[0m \u001b[43m    \u001b[49m\u001b[43m)\u001b[49m\n\u001b[0;32m   1611\u001b[0m result \u001b[38;5;241m=\u001b[39m \u001b[38;5;28mself\u001b[39m\u001b[38;5;241m.\u001b[39mwrap_results_dict_like(selected_obj, result_index, result_data)\n\u001b[0;32m   1612\u001b[0m \u001b[38;5;28;01mreturn\u001b[39;00m result\n",
      "File \u001b[1;32mc:\\Users\\harri\\anaconda3\\envs\\capstone_vehicle_recall\\lib\\site-packages\\pandas\\core\\apply.py:496\u001b[0m, in \u001b[0;36mApply.compute_dict_like\u001b[1;34m(self, op_name, selected_obj, selection, kwargs)\u001b[0m\n\u001b[0;32m    493\u001b[0m         results \u001b[38;5;241m+\u001b[39m\u001b[38;5;241m=\u001b[39m key_data\n\u001b[0;32m    494\u001b[0m \u001b[38;5;28;01melse\u001b[39;00m:\n\u001b[0;32m    495\u001b[0m     \u001b[38;5;66;03m# key used for column selection and output\u001b[39;00m\n\u001b[1;32m--> 496\u001b[0m     results \u001b[38;5;241m=\u001b[39m [\n\u001b[0;32m    497\u001b[0m         \u001b[38;5;28mgetattr\u001b[39m(obj\u001b[38;5;241m.\u001b[39m_gotitem(key, ndim\u001b[38;5;241m=\u001b[39m\u001b[38;5;241m1\u001b[39m), op_name)(how, \u001b[38;5;241m*\u001b[39m\u001b[38;5;241m*\u001b[39mkwargs)\n\u001b[0;32m    498\u001b[0m         \u001b[38;5;28;01mfor\u001b[39;00m key, how \u001b[38;5;129;01min\u001b[39;00m func\u001b[38;5;241m.\u001b[39mitems()\n\u001b[0;32m    499\u001b[0m     ]\n\u001b[0;32m    500\u001b[0m     keys \u001b[38;5;241m=\u001b[39m \u001b[38;5;28mlist\u001b[39m(func\u001b[38;5;241m.\u001b[39mkeys())\n\u001b[0;32m    502\u001b[0m \u001b[38;5;28;01mreturn\u001b[39;00m keys, results\n",
      "File \u001b[1;32mc:\\Users\\harri\\anaconda3\\envs\\capstone_vehicle_recall\\lib\\site-packages\\pandas\\core\\apply.py:497\u001b[0m, in \u001b[0;36m<listcomp>\u001b[1;34m(.0)\u001b[0m\n\u001b[0;32m    493\u001b[0m         results \u001b[38;5;241m+\u001b[39m\u001b[38;5;241m=\u001b[39m key_data\n\u001b[0;32m    494\u001b[0m \u001b[38;5;28;01melse\u001b[39;00m:\n\u001b[0;32m    495\u001b[0m     \u001b[38;5;66;03m# key used for column selection and output\u001b[39;00m\n\u001b[0;32m    496\u001b[0m     results \u001b[38;5;241m=\u001b[39m [\n\u001b[1;32m--> 497\u001b[0m         \u001b[38;5;28mgetattr\u001b[39m(obj\u001b[38;5;241m.\u001b[39m_gotitem(key, ndim\u001b[38;5;241m=\u001b[39m\u001b[38;5;241m1\u001b[39m), op_name)(how, \u001b[38;5;241m*\u001b[39m\u001b[38;5;241m*\u001b[39mkwargs)\n\u001b[0;32m    498\u001b[0m         \u001b[38;5;28;01mfor\u001b[39;00m key, how \u001b[38;5;129;01min\u001b[39;00m func\u001b[38;5;241m.\u001b[39mitems()\n\u001b[0;32m    499\u001b[0m     ]\n\u001b[0;32m    500\u001b[0m     keys \u001b[38;5;241m=\u001b[39m \u001b[38;5;28mlist\u001b[39m(func\u001b[38;5;241m.\u001b[39mkeys())\n\u001b[0;32m    502\u001b[0m \u001b[38;5;28;01mreturn\u001b[39;00m keys, results\n",
      "File \u001b[1;32mc:\\Users\\harri\\anaconda3\\envs\\capstone_vehicle_recall\\lib\\site-packages\\pandas\\core\\groupby\\generic.py:257\u001b[0m, in \u001b[0;36mSeriesGroupBy.aggregate\u001b[1;34m(self, func, engine, engine_kwargs, *args, **kwargs)\u001b[0m\n\u001b[0;32m    255\u001b[0m kwargs[\u001b[38;5;124m\"\u001b[39m\u001b[38;5;124mengine\u001b[39m\u001b[38;5;124m\"\u001b[39m] \u001b[38;5;241m=\u001b[39m engine\n\u001b[0;32m    256\u001b[0m kwargs[\u001b[38;5;124m\"\u001b[39m\u001b[38;5;124mengine_kwargs\u001b[39m\u001b[38;5;124m\"\u001b[39m] \u001b[38;5;241m=\u001b[39m engine_kwargs\n\u001b[1;32m--> 257\u001b[0m ret \u001b[38;5;241m=\u001b[39m \u001b[38;5;28mself\u001b[39m\u001b[38;5;241m.\u001b[39m_aggregate_multiple_funcs(func, \u001b[38;5;241m*\u001b[39margs, \u001b[38;5;241m*\u001b[39m\u001b[38;5;241m*\u001b[39mkwargs)\n\u001b[0;32m    258\u001b[0m \u001b[38;5;28;01mif\u001b[39;00m relabeling:\n\u001b[0;32m    259\u001b[0m     \u001b[38;5;66;03m# columns is not narrowed by mypy from relabeling flag\u001b[39;00m\n\u001b[0;32m    260\u001b[0m     \u001b[38;5;28;01massert\u001b[39;00m columns \u001b[38;5;129;01mis\u001b[39;00m \u001b[38;5;129;01mnot\u001b[39;00m \u001b[38;5;28;01mNone\u001b[39;00m  \u001b[38;5;66;03m# for mypy\u001b[39;00m\n",
      "File \u001b[1;32mc:\\Users\\harri\\anaconda3\\envs\\capstone_vehicle_recall\\lib\\site-packages\\pandas\\core\\groupby\\generic.py:362\u001b[0m, in \u001b[0;36mSeriesGroupBy._aggregate_multiple_funcs\u001b[1;34m(self, arg, *args, **kwargs)\u001b[0m\n\u001b[0;32m    360\u001b[0m     \u001b[38;5;28;01mfor\u001b[39;00m idx, (name, func) \u001b[38;5;129;01min\u001b[39;00m \u001b[38;5;28menumerate\u001b[39m(arg):\n\u001b[0;32m    361\u001b[0m         key \u001b[38;5;241m=\u001b[39m base\u001b[38;5;241m.\u001b[39mOutputKey(label\u001b[38;5;241m=\u001b[39mname, position\u001b[38;5;241m=\u001b[39midx)\n\u001b[1;32m--> 362\u001b[0m         results[key] \u001b[38;5;241m=\u001b[39m \u001b[38;5;28mself\u001b[39m\u001b[38;5;241m.\u001b[39maggregate(func, \u001b[38;5;241m*\u001b[39margs, \u001b[38;5;241m*\u001b[39m\u001b[38;5;241m*\u001b[39mkwargs)\n\u001b[0;32m    364\u001b[0m \u001b[38;5;28;01mif\u001b[39;00m \u001b[38;5;28many\u001b[39m(\u001b[38;5;28misinstance\u001b[39m(x, DataFrame) \u001b[38;5;28;01mfor\u001b[39;00m x \u001b[38;5;129;01min\u001b[39;00m results\u001b[38;5;241m.\u001b[39mvalues()):\n\u001b[0;32m    365\u001b[0m     \u001b[38;5;28;01mfrom\u001b[39;00m\u001b[38;5;250m \u001b[39m\u001b[38;5;21;01mpandas\u001b[39;00m\u001b[38;5;250m \u001b[39m\u001b[38;5;28;01mimport\u001b[39;00m concat\n",
      "File \u001b[1;32mc:\\Users\\harri\\anaconda3\\envs\\capstone_vehicle_recall\\lib\\site-packages\\pandas\\core\\groupby\\generic.py:294\u001b[0m, in \u001b[0;36mSeriesGroupBy.aggregate\u001b[1;34m(self, func, engine, engine_kwargs, *args, **kwargs)\u001b[0m\n\u001b[0;32m    291\u001b[0m     \u001b[38;5;28;01mreturn\u001b[39;00m \u001b[38;5;28mself\u001b[39m\u001b[38;5;241m.\u001b[39m_python_agg_general(func, \u001b[38;5;241m*\u001b[39margs, \u001b[38;5;241m*\u001b[39m\u001b[38;5;241m*\u001b[39mkwargs)\n\u001b[0;32m    293\u001b[0m \u001b[38;5;28;01mtry\u001b[39;00m:\n\u001b[1;32m--> 294\u001b[0m     \u001b[38;5;28;01mreturn\u001b[39;00m \u001b[38;5;28mself\u001b[39m\u001b[38;5;241m.\u001b[39m_python_agg_general(func, \u001b[38;5;241m*\u001b[39margs, \u001b[38;5;241m*\u001b[39m\u001b[38;5;241m*\u001b[39mkwargs)\n\u001b[0;32m    295\u001b[0m \u001b[38;5;28;01mexcept\u001b[39;00m \u001b[38;5;167;01mKeyError\u001b[39;00m:\n\u001b[0;32m    296\u001b[0m     \u001b[38;5;66;03m# KeyError raised in test_groupby.test_basic is bc the func does\u001b[39;00m\n\u001b[0;32m    297\u001b[0m     \u001b[38;5;66;03m#  a dictionary lookup on group.name, but group name is not\u001b[39;00m\n\u001b[0;32m    298\u001b[0m     \u001b[38;5;66;03m#  pinned in _python_agg_general, only in _aggregate_named\u001b[39;00m\n\u001b[0;32m    299\u001b[0m     result \u001b[38;5;241m=\u001b[39m \u001b[38;5;28mself\u001b[39m\u001b[38;5;241m.\u001b[39m_aggregate_named(func, \u001b[38;5;241m*\u001b[39margs, \u001b[38;5;241m*\u001b[39m\u001b[38;5;241m*\u001b[39mkwargs)\n",
      "File \u001b[1;32mc:\\Users\\harri\\anaconda3\\envs\\capstone_vehicle_recall\\lib\\site-packages\\pandas\\core\\groupby\\generic.py:327\u001b[0m, in \u001b[0;36mSeriesGroupBy._python_agg_general\u001b[1;34m(self, func, *args, **kwargs)\u001b[0m\n\u001b[0;32m    324\u001b[0m f \u001b[38;5;241m=\u001b[39m \u001b[38;5;28;01mlambda\u001b[39;00m x: func(x, \u001b[38;5;241m*\u001b[39margs, \u001b[38;5;241m*\u001b[39m\u001b[38;5;241m*\u001b[39mkwargs)\n\u001b[0;32m    326\u001b[0m obj \u001b[38;5;241m=\u001b[39m \u001b[38;5;28mself\u001b[39m\u001b[38;5;241m.\u001b[39m_obj_with_exclusions\n\u001b[1;32m--> 327\u001b[0m result \u001b[38;5;241m=\u001b[39m \u001b[38;5;28;43mself\u001b[39;49m\u001b[38;5;241;43m.\u001b[39;49m\u001b[43m_grouper\u001b[49m\u001b[38;5;241;43m.\u001b[39;49m\u001b[43magg_series\u001b[49m\u001b[43m(\u001b[49m\u001b[43mobj\u001b[49m\u001b[43m,\u001b[49m\u001b[43m \u001b[49m\u001b[43mf\u001b[49m\u001b[43m)\u001b[49m\n\u001b[0;32m    328\u001b[0m res \u001b[38;5;241m=\u001b[39m obj\u001b[38;5;241m.\u001b[39m_constructor(result, name\u001b[38;5;241m=\u001b[39mobj\u001b[38;5;241m.\u001b[39mname)\n\u001b[0;32m    329\u001b[0m \u001b[38;5;28;01mreturn\u001b[39;00m \u001b[38;5;28mself\u001b[39m\u001b[38;5;241m.\u001b[39m_wrap_aggregated_output(res)\n",
      "File \u001b[1;32mc:\\Users\\harri\\anaconda3\\envs\\capstone_vehicle_recall\\lib\\site-packages\\pandas\\core\\groupby\\ops.py:864\u001b[0m, in \u001b[0;36mBaseGrouper.agg_series\u001b[1;34m(self, obj, func, preserve_dtype)\u001b[0m\n\u001b[0;32m    857\u001b[0m \u001b[38;5;28;01mif\u001b[39;00m \u001b[38;5;129;01mnot\u001b[39;00m \u001b[38;5;28misinstance\u001b[39m(obj\u001b[38;5;241m.\u001b[39m_values, np\u001b[38;5;241m.\u001b[39mndarray):\n\u001b[0;32m    858\u001b[0m     \u001b[38;5;66;03m# we can preserve a little bit more aggressively with EA dtype\u001b[39;00m\n\u001b[0;32m    859\u001b[0m     \u001b[38;5;66;03m#  because maybe_cast_pointwise_result will do a try/except\u001b[39;00m\n\u001b[0;32m    860\u001b[0m     \u001b[38;5;66;03m#  with _from_sequence.  NB we are assuming here that _from_sequence\u001b[39;00m\n\u001b[0;32m    861\u001b[0m     \u001b[38;5;66;03m#  is sufficiently strict that it casts appropriately.\u001b[39;00m\n\u001b[0;32m    862\u001b[0m     preserve_dtype \u001b[38;5;241m=\u001b[39m \u001b[38;5;28;01mTrue\u001b[39;00m\n\u001b[1;32m--> 864\u001b[0m result \u001b[38;5;241m=\u001b[39m \u001b[38;5;28;43mself\u001b[39;49m\u001b[38;5;241;43m.\u001b[39;49m\u001b[43m_aggregate_series_pure_python\u001b[49m\u001b[43m(\u001b[49m\u001b[43mobj\u001b[49m\u001b[43m,\u001b[49m\u001b[43m \u001b[49m\u001b[43mfunc\u001b[49m\u001b[43m)\u001b[49m\n\u001b[0;32m    866\u001b[0m npvalues \u001b[38;5;241m=\u001b[39m lib\u001b[38;5;241m.\u001b[39mmaybe_convert_objects(result, try_float\u001b[38;5;241m=\u001b[39m\u001b[38;5;28;01mFalse\u001b[39;00m)\n\u001b[0;32m    867\u001b[0m \u001b[38;5;28;01mif\u001b[39;00m preserve_dtype:\n",
      "File \u001b[1;32mc:\\Users\\harri\\anaconda3\\envs\\capstone_vehicle_recall\\lib\\site-packages\\pandas\\core\\groupby\\ops.py:885\u001b[0m, in \u001b[0;36mBaseGrouper._aggregate_series_pure_python\u001b[1;34m(self, obj, func)\u001b[0m\n\u001b[0;32m    882\u001b[0m splitter \u001b[38;5;241m=\u001b[39m \u001b[38;5;28mself\u001b[39m\u001b[38;5;241m.\u001b[39m_get_splitter(obj, axis\u001b[38;5;241m=\u001b[39m\u001b[38;5;241m0\u001b[39m)\n\u001b[0;32m    884\u001b[0m \u001b[38;5;28;01mfor\u001b[39;00m i, group \u001b[38;5;129;01min\u001b[39;00m \u001b[38;5;28menumerate\u001b[39m(splitter):\n\u001b[1;32m--> 885\u001b[0m     res \u001b[38;5;241m=\u001b[39m \u001b[43mfunc\u001b[49m\u001b[43m(\u001b[49m\u001b[43mgroup\u001b[49m\u001b[43m)\u001b[49m\n\u001b[0;32m    886\u001b[0m     res \u001b[38;5;241m=\u001b[39m extract_result(res)\n\u001b[0;32m    888\u001b[0m     \u001b[38;5;28;01mif\u001b[39;00m \u001b[38;5;129;01mnot\u001b[39;00m initialized:\n\u001b[0;32m    889\u001b[0m         \u001b[38;5;66;03m# We only do this validation on the first iteration\u001b[39;00m\n",
      "File \u001b[1;32mc:\\Users\\harri\\anaconda3\\envs\\capstone_vehicle_recall\\lib\\site-packages\\pandas\\core\\groupby\\generic.py:324\u001b[0m, in \u001b[0;36mSeriesGroupBy._python_agg_general.<locals>.<lambda>\u001b[1;34m(x)\u001b[0m\n\u001b[0;32m    322\u001b[0m     alias \u001b[38;5;241m=\u001b[39m com\u001b[38;5;241m.\u001b[39m_builtin_table_alias[func]\n\u001b[0;32m    323\u001b[0m     warn_alias_replacement(\u001b[38;5;28mself\u001b[39m, orig_func, alias)\n\u001b[1;32m--> 324\u001b[0m f \u001b[38;5;241m=\u001b[39m \u001b[38;5;28;01mlambda\u001b[39;00m x: func(x, \u001b[38;5;241m*\u001b[39margs, \u001b[38;5;241m*\u001b[39m\u001b[38;5;241m*\u001b[39mkwargs)\n\u001b[0;32m    326\u001b[0m obj \u001b[38;5;241m=\u001b[39m \u001b[38;5;28mself\u001b[39m\u001b[38;5;241m.\u001b[39m_obj_with_exclusions\n\u001b[0;32m    327\u001b[0m result \u001b[38;5;241m=\u001b[39m \u001b[38;5;28mself\u001b[39m\u001b[38;5;241m.\u001b[39m_grouper\u001b[38;5;241m.\u001b[39magg_series(obj, f)\n",
      "Cell \u001b[1;32mIn[38], line 2\u001b[0m, in \u001b[0;36mjoin_unique_fast\u001b[1;34m(series)\u001b[0m\n\u001b[0;32m      1\u001b[0m \u001b[38;5;28;01mdef\u001b[39;00m\u001b[38;5;250m \u001b[39m\u001b[38;5;21mjoin_unique_fast\u001b[39m(series):\n\u001b[1;32m----> 2\u001b[0m     \u001b[38;5;28;01mreturn\u001b[39;00m \u001b[38;5;124m'\u001b[39m\u001b[38;5;124m, \u001b[39m\u001b[38;5;124m'\u001b[39m\u001b[38;5;241m.\u001b[39mjoin(\u001b[38;5;28mset\u001b[39m(\u001b[43mseries\u001b[49m\u001b[38;5;241;43m.\u001b[39;49m\u001b[43mdropna\u001b[49m\u001b[43m(\u001b[49m\u001b[43m)\u001b[49m))\n",
      "File \u001b[1;32mc:\\Users\\harri\\anaconda3\\envs\\capstone_vehicle_recall\\lib\\site-packages\\pandas\\core\\series.py:5900\u001b[0m, in \u001b[0;36mSeries.dropna\u001b[1;34m(self, axis, inplace, how, ignore_index)\u001b[0m\n\u001b[0;32m   5897\u001b[0m \u001b[38;5;28mself\u001b[39m\u001b[38;5;241m.\u001b[39m_get_axis_number(axis \u001b[38;5;129;01mor\u001b[39;00m \u001b[38;5;241m0\u001b[39m)\n\u001b[0;32m   5899\u001b[0m \u001b[38;5;28;01mif\u001b[39;00m \u001b[38;5;28mself\u001b[39m\u001b[38;5;241m.\u001b[39m_can_hold_na:\n\u001b[1;32m-> 5900\u001b[0m     result \u001b[38;5;241m=\u001b[39m \u001b[43mremove_na_arraylike\u001b[49m\u001b[43m(\u001b[49m\u001b[38;5;28;43mself\u001b[39;49m\u001b[43m)\u001b[49m\n\u001b[0;32m   5901\u001b[0m \u001b[38;5;28;01melse\u001b[39;00m:\n\u001b[0;32m   5902\u001b[0m     \u001b[38;5;28;01mif\u001b[39;00m \u001b[38;5;129;01mnot\u001b[39;00m inplace:\n",
      "File \u001b[1;32mc:\\Users\\harri\\anaconda3\\envs\\capstone_vehicle_recall\\lib\\site-packages\\pandas\\core\\dtypes\\missing.py:725\u001b[0m, in \u001b[0;36mremove_na_arraylike\u001b[1;34m(arr)\u001b[0m\n\u001b[0;32m    723\u001b[0m     \u001b[38;5;28;01mreturn\u001b[39;00m arr[notna(arr)]\n\u001b[0;32m    724\u001b[0m \u001b[38;5;28;01melse\u001b[39;00m:\n\u001b[1;32m--> 725\u001b[0m     \u001b[38;5;28;01mreturn\u001b[39;00m arr[\u001b[43mnotna\u001b[49m\u001b[43m(\u001b[49m\u001b[43mnp\u001b[49m\u001b[38;5;241;43m.\u001b[39;49m\u001b[43masarray\u001b[49m\u001b[43m(\u001b[49m\u001b[43marr\u001b[49m\u001b[43m)\u001b[49m\u001b[43m)\u001b[49m]\n",
      "File \u001b[1;32mc:\\Users\\harri\\anaconda3\\envs\\capstone_vehicle_recall\\lib\\site-packages\\pandas\\core\\dtypes\\missing.py:457\u001b[0m, in \u001b[0;36mnotna\u001b[1;34m(obj)\u001b[0m\n\u001b[0;32m    380\u001b[0m \u001b[38;5;28;01mdef\u001b[39;00m\u001b[38;5;250m \u001b[39m\u001b[38;5;21mnotna\u001b[39m(obj: \u001b[38;5;28mobject\u001b[39m) \u001b[38;5;241m-\u001b[39m\u001b[38;5;241m>\u001b[39m \u001b[38;5;28mbool\u001b[39m \u001b[38;5;241m|\u001b[39m npt\u001b[38;5;241m.\u001b[39mNDArray[np\u001b[38;5;241m.\u001b[39mbool_] \u001b[38;5;241m|\u001b[39m NDFrame:\n\u001b[0;32m    381\u001b[0m \u001b[38;5;250m    \u001b[39m\u001b[38;5;124;03m\"\"\"\u001b[39;00m\n\u001b[0;32m    382\u001b[0m \u001b[38;5;124;03m    Detect non-missing values for an array-like object.\u001b[39;00m\n\u001b[0;32m    383\u001b[0m \n\u001b[1;32m   (...)\u001b[0m\n\u001b[0;32m    455\u001b[0m \u001b[38;5;124;03m    Name: 1, dtype: bool\u001b[39;00m\n\u001b[0;32m    456\u001b[0m \u001b[38;5;124;03m    \"\"\"\u001b[39;00m\n\u001b[1;32m--> 457\u001b[0m     res \u001b[38;5;241m=\u001b[39m \u001b[43misna\u001b[49m\u001b[43m(\u001b[49m\u001b[43mobj\u001b[49m\u001b[43m)\u001b[49m\n\u001b[0;32m    458\u001b[0m     \u001b[38;5;28;01mif\u001b[39;00m \u001b[38;5;28misinstance\u001b[39m(res, \u001b[38;5;28mbool\u001b[39m):\n\u001b[0;32m    459\u001b[0m         \u001b[38;5;28;01mreturn\u001b[39;00m \u001b[38;5;129;01mnot\u001b[39;00m res\n",
      "File \u001b[1;32mc:\\Users\\harri\\anaconda3\\envs\\capstone_vehicle_recall\\lib\\site-packages\\pandas\\core\\dtypes\\missing.py:178\u001b[0m, in \u001b[0;36misna\u001b[1;34m(obj)\u001b[0m\n\u001b[0;32m    101\u001b[0m \u001b[38;5;28;01mdef\u001b[39;00m\u001b[38;5;250m \u001b[39m\u001b[38;5;21misna\u001b[39m(obj: \u001b[38;5;28mobject\u001b[39m) \u001b[38;5;241m-\u001b[39m\u001b[38;5;241m>\u001b[39m \u001b[38;5;28mbool\u001b[39m \u001b[38;5;241m|\u001b[39m npt\u001b[38;5;241m.\u001b[39mNDArray[np\u001b[38;5;241m.\u001b[39mbool_] \u001b[38;5;241m|\u001b[39m NDFrame:\n\u001b[0;32m    102\u001b[0m \u001b[38;5;250m    \u001b[39m\u001b[38;5;124;03m\"\"\"\u001b[39;00m\n\u001b[0;32m    103\u001b[0m \u001b[38;5;124;03m    Detect missing values for an array-like object.\u001b[39;00m\n\u001b[0;32m    104\u001b[0m \n\u001b[1;32m   (...)\u001b[0m\n\u001b[0;32m    176\u001b[0m \u001b[38;5;124;03m    Name: 1, dtype: bool\u001b[39;00m\n\u001b[0;32m    177\u001b[0m \u001b[38;5;124;03m    \"\"\"\u001b[39;00m\n\u001b[1;32m--> 178\u001b[0m     \u001b[38;5;28;01mreturn\u001b[39;00m \u001b[43m_isna\u001b[49m\u001b[43m(\u001b[49m\u001b[43mobj\u001b[49m\u001b[43m)\u001b[49m\n",
      "File \u001b[1;32mc:\\Users\\harri\\anaconda3\\envs\\capstone_vehicle_recall\\lib\\site-packages\\pandas\\core\\dtypes\\missing.py:207\u001b[0m, in \u001b[0;36m_isna\u001b[1;34m(obj, inf_as_na)\u001b[0m\n\u001b[0;32m    205\u001b[0m     \u001b[38;5;28;01mreturn\u001b[39;00m \u001b[38;5;28;01mFalse\u001b[39;00m\n\u001b[0;32m    206\u001b[0m \u001b[38;5;28;01melif\u001b[39;00m \u001b[38;5;28misinstance\u001b[39m(obj, (np\u001b[38;5;241m.\u001b[39mndarray, ABCExtensionArray)):\n\u001b[1;32m--> 207\u001b[0m     \u001b[38;5;28;01mreturn\u001b[39;00m \u001b[43m_isna_array\u001b[49m\u001b[43m(\u001b[49m\u001b[43mobj\u001b[49m\u001b[43m,\u001b[49m\u001b[43m \u001b[49m\u001b[43minf_as_na\u001b[49m\u001b[38;5;241;43m=\u001b[39;49m\u001b[43minf_as_na\u001b[49m\u001b[43m)\u001b[49m\n\u001b[0;32m    208\u001b[0m \u001b[38;5;28;01melif\u001b[39;00m \u001b[38;5;28misinstance\u001b[39m(obj, ABCIndex):\n\u001b[0;32m    209\u001b[0m     \u001b[38;5;66;03m# Try to use cached isna, which also short-circuits for integer dtypes\u001b[39;00m\n\u001b[0;32m    210\u001b[0m     \u001b[38;5;66;03m#  and avoids materializing RangeIndex._values\u001b[39;00m\n\u001b[0;32m    211\u001b[0m     \u001b[38;5;28;01mif\u001b[39;00m \u001b[38;5;129;01mnot\u001b[39;00m obj\u001b[38;5;241m.\u001b[39m_can_hold_na:\n",
      "File \u001b[1;32mc:\\Users\\harri\\anaconda3\\envs\\capstone_vehicle_recall\\lib\\site-packages\\pandas\\core\\dtypes\\missing.py:279\u001b[0m, in \u001b[0;36m_isna_array\u001b[1;34m(values, inf_as_na)\u001b[0m\n\u001b[0;32m    262\u001b[0m \u001b[38;5;250m\u001b[39m\u001b[38;5;124;03m\"\"\"\u001b[39;00m\n\u001b[0;32m    263\u001b[0m \u001b[38;5;124;03mReturn an array indicating which values of the input array are NaN / NA.\u001b[39;00m\n\u001b[0;32m    264\u001b[0m \n\u001b[1;32m   (...)\u001b[0m\n\u001b[0;32m    275\u001b[0m \u001b[38;5;124;03m    Array of boolean values denoting the NA status of each element.\u001b[39;00m\n\u001b[0;32m    276\u001b[0m \u001b[38;5;124;03m\"\"\"\u001b[39;00m\n\u001b[0;32m    277\u001b[0m dtype \u001b[38;5;241m=\u001b[39m values\u001b[38;5;241m.\u001b[39mdtype\n\u001b[1;32m--> 279\u001b[0m \u001b[38;5;28;01mif\u001b[39;00m \u001b[38;5;129;01mnot\u001b[39;00m \u001b[38;5;28misinstance\u001b[39m(values, np\u001b[38;5;241m.\u001b[39mndarray):\n\u001b[0;32m    280\u001b[0m     \u001b[38;5;66;03m# i.e. ExtensionArray\u001b[39;00m\n\u001b[0;32m    281\u001b[0m     \u001b[38;5;28;01mif\u001b[39;00m inf_as_na \u001b[38;5;129;01mand\u001b[39;00m \u001b[38;5;28misinstance\u001b[39m(dtype, CategoricalDtype):\n\u001b[0;32m    282\u001b[0m         result \u001b[38;5;241m=\u001b[39m libmissing\u001b[38;5;241m.\u001b[39misnaobj(values\u001b[38;5;241m.\u001b[39mto_numpy(), inf_as_na\u001b[38;5;241m=\u001b[39minf_as_na)\n",
      "\u001b[1;31mKeyboardInterrupt\u001b[0m: "
     ]
    }
   ],
   "source": [
    "df_complaints_new = process_columns_accordingly(\n",
    "    df_complaints, \"CDESCR_CODE\"\n",
    ")"
   ]
  },
  {
   "cell_type": "code",
   "execution_count": 53,
   "metadata": {},
   "outputs": [],
   "source": [
    "df_recall_new = process_columns_accordingly(\n",
    "    df_recall, \"CDESCR_CODE\"\n",
    ")"
   ]
  },
  {
   "cell_type": "markdown",
   "metadata": {},
   "source": [
    "## Try speeding up function"
   ]
  },
  {
   "cell_type": "code",
   "execution_count": 54,
   "metadata": {},
   "outputs": [],
   "source": [
    "def process_columns_accordingly(df : pd.DataFrame, \n",
    "                                column_defining_uniqueness : str):\n",
    "    duplicate_columns, non_duplicate_columns = find_duplicate_and_non_duplicate_columns(\n",
    "        df, \n",
    "        column_defining_uniqueness\n",
    "    )\n",
    "    df[duplicate_columns] = df[duplicate_columns].fillna(\"\").astype(str) # Preprocess ahead of time\n",
    "    grouper = df.groupby(column_defining_uniqueness) # Avoid group recomputes\n",
    "    df_dup = grouper.agg(\n",
    "        {\n",
    "            duplicate_column : lambda x: ', '.join(pd.unique(x))\n",
    "            for duplicate_column in duplicate_columns\n",
    "        }\n",
    "    )\n",
    "    df_no_dup = grouper.agg(\n",
    "        {\n",
    "            non_duplicate_column : \"first\"\n",
    "            for non_duplicate_column in non_duplicate_columns\n",
    "        }\n",
    "    )\n",
    "    df_size = grouper.size()\n",
    "    df_size.name = \"NUMRECORDS\"\n",
    "    df_new = pd.concat(\n",
    "        [\n",
    "            df_dup,\n",
    "            df_no_dup,\n",
    "            df_size\n",
    "        ],\n",
    "        axis=1\n",
    "    )\n",
    "    return df_new\n",
    "\n",
    "\n",
    "    \n"
   ]
  },
  {
   "cell_type": "markdown",
   "metadata": {},
   "source": [
    "### Merge"
   ]
  },
  {
   "cell_type": "code",
   "execution_count": 55,
   "metadata": {},
   "outputs": [],
   "source": [
    "df_complaints_new = process_columns_accordingly(\n",
    "    df_complaints, \"CDESCR_CODE\"\n",
    ")"
   ]
  },
  {
   "cell_type": "code",
   "execution_count": 56,
   "metadata": {},
   "outputs": [],
   "source": [
    "df_recall_new = process_columns_accordingly(\n",
    "    df_recall, \"CDESCR_CODE\"\n",
    ")"
   ]
  },
  {
   "cell_type": "code",
   "execution_count": 59,
   "metadata": {},
   "outputs": [],
   "source": [
    "df_recall_new = df_recall_new.rename(\n",
    "    {\n",
    "        \"COMPNAME\":\"COMPDESC\",\n",
    "        \"MFGNAME\":\"MFR_NAME\"\n",
    "    },\n",
    "    axis=1\n",
    ")"
   ]
  },
  {
   "cell_type": "markdown",
   "metadata": {},
   "source": [
    "# Combine Recall and Complaints"
   ]
  },
  {
   "cell_type": "code",
   "execution_count": 60,
   "metadata": {},
   "outputs": [],
   "source": [
    "df_complaints_new[\"IS_COMPLAINT\"] = True\n",
    "df_recall_new[\"IS_COMPLAINT\"] = False"
   ]
  },
  {
   "cell_type": "code",
   "execution_count": 61,
   "metadata": {},
   "outputs": [],
   "source": [
    "df_final = pd.concat(\n",
    "    [df_complaints_new,\n",
    "    df_recall_new]\n",
    ").drop(\"CDESCR_CODE\", axis=1).reset_index(drop=True)"
   ]
  },
  {
   "cell_type": "code",
   "execution_count": 62,
   "metadata": {},
   "outputs": [
    {
     "data": {
      "text/plain": [
       "37422"
      ]
     },
     "execution_count": 62,
     "metadata": {},
     "output_type": "execute_result"
    }
   ],
   "source": [
    "len(df_final)"
   ]
  },
  {
   "cell_type": "code",
   "execution_count": 63,
   "metadata": {},
   "outputs": [
    {
     "data": {
      "text/html": [
       "<div>\n",
       "<style scoped>\n",
       "    .dataframe tbody tr th:only-of-type {\n",
       "        vertical-align: middle;\n",
       "    }\n",
       "\n",
       "    .dataframe tbody tr th {\n",
       "        vertical-align: top;\n",
       "    }\n",
       "\n",
       "    .dataframe thead th {\n",
       "        text-align: right;\n",
       "    }\n",
       "</style>\n",
       "<table border=\"1\" class=\"dataframe\">\n",
       "  <thead>\n",
       "    <tr style=\"text-align: right;\">\n",
       "      <th></th>\n",
       "      <th>ODINO</th>\n",
       "      <th>MFR_NAME</th>\n",
       "      <th>MAKETXT</th>\n",
       "      <th>MODELTXT</th>\n",
       "      <th>YEARTXT</th>\n",
       "      <th>CRASH</th>\n",
       "      <th>FAILDATE</th>\n",
       "      <th>FIRE</th>\n",
       "      <th>INJURED</th>\n",
       "      <th>DEATHS</th>\n",
       "      <th>...</th>\n",
       "      <th>RCL_CMPT_ID</th>\n",
       "      <th>MFR_COMP_NAME</th>\n",
       "      <th>MFR_COMP_DESC</th>\n",
       "      <th>MFR_COMP_PTNO</th>\n",
       "      <th>BGMAN</th>\n",
       "      <th>DESC_DEFECT</th>\n",
       "      <th>CONSEQUENCE_DEFECT</th>\n",
       "      <th>RPNO</th>\n",
       "      <th>FMVSS</th>\n",
       "      <th>ENDMAN</th>\n",
       "    </tr>\n",
       "  </thead>\n",
       "  <tbody>\n",
       "    <tr>\n",
       "      <th>0</th>\n",
       "      <td>11633472</td>\n",
       "      <td>Ford Motor Company</td>\n",
       "      <td>FORD</td>\n",
       "      <td>EXPLORER</td>\n",
       "      <td>2016</td>\n",
       "      <td>N</td>\n",
       "      <td>20240701</td>\n",
       "      <td>N</td>\n",
       "      <td>0</td>\n",
       "      <td>0</td>\n",
       "      <td>...</td>\n",
       "      <td>NaN</td>\n",
       "      <td>NaN</td>\n",
       "      <td>NaN</td>\n",
       "      <td>NaN</td>\n",
       "      <td>NaN</td>\n",
       "      <td>NaN</td>\n",
       "      <td>NaN</td>\n",
       "      <td>NaN</td>\n",
       "      <td>NaN</td>\n",
       "      <td>NaN</td>\n",
       "    </tr>\n",
       "    <tr>\n",
       "      <th>1</th>\n",
       "      <td>11633473</td>\n",
       "      <td>Chrysler (FCA US, LLC)</td>\n",
       "      <td>JEEP</td>\n",
       "      <td>GLADIATOR</td>\n",
       "      <td>2022</td>\n",
       "      <td>N</td>\n",
       "      <td>20241231</td>\n",
       "      <td>N</td>\n",
       "      <td>0</td>\n",
       "      <td>0</td>\n",
       "      <td>...</td>\n",
       "      <td>NaN</td>\n",
       "      <td>NaN</td>\n",
       "      <td>NaN</td>\n",
       "      <td>NaN</td>\n",
       "      <td>NaN</td>\n",
       "      <td>NaN</td>\n",
       "      <td>NaN</td>\n",
       "      <td>NaN</td>\n",
       "      <td>NaN</td>\n",
       "      <td>NaN</td>\n",
       "    </tr>\n",
       "    <tr>\n",
       "      <th>2</th>\n",
       "      <td>11633474</td>\n",
       "      <td>Toyota Motor Corporation</td>\n",
       "      <td>TOYOTA</td>\n",
       "      <td>TUNDRA</td>\n",
       "      <td>2024</td>\n",
       "      <td>N</td>\n",
       "      <td>20241101</td>\n",
       "      <td>N</td>\n",
       "      <td>0</td>\n",
       "      <td>0</td>\n",
       "      <td>...</td>\n",
       "      <td>NaN</td>\n",
       "      <td>NaN</td>\n",
       "      <td>NaN</td>\n",
       "      <td>NaN</td>\n",
       "      <td>NaN</td>\n",
       "      <td>NaN</td>\n",
       "      <td>NaN</td>\n",
       "      <td>NaN</td>\n",
       "      <td>NaN</td>\n",
       "      <td>NaN</td>\n",
       "    </tr>\n",
       "    <tr>\n",
       "      <th>3</th>\n",
       "      <td>11633475</td>\n",
       "      <td>General Motors, LLC</td>\n",
       "      <td>BUICK</td>\n",
       "      <td>ENVISTA</td>\n",
       "      <td>2024</td>\n",
       "      <td>N</td>\n",
       "      <td>20241229</td>\n",
       "      <td>N</td>\n",
       "      <td>0</td>\n",
       "      <td>0</td>\n",
       "      <td>...</td>\n",
       "      <td>NaN</td>\n",
       "      <td>NaN</td>\n",
       "      <td>NaN</td>\n",
       "      <td>NaN</td>\n",
       "      <td>NaN</td>\n",
       "      <td>NaN</td>\n",
       "      <td>NaN</td>\n",
       "      <td>NaN</td>\n",
       "      <td>NaN</td>\n",
       "      <td>NaN</td>\n",
       "    </tr>\n",
       "    <tr>\n",
       "      <th>4</th>\n",
       "      <td>11633476</td>\n",
       "      <td>Honda (American Honda Motor Co.)</td>\n",
       "      <td>HONDA</td>\n",
       "      <td>PROLOGUE</td>\n",
       "      <td>2024</td>\n",
       "      <td>N</td>\n",
       "      <td>20241227</td>\n",
       "      <td>N</td>\n",
       "      <td>0</td>\n",
       "      <td>0</td>\n",
       "      <td>...</td>\n",
       "      <td>NaN</td>\n",
       "      <td>NaN</td>\n",
       "      <td>NaN</td>\n",
       "      <td>NaN</td>\n",
       "      <td>NaN</td>\n",
       "      <td>NaN</td>\n",
       "      <td>NaN</td>\n",
       "      <td>NaN</td>\n",
       "      <td>NaN</td>\n",
       "      <td>NaN</td>\n",
       "    </tr>\n",
       "    <tr>\n",
       "      <th>...</th>\n",
       "      <td>...</td>\n",
       "      <td>...</td>\n",
       "      <td>...</td>\n",
       "      <td>...</td>\n",
       "      <td>...</td>\n",
       "      <td>...</td>\n",
       "      <td>...</td>\n",
       "      <td>...</td>\n",
       "      <td>...</td>\n",
       "      <td>...</td>\n",
       "      <td>...</td>\n",
       "      <td>...</td>\n",
       "      <td>...</td>\n",
       "      <td>...</td>\n",
       "      <td>...</td>\n",
       "      <td>...</td>\n",
       "      <td>...</td>\n",
       "      <td>...</td>\n",
       "      <td>...</td>\n",
       "      <td>...</td>\n",
       "      <td>...</td>\n",
       "    </tr>\n",
       "    <tr>\n",
       "      <th>37417</th>\n",
       "      <td>NaN</td>\n",
       "      <td>Tiffin Motorhomes, Inc.</td>\n",
       "      <td>TIFFIN</td>\n",
       "      <td>PHAETON, ZEPHYR, ALLEGRO BUS</td>\n",
       "      <td>2023, 2022, 2024, 2025</td>\n",
       "      <td>NaN</td>\n",
       "      <td>NaN</td>\n",
       "      <td>NaN</td>\n",
       "      <td>NaN</td>\n",
       "      <td>NaN</td>\n",
       "      <td>...</td>\n",
       "      <td>000127267005430764000000212, 00012726700495275...</td>\n",
       "      <td>Module Multi Plex IFM</td>\n",
       "      <td>Chassis Control Module</td>\n",
       "      <td>CR0033</td>\n",
       "      <td>20220502.0</td>\n",
       "      <td>Tiffin Motorhomes, Inc. (Tiffin) is recalling ...</td>\n",
       "      <td>An engine shutdown increases the risk of a crash.</td>\n",
       "      <td></td>\n",
       "      <td></td>\n",
       "      <td>20230522.0</td>\n",
       "    </tr>\n",
       "    <tr>\n",
       "      <th>37418</th>\n",
       "      <td>NaN</td>\n",
       "      <td>Maserati North America, Inc.</td>\n",
       "      <td>MASERATI</td>\n",
       "      <td>GHIBLI, QUATTROPORTE, LEVANTE, MC20, MC20 CIEL...</td>\n",
       "      <td>2021, 2022, 2023, 2025, 2024</td>\n",
       "      <td>NaN</td>\n",
       "      <td>NaN</td>\n",
       "      <td>NaN</td>\n",
       "      <td>NaN</td>\n",
       "      <td>NaN</td>\n",
       "      <td>...</td>\n",
       "      <td>000127948004696784000001881, 00012794800469678...</td>\n",
       "      <td>Radio Software</td>\n",
       "      <td>Radio Software</td>\n",
       "      <td>T27.52 for Ghibli, Quattroporte and Levante, U...</td>\n",
       "      <td>20200729.0</td>\n",
       "      <td>Maserati North America, Inc. (Maserati) is rec...</td>\n",
       "      <td>A rearview camera image that does not display ...</td>\n",
       "      <td></td>\n",
       "      <td>None</td>\n",
       "      <td>20240124.0</td>\n",
       "    </tr>\n",
       "    <tr>\n",
       "      <th>37419</th>\n",
       "      <td>NaN</td>\n",
       "      <td>Nova Bus (US) Inc.</td>\n",
       "      <td>NOVA BUS</td>\n",
       "      <td>LFS</td>\n",
       "      <td>2005, 2006, 2007, 2008</td>\n",
       "      <td>NaN</td>\n",
       "      <td>NaN</td>\n",
       "      <td>NaN</td>\n",
       "      <td>NaN</td>\n",
       "      <td>NaN</td>\n",
       "      <td>...</td>\n",
       "      <td>000127951002185725000001483, 00012795100218572...</td>\n",
       "      <td>Window</td>\n",
       "      <td>WDO L SLDR 44% TEMP GREY PO</td>\n",
       "      <td></td>\n",
       "      <td>20051125.0</td>\n",
       "      <td>Nova Bus (US) Inc. (Nova Bus) is recalling cer...</td>\n",
       "      <td>An insufficient number of emergency exits can ...</td>\n",
       "      <td></td>\n",
       "      <td>None</td>\n",
       "      <td>20071112.0</td>\n",
       "    </tr>\n",
       "    <tr>\n",
       "      <th>37420</th>\n",
       "      <td>NaN</td>\n",
       "      <td>Chrysler (FCA US, LLC)</td>\n",
       "      <td>DODGE, ALFA ROMEO</td>\n",
       "      <td>HORNET, TONALE</td>\n",
       "      <td>2025, 2024</td>\n",
       "      <td>NaN</td>\n",
       "      <td>NaN</td>\n",
       "      <td>NaN</td>\n",
       "      <td>NaN</td>\n",
       "      <td>NaN</td>\n",
       "      <td>...</td>\n",
       "      <td>000127532005643746000000063, 00012753200558519...</td>\n",
       "      <td>Brake Pedal</td>\n",
       "      <td>Brake Pedal</td>\n",
       "      <td>68607352AA</td>\n",
       "      <td>NaN</td>\n",
       "      <td>Chrysler (FCA US, LLC) is recalling certain 20...</td>\n",
       "      <td>A loss of brake function increases the risk of...</td>\n",
       "      <td></td>\n",
       "      <td></td>\n",
       "      <td>NaN</td>\n",
       "    </tr>\n",
       "    <tr>\n",
       "      <th>37421</th>\n",
       "      <td>NaN</td>\n",
       "      <td>Honda (American Honda Motor Co.)</td>\n",
       "      <td>HONDA</td>\n",
       "      <td>CIVIC, CIVIC HYBRID, ACCORD HYBRID, ACCORD, CR...</td>\n",
       "      <td>2025, 2023, 2024</td>\n",
       "      <td>NaN</td>\n",
       "      <td>NaN</td>\n",
       "      <td>NaN</td>\n",
       "      <td>NaN</td>\n",
       "      <td>NaN</td>\n",
       "      <td>...</td>\n",
       "      <td>000127556005660317000000152, 00012755600566032...</td>\n",
       "      <td>PUMP ASSY,FUEL H/P</td>\n",
       "      <td>PUMP ASSY,FUEL H/P</td>\n",
       "      <td>16790-6MA-J010-M1, 16790-6MA-J011-M1, 16790-6M...</td>\n",
       "      <td>20221111.0</td>\n",
       "      <td>Honda (American Honda Motor Co.) is recalling ...</td>\n",
       "      <td>A fuel leak in the presence of an ignition sou...</td>\n",
       "      <td></td>\n",
       "      <td></td>\n",
       "      <td>20240912.0</td>\n",
       "    </tr>\n",
       "  </tbody>\n",
       "</table>\n",
       "<p>37422 rows × 72 columns</p>\n",
       "</div>"
      ],
      "text/plain": [
       "          ODINO                          MFR_NAME            MAKETXT  \\\n",
       "0      11633472                Ford Motor Company               FORD   \n",
       "1      11633473            Chrysler (FCA US, LLC)               JEEP   \n",
       "2      11633474          Toyota Motor Corporation             TOYOTA   \n",
       "3      11633475               General Motors, LLC              BUICK   \n",
       "4      11633476  Honda (American Honda Motor Co.)              HONDA   \n",
       "...         ...                               ...                ...   \n",
       "37417       NaN           Tiffin Motorhomes, Inc.             TIFFIN   \n",
       "37418       NaN      Maserati North America, Inc.           MASERATI   \n",
       "37419       NaN                Nova Bus (US) Inc.           NOVA BUS   \n",
       "37420       NaN            Chrysler (FCA US, LLC)  DODGE, ALFA ROMEO   \n",
       "37421       NaN  Honda (American Honda Motor Co.)              HONDA   \n",
       "\n",
       "                                                MODELTXT  \\\n",
       "0                                               EXPLORER   \n",
       "1                                              GLADIATOR   \n",
       "2                                                 TUNDRA   \n",
       "3                                                ENVISTA   \n",
       "4                                               PROLOGUE   \n",
       "...                                                  ...   \n",
       "37417                       PHAETON, ZEPHYR, ALLEGRO BUS   \n",
       "37418  GHIBLI, QUATTROPORTE, LEVANTE, MC20, MC20 CIEL...   \n",
       "37419                                                LFS   \n",
       "37420                                     HORNET, TONALE   \n",
       "37421  CIVIC, CIVIC HYBRID, ACCORD HYBRID, ACCORD, CR...   \n",
       "\n",
       "                            YEARTXT CRASH  FAILDATE FIRE INJURED DEATHS  ...  \\\n",
       "0                              2016     N  20240701    N       0      0  ...   \n",
       "1                              2022     N  20241231    N       0      0  ...   \n",
       "2                              2024     N  20241101    N       0      0  ...   \n",
       "3                              2024     N  20241229    N       0      0  ...   \n",
       "4                              2024     N  20241227    N       0      0  ...   \n",
       "...                             ...   ...       ...  ...     ...    ...  ...   \n",
       "37417        2023, 2022, 2024, 2025   NaN       NaN  NaN     NaN    NaN  ...   \n",
       "37418  2021, 2022, 2023, 2025, 2024   NaN       NaN  NaN     NaN    NaN  ...   \n",
       "37419        2005, 2006, 2007, 2008   NaN       NaN  NaN     NaN    NaN  ...   \n",
       "37420                    2025, 2024   NaN       NaN  NaN     NaN    NaN  ...   \n",
       "37421              2025, 2023, 2024   NaN       NaN  NaN     NaN    NaN  ...   \n",
       "\n",
       "                                             RCL_CMPT_ID  \\\n",
       "0                                                    NaN   \n",
       "1                                                    NaN   \n",
       "2                                                    NaN   \n",
       "3                                                    NaN   \n",
       "4                                                    NaN   \n",
       "...                                                  ...   \n",
       "37417  000127267005430764000000212, 00012726700495275...   \n",
       "37418  000127948004696784000001881, 00012794800469678...   \n",
       "37419  000127951002185725000001483, 00012795100218572...   \n",
       "37420  000127532005643746000000063, 00012753200558519...   \n",
       "37421  000127556005660317000000152, 00012755600566032...   \n",
       "\n",
       "               MFR_COMP_NAME                MFR_COMP_DESC  \\\n",
       "0                        NaN                          NaN   \n",
       "1                        NaN                          NaN   \n",
       "2                        NaN                          NaN   \n",
       "3                        NaN                          NaN   \n",
       "4                        NaN                          NaN   \n",
       "...                      ...                          ...   \n",
       "37417  Module Multi Plex IFM       Chassis Control Module   \n",
       "37418         Radio Software               Radio Software   \n",
       "37419                 Window  WDO L SLDR 44% TEMP GREY PO   \n",
       "37420            Brake Pedal                  Brake Pedal   \n",
       "37421     PUMP ASSY,FUEL H/P           PUMP ASSY,FUEL H/P   \n",
       "\n",
       "                                           MFR_COMP_PTNO       BGMAN  \\\n",
       "0                                                    NaN         NaN   \n",
       "1                                                    NaN         NaN   \n",
       "2                                                    NaN         NaN   \n",
       "3                                                    NaN         NaN   \n",
       "4                                                    NaN         NaN   \n",
       "...                                                  ...         ...   \n",
       "37417                                             CR0033  20220502.0   \n",
       "37418  T27.52 for Ghibli, Quattroporte and Levante, U...  20200729.0   \n",
       "37419                                                     20051125.0   \n",
       "37420                                         68607352AA         NaN   \n",
       "37421  16790-6MA-J010-M1, 16790-6MA-J011-M1, 16790-6M...  20221111.0   \n",
       "\n",
       "                                             DESC_DEFECT  \\\n",
       "0                                                    NaN   \n",
       "1                                                    NaN   \n",
       "2                                                    NaN   \n",
       "3                                                    NaN   \n",
       "4                                                    NaN   \n",
       "...                                                  ...   \n",
       "37417  Tiffin Motorhomes, Inc. (Tiffin) is recalling ...   \n",
       "37418  Maserati North America, Inc. (Maserati) is rec...   \n",
       "37419  Nova Bus (US) Inc. (Nova Bus) is recalling cer...   \n",
       "37420  Chrysler (FCA US, LLC) is recalling certain 20...   \n",
       "37421  Honda (American Honda Motor Co.) is recalling ...   \n",
       "\n",
       "                                      CONSEQUENCE_DEFECT RPNO FMVSS  \\\n",
       "0                                                    NaN  NaN   NaN   \n",
       "1                                                    NaN  NaN   NaN   \n",
       "2                                                    NaN  NaN   NaN   \n",
       "3                                                    NaN  NaN   NaN   \n",
       "4                                                    NaN  NaN   NaN   \n",
       "...                                                  ...  ...   ...   \n",
       "37417  An engine shutdown increases the risk of a crash.              \n",
       "37418  A rearview camera image that does not display ...       None   \n",
       "37419  An insufficient number of emergency exits can ...       None   \n",
       "37420  A loss of brake function increases the risk of...              \n",
       "37421  A fuel leak in the presence of an ignition sou...              \n",
       "\n",
       "           ENDMAN  \n",
       "0             NaN  \n",
       "1             NaN  \n",
       "2             NaN  \n",
       "3             NaN  \n",
       "4             NaN  \n",
       "...           ...  \n",
       "37417  20230522.0  \n",
       "37418  20240124.0  \n",
       "37419  20071112.0  \n",
       "37420         NaN  \n",
       "37421  20240912.0  \n",
       "\n",
       "[37422 rows x 72 columns]"
      ]
     },
     "execution_count": 63,
     "metadata": {},
     "output_type": "execute_result"
    }
   ],
   "source": [
    "df_final"
   ]
  },
  {
   "cell_type": "code",
   "execution_count": 144,
   "metadata": {},
   "outputs": [
    {
     "data": {
      "text/plain": [
       "Index(['ANTI_BRAKES_YN', 'BGMAN', 'CAMPNO', 'CDESCR', 'CITY', 'CMPL_TYPE',\n",
       "       'COMPDESC', 'CONSEQUENCE_DEFECT', 'CORRECTIVE_ACTION', 'CRASH',\n",
       "       'CRUISE_CONT_YN', 'DATEA', 'DEALER_CITY', 'DEALER_NAME', 'DEALER_STATE',\n",
       "       'DEALER_TEL', 'DEALER_ZIP', 'DEATHS', 'DESC_DEFECT', 'DOT',\n",
       "       'DRIVE_TRAIN', 'ENDMAN', 'FAILDATE', 'FIRE', 'FMVSS', 'FUEL_SYS',\n",
       "       'FUEL_TYPE', 'INFLUENCED_BY', 'INJURED', 'IS_COMPLAINT', 'LDATE',\n",
       "       'LOC_OF_TIRE', 'MAKETXT', 'MANUF_DT', 'MEDICAL_ATTN', 'MFGCAMPNO',\n",
       "       'MFGTXT', 'MFR_COMP_DESC', 'MFR_COMP_NAME', 'MFR_COMP_PTNO', 'MFR_NAME',\n",
       "       'MILES', 'MMYTXT', 'MODELTXT', 'NOTES', 'NUMRECORDS', 'NUM_CYLS',\n",
       "       'OCCURENCES', 'ODATE', 'ODINO', 'ORIG_EQUIP_YN', 'ORIG_OWNER_YN',\n",
       "       'POLICE_RPT_YN', 'POTAFF', 'PROD_TYPE', 'PURCH_DT', 'RCDATE',\n",
       "       'RCLTYPECD', 'RCL_CMPT_ID', 'RECORD_ID', 'REPAIRED_YN',\n",
       "       'RESTRAINT_TYPE', 'RPNO', 'SEAT_TYPE', 'STATE', 'TIRE_FAIL_TYPE',\n",
       "       'TIRE_SIZE', 'TRANS_TYPE', 'VEHICLES_TOWED_YN', 'VEH_SPEED', 'VIN',\n",
       "       'YEARTXT'],\n",
       "      dtype='object')"
      ]
     },
     "execution_count": 144,
     "metadata": {},
     "output_type": "execute_result"
    }
   ],
   "source": [
    "df_final.columns.sort_values()"
   ]
  },
  {
   "cell_type": "code",
   "execution_count": 146,
   "metadata": {},
   "outputs": [
    {
     "name": "stdout",
     "output_type": "stream",
     "text": [
      "<class 'pandas.core.frame.DataFrame'>\n",
      "RangeIndex: 37422 entries, 0 to 37421\n",
      "Data columns (total 72 columns):\n",
      " #   Column              Non-Null Count  Dtype  \n",
      "---  ------              --------------  -----  \n",
      " 0   ODINO               11627 non-null  object \n",
      " 1   MFR_NAME            37422 non-null  object \n",
      " 2   MAKETXT             37422 non-null  object \n",
      " 3   MODELTXT            37422 non-null  object \n",
      " 4   YEARTXT             37422 non-null  object \n",
      " 5   CRASH               11627 non-null  object \n",
      " 6   FAILDATE            11627 non-null  object \n",
      " 7   FIRE                11627 non-null  object \n",
      " 8   INJURED             11627 non-null  object \n",
      " 9   DEATHS              11627 non-null  object \n",
      " 10  COMPDESC            37422 non-null  object \n",
      " 11  CITY                11627 non-null  object \n",
      " 12  STATE               11627 non-null  object \n",
      " 13  VIN                 11627 non-null  object \n",
      " 14  DATEA               37422 non-null  object \n",
      " 15  LDATE               11627 non-null  object \n",
      " 16  CMPL_TYPE           11627 non-null  object \n",
      " 17  POLICE_RPT_YN       11627 non-null  object \n",
      " 18  ORIG_OWNER_YN       11627 non-null  object \n",
      " 19  ANTI_BRAKES_YN      11627 non-null  object \n",
      " 20  CRUISE_CONT_YN      11627 non-null  object \n",
      " 21  FUEL_TYPE           11627 non-null  object \n",
      " 22  DOT                 11627 non-null  object \n",
      " 23  LOC_OF_TIRE         11627 non-null  object \n",
      " 24  TIRE_FAIL_TYPE      11627 non-null  object \n",
      " 25  ORIG_EQUIP_YN       11627 non-null  object \n",
      " 26  SEAT_TYPE           11627 non-null  object \n",
      " 27  RESTRAINT_TYPE      11627 non-null  object \n",
      " 28  DEALER_NAME         11627 non-null  object \n",
      " 29  DEALER_CITY         11627 non-null  object \n",
      " 30  DEALER_STATE        11627 non-null  object \n",
      " 31  PROD_TYPE           11627 non-null  object \n",
      " 32  REPAIRED_YN         11627 non-null  object \n",
      " 33  VEHICLES_TOWED_YN   11627 non-null  object \n",
      " 34  MMYTXT              37422 non-null  object \n",
      " 35  CDESCR              37422 non-null  object \n",
      " 36  OCCURENCES          0 non-null      float64\n",
      " 37  MANUF_DT            52 non-null     float64\n",
      " 38  VEH_SPEED           5521 non-null   float64\n",
      " 39  MILES               2285 non-null   float64\n",
      " 40  MEDICAL_ATTN        11627 non-null  object \n",
      " 41  FUEL_SYS            0 non-null      float64\n",
      " 42  TRANS_TYPE          0 non-null      float64\n",
      " 43  DEALER_TEL          11592 non-null  object \n",
      " 44  PURCH_DT            40 non-null     float64\n",
      " 45  DRIVE_TRAIN         0 non-null      float64\n",
      " 46  DEALER_ZIP          11579 non-null  object \n",
      " 47  NUM_CYLS            0 non-null      float64\n",
      " 48  TIRE_SIZE           0 non-null      float64\n",
      " 49  NUMRECORDS          37422 non-null  int64  \n",
      " 50  IS_COMPLAINT        37422 non-null  bool   \n",
      " 51  RECORD_ID           25795 non-null  object \n",
      " 52  CAMPNO              25795 non-null  object \n",
      " 53  MFGCAMPNO           25795 non-null  object \n",
      " 54  RCLTYPECD           25795 non-null  object \n",
      " 55  POTAFF              25795 non-null  object \n",
      " 56  ODATE               25795 non-null  object \n",
      " 57  INFLUENCED_BY       25795 non-null  object \n",
      " 58  MFGTXT              25795 non-null  object \n",
      " 59  RCDATE              25795 non-null  object \n",
      " 60  CORRECTIVE_ACTION   25795 non-null  object \n",
      " 61  NOTES               25795 non-null  object \n",
      " 62  RCL_CMPT_ID         25795 non-null  object \n",
      " 63  MFR_COMP_NAME       25795 non-null  object \n",
      " 64  MFR_COMP_DESC       25795 non-null  object \n",
      " 65  MFR_COMP_PTNO       25795 non-null  object \n",
      " 66  RPNO                22941 non-null  object \n",
      " 67  CONSEQUENCE_DEFECT  25795 non-null  object \n",
      " 68  DESC_DEFECT         25795 non-null  object \n",
      " 69  FMVSS               22189 non-null  object \n",
      " 70  BGMAN               18085 non-null  float64\n",
      " 71  ENDMAN              18151 non-null  float64\n",
      "dtypes: bool(1), float64(12), int64(1), object(58)\n",
      "memory usage: 20.3+ MB\n"
     ]
    }
   ],
   "source": [
    "df_final.info()"
   ]
  },
  {
   "cell_type": "code",
   "execution_count": 147,
   "metadata": {},
   "outputs": [
    {
     "data": {
      "text/html": [
       "<div>\n",
       "<style scoped>\n",
       "    .dataframe tbody tr th:only-of-type {\n",
       "        vertical-align: middle;\n",
       "    }\n",
       "\n",
       "    .dataframe tbody tr th {\n",
       "        vertical-align: top;\n",
       "    }\n",
       "\n",
       "    .dataframe thead th {\n",
       "        text-align: right;\n",
       "    }\n",
       "</style>\n",
       "<table border=\"1\" class=\"dataframe\">\n",
       "  <thead>\n",
       "    <tr style=\"text-align: right;\">\n",
       "      <th></th>\n",
       "      <th>ODINO</th>\n",
       "      <th>MFR_NAME</th>\n",
       "      <th>MAKETXT</th>\n",
       "      <th>MODELTXT</th>\n",
       "      <th>YEARTXT</th>\n",
       "      <th>CRASH</th>\n",
       "      <th>FAILDATE</th>\n",
       "      <th>FIRE</th>\n",
       "      <th>INJURED</th>\n",
       "      <th>DEATHS</th>\n",
       "      <th>...</th>\n",
       "      <th>RCL_CMPT_ID</th>\n",
       "      <th>MFR_COMP_NAME</th>\n",
       "      <th>MFR_COMP_DESC</th>\n",
       "      <th>MFR_COMP_PTNO</th>\n",
       "      <th>RPNO</th>\n",
       "      <th>CONSEQUENCE_DEFECT</th>\n",
       "      <th>DESC_DEFECT</th>\n",
       "      <th>FMVSS</th>\n",
       "      <th>BGMAN</th>\n",
       "      <th>ENDMAN</th>\n",
       "    </tr>\n",
       "  </thead>\n",
       "  <tbody>\n",
       "    <tr>\n",
       "      <th>0</th>\n",
       "      <td>11633472</td>\n",
       "      <td>Ford Motor Company</td>\n",
       "      <td>FORD</td>\n",
       "      <td>EXPLORER</td>\n",
       "      <td>2016</td>\n",
       "      <td>N</td>\n",
       "      <td>20240701</td>\n",
       "      <td>N</td>\n",
       "      <td>0</td>\n",
       "      <td>0</td>\n",
       "      <td>...</td>\n",
       "      <td>NaN</td>\n",
       "      <td>NaN</td>\n",
       "      <td>NaN</td>\n",
       "      <td>NaN</td>\n",
       "      <td>NaN</td>\n",
       "      <td>NaN</td>\n",
       "      <td>NaN</td>\n",
       "      <td>NaN</td>\n",
       "      <td>NaN</td>\n",
       "      <td>NaN</td>\n",
       "    </tr>\n",
       "    <tr>\n",
       "      <th>1</th>\n",
       "      <td>11633473</td>\n",
       "      <td>Chrysler (FCA US, LLC)</td>\n",
       "      <td>JEEP</td>\n",
       "      <td>GLADIATOR</td>\n",
       "      <td>2022</td>\n",
       "      <td>N</td>\n",
       "      <td>20241231</td>\n",
       "      <td>N</td>\n",
       "      <td>0</td>\n",
       "      <td>0</td>\n",
       "      <td>...</td>\n",
       "      <td>NaN</td>\n",
       "      <td>NaN</td>\n",
       "      <td>NaN</td>\n",
       "      <td>NaN</td>\n",
       "      <td>NaN</td>\n",
       "      <td>NaN</td>\n",
       "      <td>NaN</td>\n",
       "      <td>NaN</td>\n",
       "      <td>NaN</td>\n",
       "      <td>NaN</td>\n",
       "    </tr>\n",
       "    <tr>\n",
       "      <th>2</th>\n",
       "      <td>11633474</td>\n",
       "      <td>Toyota Motor Corporation</td>\n",
       "      <td>TOYOTA</td>\n",
       "      <td>TUNDRA</td>\n",
       "      <td>2024</td>\n",
       "      <td>N</td>\n",
       "      <td>20241101</td>\n",
       "      <td>N</td>\n",
       "      <td>0</td>\n",
       "      <td>0</td>\n",
       "      <td>...</td>\n",
       "      <td>NaN</td>\n",
       "      <td>NaN</td>\n",
       "      <td>NaN</td>\n",
       "      <td>NaN</td>\n",
       "      <td>NaN</td>\n",
       "      <td>NaN</td>\n",
       "      <td>NaN</td>\n",
       "      <td>NaN</td>\n",
       "      <td>NaN</td>\n",
       "      <td>NaN</td>\n",
       "    </tr>\n",
       "    <tr>\n",
       "      <th>3</th>\n",
       "      <td>11633475</td>\n",
       "      <td>General Motors, LLC</td>\n",
       "      <td>BUICK</td>\n",
       "      <td>ENVISTA</td>\n",
       "      <td>2024</td>\n",
       "      <td>N</td>\n",
       "      <td>20241229</td>\n",
       "      <td>N</td>\n",
       "      <td>0</td>\n",
       "      <td>0</td>\n",
       "      <td>...</td>\n",
       "      <td>NaN</td>\n",
       "      <td>NaN</td>\n",
       "      <td>NaN</td>\n",
       "      <td>NaN</td>\n",
       "      <td>NaN</td>\n",
       "      <td>NaN</td>\n",
       "      <td>NaN</td>\n",
       "      <td>NaN</td>\n",
       "      <td>NaN</td>\n",
       "      <td>NaN</td>\n",
       "    </tr>\n",
       "    <tr>\n",
       "      <th>4</th>\n",
       "      <td>11633476</td>\n",
       "      <td>Honda (American Honda Motor Co.)</td>\n",
       "      <td>HONDA</td>\n",
       "      <td>PROLOGUE</td>\n",
       "      <td>2024</td>\n",
       "      <td>N</td>\n",
       "      <td>20241227</td>\n",
       "      <td>N</td>\n",
       "      <td>0</td>\n",
       "      <td>0</td>\n",
       "      <td>...</td>\n",
       "      <td>NaN</td>\n",
       "      <td>NaN</td>\n",
       "      <td>NaN</td>\n",
       "      <td>NaN</td>\n",
       "      <td>NaN</td>\n",
       "      <td>NaN</td>\n",
       "      <td>NaN</td>\n",
       "      <td>NaN</td>\n",
       "      <td>NaN</td>\n",
       "      <td>NaN</td>\n",
       "    </tr>\n",
       "  </tbody>\n",
       "</table>\n",
       "<p>5 rows × 72 columns</p>\n",
       "</div>"
      ],
      "text/plain": [
       "      ODINO                          MFR_NAME MAKETXT   MODELTXT YEARTXT  \\\n",
       "0  11633472                Ford Motor Company    FORD   EXPLORER    2016   \n",
       "1  11633473            Chrysler (FCA US, LLC)    JEEP  GLADIATOR    2022   \n",
       "2  11633474          Toyota Motor Corporation  TOYOTA     TUNDRA    2024   \n",
       "3  11633475               General Motors, LLC   BUICK    ENVISTA    2024   \n",
       "4  11633476  Honda (American Honda Motor Co.)   HONDA   PROLOGUE    2024   \n",
       "\n",
       "  CRASH  FAILDATE FIRE INJURED DEATHS  ... RCL_CMPT_ID MFR_COMP_NAME  \\\n",
       "0     N  20240701    N       0      0  ...         NaN           NaN   \n",
       "1     N  20241231    N       0      0  ...         NaN           NaN   \n",
       "2     N  20241101    N       0      0  ...         NaN           NaN   \n",
       "3     N  20241229    N       0      0  ...         NaN           NaN   \n",
       "4     N  20241227    N       0      0  ...         NaN           NaN   \n",
       "\n",
       "  MFR_COMP_DESC MFR_COMP_PTNO RPNO CONSEQUENCE_DEFECT DESC_DEFECT FMVSS BGMAN  \\\n",
       "0           NaN           NaN  NaN                NaN         NaN   NaN   NaN   \n",
       "1           NaN           NaN  NaN                NaN         NaN   NaN   NaN   \n",
       "2           NaN           NaN  NaN                NaN         NaN   NaN   NaN   \n",
       "3           NaN           NaN  NaN                NaN         NaN   NaN   NaN   \n",
       "4           NaN           NaN  NaN                NaN         NaN   NaN   NaN   \n",
       "\n",
       "  ENDMAN  \n",
       "0    NaN  \n",
       "1    NaN  \n",
       "2    NaN  \n",
       "3    NaN  \n",
       "4    NaN  \n",
       "\n",
       "[5 rows x 72 columns]"
      ]
     },
     "execution_count": 147,
     "metadata": {},
     "output_type": "execute_result"
    }
   ],
   "source": [
    "df_final.head()"
   ]
  },
  {
   "cell_type": "code",
   "execution_count": 148,
   "metadata": {},
   "outputs": [],
   "source": [
    "df_final.to_csv(\n",
    "    f\"{DATASET_DIR}/complaints_and_recalls.csv\"\n",
    ")"
   ]
  },
  {
   "cell_type": "markdown",
   "metadata": {},
   "source": [
    "# Check our Python pipeline outputs"
   ]
  },
  {
   "cell_type": "code",
   "execution_count": 65,
   "metadata": {},
   "outputs": [
    {
     "name": "stderr",
     "output_type": "stream",
     "text": [
      "C:\\Users\\harri\\AppData\\Local\\Temp\\ipykernel_13348\\343808498.py:1: DtypeWarning: Columns (1,6,7,8,9,10,12,13,14,16,17,18,19,20,21,22,23,24,25,26,27,28,29,30,31,32,33,34,38,40,49,52,53,54,55,56,57,58,59,60,61,62,63,64,65,66,67,68,69,72) have mixed types. Specify dtype option on import or set low_memory=False.\n",
      "  test_agg = pd.read_csv(f\"{DATASET_DIR}/test_agg.csv\")\n"
     ]
    }
   ],
   "source": [
    "test_agg = pd.read_csv(f\"{DATASET_DIR}/test_agg.csv\")"
   ]
  },
  {
   "cell_type": "code",
   "execution_count": 71,
   "metadata": {},
   "outputs": [
    {
     "data": {
      "text/plain": [
       "IS_COMPLAINT\n",
       "False    25742\n",
       "True     11616\n",
       "Name: count, dtype: int64"
      ]
     },
     "execution_count": 71,
     "metadata": {},
     "output_type": "execute_result"
    }
   ],
   "source": [
    "test_agg[\"IS_COMPLAINT\"].value_counts()"
   ]
  },
  {
   "cell_type": "code",
   "execution_count": 66,
   "metadata": {},
   "outputs": [
    {
     "name": "stderr",
     "output_type": "stream",
     "text": [
      "C:\\Users\\harri\\AppData\\Local\\Temp\\ipykernel_13348\\2415690697.py:1: DtypeWarning: Columns (6,8,12,13,14,20,21,23,24,25,29,32,34,35,36,38,39,40,41,42,43,44,45,46,47,48,52,53,56,59,60,62,63,64,65,66,67,68,69,70,71) have mixed types. Specify dtype option on import or set low_memory=False.\n",
      "  test_no_agg = pd.read_csv(f\"{DATASET_DIR}/test_no_agg.csv\")\n"
     ]
    }
   ],
   "source": [
    "test_no_agg = pd.read_csv(f\"{DATASET_DIR}/test_no_agg.csv\")"
   ]
  },
  {
   "cell_type": "code",
   "execution_count": 72,
   "metadata": {},
   "outputs": [
    {
     "data": {
      "text/plain": [
       "IS_COMPLAINT\n",
       "False    293171\n",
       "True      17239\n",
       "Name: count, dtype: int64"
      ]
     },
     "execution_count": 72,
     "metadata": {},
     "output_type": "execute_result"
    }
   ],
   "source": [
    "test_no_agg[\"IS_COMPLAINT\"].value_counts()"
   ]
  },
  {
   "cell_type": "code",
   "execution_count": 75,
   "metadata": {},
   "outputs": [
    {
     "data": {
      "text/plain": [
       "OCCURENCES         0\n",
       "FUEL_SYS           0\n",
       "DRIVE_TRAIN        0\n",
       "NUM_CYLS           0\n",
       "TRANS_TYPE         0\n",
       "               ...  \n",
       "MAKETXT        37358\n",
       "Unnamed: 0     37358\n",
       "YEARTXT        37358\n",
       "MODELTXT       37358\n",
       "DATEA          37358\n",
       "Length: 73, dtype: int64"
      ]
     },
     "execution_count": 75,
     "metadata": {},
     "output_type": "execute_result"
    }
   ],
   "source": [
    "test_agg.notnull().sum(axis=0).sort_values()"
   ]
  },
  {
   "cell_type": "markdown",
   "metadata": {},
   "source": [
    "Unamed: 0 is the index"
   ]
  },
  {
   "cell_type": "code",
   "execution_count": 68,
   "metadata": {},
   "outputs": [
    {
     "data": {
      "text/plain": [
       "310410"
      ]
     },
     "execution_count": 68,
     "metadata": {},
     "output_type": "execute_result"
    }
   ],
   "source": [
    "len(test_no_agg)"
   ]
  },
  {
   "cell_type": "code",
   "execution_count": 74,
   "metadata": {},
   "outputs": [
    {
     "data": {
      "text/plain": [
       "DRIVE_TRAIN         0\n",
       "NUM_CYLS            0\n",
       "TRANS_TYPE          0\n",
       "FUEL_SYS            0\n",
       "OCCURENCES          0\n",
       "                ...  \n",
       "COMPDESC       310410\n",
       "MAKETXT        310410\n",
       "Unnamed: 0     310410\n",
       "YEARTXT        310410\n",
       "MODELTXT       310410\n",
       "Length: 72, dtype: int64"
      ]
     },
     "execution_count": 74,
     "metadata": {},
     "output_type": "execute_result"
    }
   ],
   "source": [
    "test_no_agg.notnull().sum(axis=0).sort_values()"
   ]
  },
  {
   "cell_type": "markdown",
   "metadata": {},
   "source": [
    "Unamed: 0 is the index"
   ]
  },
  {
   "cell_type": "markdown",
   "metadata": {},
   "source": [
    "Some of these columns shouldn't all be null."
   ]
  },
  {
   "cell_type": "markdown",
   "metadata": {},
   "source": [
    "I looked at the previous complaints dataset, looks like occurrences is actually null.... It may be smart to add some testing code in pytest to ascertain data quality"
   ]
  },
  {
   "cell_type": "code",
   "execution_count": 77,
   "metadata": {},
   "outputs": [
    {
     "data": {
      "text/plain": [
       "Index(['Unnamed: 0', 'ODINO', 'MFR_NAME', 'MAKETXT', 'MODELTXT', 'YEARTXT',\n",
       "       'CRASH', 'FAILDATE', 'FIRE', 'INJURED', 'DEATHS', 'COMPDESC', 'CITY',\n",
       "       'STATE', 'VIN', 'DATEA', 'LDATE', 'MILES', 'OCCURENCES', 'CDESCR',\n",
       "       'CMPL_TYPE', 'POLICE_RPT_YN', 'PURCH_DT', 'ORIG_OWNER_YN',\n",
       "       'ANTI_BRAKES_YN', 'CRUISE_CONT_YN', 'NUM_CYLS', 'DRIVE_TRAIN',\n",
       "       'FUEL_SYS', 'FUEL_TYPE', 'TRANS_TYPE', 'VEH_SPEED', 'DOT', 'TIRE_SIZE',\n",
       "       'LOC_OF_TIRE', 'TIRE_FAIL_TYPE', 'ORIG_EQUIP_YN', 'MANUF_DT',\n",
       "       'SEAT_TYPE', 'RESTRAINT_TYPE', 'DEALER_NAME', 'DEALER_TEL',\n",
       "       'DEALER_CITY', 'DEALER_STATE', 'DEALER_ZIP', 'PROD_TYPE', 'REPAIRED_YN',\n",
       "       'MEDICAL_ATTN', 'VEHICLES_TOWED_YN', 'MMYTXT', 'IS_COMPLAINT',\n",
       "       'RECORD_ID', 'CAMPNO', 'MFGCAMPNO', 'BGMAN', 'ENDMAN', 'RCLTYPECD',\n",
       "       'POTAFF', 'ODATE', 'INFLUENCED_BY', 'MFGTXT', 'RCDATE', 'RPNO', 'FMVSS',\n",
       "       'DESC_DEFECT', 'CONSEQUENCE_DEFECT', 'CORRECTIVE_ACTION', 'NOTES',\n",
       "       'RCL_CMPT_ID', 'MFR_COMP_NAME', 'MFR_COMP_DESC', 'MFR_COMP_PTNO'],\n",
       "      dtype='object')"
      ]
     },
     "execution_count": 77,
     "metadata": {},
     "output_type": "execute_result"
    }
   ],
   "source": [
    "test_no_agg.columns"
   ]
  },
  {
   "cell_type": "code",
   "execution_count": 76,
   "metadata": {},
   "outputs": [
    {
     "data": {
      "text/plain": [
       "Index(['Unnamed: 0', 'ODINO', 'MFR_NAME', 'MAKETXT', 'MODELTXT', 'YEARTXT',\n",
       "       'CRASH', 'FAILDATE', 'FIRE', 'INJURED', 'DEATHS', 'COMPDESC', 'CITY',\n",
       "       'STATE', 'VIN', 'DATEA', 'LDATE', 'CMPL_TYPE', 'POLICE_RPT_YN',\n",
       "       'ORIG_OWNER_YN', 'ANTI_BRAKES_YN', 'CRUISE_CONT_YN', 'FUEL_TYPE', 'DOT',\n",
       "       'LOC_OF_TIRE', 'TIRE_FAIL_TYPE', 'ORIG_EQUIP_YN', 'SEAT_TYPE',\n",
       "       'RESTRAINT_TYPE', 'DEALER_NAME', 'DEALER_CITY', 'DEALER_STATE',\n",
       "       'PROD_TYPE', 'REPAIRED_YN', 'VEHICLES_TOWED_YN', 'MMYTXT', 'TRANS_TYPE',\n",
       "       'TIRE_SIZE', 'DEALER_ZIP', 'MANUF_DT', 'MEDICAL_ATTN', 'VEH_SPEED',\n",
       "       'CDESCR', 'OCCURENCES', 'FUEL_SYS', 'NUM_CYLS', 'PURCH_DT', 'MILES',\n",
       "       'DRIVE_TRAIN', 'DEALER_TEL', 'NUMRECORDS', 'IS_COMPLAINT', 'RECORD_ID',\n",
       "       'CAMPNO', 'MFGCAMPNO', 'RCLTYPECD', 'POTAFF', 'ODATE', 'INFLUENCED_BY',\n",
       "       'MFGTXT', 'RCDATE', 'CORRECTIVE_ACTION', 'NOTES', 'RCL_CMPT_ID',\n",
       "       'MFR_COMP_NAME', 'MFR_COMP_DESC', 'MFR_COMP_PTNO', 'FMVSS',\n",
       "       'CONSEQUENCE_DEFECT', 'DESC_DEFECT', 'BGMAN', 'ENDMAN', 'RPNO'],\n",
       "      dtype='object')"
      ]
     },
     "execution_count": 76,
     "metadata": {},
     "output_type": "execute_result"
    }
   ],
   "source": [
    "test_agg.columns"
   ]
  },
  {
   "cell_type": "code",
   "execution_count": null,
   "metadata": {},
   "outputs": [],
   "source": [
    "z"
   ]
  },
  {
   "cell_type": "code",
   "execution_count": null,
   "metadata": {},
   "outputs": [],
   "source": []
  }
 ],
 "metadata": {
  "kernelspec": {
   "display_name": "capstone_vehicle_recall",
   "language": "python",
   "name": "python3"
  },
  "language_info": {
   "codemirror_mode": {
    "name": "ipython",
    "version": 3
   },
   "file_extension": ".py",
   "mimetype": "text/x-python",
   "name": "python",
   "nbconvert_exporter": "python",
   "pygments_lexer": "ipython3",
   "version": "3.10.16"
  }
 },
 "nbformat": 4,
 "nbformat_minor": 2
}
