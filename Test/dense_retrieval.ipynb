{
 "cells": [
  {
   "cell_type": "markdown",
   "metadata": {},
   "source": [
    "# Comparing Dense vs. SVD Retrieval\n",
    "**Author:** Hai Ran Zheng\n",
    "\n",
    "**Date:** March 14th, 2025\n",
    "\n",
    "**Description:** \n",
    "Compare train time, inference time, and quality of SVD and Dense Embedding Retrieval"
   ]
  },
  {
   "cell_type": "markdown",
   "metadata": {},
   "source": [
    "# Import"
   ]
  },
  {
   "cell_type": "code",
   "execution_count": 1,
   "metadata": {},
   "outputs": [
    {
     "name": "stderr",
     "output_type": "stream",
     "text": [
      "[nltk_data] Downloading package stopwords to\n",
      "[nltk_data]     C:\\Users\\harri\\AppData\\Roaming\\nltk_data...\n",
      "[nltk_data]   Package stopwords is already up-to-date!\n",
      "[nltk_data] Downloading package punkt_tab to\n",
      "[nltk_data]     C:\\Users\\harri\\AppData\\Roaming\\nltk_data...\n",
      "[nltk_data]   Package punkt_tab is already up-to-date!\n"
     ]
    }
   ],
   "source": [
    "import pandas as pd\n",
    "import numpy as np\n",
    "import re\n",
    "import os\n",
    "from nltk import word_tokenize\n",
    "from nltk.corpus import stopwords\n",
    "from nltk.stem.porter import PorterStemmer\n",
    "import pandas as pd\n",
    "from sklearn.feature_extraction.text import TfidfVectorizer\n",
    "from sklearn.decomposition import TruncatedSVD\n",
    "from sklearn.metrics.pairwise import cosine_similarity\n",
    "from sklearn.model_selection import train_test_split\n",
    "import nltk\n",
    "from typing import Literal, Union\n",
    "\n",
    "# check to see if the nltk data has been downloaded in the virtual environment\n",
    "if not os.path.exists(os.path.join(os.path.expanduser(\"~\"), \"nltk_data\")):\n",
    "    # download the nltk data\n",
    "    nltk.download('stopwords')\n",
    "    nltk.download('punkt_tab')"
   ]
  },
  {
   "cell_type": "markdown",
   "metadata": {},
   "source": [
    "# Utilities"
   ]
  },
  {
   "cell_type": "code",
   "execution_count": 4,
   "metadata": {},
   "outputs": [],
   "source": [
    "def left_align(df: pd.DataFrame):\n",
    "    left_aligned_df = df.style.set_properties(**{'text-align': 'left'})\n",
    "    left_aligned_df = left_aligned_df.set_table_styles(\n",
    "        [dict(selector='th', props=[('text-align', 'left')])]\n",
    "    )\n",
    "    return left_aligned_df"
   ]
  },
  {
   "cell_type": "code",
   "execution_count": 5,
   "metadata": {},
   "outputs": [],
   "source": [
    "pd.set_option('max_colwidth', 400)"
   ]
  },
  {
   "cell_type": "markdown",
   "metadata": {},
   "source": [
    "# List of Queries For Testing\n",
    "<div style=\"font-size:20px;font-weight:700\">\n",
    "    Direct Vehicle Issues\n",
    "</div>\n",
    "\n",
    "- Speaker rattles\n",
    "- Clicking sound steering left and right\n",
    "- Brake lamps stay on\n",
    "- Air bag issues from faulty sensor\n",
    "- Bad smell can be observed due to break pads overheating.\n",
    "- Overheating can be observed due to power train issues.\n",
    "- Door open/close issues can be observed due to door latch issue, child safety mode malfunctions.\n",
    "- Harsh clutch movements can be observed due to transmission/powertrain issues.\n",
    "- Steering wheel issues can be observed due to unbalanced tires.\n",
    "- Seat adjustment issues can be observed due to debri in seat latch.\n",
    "- Light issues can be observed due to faulty electrical sensors.\n",
    "\n",
    " - **Latch** is an interesting one, as well as **axle**, since it could refer to different parts of a vehicle.\n"
   ]
  },
  {
   "cell_type": "code",
   "execution_count": 9,
   "metadata": {},
   "outputs": [],
   "source": [
    "PARENT_DIR = os.getcwd().rsplit(os.sep, maxsplit=1)[0]\n",
    "DATASET_DIR = os.path.join(PARENT_DIR, \"Datasets\")"
   ]
  },
  {
   "cell_type": "code",
   "execution_count": 10,
   "metadata": {},
   "outputs": [],
   "source": [
    "rand_path = f\"{DATASET_DIR}/complaints_and_recalls.csv\""
   ]
  },
  {
   "cell_type": "code",
   "execution_count": 11,
   "metadata": {},
   "outputs": [
    {
     "data": {
      "text/plain": [
       "'c:\\\\Users\\\\harri\\\\OneDrive\\\\Documents\\\\Programming\\\\UMich_Data_Science\\\\SIADs_Audio_Text_SRS\\\\Datasets\\\\complaints_and_recalls.csv'"
      ]
     },
     "execution_count": 11,
     "metadata": {},
     "output_type": "execute_result"
    }
   ],
   "source": [
    "os.path.normpath(rand_path)"
   ]
  },
  {
   "cell_type": "code",
   "execution_count": 12,
   "metadata": {},
   "outputs": [],
   "source": [
    "df = pd.read_csv(f\"{DATASET_DIR}/complaints_and_recalls.csv\")"
   ]
  },
  {
   "cell_type": "code",
   "execution_count": 13,
   "metadata": {},
   "outputs": [
    {
     "data": {
      "text/plain": [
       "IS_COMPLAINT\n",
       "False    26153\n",
       "True     11615\n",
       "Name: count, dtype: int64"
      ]
     },
     "execution_count": 13,
     "metadata": {},
     "output_type": "execute_result"
    }
   ],
   "source": [
    "df[\"IS_COMPLAINT\"].value_counts()"
   ]
  },
  {
   "cell_type": "markdown",
   "metadata": {},
   "source": [
    "# SVD Retrieval\n",
    "\n",
    "1. Convert Documents into TF-IDF vector\n",
    "2. Train Scikit-Learn's SVD algorithm on train set\n",
    "3. Retrieve relevant documents given query\n",
    "4. Show relevant topics"
   ]
  },
  {
   "cell_type": "code",
   "execution_count": 15,
   "metadata": {},
   "outputs": [],
   "source": [
    "# create a streamlit app that allows users to input a text query and get the top 5 most similar documents from the corpus using the TextClassifier class from import os\n",
    "import os\n",
    "import pickle\n",
    "\n",
    "class TextClassifier:\n",
    "    def __init__(self, dataset_path, column_name:str, n_dimensions:int):\n",
    "        # set the random state for reproducibility\n",
    "        self.random_state = 42\n",
    "        # create a TfidfVectorizer object\n",
    "        self.vectorizer = TfidfVectorizer()\n",
    "        # set the number of dimensions to reduce the vectorized data to\n",
    "        self.num_dimensions = n_dimensions\n",
    "        self.dataset_path = os.path.abspath(dataset_path) # normalize\n",
    "        self.dataset_dir, self.dataset_basename = self.dataset_path.rsplit(\n",
    "            os.sep, maxsplit=1\n",
    "        )\n",
    "        self.column_name = column_name\n",
    "        self.column_name_cleaned = column_name + \"_CLEANED\"\n",
    "        # create variables to store the training, test, and validation sets for class functions\n",
    "        self.column_name_cleaned = None\n",
    "        self.df_train = None\n",
    "        self.df_test = None\n",
    "        self.df_validation = None\n",
    "        self.x_train_vect = None\n",
    "        self.x_test_vect = None\n",
    "        self.x_validation_vect = None\n",
    "        self.lsa = None\n",
    "        self.vectorized_train = None\n",
    "        self.vectorized_test = None\n",
    "        self.vectorized_validation = None\n",
    "\n",
    "    def read_dataset(self):\n",
    "        \"\"\"Read the dataset from the csv file\"\"\"\n",
    "        self.df = pd.read_csv(self.dataset_path)\n",
    "\n",
    "    # create a function that will be called from a apply lambda function to process the text from a dataframe with the \"CDESCR\" column\n",
    "    def process_text(text):\n",
    "        \"\"\"\n",
    "        Process text by tokenizing, removing stop words, and stemming\n",
    "        \"\"\"\n",
    "        #print(text)\n",
    "        stop_words = set(stopwords.words(\"english\"))\n",
    "        stemmer = PorterStemmer()\n",
    "        \n",
    "        # make sure the text is not empty and or nan\n",
    "        if not text or pd.isna(text):\n",
    "            return []\n",
    "\n",
    "        # tokenize the text and remove stop words and stem the words\n",
    "        content_cleaned = [stemmer.stem(word) for word in word_tokenize(text.lower()) if word not in stop_words]\n",
    "\n",
    "        # remove the punctuation from the content_cleaned list\n",
    "        content_cleaned = [word for word in content_cleaned if word.isalnum()]\n",
    "        \n",
    "        return content_cleaned\n",
    "\n",
    "    def load_pickle_if_paths_exist(BASE_PATH, basenames_to_check : list):\n",
    "        pickles = []\n",
    "        for basename_to_check in basenames_to_check:\n",
    "            if os.path.exists(f\"{BASE_PATH}/{basename_to_check}\"):\n",
    "                with open(f\"{BASE_PATH}/{basename_to_check}\", \"rb\") as f:\n",
    "                    pickles.append(pickle.load(f))\n",
    "\n",
    "        return pickles\n",
    "    \n",
    "    def process_dataframe(self, train_size=0.7, test_size=0.2, validation_size=0.1, subgroup=\"\"):\n",
    "        \"\"\"\n",
    "        Process the text in the \"CDESCR\" column and create a new column \"CDESCR_CLEANED\" with the processed text\n",
    "        \"\"\"\n",
    "        basename = f\"{self.column_name}_{self.num_dimensions}\"\n",
    "        # get current working directory\n",
    "        cwd = os.getcwd()\n",
    "        # change the Example folder to Datasets folder in the cwd path\n",
    "        desired_save_path = os.path.join(self.dataset_dir, subgroup)\n",
    "        # desired_save_path = cwd + \"\\\\Datasets\"\n",
    "        # create a folder path to save the pickle files\n",
    "        if not os.path.exists(desired_save_path):\n",
    "            os.makedirs(desired_save_path)\n",
    "\n",
    "        # check to see if there is a pickle file for the dataframe with the processed text\n",
    "        if os.path.exists(desired_save_path + '//' + basename + \"_df.pkl\"):\n",
    "            # load the pickle file\n",
    "            with open(desired_save_path + '//' + basename + \"_df.pkl\", \"rb\") as f:\n",
    "                self.df = pickle.load(f)\n",
    "        else:\n",
    "            # process the text in the \"CDESCR\" column and create a new column \"CDESCR_CLEANED\" with the processed text\n",
    "            self.df[self.column_name_cleaned] = self.df[self.column_name].apply(lambda x: TextClassifier.process_text(x))\n",
    "            # create a pickle file for the dataframe with the processed text\n",
    "            with open(desired_save_path + '//' + basename + \"_df.pkl\", \"wb\") as f:\n",
    "                pickle.dump(self.df, f)\n",
    "\n",
    "        # split the df_complaints dataframe into a test, train, and validation set with a 70/20/10 split\n",
    "        self.df_train, self.df_test = train_test_split(self.df, test_size=(1-train_size), random_state=self.random_state)\n",
    "        self.df_test, self.df_validation = train_test_split(self.df_test, test_size=(validation_size/(1-train_size)), random_state=self.random_state)\n",
    "\n",
    "        # check to see if there is a pickle file for the vectorizer\n",
    "        if (\n",
    "            os.path.exists(desired_save_path + '//' + basename + \"_vectorizer.pkl\") \n",
    "            and os.path.exists(desired_save_path + '//' + basename + \"_x_train_vect.pkl\") \n",
    "            and os.path.exists(desired_save_path + '//' + basename + \"_x_test_vect.pkl\") \n",
    "            and os.path.exists(desired_save_path + '//' + basename + \"_x_validation_vect.pkl\")\n",
    "        ):\n",
    "            # load the pickle file\n",
    "            with open(desired_save_path + '//' + basename + \"_vectorizer.pkl\", \"rb\") as f:\n",
    "                self.vectorizer = pickle.load(f)\n",
    "            with open(desired_save_path + '//' + basename + \"_x_train_vect.pkl\", \"rb\") as f:\n",
    "                self.x_train_vect = pickle.load(f)\n",
    "            with open(desired_save_path + '//' + basename + \"_x_test_vect.pkl\", \"rb\") as f:\n",
    "                self.x_test_vect = pickle.load(f)\n",
    "            with open(desired_save_path + '//' + basename + \"_x_validation_vect.pkl\", \"rb\") as f:\n",
    "                self.x_validation_vect = pickle.load(f)\n",
    "        else:\n",
    "            # fit the vectorizer on the \"CDESCR_CLEANED\" column and transform the \"CDESCR_CLEANED\" column into a vectorized format\n",
    "            # apply a lambda function to join the list of words in the \"CDESCR_CLEANED\" column into a string\n",
    "            self.x_train_vect = self.vectorizer.fit_transform(self.df_train[self.column_name_cleaned].apply(lambda x: \" \".join(x)))\n",
    "            self.x_test_vect = self.vectorizer.transform(self.df_test[self.column_name_cleaned].apply(lambda x: \" \".join(x)))\n",
    "            self.x_validation_vect = self.vectorizer.transform(self.df_validation[self.column_name_cleaned].apply(lambda x: \" \".join(x)))        \n",
    "            #print(self.x_train_vect.shape, self.x_test_vect.shape, self.x_validation_vect.shape)\n",
    "            # create a pickle file for the vectorizer\n",
    "            with open(desired_save_path + '//' + basename + \"_vectorizer.pkl\", \"wb\") as f:\n",
    "                pickle.dump(self.vectorizer, f)\n",
    "            with open(desired_save_path + '//' + basename + \"_x_train_vect.pkl\", \"wb\") as f:\n",
    "                pickle.dump(self.x_train_vect, f)\n",
    "            with open(desired_save_path + '//' + basename + \"_x_test_vect.pkl\", \"wb\") as f:\n",
    "                pickle.dump(self.x_test_vect, f)\n",
    "            with open(desired_save_path + '//' + basename + \"_x_validation_vect.pkl\", \"wb\") as f:\n",
    "                pickle.dump(self.x_validation_vect, f)\n",
    "\n",
    "        # check to see if there is a pickle file for the lsa\n",
    "        if os.path.exists(desired_save_path + '//' + basename + \"_lsa.pkl\") and os.path.exists(desired_save_path + '//' + basename + \"_complaints_vectorized_train.pkl\") and os.path.exists(desired_save_path + '//' + basename + \"_complaints_vectorized_test.pkl\") and os.path.exists(desired_save_path + '//' + basename + \"_complaints_vectorized_validation.pkl\"):\n",
    "            # load the pickle file\n",
    "            with open(desired_save_path + '//' + basename + \"_lsa.pkl\", \"rb\") as f:\n",
    "                self.lsa = pickle.load(f)\n",
    "            with open(desired_save_path + '//' + basename + \"_complaints_vectorized_train.pkl\", \"rb\") as f:\n",
    "                self.complaints_vectorized_train = pickle.load(f)\n",
    "            with open(desired_save_path + '//' + basename + \"_complaints_vectorized_test.pkl\", \"rb\") as f:\n",
    "                self.complaints_vectorized_test = pickle.load(f)\n",
    "            with open(desired_save_path + '//' + basename + \"_complaints_vectorized_validation.pkl\", \"rb\") as f:\n",
    "                self.complaints_vectorized_validation = pickle.load(f)\n",
    "        else:\n",
    "            # perform LSA on the vectorized data to reduce the dimensionality\n",
    "            self.lsa = TruncatedSVD(n_components=self.num_dimensions, random_state=self.random_state)\n",
    "            self.complaints_vectorized_train = self.lsa.fit_transform(self.x_train_vect)\n",
    "            self.complaints_vectorized_test = self.lsa.transform(self.x_test_vect)\n",
    "            self.complaints_vectorized_validation = self.lsa.transform(self.x_validation_vect)\n",
    "            \n",
    "            # create a pickle file for the vectorized training data\n",
    "            with open(desired_save_path + '//' + self.column_name + \"_lsa.pkl\", \"wb\") as f:\n",
    "                pickle.dump(self.lsa, f)\n",
    "            with open(desired_save_path + '//' + self.column_name + \"_complaints_vectorized_train.pkl\", \"wb\") as f:\n",
    "                pickle.dump(self.complaints_vectorized_train, f)\n",
    "            with open(desired_save_path + '//' + self.column_name + \"_complaints_vectorized_test.pkl\", \"wb\") as f:\n",
    "                pickle.dump(self.complaints_vectorized_test, f)\n",
    "            with open(desired_save_path + '//' + self.column_name + \"_complaints_vectorized_validation.pkl\", \"wb\") as f:\n",
    "                pickle.dump(self.complaints_vectorized_validation, f)\n",
    "\n",
    "        return self.df, self.df_train, self.df_test, self.df_validation, self.lsa, self.vectorizer\n",
    "    \n",
    "    # A functionalize the process of finding similar complaints to a query text\n",
    "    def find_similar_complaint(self, query_text:str):\n",
    "        \"\"\"\n",
    "        Find the most similar complaint to a query text in the training set\n",
    "        \"\"\"\n",
    "        # process the query text\n",
    "        query_text_cleaned = TextClassifier.process_text(query_text)\n",
    "        # vectorize the query text\n",
    "        query_vectorized = self.vectorizer.transform([\" \".join(query_text_cleaned)])\n",
    "        # reduce the dimensionality of the query vector\n",
    "        query_vectorized_lsa = self.lsa.transform(query_vectorized)\n",
    "        # find the cosine similarity between the query vector and all the complaints in the training set\n",
    "        cosine_similarities_query = cosine_similarity(query_vectorized_lsa, self.complaints_vectorized_train)\n",
    "        # get the index of the most similar complaint in the training set\n",
    "        most_similar_index_query = cosine_similarities_query.argmax()\n",
    "        print(most_similar_index_query)\n",
    "        # get the most similar complaint in the training set\n",
    "        most_similar_complaint_train_query = self.df_train.iloc[most_similar_index_query]\n",
    "        return most_similar_complaint_train_query\n",
    "    \n",
    "    def find_similar(self, query_text:str, \n",
    "                                    dataset_to_check : Literal[\n",
    "                                        \"train\", \n",
    "                                        \"validation\",\n",
    "                                        \"test\"    \n",
    "                                    ] = \"train\",\n",
    "                                    similarity_fn=cosine_similarity,\n",
    "                                    top=5):\n",
    "        \"\"\"\n",
    "        Find the most similar complaint to a query text in the training set\n",
    "        \"\"\"\n",
    "        # process the query text\n",
    "        query_text_cleaned = TextClassifier.process_text(query_text)\n",
    "        # vectorize the query text\n",
    "        query_vectorized = self.vectorizer.transform([\" \".join(query_text_cleaned)])\n",
    "        # reduce the dimensionality of the query vector\n",
    "        query_vectorized_lsa = self.lsa.transform(query_vectorized)\n",
    "        # find the cosine similarity between the query vector and all the complaints in the training set\n",
    "        \n",
    "        if dataset_to_check == \"train\":\n",
    "            cosine_similarities_query = similarity_fn(query_vectorized_lsa, self.complaints_vectorized_train)\n",
    "        elif dataset_to_check == \"validation\":\n",
    "            cosine_similarities_query = similarity_fn(query_vectorized_lsa, self.complaints_vectorized_validation)\n",
    "        elif dataset_to_check == \"test\":\n",
    "            cosine_similarities_query = similarity_fn(query_vectorized_lsa, self.complaints_vectorized_test)\n",
    "    \n",
    "        # get the index of the most similar complaints\n",
    "        most_similar_indices_query = cosine_similarities_query.squeeze().argsort()[:-top-1:-1]\n",
    "\n",
    "        # get the most similar complaints\n",
    "        most_similar_elements = self.df_train.iloc[most_similar_indices_query]\n",
    "        most_similar_elements[\"cosine_similarities\"] = cosine_similarities_query.squeeze()[most_similar_indices_query]\n",
    "        return most_similar_elements\n",
    "    \n",
    "    def run_training_pipeline(self, subgroup=\"\"):\n",
    "        # Load dataset in self.df\n",
    "        self.read_dataset()\n",
    "\n",
    "        # Process DataFrame and run SVD\n",
    "        self.process_dataframe(subgroup=subgroup)\n",
    "\n",
    "# run the below code if main script\n",
    "# if __name__ == \"__main__\":\n",
    "#     # https://www.nhtsa.gov/nhtsa-datasets-and-apis#recalls\n",
    "#     # read in C:\\Repo\\SIADs_Audio_Text_SRS\\Example\\COMPLAINTS_RECEIVED_2025-2025.txt into a pandas dataframe, where the columns are RCL\n",
    "#     df_complaints = pd.read_csv(\"C:\\\\Repo\\\\SIADs_Audio_Text_SRS\\\\Datasets\\\\COMPLAINTS_RECEIVED_2025-2025.txt\", sep='\\t', header=None, index_col=0)\n",
    "#     df_complaints.columns = ['ODINO', 'MFR_NAME', 'MAKETXT', 'MODELTXT', 'YEARTXT', 'CRASH', 'FAILDATE', 'FIRE', 'INJURED', 'DEATHS', 'COMPDESC', 'CITY', 'STATE', 'VIN', 'DATEA', 'LDATE', 'MILES', 'OCCURENCES', 'CDESCR', 'CMPL_TYPE', 'POLICE_RPT_YN', 'PURCH_DT', 'ORIG_OWNER_YN', 'ANTI_BRAKES_YN', 'CRUISE_CONT_YN', 'NUM_CYLS', 'DRIVE_TRAIN', 'FUEL_SYS', 'FUEL_TYPE',\n",
    "#                 'TRANS_TYPE', 'VEH_SPEED', 'DOT', 'TIRE_SIZE', 'LOC_OF_TIRE', 'TIRE_FAIL_TYPE', 'ORIG_EQUIP_YN', 'MANUF_DT', 'SEAT_TYPE', 'RESTRAINT_TYPE', 'DEALER_NAME', 'DEALER_TEL', 'DEALER_CITY', 'DEALER_STATE', 'DEALER_ZIP', 'PROD_TYPE', 'REPAIRED_YN', 'MEDICAL_ATTN', 'VEHICLES_TOWED_YN']\n",
    "\n",
    "#     # create a list of unique manufacturers in the \"MFR_NAME\" column\n",
    "#     list_of_manufacturers = df_complaints[\"MFR_NAME\"].unique()\n",
    "\n",
    "#     # testing out the functionilzed code\n",
    "\n",
    "#     # call the TextClassifier class and create an instance of it as text_classifier\n",
    "#     # pass in the df_complaints dataframe and the \"CDESCR\" column\n",
    "#     text_classifier = TextClassifier(df_complaints, \"CDESCR\")\n",
    "#     # process the text in the \"CDESCR\" column\n",
    "#     text_classifier.process_dataframe()\n",
    "\n",
    "#     # use one of the complaints in the test set as a query to find the most similar complaint in the training set\n",
    "#     #complaint_test_query = text_classifier.df_test[\"CDESCR\"].iloc[5]\n",
    "#     #complaint_test_query = text_classifier.df_test[\"CDESCR\"].iloc[4]\n",
    "#     #complaint_test_query = \"Car won't start and makes a clicking noise\"\n",
    "#     complaint_test_query = \"Battery dies after a few days of not driving the car\"\n",
    "\n",
    "#     print(complaint_test_query)\n",
    "#     # find the most similar complaint to the complaint test\n",
    "#     most_similar_complaint = text_classifier.find_similar_complaint(complaint_test_query)\n",
    "#     # print the most similar complaint with the below columns\n",
    "#     print(most_similar_complaint[[\"ODINO\", \"MFR_NAME\", \"MAKETXT\", \"MODELTXT\", \"YEARTXT\", \"CDESCR\"]])\n",
    "#     print(most_similar_complaint[\"CDESCR\"])"
   ]
  },
  {
   "cell_type": "code",
   "execution_count": 16,
   "metadata": {},
   "outputs": [],
   "source": [
    "clf_svd = TextClassifier(f'{DATASET_DIR}/complaints_and_recalls.csv', column_name='CDESCR',n_dimensions=384)"
   ]
  },
  {
   "cell_type": "code",
   "execution_count": 17,
   "metadata": {},
   "outputs": [],
   "source": [
    "_ = clf_svd.run_training_pipeline(subgroup=\"SVD_384\")"
   ]
  },
  {
   "cell_type": "code",
   "execution_count": 18,
   "metadata": {},
   "outputs": [
    {
     "data": {
      "text/plain": [
       "26444"
      ]
     },
     "execution_count": 18,
     "metadata": {},
     "output_type": "execute_result"
    }
   ],
   "source": [
    "len(clf_svd.df_train)"
   ]
  },
  {
   "cell_type": "markdown",
   "metadata": {},
   "source": [
    "## Training Time"
   ]
  },
  {
   "cell_type": "markdown",
   "metadata": {},
   "source": [
    "2 minute 10 second training time for 26444 documents. That's about 26644/130 = 205 documents per second on my computer. Here are my computer specs:"
   ]
  },
  {
   "cell_type": "code",
   "execution_count": 17,
   "metadata": {},
   "outputs": [
    {
     "name": "stdout",
     "output_type": "stream",
     "text": [
      "Python Version: 3.12.7.final.0 (64 bit)\n",
      "Cpuinfo Version: 9.0.0\n",
      "Vendor ID Raw: AuthenticAMD\n",
      "Hardware Raw: \n",
      "Brand Raw: AMD Ryzen 5 8640HS w/ Radeon 760M Graphics\n",
      "Hz Advertised Friendly: 3.4930 GHz\n",
      "Hz Actual Friendly: 2.4860 GHz\n",
      "Hz Advertised: (3493000000, 0)\n",
      "Hz Actual: (2486000000, 0)\n",
      "Arch: X86_64\n",
      "Bits: 64\n",
      "Count: 12\n",
      "Arch String Raw: AMD64\n",
      "L1 Data Cache Size: \n",
      "L1 Instruction Cache Size: \n",
      "L2 Cache Size: 6291456\n",
      "L2 Cache Line Size: 1024\n",
      "L2 Cache Associativity: 6\n",
      "L3 Cache Size: 16777216\n",
      "Stepping: 2\n",
      "Model: 117\n",
      "Family: 25\n",
      "Processor Type: \n",
      "Flags: 3dnow, 3dnowext, 3dnowprefetch, abm, adx, aes, apic, avx, avx2, avx512bitalg, avx512bw, avx512cd, avx512dq, avx512f, avx512ifma, avx512vbmi, avx512vbmi2, avx512vl, avx512vnni, avx512vpopcntdq, bmi1, bmi2, clflush, clflushopt, clwb, cmov, cmp_legacy, cr8_legacy, cx16, cx8, de, dts, erms, f16c, fma, fpu, fxsr, gfni, ht, hypervisor, ia64, invpcid, lahf_lm, mca, mce, misalignsse, mmx, monitor, movbe, msr, mtrr, osvw, osxsave, pae, pat, pclmulqdq, perfctr_core, pge, pni, popcnt, pqe, pqm, pse, pse36, rdpid, rdrnd, rdseed, sep, sepamd, serial, sha, smap, smep, ss, sse, sse2, sse4_1, sse4_2, sse4a, ssse3, tm, topoext, tsc, umip, vaes, vme, vpclmulqdq, wdt, xsave\n"
     ]
    }
   ],
   "source": [
    "!cpuinfo"
   ]
  },
  {
   "cell_type": "markdown",
   "metadata": {},
   "source": [
    "Ignore python version as it is my global python version. I'm using a venv that has a different python version (3.10.16)"
   ]
  },
  {
   "cell_type": "markdown",
   "metadata": {},
   "source": [
    "## Inference Time + Quality of Retrieval"
   ]
  },
  {
   "cell_type": "code",
   "execution_count": 27,
   "metadata": {},
   "outputs": [],
   "source": [
    "columns_to_inspect = [\"CDESCR\", \"cosine_similarities\", \"IS_COMPLAINT\"]"
   ]
  },
  {
   "cell_type": "code",
   "execution_count": 18,
   "metadata": {},
   "outputs": [
    {
     "name": "stderr",
     "output_type": "stream",
     "text": [
      "C:\\Users\\harri\\AppData\\Local\\Temp\\ipykernel_37020\\578085221.py:209: SettingWithCopyWarning: \n",
      "A value is trying to be set on a copy of a slice from a DataFrame.\n",
      "Try using .loc[row_indexer,col_indexer] = value instead\n",
      "\n",
      "See the caveats in the documentation: https://pandas.pydata.org/pandas-docs/stable/user_guide/indexing.html#returning-a-view-versus-a-copy\n",
      "  most_similar_elements[\"cosine_similarities\"] = cosine_similarities_query.squeeze()[most_similar_indices_query]\n"
     ]
    }
   ],
   "source": [
    "similar_elements = clf_svd.find_similar(\n",
    "    query_text=\"Speaker rattles\",\n",
    "    dataset_to_check=\"train\",\n",
    "    top=50\n",
    ")"
   ]
  },
  {
   "cell_type": "code",
   "execution_count": null,
   "metadata": {},
   "outputs": [],
   "source": [
    "c_descr = left_align(similar_elements[columns_to_inspect].head(10))"
   ]
  },
  {
   "cell_type": "code",
   "execution_count": 20,
   "metadata": {},
   "outputs": [],
   "source": [
    "pd.set_option('max_colwidth', 400)"
   ]
  },
  {
   "cell_type": "code",
   "execution_count": 21,
   "metadata": {},
   "outputs": [
    {
     "data": {
      "text/html": [
       "<style type=\"text/css\">\n",
       "#T_a5ee8 th {\n",
       "  text-align: left;\n",
       "}\n",
       "#T_a5ee8_row0_col0, #T_a5ee8_row0_col1, #T_a5ee8_row0_col2, #T_a5ee8_row1_col0, #T_a5ee8_row1_col1, #T_a5ee8_row1_col2, #T_a5ee8_row2_col0, #T_a5ee8_row2_col1, #T_a5ee8_row2_col2, #T_a5ee8_row3_col0, #T_a5ee8_row3_col1, #T_a5ee8_row3_col2, #T_a5ee8_row4_col0, #T_a5ee8_row4_col1, #T_a5ee8_row4_col2, #T_a5ee8_row5_col0, #T_a5ee8_row5_col1, #T_a5ee8_row5_col2, #T_a5ee8_row6_col0, #T_a5ee8_row6_col1, #T_a5ee8_row6_col2, #T_a5ee8_row7_col0, #T_a5ee8_row7_col1, #T_a5ee8_row7_col2, #T_a5ee8_row8_col0, #T_a5ee8_row8_col1, #T_a5ee8_row8_col2, #T_a5ee8_row9_col0, #T_a5ee8_row9_col1, #T_a5ee8_row9_col2 {\n",
       "  text-align: left;\n",
       "}\n",
       "</style>\n",
       "<table id=\"T_a5ee8\">\n",
       "  <thead>\n",
       "    <tr>\n",
       "      <th class=\"blank level0\" >&nbsp;</th>\n",
       "      <th id=\"T_a5ee8_level0_col0\" class=\"col_heading level0 col0\" >CDESCR</th>\n",
       "      <th id=\"T_a5ee8_level0_col1\" class=\"col_heading level0 col1\" >cosine_similarities</th>\n",
       "      <th id=\"T_a5ee8_level0_col2\" class=\"col_heading level0 col2\" >IS_COMPLAINT</th>\n",
       "    </tr>\n",
       "  </thead>\n",
       "  <tbody>\n",
       "    <tr>\n",
       "      <th id=\"T_a5ee8_level0_row0\" class=\"row_heading level0 row0\" >1094</th>\n",
       "      <td id=\"T_a5ee8_row0_col0\" class=\"data row0 col0\" >Car radio goes so loud it damaged my ear nerves. This results in pain especially when exposed to loud sounds</td>\n",
       "      <td id=\"T_a5ee8_row0_col1\" class=\"data row0 col1\" >0.498306</td>\n",
       "      <td id=\"T_a5ee8_row0_col2\" class=\"data row0 col2\" >True</td>\n",
       "    </tr>\n",
       "    <tr>\n",
       "      <th id=\"T_a5ee8_level0_row1\" class=\"row_heading level0 row1\" >9664</th>\n",
       "      <td id=\"T_a5ee8_row1_col0\" class=\"data row1 col0\" >There has been a problem going on with my 2016 Honda Accord Touring and it’s unbelievably terrible it has something to do with the sound system in the car and it can’t be stopped even if you try to power off the Radio it still occurs and it’s an on going problem until the vehicle is powered off, basically it’s a static noise that comes through all speakers that starts off not too loud then it gets really loud! To where you can’t even hear the person in the passenger seat and it is so bad it can possibly cause hearing damage and also to mention you can’t hear any sirens of like an ambulance for instance it happened to me other day where an ambulance was behind me and I didn’t hear it because of the horrible static sound coming from the speakers I found out the ambulance was behind me because of the cars in front of me pulling over to the side of the road and also I have little cousins and I would to go on trips with them but it worries me I can hurt their ears and they might start to panic to how bad the sound is.</td>\n",
       "      <td id=\"T_a5ee8_row1_col1\" class=\"data row1 col1\" >0.482936</td>\n",
       "      <td id=\"T_a5ee8_row1_col2\" class=\"data row1 col2\" >True</td>\n",
       "    </tr>\n",
       "    <tr>\n",
       "      <th id=\"T_a5ee8_level0_row2\" class=\"row_heading level0 row2\" >5618</th>\n",
       "      <td id=\"T_a5ee8_row2_col0\" class=\"data row2 col0\" >Tapping noise coming from 5.0 engine from cold start. Ford dealership concluded it was a Cam Phasers that needed to be replaced </td>\n",
       "      <td id=\"T_a5ee8_row2_col1\" class=\"data row2 col1\" >0.467023</td>\n",
       "      <td id=\"T_a5ee8_row2_col2\" class=\"data row2 col2\" >True</td>\n",
       "    </tr>\n",
       "    <tr>\n",
       "      <th id=\"T_a5ee8_level0_row3\" class=\"row_heading level0 row3\" >1620</th>\n",
       "      <td id=\"T_a5ee8_row3_col0\" class=\"data row3 col0\" >During cold starts there is a loud ticking sound coming from the top side of the engine. It appears to be one or more HLA.</td>\n",
       "      <td id=\"T_a5ee8_row3_col1\" class=\"data row3 col1\" >0.464828</td>\n",
       "      <td id=\"T_a5ee8_row3_col2\" class=\"data row3 col2\" >True</td>\n",
       "    </tr>\n",
       "    <tr>\n",
       "      <th id=\"T_a5ee8_level0_row4\" class=\"row_heading level0 row4\" >10259</th>\n",
       "      <td id=\"T_a5ee8_row4_col0\" class=\"data row4 col0\" >Upon a cold start my vehicle was making a rattling and ticking sound and the car would shake. There were no engine failure or warning lights that came on but the engine did not sound like it was running properly and clearly something was wrong. I took the vehicle in and was told that the Variable Cam Timing parts need to be replaced. In doing some research it appears that the VCT on the 2019 Navigator has a recall for the VCT but my VIN was not included on the recall for some reason. </td>\n",
       "      <td id=\"T_a5ee8_row4_col1\" class=\"data row4 col1\" >0.455588</td>\n",
       "      <td id=\"T_a5ee8_row4_col2\" class=\"data row4 col2\" >True</td>\n",
       "    </tr>\n",
       "    <tr>\n",
       "      <th id=\"T_a5ee8_level0_row5\" class=\"row_heading level0 row5\" >3435</th>\n",
       "      <td id=\"T_a5ee8_row5_col0\" class=\"data row5 col0\" >In December the vehicle started showing a pedestrian warning sound fault light. The pedestrian warning sound was replaced by a siren that sounds like an air raid siren which makes the car virtually undriveable. </td>\n",
       "      <td id=\"T_a5ee8_row5_col1\" class=\"data row5 col1\" >0.446464</td>\n",
       "      <td id=\"T_a5ee8_row5_col2\" class=\"data row5 col2\" >True</td>\n",
       "    </tr>\n",
       "    <tr>\n",
       "      <th id=\"T_a5ee8_level0_row6\" class=\"row_heading level0 row6\" >3763</th>\n",
       "      <td id=\"T_a5ee8_row6_col0\" class=\"data row6 col0\" >Loud noise like bomb went off when started vehicle then static in radio speakers wouldn’t stop. I have a 2022 ford f150 lariat with B&O unleashed speakers. Lots of complaints and told to report this issue. Radio came on next day but scared it will happen again. </td>\n",
       "      <td id=\"T_a5ee8_row6_col1\" class=\"data row6 col1\" >0.432215</td>\n",
       "      <td id=\"T_a5ee8_row6_col2\" class=\"data row6 col2\" >True</td>\n",
       "    </tr>\n",
       "    <tr>\n",
       "      <th id=\"T_a5ee8_level0_row7\" class=\"row_heading level0 row7\" >782</th>\n",
       "      <td id=\"T_a5ee8_row7_col0\" class=\"data row7 col0\" >At around 75K miles, the CVT transmission started to give an issue. At highway speeds, a whining sound is noticeable inside the cabin. I took the CHR to a local shop for a diagnostic. They identified the CVT as the cause of the noise. At this point, the noise is the only indicator of CVT failure. </td>\n",
       "      <td id=\"T_a5ee8_row7_col1\" class=\"data row7 col1\" >0.429937</td>\n",
       "      <td id=\"T_a5ee8_row7_col2\" class=\"data row7 col2\" >True</td>\n",
       "    </tr>\n",
       "    <tr>\n",
       "      <th id=\"T_a5ee8_level0_row8\" class=\"row_heading level0 row8\" >5827</th>\n",
       "      <td id=\"T_a5ee8_row8_col0\" class=\"data row8 col0\" >The audio system has become inoperable and instead the speakers are blasting static noise with crackling and popping sounds at high volume. Cannot stop it or use any other audio. Very unsafe to drive due to extreme noise level and lack of controls. Appears many people have this issue and there needs to be a recall to fix.</td>\n",
       "      <td id=\"T_a5ee8_row8_col1\" class=\"data row8 col1\" >0.421825</td>\n",
       "      <td id=\"T_a5ee8_row8_col2\" class=\"data row8 col2\" >True</td>\n",
       "    </tr>\n",
       "    <tr>\n",
       "      <th id=\"T_a5ee8_level0_row9\" class=\"row_heading level0 row9\" >9650</th>\n",
       "      <td id=\"T_a5ee8_row9_col0\" class=\"data row9 col0\" >There appears to be a model-wide problem with 2017 Honda Accord audio system that manifests in screeching static noise through audio speakers (whether the radio is turned on or not) at decibels in excess of 100 (sounds like a lawnmower being operated inside a closed 4 door sedan). This noise comes with no warning (or waring lights) and shocks the senses that can cause erratic vehicle operation. Once the noise starts, it will last varying lengths of time that include in excess of 12 minutes. The only means to make it stop is by turning off the car, which is not easy or safe if highway driving. The screeching is so loud, it is impossible to hear emergency sirens or honking horns, making this a serious safety issue. This is also very distracting -- imagine a passenger screaming in your ear as loud as they can non-stop -- simply not conducive to safe driving! Honda of America acts like they have never heard of this issue (I can see that many, many 2017 Accord owners have reported this very issue over the last several years). Dealer diagnostics reveal nothing. They only recommend replacing the entire audio head unit ($4K) and owner expense. For a car that is only 7 years old, it is not working as intended. A recall seems warranted. This has been going on over a month now and is getting progressively worse. Please help us. [XXX] Please open this video to hear the problem. INFORMATION REDACTED PURSUANT TO THE FREEDOM OF INFORMATION ACT (FOIA), 5 U.S.C. 552(B)(6) </td>\n",
       "      <td id=\"T_a5ee8_row9_col1\" class=\"data row9 col1\" >0.411311</td>\n",
       "      <td id=\"T_a5ee8_row9_col2\" class=\"data row9 col2\" >True</td>\n",
       "    </tr>\n",
       "  </tbody>\n",
       "</table>\n"
      ],
      "text/plain": [
       "<pandas.io.formats.style.Styler at 0x20c0d0f7070>"
      ]
     },
     "execution_count": 21,
     "metadata": {},
     "output_type": "execute_result"
    }
   ],
   "source": [
    "c_descr"
   ]
  },
  {
   "cell_type": "code",
   "execution_count": 22,
   "metadata": {},
   "outputs": [
    {
     "name": "stderr",
     "output_type": "stream",
     "text": [
      "C:\\Users\\harri\\AppData\\Local\\Temp\\ipykernel_37020\\578085221.py:209: SettingWithCopyWarning: \n",
      "A value is trying to be set on a copy of a slice from a DataFrame.\n",
      "Try using .loc[row_indexer,col_indexer] = value instead\n",
      "\n",
      "See the caveats in the documentation: https://pandas.pydata.org/pandas-docs/stable/user_guide/indexing.html#returning-a-view-versus-a-copy\n",
      "  most_similar_elements[\"cosine_similarities\"] = cosine_similarities_query.squeeze()[most_similar_indices_query]\n"
     ]
    }
   ],
   "source": [
    "similar_elements = clf_svd.find_similar(\n",
    "    query_text=\"Clicking sounds steering left and right\",\n",
    "    dataset_to_check=\"train\",\n",
    "    top=50\n",
    ")"
   ]
  },
  {
   "cell_type": "code",
   "execution_count": null,
   "metadata": {},
   "outputs": [],
   "source": [
    "c_descr = left_align(similar_elements[columns_to_inspect].head(10))"
   ]
  },
  {
   "cell_type": "code",
   "execution_count": 24,
   "metadata": {},
   "outputs": [
    {
     "data": {
      "text/html": [
       "<style type=\"text/css\">\n",
       "#T_68555 th {\n",
       "  text-align: left;\n",
       "}\n",
       "#T_68555_row0_col0, #T_68555_row0_col1, #T_68555_row0_col2, #T_68555_row1_col0, #T_68555_row1_col1, #T_68555_row1_col2, #T_68555_row2_col0, #T_68555_row2_col1, #T_68555_row2_col2, #T_68555_row3_col0, #T_68555_row3_col1, #T_68555_row3_col2, #T_68555_row4_col0, #T_68555_row4_col1, #T_68555_row4_col2, #T_68555_row5_col0, #T_68555_row5_col1, #T_68555_row5_col2, #T_68555_row6_col0, #T_68555_row6_col1, #T_68555_row6_col2, #T_68555_row7_col0, #T_68555_row7_col1, #T_68555_row7_col2, #T_68555_row8_col0, #T_68555_row8_col1, #T_68555_row8_col2, #T_68555_row9_col0, #T_68555_row9_col1, #T_68555_row9_col2 {\n",
       "  text-align: left;\n",
       "}\n",
       "</style>\n",
       "<table id=\"T_68555\">\n",
       "  <thead>\n",
       "    <tr>\n",
       "      <th class=\"blank level0\" >&nbsp;</th>\n",
       "      <th id=\"T_68555_level0_col0\" class=\"col_heading level0 col0\" >CDESCR</th>\n",
       "      <th id=\"T_68555_level0_col1\" class=\"col_heading level0 col1\" >cosine_similarities</th>\n",
       "      <th id=\"T_68555_level0_col2\" class=\"col_heading level0 col2\" >IS_COMPLAINT</th>\n",
       "    </tr>\n",
       "  </thead>\n",
       "  <tbody>\n",
       "    <tr>\n",
       "      <th id=\"T_68555_level0_row0\" class=\"row_heading level0 row0\" >5508</th>\n",
       "      <td id=\"T_68555_row0_col0\" class=\"data row0 col0\" >Steering column makes a clicking sound when steering wheel is turned right or left.</td>\n",
       "      <td id=\"T_68555_row0_col1\" class=\"data row0 col1\" >0.800408</td>\n",
       "      <td id=\"T_68555_row0_col2\" class=\"data row0 col2\" >True</td>\n",
       "    </tr>\n",
       "    <tr>\n",
       "      <th id=\"T_68555_level0_row1\" class=\"row_heading level0 row1\" >11171</th>\n",
       "      <td id=\"T_68555_row1_col0\" class=\"data row1 col0\" >While driving the steering felt stiff to turn left or right and i would hear what sounds like a screech. </td>\n",
       "      <td id=\"T_68555_row1_col1\" class=\"data row1 col1\" >0.785178</td>\n",
       "      <td id=\"T_68555_row1_col2\" class=\"data row1 col2\" >True</td>\n",
       "    </tr>\n",
       "    <tr>\n",
       "      <th id=\"T_68555_level0_row2\" class=\"row_heading level0 row2\" >10940</th>\n",
       "      <td id=\"T_68555_row2_col0\" class=\"data row2 col0\" >When turning right or left and accelerating there is a loud clicking sound as if the CV joints are bad. </td>\n",
       "      <td id=\"T_68555_row2_col1\" class=\"data row2 col1\" >0.710997</td>\n",
       "      <td id=\"T_68555_row2_col2\" class=\"data row2 col2\" >True</td>\n",
       "    </tr>\n",
       "    <tr>\n",
       "      <th id=\"T_68555_level0_row3\" class=\"row_heading level0 row3\" >9684</th>\n",
       "      <td id=\"T_68555_row3_col0\" class=\"data row3 col0\" >There is a clicking sound in the axel when making a sharp left turn.</td>\n",
       "      <td id=\"T_68555_row3_col1\" class=\"data row3 col1\" >0.690189</td>\n",
       "      <td id=\"T_68555_row3_col2\" class=\"data row3 col2\" >True</td>\n",
       "    </tr>\n",
       "    <tr>\n",
       "      <th id=\"T_68555_level0_row4\" class=\"row_heading level0 row4\" >9567</th>\n",
       "      <td id=\"T_68555_row4_col0\" class=\"data row4 col0\" >The vehicle makes a knocking sound when turning - left or right. It seems to be an axle problem. </td>\n",
       "      <td id=\"T_68555_row4_col1\" class=\"data row4 col1\" >0.688672</td>\n",
       "      <td id=\"T_68555_row4_col2\" class=\"data row4 col2\" >True</td>\n",
       "    </tr>\n",
       "    <tr>\n",
       "      <th id=\"T_68555_level0_row5\" class=\"row_heading level0 row5\" >1216</th>\n",
       "      <td id=\"T_68555_row5_col0\" class=\"data row5 col0\" >Clicking sound when making a right turn</td>\n",
       "      <td id=\"T_68555_row5_col1\" class=\"data row5 col1\" >0.682027</td>\n",
       "      <td id=\"T_68555_row5_col2\" class=\"data row5 col2\" >True</td>\n",
       "    </tr>\n",
       "    <tr>\n",
       "      <th id=\"T_68555_level0_row6\" class=\"row_heading level0 row6\" >10944</th>\n",
       "      <td id=\"T_68555_row6_col0\" class=\"data row6 col0\" >When turning sharply right and left a knocking sound occurs when accelerating. I have reproduced the sound multiple times. Service department confirms the CV joint is failing. </td>\n",
       "      <td id=\"T_68555_row6_col1\" class=\"data row6 col1\" >0.681949</td>\n",
       "      <td id=\"T_68555_row6_col2\" class=\"data row6 col2\" >True</td>\n",
       "    </tr>\n",
       "    <tr>\n",
       "      <th id=\"T_68555_level0_row7\" class=\"row_heading level0 row7\" >3758</th>\n",
       "      <td id=\"T_68555_row7_col0\" class=\"data row7 col0\" >Loud clicking from left side of the vehicle when making a right hand turn. </td>\n",
       "      <td id=\"T_68555_row7_col1\" class=\"data row7 col1\" >0.673695</td>\n",
       "      <td id=\"T_68555_row7_col2\" class=\"data row7 col2\" >True</td>\n",
       "    </tr>\n",
       "    <tr>\n",
       "      <th id=\"T_68555_level0_row8\" class=\"row_heading level0 row8\" >9707</th>\n",
       "      <td id=\"T_68555_row8_col0\" class=\"data row8 col0\" >There is a loud, audible clicking noise when turning the steering wheel to the left or to the right, regardless of speed.</td>\n",
       "      <td id=\"T_68555_row8_col1\" class=\"data row8 col1\" >0.651930</td>\n",
       "      <td id=\"T_68555_row8_col2\" class=\"data row8 col2\" >True</td>\n",
       "    </tr>\n",
       "    <tr>\n",
       "      <th id=\"T_68555_level0_row9\" class=\"row_heading level0 row9\" >3656</th>\n",
       "      <td id=\"T_68555_row9_col0\" class=\"data row9 col0\" >Knocking sound when sharp turn to the right. CV Joint?</td>\n",
       "      <td id=\"T_68555_row9_col1\" class=\"data row9 col1\" >0.644029</td>\n",
       "      <td id=\"T_68555_row9_col2\" class=\"data row9 col2\" >True</td>\n",
       "    </tr>\n",
       "  </tbody>\n",
       "</table>\n"
      ],
      "text/plain": [
       "<pandas.io.formats.style.Styler at 0x20c2c13e0e0>"
      ]
     },
     "execution_count": 24,
     "metadata": {},
     "output_type": "execute_result"
    }
   ],
   "source": [
    "c_descr"
   ]
  },
  {
   "cell_type": "code",
   "execution_count": 25,
   "metadata": {},
   "outputs": [
    {
     "name": "stderr",
     "output_type": "stream",
     "text": [
      "C:\\Users\\harri\\AppData\\Local\\Temp\\ipykernel_37020\\578085221.py:209: SettingWithCopyWarning: \n",
      "A value is trying to be set on a copy of a slice from a DataFrame.\n",
      "Try using .loc[row_indexer,col_indexer] = value instead\n",
      "\n",
      "See the caveats in the documentation: https://pandas.pydata.org/pandas-docs/stable/user_guide/indexing.html#returning-a-view-versus-a-copy\n",
      "  most_similar_elements[\"cosine_similarities\"] = cosine_similarities_query.squeeze()[most_similar_indices_query]\n"
     ]
    }
   ],
   "source": [
    "similar_elements = clf_svd.find_similar(\n",
    "    query_text=\"brake lamp stay on\",\n",
    "    dataset_to_check=\"train\",\n",
    "    top=50\n",
    ")"
   ]
  },
  {
   "cell_type": "code",
   "execution_count": 28,
   "metadata": {},
   "outputs": [
    {
     "data": {
      "text/html": [
       "<style type=\"text/css\">\n",
       "#T_6db8c th {\n",
       "  text-align: left;\n",
       "}\n",
       "#T_6db8c_row0_col0, #T_6db8c_row0_col1, #T_6db8c_row0_col2, #T_6db8c_row1_col0, #T_6db8c_row1_col1, #T_6db8c_row1_col2, #T_6db8c_row2_col0, #T_6db8c_row2_col1, #T_6db8c_row2_col2, #T_6db8c_row3_col0, #T_6db8c_row3_col1, #T_6db8c_row3_col2, #T_6db8c_row4_col0, #T_6db8c_row4_col1, #T_6db8c_row4_col2, #T_6db8c_row5_col0, #T_6db8c_row5_col1, #T_6db8c_row5_col2, #T_6db8c_row6_col0, #T_6db8c_row6_col1, #T_6db8c_row6_col2, #T_6db8c_row7_col0, #T_6db8c_row7_col1, #T_6db8c_row7_col2, #T_6db8c_row8_col0, #T_6db8c_row8_col1, #T_6db8c_row8_col2, #T_6db8c_row9_col0, #T_6db8c_row9_col1, #T_6db8c_row9_col2 {\n",
       "  text-align: left;\n",
       "}\n",
       "</style>\n",
       "<table id=\"T_6db8c\">\n",
       "  <thead>\n",
       "    <tr>\n",
       "      <th class=\"blank level0\" >&nbsp;</th>\n",
       "      <th id=\"T_6db8c_level0_col0\" class=\"col_heading level0 col0\" >CDESCR</th>\n",
       "      <th id=\"T_6db8c_level0_col1\" class=\"col_heading level0 col1\" >cosine_similarities</th>\n",
       "      <th id=\"T_6db8c_level0_col2\" class=\"col_heading level0 col2\" >IS_COMPLAINT</th>\n",
       "    </tr>\n",
       "  </thead>\n",
       "  <tbody>\n",
       "    <tr>\n",
       "      <th id=\"T_6db8c_level0_row0\" class=\"row_heading level0 row0\" >14676</th>\n",
       "      <td id=\"T_6db8c_row0_col0\" class=\"data row0 col0\" >CERTAIN PICKUP TRUCKS MAY EXPERIENCE THE PERMANENT LOSS OF BRAKE LAMP FUNCTION OR BRAKE LAMPS THAT ARE ILLUMINATED AT ALL TIMES. THE CENTER HIGH-MOUNTED STOP LAMP (CHMSL) IS AFFECTED IN BOTH INSTANCES. ALSO, IF EQUIPPED, THE CRUISE CONTROL WILL BECOME INOPERATIVE. ANY TRAILER BRAKE LAMPS WHICH ARE CONNECTED TO THE VEHICLE'S BRAKE LAMP WIRING WILL MIMIC THE VEHICLE'S BRAKE LAMPS WHEN EITHER CONDITION OCCURS.\n",
       "\n",
       " A FOLLOWING DRIVER MAY NOT KNOW WHEN THE BRAKES HAVE BEEN APPLIED, AND A REAR-END CRASH COULD OCCUR WITHOUT PRIOR WARNING.\n",
       "\n",
       " DEALERS WILL REPLACE THE BRAKE LAMP SWITCH ASSEMBLY. THE RECALL BEGAN ON DECEMBER 5, 2006. OWNERS MAY CONTACT CHEVROLET AT 1-800-630-2438; GMC AT 1-866-996-9463 OR ISUZU AT 1-800-255-6727.</td>\n",
       "      <td id=\"T_6db8c_row0_col1\" class=\"data row0 col1\" >0.852984</td>\n",
       "      <td id=\"T_6db8c_row0_col2\" class=\"data row0 col2\" >False</td>\n",
       "    </tr>\n",
       "    <tr>\n",
       "      <th id=\"T_6db8c_level0_row1\" class=\"row_heading level0 row1\" >27010</th>\n",
       "      <td id=\"T_6db8c_row1_col0\" class=\"data row1 col0\" >ON CERTAIN SEDANS AND WAGONS, THE PLASTIC HOUSING IN THE REAR TAIL LAMP ASSEMBLY CAN BECOME DISTORTED IF THE BRAKE LAMPS REMAIN ON FOR AN EXTENDED TIME.\n",
       "\n",
       " THIS CAN CAUSE (1) AN INTERMITTENTLY INOPERATIVE BRAKE/TAIL LAMP BULB OR (2) A SHORT CIRCUIT THAT OPENS A FUSE CAUSING INOPERATIVE BRAKE LAMPS (INCLUDING THE CENTER HIGH-MOUNTED STOP LAMP) OR TAIL LAMPS. A FOLLOWING DRIVER MAY NOT KNOW WHEN THE BRAKES HAVE BEEN APPLIED, AND A REAR-END CRASH COULD OCCUR WITHOUT PRIOR WARNING.\n",
       "\n",
       " DEALERS WILL INSTALL TWO NEW TAIL LAMP REINFORCING SOCKET ADAPTERS AND SOCKETS FREE OF CHARGE. THE RECALL BEGAN ON OCTOBER 17, 2005. OWNERS MAY CONTACT SATURN AT 1-800-972-8876.</td>\n",
       "      <td id=\"T_6db8c_row1_col1\" class=\"data row1 col1\" >0.767540</td>\n",
       "      <td id=\"T_6db8c_row1_col2\" class=\"data row1 col2\" >False</td>\n",
       "    </tr>\n",
       "    <tr>\n",
       "      <th id=\"T_6db8c_level0_row2\" class=\"row_heading level0 row2\" >26762</th>\n",
       "      <td id=\"T_6db8c_row2_col0\" class=\"data row2 col0\" >ON CERTAIN PASSENGER VEHICLES, THE BRAKE LAMP SWITCH MAY MALFUNCTION.\n",
       "\n",
       " IF THIS HAPPENS, THE BRAKE LAMPS COULD BECOME INOPERATIVE; OR THE LAMPS COULD COME ON AND STAY ON, EVEN THOUGH THE VEHICLE IS PARKED.\n",
       "\n",
       " DEALERS WILL INSPECT AND, IF NECESSARY, REPLACE THE BRAKE LAMP SWITCHES. OWNER NOTIFICATION BEGAN SEPTEMBER 26, 2003. OWNERS SHOULD CONTACT VWOA AT 1-800-822-8987.</td>\n",
       "      <td id=\"T_6db8c_row2_col1\" class=\"data row2 col1\" >0.764756</td>\n",
       "      <td id=\"T_6db8c_row2_col2\" class=\"data row2 col2\" >False</td>\n",
       "    </tr>\n",
       "    <tr>\n",
       "      <th id=\"T_6db8c_level0_row3\" class=\"row_heading level0 row3\" >31030</th>\n",
       "      <td id=\"T_6db8c_row3_col0\" class=\"data row3 col0\" >THE ELECTRICAL SWITCH ADJACENT TO THE BRAKE PEDAL WHICH OPERATES THE BRAKE LAMPS MAY FAIL TO OPERATE.\n",
       "\n",
       " THE BRAKE LAMPS MAY FAIL TO WORK WHEN BRAKES ARE APPLIED,INCREASING THE RISK OF REAR-END COLLISION.\n",
       "\n",
       " REPLACE THE BRAKE LAMP SWITCH WITH AN IMPROVED VERSION.</td>\n",
       "      <td id=\"T_6db8c_row3_col1\" class=\"data row3 col1\" >0.763362</td>\n",
       "      <td id=\"T_6db8c_row3_col2\" class=\"data row3 col2\" >False</td>\n",
       "    </tr>\n",
       "    <tr>\n",
       "      <th id=\"T_6db8c_level0_row4\" class=\"row_heading level0 row4\" >23522</th>\n",
       "      <td id=\"T_6db8c_row4_col0\" class=\"data row4 col0\" >MITSUBISHI IS RECALLING 21,493 MY 2007-2008 OUTLANDER VEHICLES EQUIPPED WITH LED TYPE STOP LAMPS AND DISTRIBUTED IN THE UNITED STATES AND PUERTO RICO. THE BRAKE LAMP SWITCH MAY MALFUNCTION AND CAUSE THE STOP LAMPS TO NOT ILLUMINATE DURING BRAKE APPLICATION.\n",
       "\n",
       " THE FAILURE OF THE BRAKE LAMPS TO ILLUMINATE WHEN THE BRAKES ARE APPLIED WILL NOT PROVIDE WARNING TO FOLLOWING TRAFFIC AND COULD RESULT IN A CRASH.\n",
       "\n",
       " DEALERS WILL REPLACE THE STOP LAMP SWITCH. THE RECALL IS EXPECTED TO BEGIN DURING FEBRUARY 2009. OWNERS MAY CONTACT MITSUBISHI AT 1-800-222-0037.</td>\n",
       "      <td id=\"T_6db8c_row4_col1\" class=\"data row4 col1\" >0.758827</td>\n",
       "      <td id=\"T_6db8c_row4_col2\" class=\"data row4 col2\" >False</td>\n",
       "    </tr>\n",
       "    <tr>\n",
       "      <th id=\"T_6db8c_level0_row5\" class=\"row_heading level0 row5\" >35798</th>\n",
       "      <td id=\"T_6db8c_row5_col0\" class=\"data row5 col0\" >VEHICLE DESCRIPTION: PASSENGER VEHICLES. THE BRAKE LAMP SWITCH TERMINALS COULD OVERHEAT.\n",
       "\n",
       " THIS COULD CAUSE EITHER A LOSS OF BRAKE LAMP FUNCTION OR CONTINUOUSLY ILLUMINATED BRAKE LAMPS, INCREASING THE RISK OF A CRASH.\n",
       "\n",
       " DEALERS WILL INSTALL A NEW STOP LAMP EXTENSION HARNESS WITH BRONZE TERMINALS AT THE BRAKE LAMP SWITCH CONNECTOR, AND ALSO INSPECT THE BRAKE LAMP SWITCH FOR SIGNS OF OVERHEATING AND REPLACE, AS REQUIRED. OWNER NOTIFICATION BEGAN MARCH 22, 2001. OWNERS WHO TAKE THEIR VEHICLES TO AN AUTHORIZED DEALER ON AN AGREED UPON SERVICE DATE AND DO NOT RECEIVE THE FREE REMEDY WITHIN A REASONABLE TIME SHOULD CONTACT FORD AT 1-800-392-3673.</td>\n",
       "      <td id=\"T_6db8c_row5_col1\" class=\"data row5 col1\" >0.746380</td>\n",
       "      <td id=\"T_6db8c_row5_col2\" class=\"data row5 col2\" >False</td>\n",
       "    </tr>\n",
       "    <tr>\n",
       "      <th id=\"T_6db8c_level0_row6\" class=\"row_heading level0 row6\" >17741</th>\n",
       "      <td id=\"T_6db8c_row6_col0\" class=\"data row6 col0\" >EQUIPMENT DESCRIPTION: CLEAR TAIL LAMP ASSEMBLIES WHICH WERE NOT MANUFACTURED WITH RED STOP LAMPS, TAILLAMPS, REFLEX REFLECTORS, AND SIDE MARKER LAMPS AS REQUIRED UNDER FEDERAL MOTOR VEHICLE SAFETY STANDARD NO. 108, \"LAMPS, REFLECTIVE DEVICES, AND ASSOCIATED EQUIPMENT.\"\n",
       "\n",
       " WITHOUT THE REFLECTIVE MATERIAL IN THE REAR TAIL LAMP, A VEHICLE WITH THESE LAMPS MAY NOT SEEN BY A FOLLOWING MOTORIST, INCREASING THE RISK OF A CRASH.\n",
       "\n",
       " CK MOTORING INTENDS TO NOTIFY THEIR DISTRIBUTORS OF THE NONCOMPLYING LAMPS AND INSTRUCT THEM TO RETURN THE LAMPS FOR REPLACEMENT LAMPS OR REIMBURSHMENT.</td>\n",
       "      <td id=\"T_6db8c_row6_col1\" class=\"data row6 col1\" >0.715413</td>\n",
       "      <td id=\"T_6db8c_row6_col2\" class=\"data row6 col2\" >False</td>\n",
       "    </tr>\n",
       "    <tr>\n",
       "      <th id=\"T_6db8c_level0_row7\" class=\"row_heading level0 row7\" >26763</th>\n",
       "      <td id=\"T_6db8c_row7_col0\" class=\"data row7 col0\" >ON CERTAIN PASSENGER VEHICLES, THE BRAKE LAMP SWITCH MAY MALFUNCTION.\n",
       "\n",
       " IF THIS OCCURS, THE BRAKE LIGHTS WILL NOT ILLUMINATE WHEN THE BRAKE IS APPLIED, WHICH COULD RESULT IN A CRASH. \n",
       "\n",
       " DEALERS WILL REPLACE THE BRAKE LAMP SWITCH. THE RECALL BEGAN ON OCTOBER 25, 2004. OWNERS SHOULD CONTACT INFINITI AT 1-800-662-6200. </td>\n",
       "      <td id=\"T_6db8c_row7_col1\" class=\"data row7 col1\" >0.713128</td>\n",
       "      <td id=\"T_6db8c_row7_col2\" class=\"data row7 col2\" >False</td>\n",
       "    </tr>\n",
       "    <tr>\n",
       "      <th id=\"T_6db8c_level0_row8\" class=\"row_heading level0 row8\" >35182</th>\n",
       "      <td id=\"T_6db8c_row8_col0\" class=\"data row8 col0\" >VEHICLE DESCRIPTION: MEDIUM DUTY TRUCKS EQUIPPED WITH HYDROMAX HYDRAULIC BRAKE SYSTEMS. THE PARK BRAKE WARNING LAMP CIRCUITRY DOES NOT INCLUDE A PROVISION FOR A PARK BRAKE WARNING LAMP CHECK FUNCTION. THEREFORE, THESE VEHICLES DO NOT COMPLY WITH THE REQUIREMENTS OF FMVSS NO. 105, \"HYDRAULIC BRAKE SYSTEMS.\"\n",
       "\n",
       " THE CHECK LAMP FUNCTION OF THE PARK BRAKE WARNING LAMP IS INTENDED TO ILLUMINATE THE LAMP WHEN THE IGNTION KEY IS TURNED TO THE RUN POSITION. THE PARK BRAKE WARNING LAMP CHECK FUNCTION WAS NOT INCORPORATED INTO THE MODULE WHICH CONTROLS THIS FEATURE.\n",
       "\n",
       " DEALERS WILL INSTALL A REVISED MODULE WHICH INCORPORATES THE PARK BRAKE CHECK LAMP FUNCTION.</td>\n",
       "      <td id=\"T_6db8c_row8_col1\" class=\"data row8 col1\" >0.700708</td>\n",
       "      <td id=\"T_6db8c_row8_col2\" class=\"data row8 col2\" >False</td>\n",
       "    </tr>\n",
       "    <tr>\n",
       "      <th id=\"T_6db8c_level0_row9\" class=\"row_heading level0 row9\" >29503</th>\n",
       "      <td id=\"T_6db8c_row9_col0\" class=\"data row9 col0\" >SOCKET FOR THE REAR STOP/TAIL/TURN LAMP IS STAKED INTO THE ASSEMBLY 180 DEGREES OUT OF POSITION.\n",
       "\n",
       " LAMPS FAIL THE MAXIMUM ALLOWABLE READING ABOVEHORIZONTAL FOR TAIL LAMP FUNCTION AS SPECIFIED.\n",
       "\n",
       " REPLACE DEFECTIVE TAIL LAMPS. MODELS 016519-05 AND 0016535-05</td>\n",
       "      <td id=\"T_6db8c_row9_col1\" class=\"data row9 col1\" >0.676332</td>\n",
       "      <td id=\"T_6db8c_row9_col2\" class=\"data row9 col2\" >False</td>\n",
       "    </tr>\n",
       "  </tbody>\n",
       "</table>\n"
      ],
      "text/plain": [
       "<pandas.io.formats.style.Styler at 0x20c348b6ec0>"
      ]
     },
     "execution_count": 28,
     "metadata": {},
     "output_type": "execute_result"
    }
   ],
   "source": [
    "left_align(similar_elements[columns_to_inspect].head(10))"
   ]
  },
  {
   "cell_type": "code",
   "execution_count": 32,
   "metadata": {},
   "outputs": [
    {
     "name": "stderr",
     "output_type": "stream",
     "text": [
      "C:\\Users\\harri\\AppData\\Local\\Temp\\ipykernel_37020\\578085221.py:209: SettingWithCopyWarning: \n",
      "A value is trying to be set on a copy of a slice from a DataFrame.\n",
      "Try using .loc[row_indexer,col_indexer] = value instead\n",
      "\n",
      "See the caveats in the documentation: https://pandas.pydata.org/pandas-docs/stable/user_guide/indexing.html#returning-a-view-versus-a-copy\n",
      "  most_similar_elements[\"cosine_similarities\"] = cosine_similarities_query.squeeze()[most_similar_indices_query]\n"
     ]
    }
   ],
   "source": [
    "similar_elements = clf_svd.find_similar(\n",
    "    query_text=\"air bag\",\n",
    "    dataset_to_check=\"train\",\n",
    "    top=50\n",
    ")"
   ]
  },
  {
   "cell_type": "code",
   "execution_count": 34,
   "metadata": {},
   "outputs": [
    {
     "data": {
      "text/plain": [
       "IS_COMPLAINT\n",
       "False    47\n",
       "True      3\n",
       "Name: count, dtype: int64"
      ]
     },
     "execution_count": 34,
     "metadata": {},
     "output_type": "execute_result"
    }
   ],
   "source": [
    "similar_elements[\"IS_COMPLAINT\"].value_counts()"
   ]
  },
  {
   "cell_type": "code",
   "execution_count": 35,
   "metadata": {},
   "outputs": [
    {
     "data": {
      "text/html": [
       "<style type=\"text/css\">\n",
       "#T_a4d56 th {\n",
       "  text-align: left;\n",
       "}\n",
       "#T_a4d56_row0_col0, #T_a4d56_row0_col1, #T_a4d56_row0_col2, #T_a4d56_row1_col0, #T_a4d56_row1_col1, #T_a4d56_row1_col2, #T_a4d56_row2_col0, #T_a4d56_row2_col1, #T_a4d56_row2_col2, #T_a4d56_row3_col0, #T_a4d56_row3_col1, #T_a4d56_row3_col2, #T_a4d56_row4_col0, #T_a4d56_row4_col1, #T_a4d56_row4_col2, #T_a4d56_row5_col0, #T_a4d56_row5_col1, #T_a4d56_row5_col2, #T_a4d56_row6_col0, #T_a4d56_row6_col1, #T_a4d56_row6_col2, #T_a4d56_row7_col0, #T_a4d56_row7_col1, #T_a4d56_row7_col2, #T_a4d56_row8_col0, #T_a4d56_row8_col1, #T_a4d56_row8_col2, #T_a4d56_row9_col0, #T_a4d56_row9_col1, #T_a4d56_row9_col2 {\n",
       "  text-align: left;\n",
       "}\n",
       "</style>\n",
       "<table id=\"T_a4d56\">\n",
       "  <thead>\n",
       "    <tr>\n",
       "      <th class=\"blank level0\" >&nbsp;</th>\n",
       "      <th id=\"T_a4d56_level0_col0\" class=\"col_heading level0 col0\" >CDESCR</th>\n",
       "      <th id=\"T_a4d56_level0_col1\" class=\"col_heading level0 col1\" >cosine_similarities</th>\n",
       "      <th id=\"T_a4d56_level0_col2\" class=\"col_heading level0 col2\" >IS_COMPLAINT</th>\n",
       "    </tr>\n",
       "  </thead>\n",
       "  <tbody>\n",
       "    <tr>\n",
       "      <th id=\"T_a4d56_level0_row0\" class=\"row_heading level0 row0\" >27793</th>\n",
       "      <td id=\"T_a4d56_row0_col0\" class=\"data row0 col0\" >ON CERTAIN VEHICLES, DUE TO IMPROPER ASSEMBLY OF THE AIR BAG INFLATOR, WHICH IS USED IN THE SIDE AIR BAG, THE CURTAIN SHIELD AIR BAG, AND THE KNEE AIR BAG ASSEMBLY, SOME INFLATORS WERE PRODUCED WITH AN INSUFFICIENT AMOUNT OF THE HEATING AGENTS NECESSARY FOR PROPER AIR BAG DEPLOYMENT. IN THIS CONDITION, THE EXPANSION FORCE OF THE GAS MAY BE INSUFFICIENT TO PROPERLY INFLATE THE AIR BAG WHEN THE SRS SYSTEM IS ACTIVATED DURING A CRASH.\n",
       "\n",
       " THIS MAY INCREASE THE RISK OF INJURY TO THE OCCUPANT IN THE INVOLVED SEATING POSITION IN THE EVENT OF A CRASH.\n",
       "\n",
       " DEALERS WILL REPLACE THE SPECIFIC SRS AIR BAG. THE RECALL BEGAN ON APRIL 6, 2006. OWNERS MAY CONTACT TOYOTA AT 1-888-270-9371, SCION AT 1-866-548-1851, OR LEXUS AT 1-800-255-3987.</td>\n",
       "      <td id=\"T_a4d56_row0_col1\" class=\"data row0 col1\" >0.856660</td>\n",
       "      <td id=\"T_a4d56_row0_col2\" class=\"data row0 col2\" >False</td>\n",
       "    </tr>\n",
       "    <tr>\n",
       "      <th id=\"T_a4d56_level0_row1\" class=\"row_heading level0 row1\" >35754</th>\n",
       "      <td id=\"T_a4d56_row1_col0\" class=\"data row1 col0\" >VEHICLE DESCRIPTION: PASSENGER VEHICLES. PASSENGER AIR BAGS WERE BUILT WITH SUSPECT ALUMINUM EXTRUSION SECTIONS WHICH MAY NOT RETAIN THE AIR BAG DOOR DURING AN AIR BAG DEPLOYMENT EVENT.\n",
       "\n",
       " A SEPARATED AIR BAG DOOR COULD INJURE A VEHICLE OCCUPANT.\n",
       "\n",
       " DEALERS WILL REPLACE THE PASSENGER SIDE AIR BAG.</td>\n",
       "      <td id=\"T_a4d56_row1_col1\" class=\"data row1 col1\" >0.855882</td>\n",
       "      <td id=\"T_a4d56_row1_col2\" class=\"data row1 col2\" >False</td>\n",
       "    </tr>\n",
       "    <tr>\n",
       "      <th id=\"T_a4d56_level0_row2\" class=\"row_heading level0 row2\" >22639</th>\n",
       "      <td id=\"T_a4d56_row2_col0\" class=\"data row2 col0\" >Key Safety Systems, Inc. (KSS) is recalling certain Driver Frontal Air Bags, model ADI Dual, manufactured May 6, 2007, to January 29, 2016. These air bags may be missing a chemical enhancer required for the second stage deployment, resulting in the second stage deploying improperly in certain crashes.\n",
       "\n",
       " An air bag that inflates improperly increases the risk of injury.\n",
       "\n",
       " KSS will notify the vehicle manufacturers that purchased the affected air bags, and those manufacturers will notify owners and their dealers will replace the air bag module, free of charge. The recall began on April 1 2016. Owners may contact KSS customer service at 1-586-726-3800. </td>\n",
       "      <td id=\"T_a4d56_row2_col1\" class=\"data row2 col1\" >0.840981</td>\n",
       "      <td id=\"T_a4d56_row2_col2\" class=\"data row2 col2\" >False</td>\n",
       "    </tr>\n",
       "    <tr>\n",
       "      <th id=\"T_a4d56_level0_row3\" class=\"row_heading level0 row3\" >25215</th>\n",
       "      <td id=\"T_a4d56_row3_col0\" class=\"data row3 col0\" >Nissan North America, Inc. (INFINITI) is recalling certain 2003 INFINITI FX35, 2006-2008 FX35 and FX45 vehicles that previously received a replacement front passenger air bag assembly under recall number 20V-008. The air bag cushion was folded incorrectly, which could increase internal pressure and tear the air bag cushion during deployment.\n",
       "\n",
       " A tear in the air bag may decrease air bag performance, and increase the risk of injury.\n",
       "\n",
       " INFINITI will notify owners, and dealers will replace the front passenger air bag module, free of charge. The recall began on April 19, 2021. Owners may contact INFINITI customer service at 1-800-662-6200. INFINITI's number for this recall is R20C2.</td>\n",
       "      <td id=\"T_a4d56_row3_col1\" class=\"data row3 col1\" >0.839632</td>\n",
       "      <td id=\"T_a4d56_row3_col2\" class=\"data row3 col2\" >False</td>\n",
       "    </tr>\n",
       "    <tr>\n",
       "      <th id=\"T_a4d56_level0_row4\" class=\"row_heading level0 row4\" >22637</th>\n",
       "      <td id=\"T_a4d56_row4_col0\" class=\"data row4 col0\" >Key Safety Systems, Inc. (DBA Joyson) is recalling certain Curtain Air Bag Inflators, model HPH-A, and part numbers 2546178-AD, 2546179-AD, 2546180-AD, and 2546219-AE. The air bag inflators may have been manufactured with the incorrect amount of compressed gas, which could result in an improper air bag deployment.\n",
       "\n",
       " An air bag that deploys improperly can increase the risk of injury in a crash.\n",
       "\n",
       " Joyson will work with the affected vehicle manufacturers to replace the curtain air bag module, free of charge. Ram owners may contact FCA US, LLC customer service at 1-800-853-1403. Joyson's number for this recall is QN 22774.</td>\n",
       "      <td id=\"T_a4d56_row4_col1\" class=\"data row4 col1\" >0.825587</td>\n",
       "      <td id=\"T_a4d56_row4_col2\" class=\"data row4 col2\" >False</td>\n",
       "    </tr>\n",
       "    <tr>\n",
       "      <th id=\"T_a4d56_level0_row5\" class=\"row_heading level0 row5\" >21526</th>\n",
       "      <td id=\"T_a4d56_row5_col0\" class=\"data row5 col0\" >IF THE AIR BAG COMPUTER IN A SUBJECT VEHICLE EXPERIENCES A MECHANICAL SHOCK (I.E., RAPIDLY MOVING THE FRONT SEAT BACK AGAINST THE STOPS OR A SUDDEN RELEASE OF THE PARKING BRAKE) WITHIN A VERY SHORT TIME AFTER THE ENGINE IS STARTED, THE AIR BAG CAN DEPLOY INADVERTENTLY.\n",
       "\n",
       " UNEXPECTED AIR BAG DEPLOYMENT CAN RESULT IN OCCUPANT INJURY.\n",
       "\n",
       " DEALERS WILL REPAIR THE AIR BAG COMPUTER.</td>\n",
       "      <td id=\"T_a4d56_row5_col1\" class=\"data row5 col1\" >0.825397</td>\n",
       "      <td id=\"T_a4d56_row5_col2\" class=\"data row5 col2\" >False</td>\n",
       "    </tr>\n",
       "    <tr>\n",
       "      <th id=\"T_a4d56_level0_row6\" class=\"row_heading level0 row6\" >11959</th>\n",
       "      <td id=\"T_a4d56_row6_col0\" class=\"data row6 col0\" >AIR BAG INFLATOR CASE WAS INCORRECTLY MACHINED.\n",
       "\n",
       " IN AN ACCIDENT, THE AIR BAG MAY NOT DEPLOY, WHICH COULD RESULT IN INCREASED INJURY TO THE DRIVER.\n",
       "\n",
       " REPLACE AIR BAG INFLATOR UNIT.</td>\n",
       "      <td id=\"T_a4d56_row6_col1\" class=\"data row6 col1\" >0.822736</td>\n",
       "      <td id=\"T_a4d56_row6_col2\" class=\"data row6 col2\" >False</td>\n",
       "    </tr>\n",
       "    <tr>\n",
       "      <th id=\"T_a4d56_level0_row7\" class=\"row_heading level0 row7\" >2815</th>\n",
       "      <td id=\"T_a4d56_row7_col0\" class=\"data row7 col0\" >I have read of several air bag recalls. This car has an air bag light that comes on the dash. </td>\n",
       "      <td id=\"T_a4d56_row7_col1\" class=\"data row7 col1\" >0.816937</td>\n",
       "      <td id=\"T_a4d56_row7_col2\" class=\"data row7 col2\" >True</td>\n",
       "    </tr>\n",
       "    <tr>\n",
       "      <th id=\"T_a4d56_level0_row8\" class=\"row_heading level0 row8\" >22589</th>\n",
       "      <td id=\"T_a4d56_row8_col0\" class=\"data row8 col0\" >Karma Automotive LLC (Karma) is recalling certain 2018 Revero vehicles. In the event of a crash, the side curtain/head protection air bags may partially detach from the inflator during air bag deployment, affecting the performance of the air bags. As such, these vehicles fail to comply with the requirements of Federal Motor Vehicle Safety Standard (FMVSS) number 226, \"Ejection Mitigation.\"\n",
       "\n",
       " If the air bag are not fully connected to the inflator, the air bags may not inflate properly, increasing the risk of injury in the event of a crash.\n",
       "\n",
       " Karma will notify owners, and dealers will install new side curtain/head protection air bags that have an additional clamp on the air bag to secure it to the inflator, free of charge. The recall is expected to begin April 17, 2018. Owners may contact Karma customer service at 1-855-288-6109. Karma's number for this recall is RC-18-84-01.</td>\n",
       "      <td id=\"T_a4d56_row8_col1\" class=\"data row8 col1\" >0.809041</td>\n",
       "      <td id=\"T_a4d56_row8_col2\" class=\"data row8 col2\" >False</td>\n",
       "    </tr>\n",
       "    <tr>\n",
       "      <th id=\"T_a4d56_level0_row9\" class=\"row_heading level0 row9\" >35744</th>\n",
       "      <td id=\"T_a4d56_row9_col0\" class=\"data row9 col0\" >VEHICLE DESCRIPTION: PASSENGER VEHICLES. MITSUBISHI CARIBBEAN HAD REPLACED THE ORIGINAL FACTORY INSTALLED MOUNTING BRACKET BOLTS OF BOTH DRIVER AND PASSENGER AIR BAGS WITH ALUMINUM RIVETS. AFTER AIR BAG DEPLOYMENT, THE RIVETS CAN LOOSEN OR BREAK, CAUSING PARTIAL OR TOTAL DISPLACEMENT OF THE AIR BAG MODULES.\n",
       "\n",
       " THE AIR BAG MODULE COULD SEPARATE FROM THE STEERING WHEEL AFTER AN AIR BAG ACTIVATION, INCREASING THE RISK OF PERSONAL INJURY TO THE SEAT OCCUPANT.\n",
       "\n",
       " DEALERS WILL REPLACE THESE RIVETS WITH ORIGINAL FACTORY BOLTS.</td>\n",
       "      <td id=\"T_a4d56_row9_col1\" class=\"data row9 col1\" >0.802161</td>\n",
       "      <td id=\"T_a4d56_row9_col2\" class=\"data row9 col2\" >False</td>\n",
       "    </tr>\n",
       "  </tbody>\n",
       "</table>\n"
      ],
      "text/plain": [
       "<pandas.io.formats.style.Styler at 0x20c348b7f10>"
      ]
     },
     "execution_count": 35,
     "metadata": {},
     "output_type": "execute_result"
    }
   ],
   "source": [
    "left_align(similar_elements[columns_to_inspect].head(10))"
   ]
  },
  {
   "cell_type": "code",
   "execution_count": 53,
   "metadata": {},
   "outputs": [
    {
     "name": "stdout",
     "output_type": "stream",
     "text": [
      "CPU times: total: 125 ms\n",
      "Wall time: 123 ms\n"
     ]
    },
    {
     "name": "stderr",
     "output_type": "stream",
     "text": [
      "C:\\Users\\harri\\AppData\\Local\\Temp\\ipykernel_37020\\578085221.py:209: SettingWithCopyWarning: \n",
      "A value is trying to be set on a copy of a slice from a DataFrame.\n",
      "Try using .loc[row_indexer,col_indexer] = value instead\n",
      "\n",
      "See the caveats in the documentation: https://pandas.pydata.org/pandas-docs/stable/user_guide/indexing.html#returning-a-view-versus-a-copy\n",
      "  most_similar_elements[\"cosine_similarities\"] = cosine_similarities_query.squeeze()[most_similar_indices_query]\n"
     ]
    }
   ],
   "source": [
    "%%time\n",
    "similar_elements = clf_svd.find_similar(\n",
    "    query_text=\"bad smell in car. Rubber\",\n",
    "    dataset_to_check=\"train\",\n",
    "    top=50\n",
    ")"
   ]
  },
  {
   "cell_type": "code",
   "execution_count": 37,
   "metadata": {},
   "outputs": [
    {
     "data": {
      "text/html": [
       "<style type=\"text/css\">\n",
       "#T_47818 th {\n",
       "  text-align: left;\n",
       "}\n",
       "#T_47818_row0_col0, #T_47818_row0_col1, #T_47818_row0_col2, #T_47818_row1_col0, #T_47818_row1_col1, #T_47818_row1_col2, #T_47818_row2_col0, #T_47818_row2_col1, #T_47818_row2_col2, #T_47818_row3_col0, #T_47818_row3_col1, #T_47818_row3_col2, #T_47818_row4_col0, #T_47818_row4_col1, #T_47818_row4_col2, #T_47818_row5_col0, #T_47818_row5_col1, #T_47818_row5_col2, #T_47818_row6_col0, #T_47818_row6_col1, #T_47818_row6_col2, #T_47818_row7_col0, #T_47818_row7_col1, #T_47818_row7_col2, #T_47818_row8_col0, #T_47818_row8_col1, #T_47818_row8_col2, #T_47818_row9_col0, #T_47818_row9_col1, #T_47818_row9_col2 {\n",
       "  text-align: left;\n",
       "}\n",
       "</style>\n",
       "<table id=\"T_47818\">\n",
       "  <thead>\n",
       "    <tr>\n",
       "      <th class=\"blank level0\" >&nbsp;</th>\n",
       "      <th id=\"T_47818_level0_col0\" class=\"col_heading level0 col0\" >CDESCR</th>\n",
       "      <th id=\"T_47818_level0_col1\" class=\"col_heading level0 col1\" >cosine_similarities</th>\n",
       "      <th id=\"T_47818_level0_col2\" class=\"col_heading level0 col2\" >IS_COMPLAINT</th>\n",
       "    </tr>\n",
       "  </thead>\n",
       "  <tbody>\n",
       "    <tr>\n",
       "      <th id=\"T_47818_level0_row0\" class=\"row_heading level0 row0\" >2607</th>\n",
       "      <td id=\"T_47818_row0_col0\" class=\"data row0 col0\" >I feel there was intentional odometer tampering done on my car</td>\n",
       "      <td id=\"T_47818_row0_col1\" class=\"data row0 col1\" >0.644674</td>\n",
       "      <td id=\"T_47818_row0_col2\" class=\"data row0 col2\" >True</td>\n",
       "    </tr>\n",
       "    <tr>\n",
       "      <th id=\"T_47818_level0_row1\" class=\"row_heading level0 row1\" >4718</th>\n",
       "      <td id=\"T_47818_row1_col0\" class=\"data row1 col0\" >On [XXX], with the wife and 3 grandkids in the car, as we made a left turn and were picking up speed suddenly the car downshifted to first gear. This jerked the whole car whipping the necks of everybody in the car and drastically slowed the car. Fortunately, the guy behind me did not rear end me, but almost. This scared us all. The car recovered and we proceeded the 15 miles home but several times the transmission seemed to have trouble finding the right gear. There were no lights or warnings on the dash. My wife said she would not drive the car any more. We parked the car until Monday, January 6. I drove the car to Tracey Langston Ford in Springfield and they have said I need a new transmission. This is a $6,700 repair out of my pocket. They have said they will reduce it to $6,000. Meanwhile, I still do not have the car and we have made it with one car for over 2 and one half weeks. </td>\n",
       "      <td id=\"T_47818_row1_col1\" class=\"data row1 col1\" >0.627163</td>\n",
       "      <td id=\"T_47818_row1_col2\" class=\"data row1 col2\" >True</td>\n",
       "    </tr>\n",
       "    <tr>\n",
       "      <th id=\"T_47818_level0_row2\" class=\"row_heading level0 row2\" >5082</th>\n",
       "      <td id=\"T_47818_row2_col0\" class=\"data row2 col0\" >Randomly, my car will start throwing many warning signs when I crank my car. Then it magically disappears after 2 days. Also I drive my car past 40mph and the engine light came on and then I could no longer accelerate. My car was slowing down while I was on the freeway. I pulled over, turned my car off then back on. Everything is back to normal. Next day, I crank my car, warning signs again and then disappears. I took my car to the auto shop and they could not find any codes. I have videos and pictures. There’s also a Honda Facebook group with my same model car reporting the same behavior.</td>\n",
       "      <td id=\"T_47818_row2_col1\" class=\"data row2 col1\" >0.607167</td>\n",
       "      <td id=\"T_47818_row2_col2\" class=\"data row2 col2\" >True</td>\n",
       "    </tr>\n",
       "    <tr>\n",
       "      <th id=\"T_47818_level0_row3\" class=\"row_heading level0 row3\" >9695</th>\n",
       "      <td id=\"T_47818_row3_col0\" class=\"data row3 col0\" >There is a fuel smell in the car, for the first 1/4 tank of gas. The smell is really bad in the back seat. After the car is under 1/2 tank the fuel odor begins to subside. Passengers in car begin to have headaches and upset stomachs. After veiwing other chrysler forum's - I believe this to be common with this style of car and an extreme Safety issue</td>\n",
       "      <td id=\"T_47818_row3_col1\" class=\"data row3 col1\" >0.591367</td>\n",
       "      <td id=\"T_47818_row3_col2\" class=\"data row3 col2\" >True</td>\n",
       "    </tr>\n",
       "    <tr>\n",
       "      <th id=\"T_47818_level0_row4\" class=\"row_heading level0 row4\" >5976</th>\n",
       "      <td id=\"T_47818_row4_col0\" class=\"data row4 col0\" >The car was advertised at 312miles on the battery. It is 265. The charging takes 45 to hr and I was lied to about the mileage overage and the ability to purchase the car. This car isn't as advertised. I reached out to tesla and they do t offer any solution. I was scammed. I want to return the car. The tires do t last as the cars are too heavy. If the tires don't last 1 yr that's a defect. </td>\n",
       "      <td id=\"T_47818_row4_col1\" class=\"data row4 col1\" >0.583635</td>\n",
       "      <td id=\"T_47818_row4_col2\" class=\"data row4 col2\" >True</td>\n",
       "    </tr>\n",
       "    <tr>\n",
       "      <th id=\"T_47818_level0_row5\" class=\"row_heading level0 row5\" >3947</th>\n",
       "      <td id=\"T_47818_row5_col0\" class=\"data row5 col0\" >My 2024 Ford Scape is vibrating shaking to bad on driving at any speed, as well turn off in middle of road after I stoped. I had brought to the dealer shop unssuccessfull because they dont want take care of my car, they said it was caused because I did not let the car get warm enought, but I let the car on 20 min before drive. My car have only 3,500 miles only. </td>\n",
       "      <td id=\"T_47818_row5_col1\" class=\"data row5 col1\" >0.576476</td>\n",
       "      <td id=\"T_47818_row5_col2\" class=\"data row5 col2\" >True</td>\n",
       "    </tr>\n",
       "    <tr>\n",
       "      <th id=\"T_47818_level0_row6\" class=\"row_heading level0 row6\" >1164</th>\n",
       "      <td id=\"T_47818_row6_col0\" class=\"data row6 col0\" >Cars door handles regularly don’t work locking me out of car and sometimes in car. Emergency breaking is regularly disabled by car for no apparent reason.</td>\n",
       "      <td id=\"T_47818_row6_col1\" class=\"data row6 col1\" >0.575413</td>\n",
       "      <td id=\"T_47818_row6_col2\" class=\"data row6 col2\" >True</td>\n",
       "    </tr>\n",
       "    <tr>\n",
       "      <th id=\"T_47818_level0_row7\" class=\"row_heading level0 row7\" >10979</th>\n",
       "      <td id=\"T_47818_row7_col0\" class=\"data row7 col0\" >While Driving sometimes car comes to a slow paste like it wants to stall I have to take my foot off gas paddle and put my foot back on again for car to accelerate and speed up again I am also noticing this when I turn my headlights on while car is driving. Recently had car engine light come on and car had to be towed to a mechanic. Car was fix where light was gone but I am still having the problem with the car wanting to stall while driving.Took it to dealer who said they saw nothing wrong because no check light was on but the problem for me still is there as of this morning 1/12/2024</td>\n",
       "      <td id=\"T_47818_row7_col1\" class=\"data row7 col1\" >0.570003</td>\n",
       "      <td id=\"T_47818_row7_col2\" class=\"data row7 col2\" >True</td>\n",
       "    </tr>\n",
       "    <tr>\n",
       "      <th id=\"T_47818_level0_row8\" class=\"row_heading level0 row8\" >2519</th>\n",
       "      <td id=\"T_47818_row8_col0\" class=\"data row8 col0\" >I bought Prologue ELITE AWD on January 31st 2025 and drove 1000 miles. The steering is very stiff and makes squeaking noise while parking and turning. This sound is audible while the car is going slow; however, when the car speed is above 20 mph we may not hear, but my guess is it still there. If this fails during sharp turns, there is chance of damaging my own car and even other cars putting others and myself into safety risk. There are no warning lamps and messages. The problem first appeared after 5-7 days after the purchase; however, I thought the car is new and being adjusted for the ride with the huge 21 inch tires it has. Additionally, the car has problem with suspension, after a ride and when placing it in park mode, the suspension of the car swings enabling the car to move forward and backward possibly hitting the car infront or back damaging the other cars too.</td>\n",
       "      <td id=\"T_47818_row8_col1\" class=\"data row8 col1\" >0.567949</td>\n",
       "      <td id=\"T_47818_row8_col2\" class=\"data row8 col2\" >True</td>\n",
       "    </tr>\n",
       "    <tr>\n",
       "      <th id=\"T_47818_level0_row9\" class=\"row_heading level0 row9\" >508</th>\n",
       "      <td id=\"T_47818_row9_col0\" class=\"data row9 col0\" >AT AROUND 5AM ON FEBRUAURY 7, 2025 I WAS AWOKE BY MY ROOMMATE SCREAMING MY CAR WAS ON FIRE. WHEN I WENT OUTSIDE I SEEN MY NEIGHBOR AND ROOMMATE ATTEMPTING TO PUT OUT A FIRE IN THE ENGINE OF MY CAR. MY CAR HAD BEEN PARKED FOR AT LEAST 5 HOURS AND WAS NOT RUNNING. MY NEIGHBOR STATED THAT HE LOOKED OUT HIS WINDOW AND SAW FLAMES AND RAN ACROSS THE STREET WHERE HE STARTED TO EXTINGUISH THE FIRE WITH MY WATER HOSE UNTIL FIRE AND POLICE ASSISTANCE ARRIVED. THERE WAS NO ONE IN THE CAR, OR AROUND THE CAR, THE FIRE SPONTANEOUSLY STARTED. I HAD NO PRIOR WARNINGS THAT WOULD BE CAUSE FOR CONCERN OF AN ENGINE FIRE. THE CAR BURNT TO TOTAL DESTRUCTION. IT IS LOCATED AT MY ADDRESS. IT IS AVAILABLE FOR INSPECTION ON REQUEST. I AM FINANCING THE CAR FROM SHAWS AUTO SINCE 08/23/2024. SHAWS AUTO HAS BEEN NOTIFIED OF THE INCIDENT. THE FIREMEN STATED THAT IT WAS CAUSED BY A MANUFACTURER DEFECT. I AM UPLOADING PICTURES OF MY CAR. I AM STILL ACQUIRING OFFICIAL INCIDENT REPORTS. ATTEMPTED TO UPLOAD PHOTOS OF VEHICLE POST FIRE BUT TO NO AVAIL. THIS INCIDENT HAS TAKEN A SIGNIFICANT AMOUNT OF MENTAL, PHYSICAL, AND SPIRITUAL ENERGY IN ORDER FOR ME TO STAY INTACT. THIS IS MY FIRST OPPORTUNITY AT BUYING A NEWER CAR THAT I WAS UNDER THE EXPECTATION THAT I WOULDNT BE UNDER CONSTANT WORRY THAT SOMETHING WAS GOING TO GO WRONG WITH MY CAR COSTING ME MONEY I DONT HAVE. I NEWER CAR SHOULDVE BROUGHT ME AT LEAST A FEW YEARS USE BEFORE CONCERN FOR ANY KIND OF WEAR AND TEAR ISSUES ARISE. THIS ENGINE FIRE WAS NOT MY FAULT OR CAUSE THEREFORE I SHOULD BE COMPENSATED WITH A CAR OF WHICH ICAN RELY ON. I WAS NEVER NOTIFIED OF ANY RECALLS ON MY CAR AND WAS NOT AWARE OF ANY UNTIL AFTER THE FIRE. HAD I KNOWN THERE WAS AN URGENT RECALL I WOULD HAVE CORRECTED IT.</td>\n",
       "      <td id=\"T_47818_row9_col1\" class=\"data row9 col1\" >0.567452</td>\n",
       "      <td id=\"T_47818_row9_col2\" class=\"data row9 col2\" >True</td>\n",
       "    </tr>\n",
       "  </tbody>\n",
       "</table>\n"
      ],
      "text/plain": [
       "<pandas.io.formats.style.Styler at 0x20c36b6b820>"
      ]
     },
     "execution_count": 37,
     "metadata": {},
     "output_type": "execute_result"
    }
   ],
   "source": [
    "left_align(similar_elements[columns_to_inspect].head(10))"
   ]
  },
  {
   "cell_type": "markdown",
   "metadata": {},
   "source": [
    "This does not make sense at all."
   ]
  },
  {
   "cell_type": "code",
   "execution_count": 52,
   "metadata": {},
   "outputs": [
    {
     "name": "stdout",
     "output_type": "stream",
     "text": [
      "CPU times: total: 109 ms\n",
      "Wall time: 116 ms\n"
     ]
    },
    {
     "name": "stderr",
     "output_type": "stream",
     "text": [
      "C:\\Users\\harri\\AppData\\Local\\Temp\\ipykernel_37020\\578085221.py:209: SettingWithCopyWarning: \n",
      "A value is trying to be set on a copy of a slice from a DataFrame.\n",
      "Try using .loc[row_indexer,col_indexer] = value instead\n",
      "\n",
      "See the caveats in the documentation: https://pandas.pydata.org/pandas-docs/stable/user_guide/indexing.html#returning-a-view-versus-a-copy\n",
      "  most_similar_elements[\"cosine_similarities\"] = cosine_similarities_query.squeeze()[most_similar_indices_query]\n"
     ]
    }
   ],
   "source": [
    "%%time\n",
    "similar_elements = clf_svd.find_similar(\n",
    "    query_text=\"Door has trouble opening and closing\",\n",
    "    dataset_to_check=\"train\",\n",
    "    top=50\n",
    ")"
   ]
  },
  {
   "cell_type": "code",
   "execution_count": 39,
   "metadata": {},
   "outputs": [
    {
     "data": {
      "text/html": [
       "<style type=\"text/css\">\n",
       "#T_95b03 th {\n",
       "  text-align: left;\n",
       "}\n",
       "#T_95b03_row0_col0, #T_95b03_row0_col1, #T_95b03_row0_col2, #T_95b03_row1_col0, #T_95b03_row1_col1, #T_95b03_row1_col2, #T_95b03_row2_col0, #T_95b03_row2_col1, #T_95b03_row2_col2, #T_95b03_row3_col0, #T_95b03_row3_col1, #T_95b03_row3_col2, #T_95b03_row4_col0, #T_95b03_row4_col1, #T_95b03_row4_col2, #T_95b03_row5_col0, #T_95b03_row5_col1, #T_95b03_row5_col2, #T_95b03_row6_col0, #T_95b03_row6_col1, #T_95b03_row6_col2, #T_95b03_row7_col0, #T_95b03_row7_col1, #T_95b03_row7_col2, #T_95b03_row8_col0, #T_95b03_row8_col1, #T_95b03_row8_col2, #T_95b03_row9_col0, #T_95b03_row9_col1, #T_95b03_row9_col2 {\n",
       "  text-align: left;\n",
       "}\n",
       "</style>\n",
       "<table id=\"T_95b03\">\n",
       "  <thead>\n",
       "    <tr>\n",
       "      <th class=\"blank level0\" >&nbsp;</th>\n",
       "      <th id=\"T_95b03_level0_col0\" class=\"col_heading level0 col0\" >CDESCR</th>\n",
       "      <th id=\"T_95b03_level0_col1\" class=\"col_heading level0 col1\" >cosine_similarities</th>\n",
       "      <th id=\"T_95b03_level0_col2\" class=\"col_heading level0 col2\" >IS_COMPLAINT</th>\n",
       "    </tr>\n",
       "  </thead>\n",
       "  <tbody>\n",
       "    <tr>\n",
       "      <th id=\"T_95b03_level0_row0\" class=\"row_heading level0 row0\" >10860</th>\n",
       "      <td id=\"T_95b03_row0_col0\" class=\"data row0 col0\" >When it gets close to negative temps the door locks won’t work to close the door and the door won’t actually close. I can’t drive with me door open. I have had the recall and door were fixed 2021 and it is a occurred event </td>\n",
       "      <td id=\"T_95b03_row0_col1\" class=\"data row0 col1\" >0.840672</td>\n",
       "      <td id=\"T_95b03_row0_col2\" class=\"data row0 col2\" >True</td>\n",
       "    </tr>\n",
       "    <tr>\n",
       "      <th id=\"T_95b03_level0_row1\" class=\"row_heading level0 row1\" >4856</th>\n",
       "      <td id=\"T_95b03_row1_col0\" class=\"data row1 col0\" >PASSANGER DOOR LATCH- DOOR OPENED WHILE DRIVING, WILL NOT STAY CLOSED CHECKED SAID RECALL WAS REPAIRED IN 2006, LATCH IN NOT CLOSING</td>\n",
       "      <td id=\"T_95b03_row1_col1\" class=\"data row1 col1\" >0.804851</td>\n",
       "      <td id=\"T_95b03_row1_col2\" class=\"data row1 col2\" >True</td>\n",
       "    </tr>\n",
       "    <tr>\n",
       "      <th id=\"T_95b03_level0_row2\" class=\"row_heading level0 row2\" >3733</th>\n",
       "      <td id=\"T_95b03_row2_col0\" class=\"data row2 col0\" >Loaded children into second row of vehicle, confirmed all doors closed. Began driving, passenger rear door swung open. Child DID NOT engage door handle. Pulled over to attempt to close door. Door latch would not engage, could not close or lock door. Still unable to close and lock door.</td>\n",
       "      <td id=\"T_95b03_row2_col1\" class=\"data row2 col1\" >0.793091</td>\n",
       "      <td id=\"T_95b03_row2_col2\" class=\"data row2 col2\" >True</td>\n",
       "    </tr>\n",
       "    <tr>\n",
       "      <th id=\"T_95b03_level0_row3\" class=\"row_heading level0 row3\" >924</th>\n",
       "      <td id=\"T_95b03_row3_col0\" class=\"data row3 col0\" >Both sliding doors are not opening from the inside or outside </td>\n",
       "      <td id=\"T_95b03_row3_col1\" class=\"data row3 col1\" >0.781029</td>\n",
       "      <td id=\"T_95b03_row3_col2\" class=\"data row3 col2\" >True</td>\n",
       "    </tr>\n",
       "    <tr>\n",
       "      <th id=\"T_95b03_level0_row4\" class=\"row_heading level0 row4\" >8848</th>\n",
       "      <td id=\"T_95b03_row4_col0\" class=\"data row4 col0\" >The doors do not properly latch in cold weather. Yes available for inspection. The door came open while we driving down the road. The dash light came on indicating door was ajar. Door was not able to be closed after repeated attempts of closing. Passenger has to hold the door closed. Same occurrence happened to the driver side door and it would not latch so the vehicle couldn’t be used that day otherwise driver would have to hold door closed. </td>\n",
       "      <td id=\"T_95b03_row4_col1\" class=\"data row4 col1\" >0.764189</td>\n",
       "      <td id=\"T_95b03_row4_col2\" class=\"data row4 col2\" >True</td>\n",
       "    </tr>\n",
       "    <tr>\n",
       "      <th id=\"T_95b03_level0_row5\" class=\"row_heading level0 row5\" >11887</th>\n",
       "      <td id=\"T_95b03_row5_col0\" class=\"data row5 col0\" >A WELD IN THE DOOR LOCK ASSEMBLY USED ON REAR AND/OR SIDE EMERGENCY DOORS CAN BE OVERSTRESSED AND BREAK. WHEN THIS OCCURS, A CLOSED DOOR CANNOT BE OPENED, OR IF OPEN IT CANNOT BE LATCHED.\n",
       "\n",
       " AN EMERGENCY DOOR THAT WILL NOT OPEN PRESENTS ANINCREASED RISK OF INJURY TO PASSENGERS ATTEMPTING TO LEAVE A BUS IN ANEMERGENCY SITUATION. A DOOR LOCK WHICH WILL NOT CLOSE PRESENTS A RISK OF APASSENGER ACCIDENTALLY FALLING OUT OF THE BUS.\n",
       "\n",
       " REPLACE THE DEFECTIVE DOOR LOCKS.</td>\n",
       "      <td id=\"T_95b03_row5_col1\" class=\"data row5 col1\" >0.764075</td>\n",
       "      <td id=\"T_95b03_row5_col2\" class=\"data row5 col2\" >False</td>\n",
       "    </tr>\n",
       "    <tr>\n",
       "      <th id=\"T_95b03_level0_row6\" class=\"row_heading level0 row6\" >1608</th>\n",
       "      <td id=\"T_95b03_row6_col0\" class=\"data row6 col0\" >Due to the freezing (around 20 degrees F) temperatures, the latch of the front-driver’s side door was frozen and was unable to close. The door would initially open, but any attempt to close it afterwards became unsuccessful.</td>\n",
       "      <td id=\"T_95b03_row6_col1\" class=\"data row6 col1\" >0.763890</td>\n",
       "      <td id=\"T_95b03_row6_col2\" class=\"data row6 col2\" >True</td>\n",
       "    </tr>\n",
       "    <tr>\n",
       "      <th id=\"T_95b03_level0_row7\" class=\"row_heading level0 row7\" >920</th>\n",
       "      <td id=\"T_95b03_row7_col0\" class=\"data row7 col0\" >Both passenger sliding doors will not open when vehicle is running or turned off. Manually trying to open the doors will not work as well. </td>\n",
       "      <td id=\"T_95b03_row7_col1\" class=\"data row7 col1\" >0.750867</td>\n",
       "      <td id=\"T_95b03_row7_col2\" class=\"data row7 col2\" >True</td>\n",
       "    </tr>\n",
       "    <tr>\n",
       "      <th id=\"T_95b03_level0_row8\" class=\"row_heading level0 row8\" >922</th>\n",
       "      <td id=\"T_95b03_row8_col0\" class=\"data row8 col0\" >Both rear doors would not open from the outside or inside. They were not locked. They just would not open using the handle inside, trying to pull up on the lock mechanism and unlocking and locking numerous times. The doors would still not open. A child and a dog were in the back seat. I could not access them from the doors had to bring them through the front of the vehicle, which was very difficult. Periodically one door will be OK to open, the next day the door will not open, may or may not depending on how the door feels like working that particular daynot open.</td>\n",
       "      <td id=\"T_95b03_row8_col1\" class=\"data row8 col1\" >0.748785</td>\n",
       "      <td id=\"T_95b03_row8_col2\" class=\"data row8 col2\" >True</td>\n",
       "    </tr>\n",
       "    <tr>\n",
       "      <th id=\"T_95b03_level0_row9\" class=\"row_heading level0 row9\" >4795</th>\n",
       "      <td id=\"T_95b03_row9_col0\" class=\"data row9 col0\" >Open the driver door to start the Vehicle and while closing the door the Back windshield shatter.</td>\n",
       "      <td id=\"T_95b03_row9_col1\" class=\"data row9 col1\" >0.743728</td>\n",
       "      <td id=\"T_95b03_row9_col2\" class=\"data row9 col2\" >True</td>\n",
       "    </tr>\n",
       "  </tbody>\n",
       "</table>\n"
      ],
      "text/plain": [
       "<pandas.io.formats.style.Styler at 0x20c36b69ba0>"
      ]
     },
     "execution_count": 39,
     "metadata": {},
     "output_type": "execute_result"
    }
   ],
   "source": [
    "left_align(similar_elements[columns_to_inspect].head(10))"
   ]
  },
  {
   "cell_type": "code",
   "execution_count": 51,
   "metadata": {},
   "outputs": [
    {
     "name": "stdout",
     "output_type": "stream",
     "text": [
      "CPU times: total: 250 ms\n",
      "Wall time: 410 ms\n"
     ]
    },
    {
     "name": "stderr",
     "output_type": "stream",
     "text": [
      "C:\\Users\\harri\\AppData\\Local\\Temp\\ipykernel_37020\\578085221.py:209: SettingWithCopyWarning: \n",
      "A value is trying to be set on a copy of a slice from a DataFrame.\n",
      "Try using .loc[row_indexer,col_indexer] = value instead\n",
      "\n",
      "See the caveats in the documentation: https://pandas.pydata.org/pandas-docs/stable/user_guide/indexing.html#returning-a-view-versus-a-copy\n",
      "  most_similar_elements[\"cosine_similarities\"] = cosine_similarities_query.squeeze()[most_similar_indices_query]\n"
     ]
    }
   ],
   "source": [
    "%%time\n",
    "similar_elements = clf_svd.find_similar(\n",
    "    query_text=\"Seat latch\",\n",
    "    dataset_to_check=\"train\",\n",
    "    top=50\n",
    ")"
   ]
  },
  {
   "cell_type": "code",
   "execution_count": 50,
   "metadata": {},
   "outputs": [
    {
     "data": {
      "text/html": [
       "<style type=\"text/css\">\n",
       "#T_606b0 th {\n",
       "  text-align: left;\n",
       "}\n",
       "#T_606b0_row0_col0, #T_606b0_row0_col1, #T_606b0_row0_col2, #T_606b0_row1_col0, #T_606b0_row1_col1, #T_606b0_row1_col2, #T_606b0_row2_col0, #T_606b0_row2_col1, #T_606b0_row2_col2, #T_606b0_row3_col0, #T_606b0_row3_col1, #T_606b0_row3_col2, #T_606b0_row4_col0, #T_606b0_row4_col1, #T_606b0_row4_col2, #T_606b0_row5_col0, #T_606b0_row5_col1, #T_606b0_row5_col2, #T_606b0_row6_col0, #T_606b0_row6_col1, #T_606b0_row6_col2, #T_606b0_row7_col0, #T_606b0_row7_col1, #T_606b0_row7_col2, #T_606b0_row8_col0, #T_606b0_row8_col1, #T_606b0_row8_col2, #T_606b0_row9_col0, #T_606b0_row9_col1, #T_606b0_row9_col2 {\n",
       "  text-align: left;\n",
       "}\n",
       "</style>\n",
       "<table id=\"T_606b0\">\n",
       "  <thead>\n",
       "    <tr>\n",
       "      <th class=\"blank level0\" >&nbsp;</th>\n",
       "      <th id=\"T_606b0_level0_col0\" class=\"col_heading level0 col0\" >CDESCR</th>\n",
       "      <th id=\"T_606b0_level0_col1\" class=\"col_heading level0 col1\" >cosine_similarities</th>\n",
       "      <th id=\"T_606b0_level0_col2\" class=\"col_heading level0 col2\" >IS_COMPLAINT</th>\n",
       "    </tr>\n",
       "  </thead>\n",
       "  <tbody>\n",
       "    <tr>\n",
       "      <th id=\"T_606b0_level0_row0\" class=\"row_heading level0 row0\" >29411</th>\n",
       "      <td id=\"T_606b0_row0_col0\" class=\"data row0 col0\" >SEAT BELT LATCH STALK (COATED WIRE CABLE BETWEEN THE SEAT BELT LATCH AND VEHICLE FLOOR ON THE INBOARD SIDE OF THE FRONT SEATS) CAN BECOME DAMAGED AND COULD BREAK AFTER EXTENSIVE BENDING.\n",
       "\n",
       " BREAKAGE OF THE LATCH STALK WOULD PREVENT THE SEAT BELTFROM RESTRAINING THE OCCUPANT IN THE EVENT OF A SUDDEN STOP OR CRASH.\n",
       "\n",
       " INSTALL REPLACEMENT COMPONENTS.</td>\n",
       "      <td id=\"T_606b0_row0_col1\" class=\"data row0 col1\" >0.769293</td>\n",
       "      <td id=\"T_606b0_row0_col2\" class=\"data row0 col2\" >False</td>\n",
       "    </tr>\n",
       "    <tr>\n",
       "      <th id=\"T_606b0_level0_row1\" class=\"row_heading level0 row1\" >35213</th>\n",
       "      <td id=\"T_606b0_row1_col0\" class=\"data row1 col0\" >VEHICLE DESCRIPTION: MINI VANS. THE AFFECTED VEHICLES MAY HAVE A SECOND ROW RIGHT HAND SIDE CAPTAIN CHAIR THAT HAS INADEQUATE LUBRICATION OF THE EASY ENTRY AND EXIT LATCH SYSTEM. IN SOME CASES, THE ACTUATOR SPRING IN THE LATCH COULD DEFORM AFTER REPEATED USE, CAUSING THE LATCH TO REMAIN IN THE UNLATCHED POSITION. IF THIS OCCURS, THE SEAT WILL SLIDE FREELY ON THE SEAT TRACK AND THE SPRINGS ON THE TRACK WILL MOVE THE SEAT TO THE EASY ENTRY POSITION TOWARD THE FRONT OF THE VEHICLE.\n",
       "\n",
       " AN UNLATCHED SEAT TRACK COULD RESULT IN AN INCREASED RISK OF INJURY IN THE EVENT OF A VEHICLE CRASH.\n",
       "\n",
       " DEALERS WILL REPLACE THE SEAT TRACK FOR THE SECOND ROW RIGHT HAND SIDE CAPTAIN'S CHAIR, WHICH INCLUDES THE EASY ENTRY AND EXIT LATCH MECHANISM.</td>\n",
       "      <td id=\"T_606b0_row1_col1\" class=\"data row1 col1\" >0.704735</td>\n",
       "      <td id=\"T_606b0_row1_col2\" class=\"data row1 col2\" >False</td>\n",
       "    </tr>\n",
       "    <tr>\n",
       "      <th id=\"T_606b0_level0_row2\" class=\"row_heading level0 row2\" >9322</th>\n",
       "      <td id=\"T_606b0_row2_col0\" class=\"data row2 col0\" >The seat belts are often difficult to latch. On many occasions, they have come unlatched on their own. </td>\n",
       "      <td id=\"T_606b0_row2_col1\" class=\"data row2 col1\" >0.703412</td>\n",
       "      <td id=\"T_606b0_row2_col2\" class=\"data row2 col2\" >True</td>\n",
       "    </tr>\n",
       "    <tr>\n",
       "      <th id=\"T_606b0_level0_row3\" class=\"row_heading level0 row3\" >14328</th>\n",
       "      <td id=\"T_606b0_row3_col0\" class=\"data row3 col0\" >CERTAIN MINIVANS FAIL TO COMPLY WITH THE REQUIREMENTS OF FEDERAL MOTOR VEHICLE SAFETY STANDARD NO. 225, \"CHILD RESTRAINT ANCHORAGE SYSTEM.\" DURING TESTING, A THIRD ROW BENCH FLOOR-TO-SEAT LATCH RELEASED BEFORE THE STRENGTH REQUIREMENT WAS MET. IDENTICAL LATCHES ARE USED IN THE SECOND ROW OF SEATS. \n",
       "\n",
       " IF THE LATCHES ON TH4E SECOND OR THIRD ROW SEATS OF THE VEHICLE RELEASE IN A CRASH, THE POTENTIAL FOR OCCUPANT INJURY IS INCREASED. \n",
       "\n",
       " DEALERS WILL REPLACE THE SEAT-TO-FLOOR LATCHES ON THE SECOND AND THIRD ROW OF SEATS. OWNER NOTIFICATION BEGAN ON NOVEMBER 21, 2003. OWNERS SHOULD CONTACT FORD AT 1-800-392-3673. </td>\n",
       "      <td id=\"T_606b0_row3_col1\" class=\"data row3 col1\" >0.694562</td>\n",
       "      <td id=\"T_606b0_row3_col2\" class=\"data row3 col2\" >False</td>\n",
       "    </tr>\n",
       "    <tr>\n",
       "      <th id=\"T_606b0_level0_row4\" class=\"row_heading level0 row4\" >27961</th>\n",
       "      <td id=\"T_606b0_row4_col0\" class=\"data row4 col0\" >ON THE INVOLVED VEHICLES, BUILD-UP OF CARPET/MAT DEADENER AND INSULATION UNDER THE REAR SEAT FRAME AND SEAT BELT ANCHOR TABS MAY PREVENT THE OPTIONAL FOLDING REAR SEAT CUSHION FROM LATCHING PROPERLY. THE LATCH MAY BE ONLY PARTIALLY ENGAGED AND FAIL TO SUSTAIN THE SEAT BELT ANCHORAGE LOADING REQUIREMENTS OF FEDERAL MOTOR VEHICLE SAFETY STANDARD NO. 210, \"SEAT BELT ASSEMBLY AND ANCHORAGES\".\n",
       "\n",
       " \n",
       "\n",
       " DEALER WILL INSTALL SPACER WASHERS AT THE LATCH STRIKER ATTACHMENT TO CORRECT THE PROBLEM, WITHOUT CHARGE TO OWNER.</td>\n",
       "      <td id=\"T_606b0_row4_col1\" class=\"data row4 col1\" >0.693178</td>\n",
       "      <td id=\"T_606b0_row4_col2\" class=\"data row4 col2\" >False</td>\n",
       "    </tr>\n",
       "    <tr>\n",
       "      <th id=\"T_606b0_level0_row5\" class=\"row_heading level0 row5\" >32400</th>\n",
       "      <td id=\"T_606b0_row5_col0\" class=\"data row5 col0\" >THE SEAT BACK LATCH LEVER PIVOT RIVETS ARE SUSCEPTIBLE TO DISTORTION. THE DISTORTED ASSEMBLIES ALLOW THE SEAT BACK RELEASE LATCH LEVER TO REMAIN IN THE RELEASED POSITION WHICH IS IN NON-COMPLIANCE WITH FMVSS NO. 207, \"SEATING SYSTEMS.\"\n",
       "\n",
       " IN THE EVENT OF A SUDDEN STOP OR ACCIDENT THE FORCES ONTHE SEAT BACK MAY SUBJECT SEAT OCCUPANTS TO AN INCREASED RISK OF INJURY.\n",
       "\n",
       " DEALERS WILL REPLACE THE SUSPECT SEAT BACK LATCH ASSEMBLY WITH A REVISED ASSEMBLY.</td>\n",
       "      <td id=\"T_606b0_row5_col1\" class=\"data row5 col1\" >0.681716</td>\n",
       "      <td id=\"T_606b0_row5_col2\" class=\"data row5 col2\" >False</td>\n",
       "    </tr>\n",
       "    <tr>\n",
       "      <th id=\"T_606b0_level0_row6\" class=\"row_heading level0 row6\" >35586</th>\n",
       "      <td id=\"T_606b0_row6_col0\" class=\"data row6 col0\" >VEHICLE DESCRIPTION: PASSENGER VEHICLES EQUIPPED WITH ACCESSORY CARGO MATS IN THE THIRD-SEAT AND CARGO AREA. THIS CARGO MAT INTERFERES WITH THE LATCHING INTEGRITY OF THE FOLDING THIRD SEATS.\n",
       "\n",
       " IN THE EVENT OF A CRASH, AN OCCUPANT OF THE THIRD SEAT MAY NOT BE PROPERLY RESTRAINED AND COULD BE EJECTED FROM THE VEHICLE.\n",
       "\n",
       " DEALERS WILL INSPECT THE THIRD-SEAT LATCH AND STRIKER. A RECTANGLE WILL BE REMOVED FROM THE CARGO MAT AROUND EACH STRIKER TO PROVIDE ADEQUATE STRIKER CLEARANCE AND PROPER LATCHING.</td>\n",
       "      <td id=\"T_606b0_row6_col1\" class=\"data row6 col1\" >0.673060</td>\n",
       "      <td id=\"T_606b0_row6_col2\" class=\"data row6 col2\" >False</td>\n",
       "    </tr>\n",
       "    <tr>\n",
       "      <th id=\"T_606b0_level0_row7\" class=\"row_heading level0 row7\" >9243</th>\n",
       "      <td id=\"T_606b0_row7_col0\" class=\"data row7 col0\" >The rear driver side passenger seat belt buckle abruptly stopped latching, there is no debris in the the latch mechanism.</td>\n",
       "      <td id=\"T_606b0_row7_col1\" class=\"data row7 col1\" >0.668688</td>\n",
       "      <td id=\"T_606b0_row7_col2\" class=\"data row7 col2\" >True</td>\n",
       "    </tr>\n",
       "    <tr>\n",
       "      <th id=\"T_606b0_level0_row8\" class=\"row_heading level0 row8\" >26852</th>\n",
       "      <td id=\"T_606b0_row8_col0\" class=\"data row8 col0\" >ON CERTAIN PASSENGER VEHICLES, THE REAR SEAT BELT LATCH ATTACHMENT BOLT IS INSUFFICIENT RIVETED. \n",
       "\n",
       " IN THE EVENT OF A CRASH, THE SEAT OCCUPANT MAY NOT BE PROPERLY RESTRAINED INCREASING THE RISK OF PERSONAL INJURY. \n",
       "\n",
       " DEALERS WILL INSPECT THE BELT BUCKLE LATCH AND, IF NECESSARY, REPLACE THE LATCH. OWNER NOTIFICATION BEGAN ON JUNE 1, 2004. OWNERS SHOULD CONTACT PORSCHE AT 1-800-545-8039. </td>\n",
       "      <td id=\"T_606b0_row8_col1\" class=\"data row8 col1\" >0.666094</td>\n",
       "      <td id=\"T_606b0_row8_col2\" class=\"data row8 col2\" >False</td>\n",
       "    </tr>\n",
       "    <tr>\n",
       "      <th id=\"T_606b0_level0_row9\" class=\"row_heading level0 row9\" >28739</th>\n",
       "      <td id=\"T_606b0_row9_col0\" class=\"data row9 col0\" >Polaris Industries, Inc. (Polaris) is recalling certain 2018-2019 Slingshot motorcycles. The driver-seat and passenger-seat seat belt and seat back anchoring bracket may have been improperly welded. Additionally, differences in the seat assembly may prevent proper latching of the seat slider, allowing the driver's seat to move unexpectedly.\n",
       "\n",
       " If the seat belt buckle or seat back detach from the seat base, there would be an increased risk of injury in the event of a crash. If the driver's seat unexpectedly moves, it can cause the driver to lose control of the motorcycle, increasing the risk of a crash.\n",
       "\n",
       " Polaris will notify owners, and dealers will inspect the seat belt bracket and seat back welds, and the seat slider latching function. If the weld is missing or incomplete, or if the slider doesn't latch properly, the seat bases will be replaced, free of charge. The recall began April 11, 2019. Owners may contact Polaris customer service at 1-855-863-2284. Polaris' number for this recall is T-18-01. Note: this recall is an expansion of recall 18V-195.</td>\n",
       "      <td id=\"T_606b0_row9_col1\" class=\"data row9 col1\" >0.659528</td>\n",
       "      <td id=\"T_606b0_row9_col2\" class=\"data row9 col2\" >False</td>\n",
       "    </tr>\n",
       "  </tbody>\n",
       "</table>\n"
      ],
      "text/plain": [
       "<pandas.io.formats.style.Styler at 0x20c36b0d960>"
      ]
     },
     "execution_count": 50,
     "metadata": {},
     "output_type": "execute_result"
    }
   ],
   "source": [
    "left_align(similar_elements[columns_to_inspect].head(10))"
   ]
  },
  {
   "cell_type": "markdown",
   "metadata": {},
   "source": [
    "Both seat belt and seat latches are queried. "
   ]
  },
  {
   "cell_type": "markdown",
   "metadata": {},
   "source": [
    "## Grade"
   ]
  },
  {
   "cell_type": "markdown",
   "metadata": {},
   "source": [
    "Overall grade:\n",
    "1. Excellent Training Time even on CPU: ~205 documents per Second\n",
    "2. Fast Inference: ~150ms. For 1 million documents, this is not very fast (~41 hours)\n",
    "3. Some topics not covered (e.g. does not understand what 'bad smell' or 'overheating' is), but it is able to capture semantic relationships (query \"speaker rattles\" does uncover car radio problems).\n",
    "\n",
    "Another problem is that complaints information is more specific to a vehicle issue than recall information, which may mention more things such as class of vehicle. "
   ]
  },
  {
   "cell_type": "markdown",
   "metadata": {},
   "source": [
    "# Dense Embedding Retrieval\n",
    "\n",
    "1. Convert documents into vector embeddings (e.g. All-MiniLM for general purpose embeddings, or use Roberta for more semantic embeddings)\n",
    "2. Split documents into chunks and store in vector index/database. \n",
    "3. Send query to vector database"
   ]
  },
  {
   "cell_type": "code",
   "execution_count": 19,
   "metadata": {},
   "outputs": [],
   "source": [
    "from sentence_transformers import SentenceTransformer\n",
    "import torch"
   ]
  },
  {
   "cell_type": "code",
   "execution_count": 45,
   "metadata": {},
   "outputs": [],
   "source": [
    "class HuggingFaceEmbeddings:\n",
    "    def __init__(self, dataset_path, model_name, column_name,\n",
    "                 similarity_fn_name : Union[\n",
    "                            \"cosine\", \"dot\"\n",
    "                ] = \"cosine\"):\n",
    "        self.column_name = column_name\n",
    "        self.model_name = model_name\n",
    "        self.dataset_path = dataset_path\n",
    "        self.df = pd.read_csv(os.path.join(self.dataset_path, \"complaints_and_recalls.csv\"))\n",
    "        self.model_path = os.path.join(self.dataset_path, \"huggingface\", \n",
    "                                      self.column_name)\n",
    "\n",
    "        # Load sentence transformer if it has already been saved\n",
    "        if os.path.exists(os.path.join(self.model_path, \"model\")):\n",
    "            self.model = SentenceTransformer(os.path.join(self.model_path, \"model\"),\n",
    "                                             similarity_fn_name=similarity_fn_name)\n",
    "        else:\n",
    "            self.model = SentenceTransformer(self.model_name,\n",
    "                                             similarity_fn_name=similarity_fn_name)\n",
    "\n",
    "    def split_text_by_period(text, max_length=200):\n",
    "        '''\n",
    "            Chunking not in use currently.\n",
    "        '''\n",
    "        sentences = re.split(r'\\.\\s+', text)  # Split by period + space\n",
    "        chunks = []\n",
    "        current_chunk = \"\"\n",
    "\n",
    "        for sentence in sentences:\n",
    "            if len(current_chunk) + len(sentence) < max_length:\n",
    "                current_chunk += sentence + \". \"\n",
    "            else:\n",
    "                current_chunk += sentence + \".\"\n",
    "                chunks.append(current_chunk.strip())\n",
    "                current_chunk = \"\" # Reset current chunk\n",
    "\n",
    "        if current_chunk:\n",
    "            chunks.append(current_chunk.strip())\n",
    "\n",
    "        return chunks\n",
    "\n",
    "    def dataset_processing(self):\n",
    "        '''\n",
    "            Not Used Yet\n",
    "        '''\n",
    "        self.df[self.column_name + \"_CLEANED\"] = (\n",
    "            self.df[self.column_name]\n",
    "            .apply(lambda x: self.split_text_by_period(x))\n",
    "        )\n",
    "        self.df = self.df[\n",
    "            [\"index\", self.column_name + \"_CLEANED\"]\n",
    "        ].explode(self.column_name + \"_CLEANED\")\n",
    "\n",
    "    def encode_embeddings(self):\n",
    "        '''\n",
    "        TODO: Consider GPU acceleration\n",
    "        '''\n",
    "        \n",
    "        # Put preprocessing Here\n",
    "\n",
    "        # Encoding here\n",
    "        if not os.path.exists(self.model_path):\n",
    "            os.makedirs(self.model_path, exists_ok=True)\n",
    "            # Load model, dataframe, and encode text.\n",
    "            self.embeddings = self.model.encode(self.df[self.column_name], show_progress_bar=True)\n",
    "            with open(os.path.join(self.model_path, f\"{self.model_name}-embeddings.pkl\"), \"wb\") as f:\n",
    "                pickle.dump(self.embeddings, f)\n",
    "        else:\n",
    "            print(\"Embeddings found. Loading embeddings.\")\n",
    "            with open(os.path.join(self.model_path, f\"{self.model_name}-embeddings.pkl\"), \"rb\") as f:\n",
    "                self.embeddings = pickle.load(f)\n",
    "    \n",
    "    def query_embeddings(self, query, top=20):\n",
    "        query_embedding = self.model.encode(query)\n",
    "        model_similarities = self.model.similarity(\n",
    "            query_embedding,\n",
    "            self.embeddings\n",
    "        )\n",
    "        values, indices = torch.topk(model_similarities, largest=True, k=top, dim=1)\n",
    "        return self.df.iloc[indices[0].tolist()], values\n",
    "\n",
    "    def run_training_pipeline(self):\n",
    "        '''\n",
    "            Technically no training is done.\n",
    "            Strictly speaking, this is simply a processing pipeline\n",
    "        '''\n",
    "        self.encode_embeddings()\n",
    "\n"
   ]
  },
  {
   "cell_type": "code",
   "execution_count": 46,
   "metadata": {},
   "outputs": [],
   "source": [
    "hg = HuggingFaceEmbeddings(\n",
    "    dataset_path=DATASET_DIR,\n",
    "    model_name=\"all-MiniLM-L6-v2\",\n",
    "    column_name=\"CDESCR\",\n",
    "    similarity_fn_name=\"cosine\"\n",
    ")"
   ]
  },
  {
   "cell_type": "code",
   "execution_count": 47,
   "metadata": {},
   "outputs": [
    {
     "name": "stdout",
     "output_type": "stream",
     "text": [
      "Embeddings found. Loading embeddings.\n"
     ]
    }
   ],
   "source": [
    "hg.run_training_pipeline()"
   ]
  },
  {
   "cell_type": "code",
   "execution_count": 48,
   "metadata": {},
   "outputs": [],
   "source": [
    "returned_docs, sims = hg.query_embeddings(\n",
    "    query=\"Car won't start and makes a clicking noise\",\n",
    "    top=50\n",
    ")"
   ]
  },
  {
   "cell_type": "code",
   "execution_count": 49,
   "metadata": {},
   "outputs": [],
   "source": [
    "returned_docs, sims = hg.query_embeddings(\n",
    "    query=\"Car won't start and makes a clicking noise\",\n",
    "    top=50\n",
    ")"
   ]
  },
  {
   "cell_type": "code",
   "execution_count": 50,
   "metadata": {},
   "outputs": [],
   "source": [
    "pd.set_option('max_colwidth', 200)"
   ]
  },
  {
   "cell_type": "code",
   "execution_count": 51,
   "metadata": {},
   "outputs": [
    {
     "data": {
      "text/html": [
       "<div>\n",
       "<style scoped>\n",
       "    .dataframe tbody tr th:only-of-type {\n",
       "        vertical-align: middle;\n",
       "    }\n",
       "\n",
       "    .dataframe tbody tr th {\n",
       "        vertical-align: top;\n",
       "    }\n",
       "\n",
       "    .dataframe thead th {\n",
       "        text-align: right;\n",
       "    }\n",
       "</style>\n",
       "<table border=\"1\" class=\"dataframe\">\n",
       "  <thead>\n",
       "    <tr style=\"text-align: right;\">\n",
       "      <th></th>\n",
       "      <th>index</th>\n",
       "      <th>CDESCR</th>\n",
       "      <th>COMPDESC</th>\n",
       "      <th>MMYTXT</th>\n",
       "      <th>RECORDID</th>\n",
       "      <th>NUMCOMPLAINTS</th>\n",
       "      <th>IS_COMPLAINT</th>\n",
       "    </tr>\n",
       "  </thead>\n",
       "  <tbody>\n",
       "    <tr>\n",
       "      <th>1213</th>\n",
       "      <td>1213</td>\n",
       "      <td>Coolant control valve failure (P1098) after 50k service. When this engine code appears the vehicle goes into reduced power mode. While it does this at inopportune time and creates potential for co...</td>\n",
       "      <td>POWER TRAIN</td>\n",
       "      <td>GMC SIERRA 1500 2022</td>\n",
       "      <td>11644914</td>\n",
       "      <td>1.0</td>\n",
       "      <td>True</td>\n",
       "    </tr>\n",
       "    <tr>\n",
       "      <th>10951</th>\n",
       "      <td>10951</td>\n",
       "      <td>Whenever the car engine isn't warm and I slam on the brakes, they barely respond. I have replaced the master cylinder, abs hydraulic module, brake booster, calipers, pads, and rotors, and it still...</td>\n",
       "      <td>SERVICE BRAKES</td>\n",
       "      <td>MERCURY MILAN 2010</td>\n",
       "      <td>11639152</td>\n",
       "      <td>1.0</td>\n",
       "      <td>True</td>\n",
       "    </tr>\n",
       "    <tr>\n",
       "      <th>5952</th>\n",
       "      <td>5952</td>\n",
       "      <td>The catalytic converter had to be replaced after 3000 miles. Vehicle was purchased in September and it had to be replaced in December. Had to take vehicle in twice for them to diagnose the problem.</td>\n",
       "      <td>UNKNOWN OR OTHER</td>\n",
       "      <td>JEEP GRAND CHEROKEE 2024</td>\n",
       "      <td>11643050</td>\n",
       "      <td>1.0</td>\n",
       "      <td>True</td>\n",
       "    </tr>\n",
       "    <tr>\n",
       "      <th>5953</th>\n",
       "      <td>5953</td>\n",
       "      <td>The center console and the screen behind the sharing wheel black at the same time while I was driving. I couldn't see the speed I was going while driving. I tried turning off the car, taking the k...</td>\n",
       "      <td>UNKNOWN OR OTHER</td>\n",
       "      <td>HONDA PROLOGUE 2024</td>\n",
       "      <td>11634241</td>\n",
       "      <td>1.0</td>\n",
       "      <td>True</td>\n",
       "    </tr>\n",
       "    <tr>\n",
       "      <th>421</th>\n",
       "      <td>421</td>\n",
       "      <td>About 2 weeks ago started hearing what sounded like a earing going bearing from under the hood on driver side. I took it to the dealership yesterday, told them im pretty sure bearing going out on ...</td>\n",
       "      <td>ENGINE, ELECTRICAL SYSTEM</td>\n",
       "      <td>RAM 1500 2024</td>\n",
       "      <td>11643293</td>\n",
       "      <td>2.0</td>\n",
       "      <td>True</td>\n",
       "    </tr>\n",
       "  </tbody>\n",
       "</table>\n",
       "</div>"
      ],
      "text/plain": [
       "       index  \\\n",
       "1213    1213   \n",
       "10951  10951   \n",
       "5952    5952   \n",
       "5953    5953   \n",
       "421      421   \n",
       "\n",
       "                                                                                                                                                                                                        CDESCR  \\\n",
       "1213   Coolant control valve failure (P1098) after 50k service. When this engine code appears the vehicle goes into reduced power mode. While it does this at inopportune time and creates potential for co...   \n",
       "10951  Whenever the car engine isn't warm and I slam on the brakes, they barely respond. I have replaced the master cylinder, abs hydraulic module, brake booster, calipers, pads, and rotors, and it still...   \n",
       "5952     The catalytic converter had to be replaced after 3000 miles. Vehicle was purchased in September and it had to be replaced in December. Had to take vehicle in twice for them to diagnose the problem.   \n",
       "5953   The center console and the screen behind the sharing wheel black at the same time while I was driving. I couldn't see the speed I was going while driving. I tried turning off the car, taking the k...   \n",
       "421    About 2 weeks ago started hearing what sounded like a earing going bearing from under the hood on driver side. I took it to the dealership yesterday, told them im pretty sure bearing going out on ...   \n",
       "\n",
       "                        COMPDESC                    MMYTXT  RECORDID  \\\n",
       "1213                 POWER TRAIN      GMC SIERRA 1500 2022  11644914   \n",
       "10951             SERVICE BRAKES        MERCURY MILAN 2010  11639152   \n",
       "5952            UNKNOWN OR OTHER  JEEP GRAND CHEROKEE 2024  11643050   \n",
       "5953            UNKNOWN OR OTHER       HONDA PROLOGUE 2024  11634241   \n",
       "421    ENGINE, ELECTRICAL SYSTEM             RAM 1500 2024  11643293   \n",
       "\n",
       "       NUMCOMPLAINTS  IS_COMPLAINT  \n",
       "1213             1.0          True  \n",
       "10951            1.0          True  \n",
       "5952             1.0          True  \n",
       "5953             1.0          True  \n",
       "421              2.0          True  "
      ]
     },
     "execution_count": 51,
     "metadata": {},
     "output_type": "execute_result"
    }
   ],
   "source": [
    "returned_docs.head(5)"
   ]
  },
  {
   "cell_type": "code",
   "execution_count": null,
   "metadata": {},
   "outputs": [
    {
     "data": {
      "text/plain": [
       "IS_COMPLAINT\n",
       "True    50\n",
       "Name: count, dtype: int64"
      ]
     },
     "execution_count": 81,
     "metadata": {},
     "output_type": "execute_result"
    }
   ],
   "source": [
    "returned_docs[\"IS_COMPLAINT\"].value_counts()"
   ]
  },
  {
   "cell_type": "code",
   "execution_count": null,
   "metadata": {},
   "outputs": [
    {
     "data": {
      "text/plain": [
       "'A few months after I purchased the car in July, I started hearing a clicking noise when turning from a full stop. In December I was told it was axel issue. It’s not yet been resolved. I’m still driving the car. '"
      ]
     },
     "execution_count": 76,
     "metadata": {},
     "output_type": "execute_result"
    }
   ],
   "source": [
    "returned_docs[\"CDESCR\"].iloc[4]"
   ]
  },
  {
   "cell_type": "code",
   "execution_count": null,
   "metadata": {},
   "outputs": [],
   "source": [
    "returned_docs, sims = hg.query_embeddings(\n",
    "    query=\"Car won't start and makes a clicking noise\",\n",
    "    top=50\n",
    ")"
   ]
  },
  {
   "cell_type": "code",
   "execution_count": null,
   "metadata": {},
   "outputs": [],
   "source": [
    "returned_docs, sims = hg.query_embeddings(\n",
    "    query=\"Bad smell overheating\",\n",
    "    top=50\n",
    ")"
   ]
  },
  {
   "cell_type": "code",
   "execution_count": null,
   "metadata": {},
   "outputs": [
    {
     "data": {
      "text/plain": [
       "tensor([[0.5880, 0.5559, 0.5389, 0.5370, 0.5323, 0.5210, 0.5096, 0.4913, 0.4862,\n",
       "         0.4762, 0.4754, 0.4722, 0.4673, 0.4656, 0.4648, 0.4638, 0.4607, 0.4595,\n",
       "         0.4584, 0.4577, 0.4542, 0.4540, 0.4478, 0.4463, 0.4390, 0.4371, 0.4361,\n",
       "         0.4347, 0.4339, 0.4301, 0.4287, 0.4286, 0.4279, 0.4247, 0.4242, 0.4230,\n",
       "         0.4216, 0.4207, 0.4191, 0.4187, 0.4170, 0.4132, 0.4111, 0.4100, 0.4100,\n",
       "         0.4089, 0.4074, 0.4073, 0.4067, 0.4064]])"
      ]
     },
     "execution_count": 88,
     "metadata": {},
     "output_type": "execute_result"
    }
   ],
   "source": [
    "sims"
   ]
  },
  {
   "cell_type": "code",
   "execution_count": null,
   "metadata": {},
   "outputs": [
    {
     "data": {
      "text/html": [
       "<div>\n",
       "<style scoped>\n",
       "    .dataframe tbody tr th:only-of-type {\n",
       "        vertical-align: middle;\n",
       "    }\n",
       "\n",
       "    .dataframe tbody tr th {\n",
       "        vertical-align: top;\n",
       "    }\n",
       "\n",
       "    .dataframe thead th {\n",
       "        text-align: right;\n",
       "    }\n",
       "</style>\n",
       "<table border=\"1\" class=\"dataframe\">\n",
       "  <thead>\n",
       "    <tr style=\"text-align: right;\">\n",
       "      <th></th>\n",
       "      <th>index</th>\n",
       "      <th>CDESCR</th>\n",
       "      <th>COMPDESC</th>\n",
       "      <th>MMYTXT</th>\n",
       "      <th>RECORDID</th>\n",
       "      <th>NUMCOMPLAINTS</th>\n",
       "      <th>IS_COMPLAINT</th>\n",
       "    </tr>\n",
       "  </thead>\n",
       "  <tbody>\n",
       "    <tr>\n",
       "      <th>2057</th>\n",
       "      <td>2057</td>\n",
       "      <td>Front heater fan smelling of smoke</td>\n",
       "      <td>ELECTRICAL SYSTEM</td>\n",
       "      <td>LION LIONC 2024</td>\n",
       "      <td>11642408</td>\n",
       "      <td>1.0</td>\n",
       "      <td>True</td>\n",
       "    </tr>\n",
       "    <tr>\n",
       "      <th>4000</th>\n",
       "      <td>4000</td>\n",
       "      <td>My Jeep eats up thermostats too often. I have had it for 3 years and had it replaced 4 times. The last time , one year ago, it took the repair shop a week to finally install one that would hold. It needs it again. I also smell something burning when I accelerate onto the freeway since owning it. My engines fan runs high aIl the time also. I read many complaints online about people having overh...</td>\n",
       "      <td>ENGINE</td>\n",
       "      <td>JEEP GRAND CHEROKEE 2014</td>\n",
       "      <td>11635444</td>\n",
       "      <td>1.0</td>\n",
       "      <td>True</td>\n",
       "    </tr>\n",
       "    <tr>\n",
       "      <th>1314</th>\n",
       "      <td>1314</td>\n",
       "      <td>Coolant is leaking and causing engine to overheat.</td>\n",
       "      <td>ENGINE</td>\n",
       "      <td>CHEVROLET TRAX 2017</td>\n",
       "      <td>11640557</td>\n",
       "      <td>1.0</td>\n",
       "      <td>True</td>\n",
       "    </tr>\n",
       "    <tr>\n",
       "      <th>2848</th>\n",
       "      <td>2848</td>\n",
       "      <td>I just bought this used car and just drove around town. It has 101,724 miles and it smells like something burning when I start it up and when I drive it. I know it's coming from somewhere under the hood. I'm paying 9500.00 for this car and already have burnt smell.</td>\n",
       "      <td>UNKNOWN OR OTHER</td>\n",
       "      <td>JEEP CHEROKEE 2016</td>\n",
       "      <td>11640183</td>\n",
       "      <td>1.0</td>\n",
       "      <td>True</td>\n",
       "    </tr>\n",
       "    <tr>\n",
       "      <th>10873</th>\n",
       "      <td>10873</td>\n",
       "      <td>When my heat is on there is a burning smell when the heat on and my right side passages door will not allow me to open the door from the inside or out sides</td>\n",
       "      <td>UNKNOWN OR OTHER</td>\n",
       "      <td>HYUNDAI SONATA 2013</td>\n",
       "      <td>11637091</td>\n",
       "      <td>1.0</td>\n",
       "      <td>True</td>\n",
       "    </tr>\n",
       "  </tbody>\n",
       "</table>\n",
       "</div>"
      ],
      "text/plain": [
       "       index  \\\n",
       "2057    2057   \n",
       "4000    4000   \n",
       "1314    1314   \n",
       "2848    2848   \n",
       "10873  10873   \n",
       "\n",
       "                                                                                                                                                                                                                                                                                                                                                                                                                CDESCR  \\\n",
       "2057                                                                                                                                                                                                                                                                                                                                                                                Front heater fan smelling of smoke   \n",
       "4000   My Jeep eats up thermostats too often. I have had it for 3 years and had it replaced 4 times. The last time , one year ago, it took the repair shop a week to finally install one that would hold. It needs it again. I also smell something burning when I accelerate onto the freeway since owning it. My engines fan runs high aIl the time also. I read many complaints online about people having overh...   \n",
       "1314                                                                                                                                                                                                                                                                                                                                                                Coolant is leaking and causing engine to overheat.   \n",
       "2848                                                                                                                                         I just bought this used car and just drove around town. It has 101,724 miles and it smells like something burning when I start it up and when I drive it. I know it's coming from somewhere under the hood. I'm paying 9500.00 for this car and already have burnt smell.   \n",
       "10873                                                                                                                                                                                                                                                    When my heat is on there is a burning smell when the heat on and my right side passages door will not allow me to open the door from the inside or out sides    \n",
       "\n",
       "                COMPDESC                    MMYTXT  RECORDID  NUMCOMPLAINTS  \\\n",
       "2057   ELECTRICAL SYSTEM           LION LIONC 2024  11642408            1.0   \n",
       "4000              ENGINE  JEEP GRAND CHEROKEE 2014  11635444            1.0   \n",
       "1314              ENGINE       CHEVROLET TRAX 2017  11640557            1.0   \n",
       "2848    UNKNOWN OR OTHER        JEEP CHEROKEE 2016  11640183            1.0   \n",
       "10873   UNKNOWN OR OTHER       HYUNDAI SONATA 2013  11637091            1.0   \n",
       "\n",
       "       IS_COMPLAINT  \n",
       "2057           True  \n",
       "4000           True  \n",
       "1314           True  \n",
       "2848           True  \n",
       "10873          True  "
      ]
     },
     "execution_count": 87,
     "metadata": {},
     "output_type": "execute_result"
    }
   ],
   "source": [
    "returned_docs.head(5)"
   ]
  },
  {
   "cell_type": "code",
   "execution_count": null,
   "metadata": {},
   "outputs": [],
   "source": [
    "returned_docs, sims = hg.query_embeddings(\n",
    "    query=\"Bad smell overheating\",\n",
    "    top=50\n",
    ")"
   ]
  },
  {
   "cell_type": "code",
   "execution_count": null,
   "metadata": {},
   "outputs": [],
   "source": [
    "returned_docs, sims = hg.query_embeddings(\n",
    "    query=\"Door opens even when child safety mode is activated\",\n",
    "    top=50\n",
    ")"
   ]
  },
  {
   "cell_type": "code",
   "execution_count": null,
   "metadata": {},
   "outputs": [
    {
     "data": {
      "text/html": [
       "<div>\n",
       "<style scoped>\n",
       "    .dataframe tbody tr th:only-of-type {\n",
       "        vertical-align: middle;\n",
       "    }\n",
       "\n",
       "    .dataframe tbody tr th {\n",
       "        vertical-align: top;\n",
       "    }\n",
       "\n",
       "    .dataframe thead th {\n",
       "        text-align: right;\n",
       "    }\n",
       "</style>\n",
       "<table border=\"1\" class=\"dataframe\">\n",
       "  <thead>\n",
       "    <tr style=\"text-align: right;\">\n",
       "      <th></th>\n",
       "      <th>index</th>\n",
       "      <th>CDESCR</th>\n",
       "      <th>COMPDESC</th>\n",
       "      <th>MMYTXT</th>\n",
       "      <th>RECORDID</th>\n",
       "      <th>NUMCOMPLAINTS</th>\n",
       "      <th>IS_COMPLAINT</th>\n",
       "    </tr>\n",
       "  </thead>\n",
       "  <tbody>\n",
       "    <tr>\n",
       "      <th>10937</th>\n",
       "      <td>10937</td>\n",
       "      <td>When turning on the child safety locks, the doors repeat a clicking sound for a few minutes sounding as if the doors are locking. After the noise stops, the dashboard shows the message \"child safety lock failure\". My small child has been winding the window down since I cannot lock the windows and doors properly. I am afraid she will get a body part caught in the window or open the door while d...</td>\n",
       "      <td>ELECTRICAL SYSTEM</td>\n",
       "      <td>HYUNDAI PALISADE 2021</td>\n",
       "      <td>11642064</td>\n",
       "      <td>1.0</td>\n",
       "      <td>True</td>\n",
       "    </tr>\n",
       "    <tr>\n",
       "      <th>1206</th>\n",
       "      <td>1206</td>\n",
       "      <td>Child safety locks failed and clicked attempting to engage until turned off.With the locks unable to engage, children able to utilize windows and open doors which put their safety at risk. Replaced under warranty.</td>\n",
       "      <td>ELECTRICAL SYSTEM</td>\n",
       "      <td>HYUNDAI PALISADE 2021</td>\n",
       "      <td>11643828</td>\n",
       "      <td>1.0</td>\n",
       "      <td>True</td>\n",
       "    </tr>\n",
       "    <tr>\n",
       "      <th>1205</th>\n",
       "      <td>1205</td>\n",
       "      <td>Child Safety Lock Failure notice - both parked or driving, I will hear a clicking noise coming from the doors. Sometimes I will receive a Child Safety Lock Failure error message on the dash. This would sporadically continue to happen while driving and even if my vehicle is parked and off and I happen to do something like open the doors. The vehicle has been serviced numerous times by Hyundai d...</td>\n",
       "      <td>ELECTRICAL SYSTEM</td>\n",
       "      <td>HYUNDAI PALISADE 2021</td>\n",
       "      <td>11634797</td>\n",
       "      <td>1.0</td>\n",
       "      <td>True</td>\n",
       "    </tr>\n",
       "    <tr>\n",
       "      <th>3733</th>\n",
       "      <td>3733</td>\n",
       "      <td>Loaded children into second row of vehicle, confirmed all doors closed. Began driving, passenger rear door swung open. Child DID NOT engage door handle. Pulled over to attempt to close door. Door latch would not engage, could not close or lock door. Still unable to close and lock door.</td>\n",
       "      <td>LATCHES/LOCKS/LINKAGES:DOORS:LATCH</td>\n",
       "      <td>VOLVO XC90 2016</td>\n",
       "      <td>11640401</td>\n",
       "      <td>1.0</td>\n",
       "      <td>True</td>\n",
       "    </tr>\n",
       "    <tr>\n",
       "      <th>5846</th>\n",
       "      <td>5846</td>\n",
       "      <td>The back doors will no longer open when unlocked. This poses a safety risk. I was unable to get my child out of his car seat when the locks or locking mechanism went out. I had to climb into the back seat from the front. The door do not open either from the interior or exterior of the vehicle. A mechanic stated that this could be from faulty solenoids. I was unable to get a print out of a quot...</td>\n",
       "      <td>UNKNOWN OR OTHER, STRUCTURE:BODY</td>\n",
       "      <td>HYUNDAI SONATA 2013</td>\n",
       "      <td>11634770</td>\n",
       "      <td>2.0</td>\n",
       "      <td>True</td>\n",
       "    </tr>\n",
       "  </tbody>\n",
       "</table>\n",
       "</div>"
      ],
      "text/plain": [
       "       index  \\\n",
       "10937  10937   \n",
       "1206    1206   \n",
       "1205    1205   \n",
       "3733    3733   \n",
       "5846    5846   \n",
       "\n",
       "                                                                                                                                                                                                                                                                                                                                                                                                                CDESCR  \\\n",
       "10937  When turning on the child safety locks, the doors repeat a clicking sound for a few minutes sounding as if the doors are locking. After the noise stops, the dashboard shows the message \"child safety lock failure\". My small child has been winding the window down since I cannot lock the windows and doors properly. I am afraid she will get a body part caught in the window or open the door while d...   \n",
       "1206                                                                                                                                                                                            Child safety locks failed and clicked attempting to engage until turned off.With the locks unable to engage, children able to utilize windows and open doors which put their safety at risk. Replaced under warranty.    \n",
       "1205   Child Safety Lock Failure notice - both parked or driving, I will hear a clicking noise coming from the doors. Sometimes I will receive a Child Safety Lock Failure error message on the dash. This would sporadically continue to happen while driving and even if my vehicle is parked and off and I happen to do something like open the doors. The vehicle has been serviced numerous times by Hyundai d...   \n",
       "3733                                                                                                                    Loaded children into second row of vehicle, confirmed all doors closed. Began driving, passenger rear door swung open. Child DID NOT engage door handle. Pulled over to attempt to close door. Door latch would not engage, could not close or lock door. Still unable to close and lock door.   \n",
       "5846   The back doors will no longer open when unlocked. This poses a safety risk. I was unable to get my child out of his car seat when the locks or locking mechanism went out. I had to climb into the back seat from the front. The door do not open either from the interior or exterior of the vehicle. A mechanic stated that this could be from faulty solenoids. I was unable to get a print out of a quot...   \n",
       "\n",
       "                                 COMPDESC                 MMYTXT  RECORDID  \\\n",
       "10937                   ELECTRICAL SYSTEM  HYUNDAI PALISADE 2021  11642064   \n",
       "1206                    ELECTRICAL SYSTEM  HYUNDAI PALISADE 2021  11643828   \n",
       "1205                    ELECTRICAL SYSTEM  HYUNDAI PALISADE 2021  11634797   \n",
       "3733   LATCHES/LOCKS/LINKAGES:DOORS:LATCH        VOLVO XC90 2016  11640401   \n",
       "5846     UNKNOWN OR OTHER, STRUCTURE:BODY    HYUNDAI SONATA 2013  11634770   \n",
       "\n",
       "       NUMCOMPLAINTS  IS_COMPLAINT  \n",
       "10937            1.0          True  \n",
       "1206             1.0          True  \n",
       "1205             1.0          True  \n",
       "3733             1.0          True  \n",
       "5846             2.0          True  "
      ]
     },
     "execution_count": 92,
     "metadata": {},
     "output_type": "execute_result"
    }
   ],
   "source": [
    "returned_docs.head(5)"
   ]
  },
  {
   "cell_type": "code",
   "execution_count": null,
   "metadata": {},
   "outputs": [],
   "source": [
    "returned_docs, sims = hg.query_embeddings(\n",
    "    query=\"Mercedes Benz issue with fuel leakage\",\n",
    "    top=50\n",
    ")"
   ]
  },
  {
   "cell_type": "code",
   "execution_count": null,
   "metadata": {},
   "outputs": [
    {
     "data": {
      "text/html": [
       "<div>\n",
       "<style scoped>\n",
       "    .dataframe tbody tr th:only-of-type {\n",
       "        vertical-align: middle;\n",
       "    }\n",
       "\n",
       "    .dataframe tbody tr th {\n",
       "        vertical-align: top;\n",
       "    }\n",
       "\n",
       "    .dataframe thead th {\n",
       "        text-align: right;\n",
       "    }\n",
       "</style>\n",
       "<table border=\"1\" class=\"dataframe\">\n",
       "  <thead>\n",
       "    <tr style=\"text-align: right;\">\n",
       "      <th></th>\n",
       "      <th>index</th>\n",
       "      <th>CDESCR</th>\n",
       "      <th>COMPDESC</th>\n",
       "      <th>MMYTXT</th>\n",
       "      <th>RECORDID</th>\n",
       "      <th>NUMCOMPLAINTS</th>\n",
       "      <th>IS_COMPLAINT</th>\n",
       "    </tr>\n",
       "  </thead>\n",
       "  <tbody>\n",
       "    <tr>\n",
       "      <th>2110</th>\n",
       "      <td>2110</td>\n",
       "      <td>Fuel tank is leaking at connection between fill tube and tank. Multiple recalls have been issued apparently for similar problems with cars of other years. With less than 1/2 tank, the fuel leak is not as pronounced. With the tank full, the tank drips fuel. Fire department in Riverside was called and confirmed issue. Upon bringing vehicle to Clearwater Mercedes and other mechanics, the problem ...</td>\n",
       "      <td>FUEL/PROPULSION SYSTEM</td>\n",
       "      <td>MERCEDES BENZ C300 2013</td>\n",
       "      <td>11643602</td>\n",
       "      <td>1.0</td>\n",
       "      <td>True</td>\n",
       "    </tr>\n",
       "    <tr>\n",
       "      <th>2089</th>\n",
       "      <td>2089</td>\n",
       "      <td>Fuel leaking from engine</td>\n",
       "      <td>ENGINE, FUEL/PROPULSION SYSTEM</td>\n",
       "      <td>CHEVROLET MALIBU 2017</td>\n",
       "      <td>11641448</td>\n",
       "      <td>2.0</td>\n",
       "      <td>True</td>\n",
       "    </tr>\n",
       "    <tr>\n",
       "      <th>9310</th>\n",
       "      <td>9310</td>\n",
       "      <td>The seal that connects the fuel level sensor to the fuel tank has failed, allowing fuel to leak onto the top of the tank when it’s filled. This creates a serious risk of fire or explosion. Unfortunately, Mercedes does not offer a remedy unless you pay a prohibitively high fee.</td>\n",
       "      <td>FUEL/PROPULSION SYSTEM</td>\n",
       "      <td>MERCEDES BENZ E550 2008</td>\n",
       "      <td>11638060</td>\n",
       "      <td>1.0</td>\n",
       "      <td>True</td>\n",
       "    </tr>\n",
       "    <tr>\n",
       "      <th>27123</th>\n",
       "      <td>15499</td>\n",
       "      <td>ON CERTAIN SPORT UTILITY VEHICLES, THE FUEL RETURN HOSE BETWEEN FUEL TANK AND RETURN LINE CAN BE PERMEATED WITH FUEL. THIS SITUATION RESULTS FROM THE EXPANSION AND CONTRACTION OF THE HOSE UNDER PRESSURE CAUSING MICROCRACKS IN THE HOSE MATERIAL.\\n\\n THESE MICROCRACKS MAY CAUSE FUEL LEAKAGE. FUEL LEAKAGE IN THE PRESENCE OF AN IGNITION SOURCE COULD RESULT IN A FIRE.\\n\\n DEALERS WILL INSPECT AND R...</td>\n",
       "      <td>FUEL SYSTEM, GASOLINE:DELIVERY:HOSES, LINES/PIPING, AND FITTINGS</td>\n",
       "      <td>MERCEDES BENZ G55 2004, MERCEDES BENZ G55 2005</td>\n",
       "      <td>55276, 55275</td>\n",
       "      <td>NaN</td>\n",
       "      <td>False</td>\n",
       "    </tr>\n",
       "    <tr>\n",
       "      <th>18446</th>\n",
       "      <td>6822</td>\n",
       "      <td>FUEL LEAKAGE MAY OCCUR IN THE ENGINE BAY AT FUEL LINE CONNECTIONS OR AT THE FUEL PUMP.\\n\\n \\n\\n THE DEALER WILL INSPECT THE FUEL LINES AND FUEL PUMP AND WILL REPLACE THEM, IF NECESSARY, WITHOUT CHARGE.</td>\n",
       "      <td>FUEL SYSTEM, GASOLINE:DELIVERY</td>\n",
       "      <td>TRIUMPH SPITFIRE 1974, TRIUMPH SPITFIRE 1971, TRIUMPH SPITFIRE 1976, TRIUMPH SPITFIRE 1972, TRIUMPH SPITFIRE 1973, TRIUMPH SPITFIRE 1975</td>\n",
       "      <td>40637, 40634, 40639, 40638, 40636, 40635</td>\n",
       "      <td>NaN</td>\n",
       "      <td>False</td>\n",
       "    </tr>\n",
       "  </tbody>\n",
       "</table>\n",
       "</div>"
      ],
      "text/plain": [
       "       index  \\\n",
       "2110    2110   \n",
       "2089    2089   \n",
       "9310    9310   \n",
       "27123  15499   \n",
       "18446   6822   \n",
       "\n",
       "                                                                                                                                                                                                                                                                                                                                                                                                                CDESCR  \\\n",
       "2110   Fuel tank is leaking at connection between fill tube and tank. Multiple recalls have been issued apparently for similar problems with cars of other years. With less than 1/2 tank, the fuel leak is not as pronounced. With the tank full, the tank drips fuel. Fire department in Riverside was called and confirmed issue. Upon bringing vehicle to Clearwater Mercedes and other mechanics, the problem ...   \n",
       "2089                                                                                                                                                                                                                                                                                                                                                                                         Fuel leaking from engine    \n",
       "9310                                                                                                                             The seal that connects the fuel level sensor to the fuel tank has failed, allowing fuel to leak onto the top of the tank when it’s filled. This creates a serious risk of fire or explosion. Unfortunately, Mercedes does not offer a remedy unless you pay a prohibitively high fee.   \n",
       "27123  ON CERTAIN SPORT UTILITY VEHICLES, THE FUEL RETURN HOSE BETWEEN FUEL TANK AND RETURN LINE CAN BE PERMEATED WITH FUEL. THIS SITUATION RESULTS FROM THE EXPANSION AND CONTRACTION OF THE HOSE UNDER PRESSURE CAUSING MICROCRACKS IN THE HOSE MATERIAL.\\n\\n THESE MICROCRACKS MAY CAUSE FUEL LEAKAGE. FUEL LEAKAGE IN THE PRESENCE OF AN IGNITION SOURCE COULD RESULT IN A FIRE.\\n\\n DEALERS WILL INSPECT AND R...   \n",
       "18446                                                                                                                                                                                                        FUEL LEAKAGE MAY OCCUR IN THE ENGINE BAY AT FUEL LINE CONNECTIONS OR AT THE FUEL PUMP.\\n\\n \\n\\n THE DEALER WILL INSPECT THE FUEL LINES AND FUEL PUMP AND WILL REPLACE THEM, IF NECESSARY, WITHOUT CHARGE.   \n",
       "\n",
       "                                                               COMPDESC  \\\n",
       "2110                                             FUEL/PROPULSION SYSTEM   \n",
       "2089                                     ENGINE, FUEL/PROPULSION SYSTEM   \n",
       "9310                                             FUEL/PROPULSION SYSTEM   \n",
       "27123  FUEL SYSTEM, GASOLINE:DELIVERY:HOSES, LINES/PIPING, AND FITTINGS   \n",
       "18446                                    FUEL SYSTEM, GASOLINE:DELIVERY   \n",
       "\n",
       "                                                                                                                                         MMYTXT  \\\n",
       "2110                                                                                                                    MERCEDES BENZ C300 2013   \n",
       "2089                                                                                                                      CHEVROLET MALIBU 2017   \n",
       "9310                                                                                                                    MERCEDES BENZ E550 2008   \n",
       "27123                                                                                            MERCEDES BENZ G55 2004, MERCEDES BENZ G55 2005   \n",
       "18446  TRIUMPH SPITFIRE 1974, TRIUMPH SPITFIRE 1971, TRIUMPH SPITFIRE 1976, TRIUMPH SPITFIRE 1972, TRIUMPH SPITFIRE 1973, TRIUMPH SPITFIRE 1975   \n",
       "\n",
       "                                       RECORDID  NUMCOMPLAINTS  IS_COMPLAINT  \n",
       "2110                                   11643602            1.0          True  \n",
       "2089                                   11641448            2.0          True  \n",
       "9310                                   11638060            1.0          True  \n",
       "27123                              55276, 55275            NaN         False  \n",
       "18446  40637, 40634, 40639, 40638, 40636, 40635            NaN         False  "
      ]
     },
     "execution_count": 95,
     "metadata": {},
     "output_type": "execute_result"
    }
   ],
   "source": [
    "returned_docs.head(5)"
   ]
  },
  {
   "cell_type": "markdown",
   "metadata": {},
   "source": [
    "# Try to Improve Results"
   ]
  },
  {
   "cell_type": "markdown",
   "metadata": {},
   "source": [
    "## SVD"
   ]
  },
  {
   "cell_type": "markdown",
   "metadata": {},
   "source": [
    "## Dense"
   ]
  },
  {
   "cell_type": "markdown",
   "metadata": {},
   "source": []
  }
 ],
 "metadata": {
  "kernelspec": {
   "display_name": "capstone_vehicle_recall",
   "language": "python",
   "name": "python3"
  },
  "language_info": {
   "codemirror_mode": {
    "name": "ipython",
    "version": 3
   },
   "file_extension": ".py",
   "mimetype": "text/x-python",
   "name": "python",
   "nbconvert_exporter": "python",
   "pygments_lexer": "ipython3",
   "version": "3.10.16"
  }
 },
 "nbformat": 4,
 "nbformat_minor": 2
}
