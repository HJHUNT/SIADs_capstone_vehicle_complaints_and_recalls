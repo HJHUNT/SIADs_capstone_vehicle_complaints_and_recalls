{
 "cells": [
  {
   "cell_type": "markdown",
   "metadata": {},
   "source": [
    "# Combining Complaints and Recall for Information Retrieval\n",
    "\n",
    "**Author:** Harris Zheng\n",
    "\n",
    "**Date:** March 2nd, 2025"
   ]
  },
  {
   "cell_type": "markdown",
   "metadata": {},
   "source": [
    "# Import Packages"
   ]
  },
  {
   "cell_type": "code",
   "execution_count": 1,
   "metadata": {},
   "outputs": [],
   "source": [
    "import pandas as pd\n",
    "import pprint\n",
    "import numpy as np\n",
    "from sklearn.feature_extraction.text import CountVectorizer\n",
    "import matplotlib.pyplot as plt\n",
    "import os\n",
    "import string\n",
    "import re\n"
   ]
  },
  {
   "cell_type": "markdown",
   "metadata": {},
   "source": [
    "# Utilities"
   ]
  },
  {
   "cell_type": "markdown",
   "metadata": {},
   "source": [
    "# Ingest Data"
   ]
  },
  {
   "cell_type": "markdown",
   "metadata": {},
   "source": [
    "## Recall"
   ]
  },
  {
   "cell_type": "code",
   "execution_count": 2,
   "metadata": {},
   "outputs": [],
   "source": [
    "PARENT_DIR = os.getcwd().rsplit(\"\\\\\", maxsplit=1)[0]\n",
    "DATASET_DIR = os.path.join(PARENT_DIR, \"Datasets\")"
   ]
  },
  {
   "cell_type": "code",
   "execution_count": 3,
   "metadata": {},
   "outputs": [
    {
     "name": "stderr",
     "output_type": "stream",
     "text": [
      "C:\\Users\\harri\\AppData\\Local\\Temp\\ipykernel_49568\\2915165312.py:1: DtypeWarning: Columns (17,18,24,25,26) have mixed types. Specify dtype option on import or set low_memory=False.\n",
      "  df_recall = pd.read_csv(f\"{DATASET_DIR}/FLAT_RCL.txt\", sep='\\t', header=None, on_bad_lines='skip')\n"
     ]
    },
    {
     "data": {
      "text/html": [
       "<div>\n",
       "<style scoped>\n",
       "    .dataframe tbody tr th:only-of-type {\n",
       "        vertical-align: middle;\n",
       "    }\n",
       "\n",
       "    .dataframe tbody tr th {\n",
       "        vertical-align: top;\n",
       "    }\n",
       "\n",
       "    .dataframe thead th {\n",
       "        text-align: right;\n",
       "    }\n",
       "</style>\n",
       "<table border=\"1\" class=\"dataframe\">\n",
       "  <thead>\n",
       "    <tr style=\"text-align: right;\">\n",
       "      <th></th>\n",
       "      <th>RECORD_ID</th>\n",
       "      <th>CAMPNO</th>\n",
       "      <th>MAKETXT</th>\n",
       "      <th>MODELTXT</th>\n",
       "      <th>YEARTXT</th>\n",
       "      <th>MFGCAMPNO</th>\n",
       "      <th>COMPNAME</th>\n",
       "      <th>MFGNAME</th>\n",
       "      <th>BGMAN</th>\n",
       "      <th>ENDMAN</th>\n",
       "      <th>...</th>\n",
       "      <th>RPNO</th>\n",
       "      <th>FMVSS</th>\n",
       "      <th>DESC_DEFECT</th>\n",
       "      <th>CONSEQUENCE_DEFECT</th>\n",
       "      <th>CORRECTIVE_ACTION</th>\n",
       "      <th>NOTES</th>\n",
       "      <th>RCL_CMPT_ID</th>\n",
       "      <th>MFR_COMP_NAME</th>\n",
       "      <th>MFR_COMP_DESC</th>\n",
       "      <th>MFR_COMP_PTNO</th>\n",
       "    </tr>\n",
       "  </thead>\n",
       "  <tbody>\n",
       "    <tr>\n",
       "      <th>0</th>\n",
       "      <td>1</td>\n",
       "      <td>02V288000</td>\n",
       "      <td>FORD</td>\n",
       "      <td>FOCUS</td>\n",
       "      <td>2000</td>\n",
       "      <td>02S41</td>\n",
       "      <td>ELECTRICAL SYSTEM:12V/24V/48V BATTERY:CABLES</td>\n",
       "      <td>FORD MOTOR COMPANY</td>\n",
       "      <td>19990719.0</td>\n",
       "      <td>20010531.0</td>\n",
       "      <td>...</td>\n",
       "      <td>NaN</td>\n",
       "      <td>NaN</td>\n",
       "      <td>CERTAIN PASSENGER VEHICLES EQUIPPED WITH ZETEC...</td>\n",
       "      <td>THIS, IN TURN, COULD CAUSE THE BATTERY CABLES ...</td>\n",
       "      <td>DEALERS WILL INSPECT THE BATTERY CABLES FOR TH...</td>\n",
       "      <td>ALSO CONTACT THE NATIONAL HIGHWAY TRAFFIC SAFE...</td>\n",
       "      <td>000015339000215021000000202</td>\n",
       "      <td>NaN</td>\n",
       "      <td>NaN</td>\n",
       "      <td>NaN</td>\n",
       "    </tr>\n",
       "    <tr>\n",
       "      <th>1</th>\n",
       "      <td>2</td>\n",
       "      <td>02V288000</td>\n",
       "      <td>FORD</td>\n",
       "      <td>FOCUS</td>\n",
       "      <td>2001</td>\n",
       "      <td>02S41</td>\n",
       "      <td>ELECTRICAL SYSTEM:12V/24V/48V BATTERY:CABLES</td>\n",
       "      <td>FORD MOTOR COMPANY</td>\n",
       "      <td>19990719.0</td>\n",
       "      <td>20010531.0</td>\n",
       "      <td>...</td>\n",
       "      <td>NaN</td>\n",
       "      <td>NaN</td>\n",
       "      <td>CERTAIN PASSENGER VEHICLES EQUIPPED WITH ZETEC...</td>\n",
       "      <td>THIS, IN TURN, COULD CAUSE THE BATTERY CABLES ...</td>\n",
       "      <td>DEALERS WILL INSPECT THE BATTERY CABLES FOR TH...</td>\n",
       "      <td>ALSO CONTACT THE NATIONAL HIGHWAY TRAFFIC SAFE...</td>\n",
       "      <td>000015339000215022000000202</td>\n",
       "      <td>NaN</td>\n",
       "      <td>NaN</td>\n",
       "      <td>NaN</td>\n",
       "    </tr>\n",
       "    <tr>\n",
       "      <th>2</th>\n",
       "      <td>3</td>\n",
       "      <td>02V236000</td>\n",
       "      <td>JAYCO</td>\n",
       "      <td>FT EAGLE 10 SG</td>\n",
       "      <td>2003</td>\n",
       "      <td>NaN</td>\n",
       "      <td>EQUIPMENT:OTHER:LABELS</td>\n",
       "      <td>JAYCO, INC.</td>\n",
       "      <td>20020730.0</td>\n",
       "      <td>20020813.0</td>\n",
       "      <td>...</td>\n",
       "      <td>NaN</td>\n",
       "      <td>NaN</td>\n",
       "      <td>ON CERTAIN FOLDING TENT CAMPERS, THE FEDERAL C...</td>\n",
       "      <td>IF THE TIRES WERE INFLATED TO 80 PSI, THEY COU...</td>\n",
       "      <td>OWNERS WILL BE MAILED CORRECT LABELS FOR INSTA...</td>\n",
       "      <td>ALSO, CUSTOMERS CAN CONTACT THE NATIONAL HIGHW...</td>\n",
       "      <td>000015210000106403000000349</td>\n",
       "      <td>NaN</td>\n",
       "      <td>NaN</td>\n",
       "      <td>NaN</td>\n",
       "    </tr>\n",
       "    <tr>\n",
       "      <th>3</th>\n",
       "      <td>4</td>\n",
       "      <td>02V237000</td>\n",
       "      <td>HOLIDAY RAMBLER</td>\n",
       "      <td>ENDEAVOR</td>\n",
       "      <td>2000</td>\n",
       "      <td>NaN</td>\n",
       "      <td>STRUCTURE</td>\n",
       "      <td>MONACO COACH CORP.</td>\n",
       "      <td>NaN</td>\n",
       "      <td>NaN</td>\n",
       "      <td>...</td>\n",
       "      <td>NaN</td>\n",
       "      <td>NaN</td>\n",
       "      <td>ON CERTAIN CLASS A MOTOR HOMES, THE FLOOR TRUS...</td>\n",
       "      <td>CONDITIONS CAN RESULT IN THE BOTTOMING OUT THE...</td>\n",
       "      <td>DEALERS WILL INSPECT THE FLOOR TRUSS NETWORK S...</td>\n",
       "      <td>CUSTOMERS CAN ALSO CONTACT THE NATIONAL HIGHWA...</td>\n",
       "      <td>000015211000083965000000272</td>\n",
       "      <td>NaN</td>\n",
       "      <td>NaN</td>\n",
       "      <td>NaN</td>\n",
       "    </tr>\n",
       "    <tr>\n",
       "      <th>4</th>\n",
       "      <td>5</td>\n",
       "      <td>02V237000</td>\n",
       "      <td>HOLIDAY RAMBLER</td>\n",
       "      <td>ENDEAVOR</td>\n",
       "      <td>1999</td>\n",
       "      <td>NaN</td>\n",
       "      <td>STRUCTURE</td>\n",
       "      <td>MONACO COACH CORP.</td>\n",
       "      <td>NaN</td>\n",
       "      <td>NaN</td>\n",
       "      <td>...</td>\n",
       "      <td>NaN</td>\n",
       "      <td>NaN</td>\n",
       "      <td>ON CERTAIN CLASS A MOTOR HOMES, THE FLOOR TRUS...</td>\n",
       "      <td>CONDITIONS CAN RESULT IN THE BOTTOMING OUT THE...</td>\n",
       "      <td>DEALERS WILL INSPECT THE FLOOR TRUSS NETWORK S...</td>\n",
       "      <td>CUSTOMERS CAN ALSO CONTACT THE NATIONAL HIGHWA...</td>\n",
       "      <td>000015211000080938000000272</td>\n",
       "      <td>NaN</td>\n",
       "      <td>NaN</td>\n",
       "      <td>NaN</td>\n",
       "    </tr>\n",
       "  </tbody>\n",
       "</table>\n",
       "<p>5 rows × 27 columns</p>\n",
       "</div>"
      ],
      "text/plain": [
       "   RECORD_ID     CAMPNO          MAKETXT        MODELTXT  YEARTXT MFGCAMPNO  \\\n",
       "0          1  02V288000             FORD           FOCUS     2000     02S41   \n",
       "1          2  02V288000             FORD           FOCUS     2001     02S41   \n",
       "2          3  02V236000            JAYCO  FT EAGLE 10 SG     2003       NaN   \n",
       "3          4  02V237000  HOLIDAY RAMBLER        ENDEAVOR     2000       NaN   \n",
       "4          5  02V237000  HOLIDAY RAMBLER        ENDEAVOR     1999       NaN   \n",
       "\n",
       "                                       COMPNAME             MFGNAME  \\\n",
       "0  ELECTRICAL SYSTEM:12V/24V/48V BATTERY:CABLES  FORD MOTOR COMPANY   \n",
       "1  ELECTRICAL SYSTEM:12V/24V/48V BATTERY:CABLES  FORD MOTOR COMPANY   \n",
       "2                        EQUIPMENT:OTHER:LABELS         JAYCO, INC.   \n",
       "3                                     STRUCTURE  MONACO COACH CORP.   \n",
       "4                                     STRUCTURE  MONACO COACH CORP.   \n",
       "\n",
       "        BGMAN      ENDMAN  ... RPNO  FMVSS  \\\n",
       "0  19990719.0  20010531.0  ...  NaN    NaN   \n",
       "1  19990719.0  20010531.0  ...  NaN    NaN   \n",
       "2  20020730.0  20020813.0  ...  NaN    NaN   \n",
       "3         NaN         NaN  ...  NaN    NaN   \n",
       "4         NaN         NaN  ...  NaN    NaN   \n",
       "\n",
       "                                         DESC_DEFECT  \\\n",
       "0  CERTAIN PASSENGER VEHICLES EQUIPPED WITH ZETEC...   \n",
       "1  CERTAIN PASSENGER VEHICLES EQUIPPED WITH ZETEC...   \n",
       "2  ON CERTAIN FOLDING TENT CAMPERS, THE FEDERAL C...   \n",
       "3  ON CERTAIN CLASS A MOTOR HOMES, THE FLOOR TRUS...   \n",
       "4  ON CERTAIN CLASS A MOTOR HOMES, THE FLOOR TRUS...   \n",
       "\n",
       "                                  CONSEQUENCE_DEFECT  \\\n",
       "0  THIS, IN TURN, COULD CAUSE THE BATTERY CABLES ...   \n",
       "1  THIS, IN TURN, COULD CAUSE THE BATTERY CABLES ...   \n",
       "2  IF THE TIRES WERE INFLATED TO 80 PSI, THEY COU...   \n",
       "3  CONDITIONS CAN RESULT IN THE BOTTOMING OUT THE...   \n",
       "4  CONDITIONS CAN RESULT IN THE BOTTOMING OUT THE...   \n",
       "\n",
       "                                   CORRECTIVE_ACTION  \\\n",
       "0  DEALERS WILL INSPECT THE BATTERY CABLES FOR TH...   \n",
       "1  DEALERS WILL INSPECT THE BATTERY CABLES FOR TH...   \n",
       "2  OWNERS WILL BE MAILED CORRECT LABELS FOR INSTA...   \n",
       "3  DEALERS WILL INSPECT THE FLOOR TRUSS NETWORK S...   \n",
       "4  DEALERS WILL INSPECT THE FLOOR TRUSS NETWORK S...   \n",
       "\n",
       "                                               NOTES  \\\n",
       "0  ALSO CONTACT THE NATIONAL HIGHWAY TRAFFIC SAFE...   \n",
       "1  ALSO CONTACT THE NATIONAL HIGHWAY TRAFFIC SAFE...   \n",
       "2  ALSO, CUSTOMERS CAN CONTACT THE NATIONAL HIGHW...   \n",
       "3  CUSTOMERS CAN ALSO CONTACT THE NATIONAL HIGHWA...   \n",
       "4  CUSTOMERS CAN ALSO CONTACT THE NATIONAL HIGHWA...   \n",
       "\n",
       "                   RCL_CMPT_ID MFR_COMP_NAME MFR_COMP_DESC MFR_COMP_PTNO  \n",
       "0  000015339000215021000000202           NaN           NaN           NaN  \n",
       "1  000015339000215022000000202           NaN           NaN           NaN  \n",
       "2  000015210000106403000000349           NaN           NaN           NaN  \n",
       "3  000015211000083965000000272           NaN           NaN           NaN  \n",
       "4  000015211000080938000000272           NaN           NaN           NaN  \n",
       "\n",
       "[5 rows x 27 columns]"
      ]
     },
     "execution_count": 3,
     "metadata": {},
     "output_type": "execute_result"
    }
   ],
   "source": [
    "df_recall = pd.read_csv(f\"{DATASET_DIR}/FLAT_RCL.txt\", sep='\\t', header=None, on_bad_lines='skip')\n",
    "# use the column names listed above\n",
    "df_recall.columns = ['RECORD_ID', 'CAMPNO', 'MAKETXT', 'MODELTXT', 'YEARTXT', 'MFGCAMPNO', 'COMPNAME', 'MFGNAME', 'BGMAN', 'ENDMAN', 'RCLTYPECD', 'POTAFF', 'ODATE', 'INFLUENCED_BY', 'MFGTXT', 'RCDATE', 'DATEA', 'RPNO', 'FMVSS', 'DESC_DEFECT', 'CONSEQUENCE_DEFECT', 'CORRECTIVE_ACTION', 'NOTES', 'RCL_CMPT_ID', 'MFR_COMP_NAME', 'MFR_COMP_DESC', 'MFR_COMP_PTNO']\n",
    "df_recall.head()"
   ]
  },
  {
   "cell_type": "markdown",
   "metadata": {},
   "source": [
    "## Complaints\n",
    "2025 data"
   ]
  },
  {
   "cell_type": "code",
   "execution_count": 4,
   "metadata": {},
   "outputs": [
    {
     "name": "stderr",
     "output_type": "stream",
     "text": [
      "C:\\Users\\harri\\AppData\\Local\\Temp\\ipykernel_49568\\2535702850.py:1: DtypeWarning: Columns (29,32,35,41,44) have mixed types. Specify dtype option on import or set low_memory=False.\n",
      "  df_complaints = pd.read_csv(f\"{DATASET_DIR}/COMPLAINTS_RECEIVED_2025-2025.txt\",\n"
     ]
    }
   ],
   "source": [
    "df_complaints = pd.read_csv(f\"{DATASET_DIR}/COMPLAINTS_RECEIVED_2025-2025.txt\", \n",
    "                            sep='\\t', \n",
    "                            header=None, \n",
    "                            index_col=0)\n",
    "df_complaints.columns = ['ODINO', 'MFR_NAME', 'MAKETXT', 'MODELTXT', 'YEARTXT', 'CRASH', 'FAILDATE', 'FIRE', 'INJURED', 'DEATHS', 'COMPDESC', 'CITY', 'STATE', 'VIN', 'DATEA', 'LDATE', 'MILES', 'OCCURENCES', 'CDESCR', 'CMPL_TYPE', 'POLICE_RPT_YN', 'PURCH_DT', 'ORIG_OWNER_YN', 'ANTI_BRAKES_YN', 'CRUISE_CONT_YN', 'NUM_CYLS', 'DRIVE_TRAIN', 'FUEL_SYS', 'FUEL_TYPE',\n",
    "              'TRANS_TYPE', 'VEH_SPEED', 'DOT', 'TIRE_SIZE', 'LOC_OF_TIRE', 'TIRE_FAIL_TYPE', 'ORIG_EQUIP_YN', 'MANUF_DT', 'SEAT_TYPE', 'RESTRAINT_TYPE', 'DEALER_NAME', 'DEALER_TEL', 'DEALER_CITY', 'DEALER_STATE', 'DEALER_ZIP', 'PROD_TYPE', 'REPAIRED_YN', 'MEDICAL_ATTN', 'VEHICLES_TOWED_YN']"
   ]
  },
  {
   "cell_type": "code",
   "execution_count": 5,
   "metadata": {},
   "outputs": [
    {
     "data": {
      "text/plain": [
       "17239"
      ]
     },
     "execution_count": 5,
     "metadata": {},
     "output_type": "execute_result"
    }
   ],
   "source": [
    "len(df_complaints)"
   ]
  },
  {
   "cell_type": "code",
   "execution_count": 6,
   "metadata": {},
   "outputs": [
    {
     "data": {
      "text/html": [
       "<div>\n",
       "<style scoped>\n",
       "    .dataframe tbody tr th:only-of-type {\n",
       "        vertical-align: middle;\n",
       "    }\n",
       "\n",
       "    .dataframe tbody tr th {\n",
       "        vertical-align: top;\n",
       "    }\n",
       "\n",
       "    .dataframe thead th {\n",
       "        text-align: right;\n",
       "    }\n",
       "</style>\n",
       "<table border=\"1\" class=\"dataframe\">\n",
       "  <thead>\n",
       "    <tr style=\"text-align: right;\">\n",
       "      <th></th>\n",
       "      <th>ODINO</th>\n",
       "      <th>MFR_NAME</th>\n",
       "      <th>MAKETXT</th>\n",
       "      <th>MODELTXT</th>\n",
       "      <th>YEARTXT</th>\n",
       "      <th>CRASH</th>\n",
       "      <th>FAILDATE</th>\n",
       "      <th>FIRE</th>\n",
       "      <th>INJURED</th>\n",
       "      <th>DEATHS</th>\n",
       "      <th>...</th>\n",
       "      <th>RESTRAINT_TYPE</th>\n",
       "      <th>DEALER_NAME</th>\n",
       "      <th>DEALER_TEL</th>\n",
       "      <th>DEALER_CITY</th>\n",
       "      <th>DEALER_STATE</th>\n",
       "      <th>DEALER_ZIP</th>\n",
       "      <th>PROD_TYPE</th>\n",
       "      <th>REPAIRED_YN</th>\n",
       "      <th>MEDICAL_ATTN</th>\n",
       "      <th>VEHICLES_TOWED_YN</th>\n",
       "    </tr>\n",
       "    <tr>\n",
       "      <th>0</th>\n",
       "      <th></th>\n",
       "      <th></th>\n",
       "      <th></th>\n",
       "      <th></th>\n",
       "      <th></th>\n",
       "      <th></th>\n",
       "      <th></th>\n",
       "      <th></th>\n",
       "      <th></th>\n",
       "      <th></th>\n",
       "      <th></th>\n",
       "      <th></th>\n",
       "      <th></th>\n",
       "      <th></th>\n",
       "      <th></th>\n",
       "      <th></th>\n",
       "      <th></th>\n",
       "      <th></th>\n",
       "      <th></th>\n",
       "      <th></th>\n",
       "      <th></th>\n",
       "    </tr>\n",
       "  </thead>\n",
       "  <tbody>\n",
       "    <tr>\n",
       "      <th>2051723</th>\n",
       "      <td>11633472</td>\n",
       "      <td>Ford Motor Company</td>\n",
       "      <td>FORD</td>\n",
       "      <td>EXPLORER</td>\n",
       "      <td>2016</td>\n",
       "      <td>N</td>\n",
       "      <td>20240701</td>\n",
       "      <td>N</td>\n",
       "      <td>0</td>\n",
       "      <td>0</td>\n",
       "      <td>...</td>\n",
       "      <td>NaN</td>\n",
       "      <td>NaN</td>\n",
       "      <td>NaN</td>\n",
       "      <td>NaN</td>\n",
       "      <td>NaN</td>\n",
       "      <td>NaN</td>\n",
       "      <td>V</td>\n",
       "      <td>NaN</td>\n",
       "      <td>N</td>\n",
       "      <td>N</td>\n",
       "    </tr>\n",
       "    <tr>\n",
       "      <th>2051724</th>\n",
       "      <td>11633473</td>\n",
       "      <td>Chrysler (FCA US, LLC)</td>\n",
       "      <td>JEEP</td>\n",
       "      <td>GLADIATOR</td>\n",
       "      <td>2022</td>\n",
       "      <td>N</td>\n",
       "      <td>20241231</td>\n",
       "      <td>N</td>\n",
       "      <td>0</td>\n",
       "      <td>0</td>\n",
       "      <td>...</td>\n",
       "      <td>NaN</td>\n",
       "      <td>NaN</td>\n",
       "      <td>NaN</td>\n",
       "      <td>NaN</td>\n",
       "      <td>NaN</td>\n",
       "      <td>NaN</td>\n",
       "      <td>V</td>\n",
       "      <td>NaN</td>\n",
       "      <td>N</td>\n",
       "      <td>N</td>\n",
       "    </tr>\n",
       "    <tr>\n",
       "      <th>2051725</th>\n",
       "      <td>11633474</td>\n",
       "      <td>Toyota Motor Corporation</td>\n",
       "      <td>TOYOTA</td>\n",
       "      <td>TUNDRA</td>\n",
       "      <td>2024</td>\n",
       "      <td>N</td>\n",
       "      <td>20241101</td>\n",
       "      <td>N</td>\n",
       "      <td>0</td>\n",
       "      <td>0</td>\n",
       "      <td>...</td>\n",
       "      <td>NaN</td>\n",
       "      <td>NaN</td>\n",
       "      <td>NaN</td>\n",
       "      <td>NaN</td>\n",
       "      <td>NaN</td>\n",
       "      <td>NaN</td>\n",
       "      <td>V</td>\n",
       "      <td>NaN</td>\n",
       "      <td>N</td>\n",
       "      <td>N</td>\n",
       "    </tr>\n",
       "    <tr>\n",
       "      <th>2051726</th>\n",
       "      <td>11633475</td>\n",
       "      <td>General Motors, LLC</td>\n",
       "      <td>BUICK</td>\n",
       "      <td>ENVISTA</td>\n",
       "      <td>2024</td>\n",
       "      <td>N</td>\n",
       "      <td>20241229</td>\n",
       "      <td>N</td>\n",
       "      <td>0</td>\n",
       "      <td>0</td>\n",
       "      <td>...</td>\n",
       "      <td>NaN</td>\n",
       "      <td>NaN</td>\n",
       "      <td>NaN</td>\n",
       "      <td>NaN</td>\n",
       "      <td>NaN</td>\n",
       "      <td>NaN</td>\n",
       "      <td>V</td>\n",
       "      <td>NaN</td>\n",
       "      <td>N</td>\n",
       "      <td>N</td>\n",
       "    </tr>\n",
       "    <tr>\n",
       "      <th>2051727</th>\n",
       "      <td>11633475</td>\n",
       "      <td>General Motors, LLC</td>\n",
       "      <td>BUICK</td>\n",
       "      <td>ENVISTA</td>\n",
       "      <td>2024</td>\n",
       "      <td>N</td>\n",
       "      <td>20241229</td>\n",
       "      <td>N</td>\n",
       "      <td>0</td>\n",
       "      <td>0</td>\n",
       "      <td>...</td>\n",
       "      <td>NaN</td>\n",
       "      <td>NaN</td>\n",
       "      <td>NaN</td>\n",
       "      <td>NaN</td>\n",
       "      <td>NaN</td>\n",
       "      <td>NaN</td>\n",
       "      <td>V</td>\n",
       "      <td>NaN</td>\n",
       "      <td>N</td>\n",
       "      <td>N</td>\n",
       "    </tr>\n",
       "  </tbody>\n",
       "</table>\n",
       "<p>5 rows × 48 columns</p>\n",
       "</div>"
      ],
      "text/plain": [
       "            ODINO                  MFR_NAME MAKETXT   MODELTXT  YEARTXT CRASH  \\\n",
       "0                                                                               \n",
       "2051723  11633472        Ford Motor Company    FORD   EXPLORER     2016     N   \n",
       "2051724  11633473    Chrysler (FCA US, LLC)    JEEP  GLADIATOR     2022     N   \n",
       "2051725  11633474  Toyota Motor Corporation  TOYOTA     TUNDRA     2024     N   \n",
       "2051726  11633475       General Motors, LLC   BUICK    ENVISTA     2024     N   \n",
       "2051727  11633475       General Motors, LLC   BUICK    ENVISTA     2024     N   \n",
       "\n",
       "         FAILDATE FIRE  INJURED  DEATHS  ... RESTRAINT_TYPE DEALER_NAME  \\\n",
       "0                                        ...                              \n",
       "2051723  20240701    N        0       0  ...            NaN         NaN   \n",
       "2051724  20241231    N        0       0  ...            NaN         NaN   \n",
       "2051725  20241101    N        0       0  ...            NaN         NaN   \n",
       "2051726  20241229    N        0       0  ...            NaN         NaN   \n",
       "2051727  20241229    N        0       0  ...            NaN         NaN   \n",
       "\n",
       "        DEALER_TEL DEALER_CITY  DEALER_STATE  DEALER_ZIP  PROD_TYPE  \\\n",
       "0                                                                     \n",
       "2051723        NaN         NaN           NaN         NaN          V   \n",
       "2051724        NaN         NaN           NaN         NaN          V   \n",
       "2051725        NaN         NaN           NaN         NaN          V   \n",
       "2051726        NaN         NaN           NaN         NaN          V   \n",
       "2051727        NaN         NaN           NaN         NaN          V   \n",
       "\n",
       "         REPAIRED_YN MEDICAL_ATTN VEHICLES_TOWED_YN  \n",
       "0                                                    \n",
       "2051723          NaN            N                 N  \n",
       "2051724          NaN            N                 N  \n",
       "2051725          NaN            N                 N  \n",
       "2051726          NaN            N                 N  \n",
       "2051727          NaN            N                 N  \n",
       "\n",
       "[5 rows x 48 columns]"
      ]
     },
     "execution_count": 6,
     "metadata": {},
     "output_type": "execute_result"
    }
   ],
   "source": [
    "df_complaints.head()"
   ]
  },
  {
   "cell_type": "markdown",
   "metadata": {},
   "source": [
    "## Column Intersection Between Recall and Complaints"
   ]
  },
  {
   "cell_type": "code",
   "execution_count": 7,
   "metadata": {},
   "outputs": [
    {
     "data": {
      "text/plain": [
       "{'DATEA', 'MAKETXT', 'MODELTXT', 'YEARTXT'}"
      ]
     },
     "execution_count": 7,
     "metadata": {},
     "output_type": "execute_result"
    }
   ],
   "source": [
    "set(df_complaints.columns) & set(df_recall.columns)"
   ]
  },
  {
   "cell_type": "code",
   "execution_count": 8,
   "metadata": {},
   "outputs": [],
   "source": [
    "def fill_string_nulls(df : pd.DataFrame):\n",
    "    # Fill null string columns in DataFrame\n",
    "    for column in df.columns:\n",
    "        if df[column].dtype == object:\n",
    "            df[column] = df[column].fillna(\"\").str.replace(\"\\s+\", \" \", regex=True)"
   ]
  },
  {
   "cell_type": "markdown",
   "metadata": {},
   "source": [
    "# Preprocessing"
   ]
  },
  {
   "cell_type": "markdown",
   "metadata": {},
   "source": [
    "### Setting up Text"
   ]
  },
  {
   "cell_type": "code",
   "execution_count": 9,
   "metadata": {},
   "outputs": [],
   "source": [
    "fill_string_nulls(df_complaints)\n",
    "fill_string_nulls(df_recall)"
   ]
  },
  {
   "cell_type": "code",
   "execution_count": 10,
   "metadata": {},
   "outputs": [],
   "source": [
    "df_complaints[\"MMYTXT\"] = (\n",
    "    df_complaints[\"MAKETXT\"] + \" \" + df_complaints[\"MODELTXT\"] + \" \" + df_complaints[\"YEARTXT\"].astype(str).fillna(\"\")\n",
    ")\n",
    "df_recall[\"MMYTXT\"] = (\n",
    "    df_recall[\"MAKETXT\"] + \" \" + df_recall[\"MODELTXT\"] + \" \" + df_recall[\"YEARTXT\"].astype(str).fillna(\"\")\n",
    ")\n",
    "df_recall[\"CDESCR\"] = df_recall[\"DESC_DEFECT\"].str.cat(\n",
    "    df_recall[[\"CONSEQUENCE_DEFECT\", \"CORRECTIVE_ACTION\"]],\n",
    "    sep=\"\\n\\n \"\n",
    ")"
   ]
  },
  {
   "cell_type": "code",
   "execution_count": 11,
   "metadata": {},
   "outputs": [],
   "source": [
    "df_complaints[\"YEARTXT\"] = df_complaints[\"YEARTXT\"].astype(str) # None entries get converted to literal string 'None'\n",
    "df_recall[\"YEARTXT\"] = df_recall[\"YEARTXT\"].astype(str)"
   ]
  },
  {
   "cell_type": "code",
   "execution_count": 12,
   "metadata": {},
   "outputs": [
    {
     "data": {
      "text/plain": [
       "Index(['RECORD_ID', 'CAMPNO', 'MAKETXT', 'MODELTXT', 'YEARTXT', 'MFGCAMPNO',\n",
       "       'COMPNAME', 'MFGNAME', 'BGMAN', 'ENDMAN', 'RCLTYPECD', 'POTAFF',\n",
       "       'ODATE', 'INFLUENCED_BY', 'MFGTXT', 'RCDATE', 'DATEA', 'RPNO', 'FMVSS',\n",
       "       'DESC_DEFECT', 'CONSEQUENCE_DEFECT', 'CORRECTIVE_ACTION', 'NOTES',\n",
       "       'RCL_CMPT_ID', 'MFR_COMP_NAME', 'MFR_COMP_DESC', 'MFR_COMP_PTNO',\n",
       "       'MMYTXT', 'CDESCR'],\n",
       "      dtype='object')"
      ]
     },
     "execution_count": 12,
     "metadata": {},
     "output_type": "execute_result"
    }
   ],
   "source": [
    "df_recall.columns"
   ]
  },
  {
   "cell_type": "markdown",
   "metadata": {},
   "source": [
    "### Remove Duplicates"
   ]
  },
  {
   "cell_type": "code",
   "execution_count": 13,
   "metadata": {},
   "outputs": [
    {
     "data": {
      "text/plain": [
       "Index(['ODINO', 'MFR_NAME', 'MAKETXT', 'MODELTXT', 'YEARTXT', 'CRASH',\n",
       "       'FAILDATE', 'FIRE', 'INJURED', 'DEATHS', 'COMPDESC', 'CITY', 'STATE',\n",
       "       'VIN', 'DATEA', 'LDATE', 'MILES', 'OCCURENCES', 'CDESCR', 'CMPL_TYPE',\n",
       "       'POLICE_RPT_YN', 'PURCH_DT', 'ORIG_OWNER_YN', 'ANTI_BRAKES_YN',\n",
       "       'CRUISE_CONT_YN', 'NUM_CYLS', 'DRIVE_TRAIN', 'FUEL_SYS', 'FUEL_TYPE',\n",
       "       'TRANS_TYPE', 'VEH_SPEED', 'DOT', 'TIRE_SIZE', 'LOC_OF_TIRE',\n",
       "       'TIRE_FAIL_TYPE', 'ORIG_EQUIP_YN', 'MANUF_DT', 'SEAT_TYPE',\n",
       "       'RESTRAINT_TYPE', 'DEALER_NAME', 'DEALER_TEL', 'DEALER_CITY',\n",
       "       'DEALER_STATE', 'DEALER_ZIP', 'PROD_TYPE', 'REPAIRED_YN',\n",
       "       'MEDICAL_ATTN', 'VEHICLES_TOWED_YN', 'MMYTXT'],\n",
       "      dtype='object')"
      ]
     },
     "execution_count": 13,
     "metadata": {},
     "output_type": "execute_result"
    }
   ],
   "source": [
    "df_complaints.columns"
   ]
  },
  {
   "cell_type": "code",
   "execution_count": 14,
   "metadata": {},
   "outputs": [
    {
     "data": {
      "text/plain": [
       "0\n",
       "2051723    11633472\n",
       "2051724    11633473\n",
       "2051725    11633474\n",
       "2051726    11633475\n",
       "2051727    11633475\n",
       "             ...   \n",
       "2068958    11645456\n",
       "2068959    11645457\n",
       "2068960    11645457\n",
       "2068961    11645457\n",
       "2068962    11645458\n",
       "Name: ODINO, Length: 17239, dtype: int64"
      ]
     },
     "execution_count": 14,
     "metadata": {},
     "output_type": "execute_result"
    }
   ],
   "source": [
    "df_complaints[\"ODINO\"]"
   ]
  },
  {
   "cell_type": "code",
   "execution_count": 15,
   "metadata": {},
   "outputs": [],
   "source": [
    "df_complaints_grouped = df_complaints.groupby(\"CDESCR\").agg(\n",
    "    {\n",
    "        \"COMPDESC\" : lambda x: ', '.join(set(x)),\n",
    "        \"MMYTXT\" : lambda x: ', '.join(set(x)),\n",
    "        \"ODINO\" : lambda x: ','.join(set(x.astype(str))),\n",
    "    }\n",
    ")\n"
   ]
  },
  {
   "cell_type": "code",
   "execution_count": 16,
   "metadata": {},
   "outputs": [],
   "source": [
    "df_complaints_size = df_complaints.groupby(\"CDESCR\").size()\n",
    "df_complaints_size.name = \"NUMCOMPLAINTS\""
   ]
  },
  {
   "cell_type": "code",
   "execution_count": 17,
   "metadata": {},
   "outputs": [],
   "source": [
    "df_complaints_new = pd.merge(\n",
    "    df_complaints_grouped,\n",
    "    df_complaints_size,\n",
    "    left_index=True,\n",
    "    right_index=True\n",
    ").reset_index()"
   ]
  },
  {
   "cell_type": "code",
   "execution_count": 18,
   "metadata": {},
   "outputs": [],
   "source": [
    "df_complaints_new.rename(\n",
    "    {\"ODINO\":\"RECORDID\"},\n",
    "    axis=1, inplace=True\n",
    ")"
   ]
  },
  {
   "cell_type": "code",
   "execution_count": 19,
   "metadata": {},
   "outputs": [
    {
     "data": {
      "text/html": [
       "<div>\n",
       "<style scoped>\n",
       "    .dataframe tbody tr th:only-of-type {\n",
       "        vertical-align: middle;\n",
       "    }\n",
       "\n",
       "    .dataframe tbody tr th {\n",
       "        vertical-align: top;\n",
       "    }\n",
       "\n",
       "    .dataframe thead th {\n",
       "        text-align: right;\n",
       "    }\n",
       "</style>\n",
       "<table border=\"1\" class=\"dataframe\">\n",
       "  <thead>\n",
       "    <tr style=\"text-align: right;\">\n",
       "      <th></th>\n",
       "      <th>CDESCR</th>\n",
       "      <th>COMPDESC</th>\n",
       "      <th>MMYTXT</th>\n",
       "      <th>RECORDID</th>\n",
       "      <th>NUMCOMPLAINTS</th>\n",
       "    </tr>\n",
       "  </thead>\n",
       "  <tbody>\n",
       "    <tr>\n",
       "      <th>0</th>\n",
       "      <td></td>\n",
       "      <td>ENGINE, UNKNOWN OR OTHER, ELECTRICAL SYSTEM, F...</td>\n",
       "      <td>FORD F-150 2001, NISSAN ALTIMA 2013, CHEVROLET...</td>\n",
       "      <td>11637459,11643067,11641533,11644534</td>\n",
       "      <td>8</td>\n",
       "    </tr>\n",
       "    <tr>\n",
       "      <th>1</th>\n",
       "      <td>- Autopoilt/FSD had a failure and malfunction...</td>\n",
       "      <td>SERVICE BRAKES, UNKNOWN OR OTHER, STEERING</td>\n",
       "      <td>TESLA MODEL 3 2025</td>\n",
       "      <td>11638740</td>\n",
       "      <td>3</td>\n",
       "    </tr>\n",
       "    <tr>\n",
       "      <th>2</th>\n",
       "      <td>-auto start/stop \"feature\" Since there is no ...</td>\n",
       "      <td>FORWARD COLLISION AVOIDANCE: AUTOMATIC EMERGEN...</td>\n",
       "      <td>HYUNDAI TUCSON 2025</td>\n",
       "      <td>11642579</td>\n",
       "      <td>3</td>\n",
       "    </tr>\n",
       "    <tr>\n",
       "      <th>3</th>\n",
       "      <td>1. Transmission recall N242454440 Chevy 2500h...</td>\n",
       "      <td>POWER TRAIN</td>\n",
       "      <td>CHEVROLET SILVERADO 2500 2020</td>\n",
       "      <td>11639672</td>\n",
       "      <td>1</td>\n",
       "    </tr>\n",
       "    <tr>\n",
       "      <th>4</th>\n",
       "      <td>1/21/24 was at a stop light. vehicle was idli...</td>\n",
       "      <td>ENGINE, POWER TRAIN, ELECTRICAL SYSTEM</td>\n",
       "      <td>RAM 1500 2022</td>\n",
       "      <td>11638057</td>\n",
       "      <td>3</td>\n",
       "    </tr>\n",
       "  </tbody>\n",
       "</table>\n",
       "</div>"
      ],
      "text/plain": [
       "                                              CDESCR  \\\n",
       "0                                                      \n",
       "1   - Autopoilt/FSD had a failure and malfunction...   \n",
       "2   -auto start/stop \"feature\" Since there is no ...   \n",
       "3   1. Transmission recall N242454440 Chevy 2500h...   \n",
       "4   1/21/24 was at a stop light. vehicle was idli...   \n",
       "\n",
       "                                            COMPDESC  \\\n",
       "0  ENGINE, UNKNOWN OR OTHER, ELECTRICAL SYSTEM, F...   \n",
       "1         SERVICE BRAKES, UNKNOWN OR OTHER, STEERING   \n",
       "2  FORWARD COLLISION AVOIDANCE: AUTOMATIC EMERGEN...   \n",
       "3                                        POWER TRAIN   \n",
       "4             ENGINE, POWER TRAIN, ELECTRICAL SYSTEM   \n",
       "\n",
       "                                              MMYTXT  \\\n",
       "0  FORD F-150 2001, NISSAN ALTIMA 2013, CHEVROLET...   \n",
       "1                                 TESLA MODEL 3 2025   \n",
       "2                                HYUNDAI TUCSON 2025   \n",
       "3                      CHEVROLET SILVERADO 2500 2020   \n",
       "4                                      RAM 1500 2022   \n",
       "\n",
       "                              RECORDID  NUMCOMPLAINTS  \n",
       "0  11637459,11643067,11641533,11644534              8  \n",
       "1                             11638740              3  \n",
       "2                             11642579              3  \n",
       "3                             11639672              1  \n",
       "4                             11638057              3  "
      ]
     },
     "execution_count": 19,
     "metadata": {},
     "output_type": "execute_result"
    }
   ],
   "source": [
    "df_complaints_new.head()"
   ]
  },
  {
   "cell_type": "code",
   "execution_count": 20,
   "metadata": {},
   "outputs": [
    {
     "data": {
      "text/plain": [
       "Index(['RECORD_ID', 'CAMPNO', 'MAKETXT', 'MODELTXT', 'YEARTXT', 'MFGCAMPNO',\n",
       "       'COMPNAME', 'MFGNAME', 'BGMAN', 'ENDMAN', 'RCLTYPECD', 'POTAFF',\n",
       "       'ODATE', 'INFLUENCED_BY', 'MFGTXT', 'RCDATE', 'DATEA', 'RPNO', 'FMVSS',\n",
       "       'DESC_DEFECT', 'CONSEQUENCE_DEFECT', 'CORRECTIVE_ACTION', 'NOTES',\n",
       "       'RCL_CMPT_ID', 'MFR_COMP_NAME', 'MFR_COMP_DESC', 'MFR_COMP_PTNO',\n",
       "       'MMYTXT', 'CDESCR'],\n",
       "      dtype='object')"
      ]
     },
     "execution_count": 20,
     "metadata": {},
     "output_type": "execute_result"
    }
   ],
   "source": [
    "df_recall.columns"
   ]
  },
  {
   "cell_type": "code",
   "execution_count": 21,
   "metadata": {},
   "outputs": [],
   "source": [
    "df_recall_agg = df_recall.groupby(\"CDESCR\").agg(\n",
    "    {\n",
    "        \"COMPNAME\" : lambda x: ', '.join(set(x)),\n",
    "        \"MMYTXT\" : lambda x: ', '.join(set(x)),\n",
    "        \"RECORD_ID\" : lambda x: ', '.join(set(x.astype(str)))\n",
    "    }\n",
    ").reset_index()"
   ]
  },
  {
   "cell_type": "code",
   "execution_count": 23,
   "metadata": {},
   "outputs": [],
   "source": [
    "df_recall_new = df_recall_agg[[\n",
    "    \"COMPNAME\", \"MMYTXT\", \"CDESCR\", \"RECORD_ID\"\n",
    "]].rename(\n",
    "    {\"RECORD_ID\":\"RECORDID\",\n",
    "    \"COMPNAME\":\"COMPDESC\"},\n",
    "    axis=1\n",
    ")"
   ]
  },
  {
   "cell_type": "markdown",
   "metadata": {},
   "source": [
    "# Combine Recall and Complaints"
   ]
  },
  {
   "cell_type": "code",
   "execution_count": 24,
   "metadata": {},
   "outputs": [],
   "source": [
    "df_complaints_new[\"IS_COMPLAINT\"] = True\n",
    "df_recall_new[\"IS_COMPLAINT\"] = False"
   ]
  },
  {
   "cell_type": "code",
   "execution_count": 25,
   "metadata": {},
   "outputs": [],
   "source": [
    "df_final = pd.concat(\n",
    "    [df_complaints_new,\n",
    "    df_recall_new]\n",
    ").reset_index().rename({\"index\":\"INDEX\"})"
   ]
  },
  {
   "cell_type": "code",
   "execution_count": 26,
   "metadata": {},
   "outputs": [
    {
     "data": {
      "text/html": [
       "<div>\n",
       "<style scoped>\n",
       "    .dataframe tbody tr th:only-of-type {\n",
       "        vertical-align: middle;\n",
       "    }\n",
       "\n",
       "    .dataframe tbody tr th {\n",
       "        vertical-align: top;\n",
       "    }\n",
       "\n",
       "    .dataframe thead th {\n",
       "        text-align: right;\n",
       "    }\n",
       "</style>\n",
       "<table border=\"1\" class=\"dataframe\">\n",
       "  <thead>\n",
       "    <tr style=\"text-align: right;\">\n",
       "      <th></th>\n",
       "      <th>index</th>\n",
       "      <th>CDESCR</th>\n",
       "      <th>COMPDESC</th>\n",
       "      <th>MMYTXT</th>\n",
       "      <th>RECORDID</th>\n",
       "      <th>NUMCOMPLAINTS</th>\n",
       "      <th>IS_COMPLAINT</th>\n",
       "    </tr>\n",
       "  </thead>\n",
       "  <tbody>\n",
       "    <tr>\n",
       "      <th>0</th>\n",
       "      <td>0</td>\n",
       "      <td></td>\n",
       "      <td>ENGINE, UNKNOWN OR OTHER, ELECTRICAL SYSTEM, F...</td>\n",
       "      <td>FORD F-150 2001, NISSAN ALTIMA 2013, CHEVROLET...</td>\n",
       "      <td>11637459,11643067,11641533,11644534</td>\n",
       "      <td>8.0</td>\n",
       "      <td>True</td>\n",
       "    </tr>\n",
       "    <tr>\n",
       "      <th>1</th>\n",
       "      <td>1</td>\n",
       "      <td>- Autopoilt/FSD had a failure and malfunction...</td>\n",
       "      <td>SERVICE BRAKES, UNKNOWN OR OTHER, STEERING</td>\n",
       "      <td>TESLA MODEL 3 2025</td>\n",
       "      <td>11638740</td>\n",
       "      <td>3.0</td>\n",
       "      <td>True</td>\n",
       "    </tr>\n",
       "    <tr>\n",
       "      <th>2</th>\n",
       "      <td>2</td>\n",
       "      <td>-auto start/stop \"feature\" Since there is no ...</td>\n",
       "      <td>FORWARD COLLISION AVOIDANCE: AUTOMATIC EMERGEN...</td>\n",
       "      <td>HYUNDAI TUCSON 2025</td>\n",
       "      <td>11642579</td>\n",
       "      <td>3.0</td>\n",
       "      <td>True</td>\n",
       "    </tr>\n",
       "    <tr>\n",
       "      <th>3</th>\n",
       "      <td>3</td>\n",
       "      <td>1. Transmission recall N242454440 Chevy 2500h...</td>\n",
       "      <td>POWER TRAIN</td>\n",
       "      <td>CHEVROLET SILVERADO 2500 2020</td>\n",
       "      <td>11639672</td>\n",
       "      <td>1.0</td>\n",
       "      <td>True</td>\n",
       "    </tr>\n",
       "    <tr>\n",
       "      <th>4</th>\n",
       "      <td>4</td>\n",
       "      <td>1/21/24 was at a stop light. vehicle was idli...</td>\n",
       "      <td>ENGINE, POWER TRAIN, ELECTRICAL SYSTEM</td>\n",
       "      <td>RAM 1500 2022</td>\n",
       "      <td>11638057</td>\n",
       "      <td>3.0</td>\n",
       "      <td>True</td>\n",
       "    </tr>\n",
       "  </tbody>\n",
       "</table>\n",
       "</div>"
      ],
      "text/plain": [
       "   index                                             CDESCR  \\\n",
       "0      0                                                      \n",
       "1      1   - Autopoilt/FSD had a failure and malfunction...   \n",
       "2      2   -auto start/stop \"feature\" Since there is no ...   \n",
       "3      3   1. Transmission recall N242454440 Chevy 2500h...   \n",
       "4      4   1/21/24 was at a stop light. vehicle was idli...   \n",
       "\n",
       "                                            COMPDESC  \\\n",
       "0  ENGINE, UNKNOWN OR OTHER, ELECTRICAL SYSTEM, F...   \n",
       "1         SERVICE BRAKES, UNKNOWN OR OTHER, STEERING   \n",
       "2  FORWARD COLLISION AVOIDANCE: AUTOMATIC EMERGEN...   \n",
       "3                                        POWER TRAIN   \n",
       "4             ENGINE, POWER TRAIN, ELECTRICAL SYSTEM   \n",
       "\n",
       "                                              MMYTXT  \\\n",
       "0  FORD F-150 2001, NISSAN ALTIMA 2013, CHEVROLET...   \n",
       "1                                 TESLA MODEL 3 2025   \n",
       "2                                HYUNDAI TUCSON 2025   \n",
       "3                      CHEVROLET SILVERADO 2500 2020   \n",
       "4                                      RAM 1500 2022   \n",
       "\n",
       "                              RECORDID  NUMCOMPLAINTS  IS_COMPLAINT  \n",
       "0  11637459,11643067,11641533,11644534            8.0          True  \n",
       "1                             11638740            3.0          True  \n",
       "2                             11642579            3.0          True  \n",
       "3                             11639672            1.0          True  \n",
       "4                             11638057            3.0          True  "
      ]
     },
     "execution_count": 26,
     "metadata": {},
     "output_type": "execute_result"
    }
   ],
   "source": [
    "df_final.head()"
   ]
  },
  {
   "cell_type": "code",
   "execution_count": 27,
   "metadata": {},
   "outputs": [],
   "source": [
    "df_final.to_csv(\n",
    "    f\"{DATASET_DIR}/complaints_and_recalls.csv\",\n",
    "    index=False\n",
    ")"
   ]
  },
  {
   "cell_type": "markdown",
   "metadata": {},
   "source": [
    "# SVD Retrieval\n",
    "\n",
    "1. Convert Documents into TF-IDF vector\n",
    "2. Train Scikit-Learn's SVD algorithm on train set\n",
    "3. Retrieve relevant documents given query\n",
    "4. Show relevant topics"
   ]
  },
  {
   "cell_type": "markdown",
   "metadata": {},
   "source": [
    "# Dense Embedding Retrieval\n",
    "\n",
    "1. Convert documents into vector embeddings (e.g. All-MiniLM for general purpose embeddings, or use Roberta for more semantic embeddings)\n",
    "2. Split documents into chunks and store in vector index/database. \n",
    "3. Send query to vector database"
   ]
  },
  {
   "cell_type": "code",
   "execution_count": null,
   "metadata": {},
   "outputs": [],
   "source": []
  }
 ],
 "metadata": {
  "kernelspec": {
   "display_name": "capstone_vehicle_recall",
   "language": "python",
   "name": "python3"
  },
  "language_info": {
   "codemirror_mode": {
    "name": "ipython",
    "version": 3
   },
   "file_extension": ".py",
   "mimetype": "text/x-python",
   "name": "python",
   "nbconvert_exporter": "python",
   "pygments_lexer": "ipython3",
   "version": "3.10.16"
  }
 },
 "nbformat": 4,
 "nbformat_minor": 2
}
