{
 "cells": [
  {
   "cell_type": "markdown",
   "metadata": {},
   "source": [
    "# Compare LogisticRegression for Aggregated Fields vs. Non-Aggregated Fields"
   ]
  },
  {
   "cell_type": "code",
   "execution_count": 507,
   "metadata": {},
   "outputs": [],
   "source": [
    "from sklearn.linear_model import LogisticRegression\n",
    "from sklearn.feature_extraction.text import TfidfVectorizer\n",
    "import pandas as pd"
   ]
  },
  {
   "cell_type": "markdown",
   "metadata": {},
   "source": [
    "## Aggregated Fields"
   ]
  },
  {
   "cell_type": "code",
   "execution_count": 508,
   "metadata": {},
   "outputs": [
    {
     "data": {
      "text/html": [
       "<div>\n",
       "<style scoped>\n",
       "    .dataframe tbody tr th:only-of-type {\n",
       "        vertical-align: middle;\n",
       "    }\n",
       "\n",
       "    .dataframe tbody tr th {\n",
       "        vertical-align: top;\n",
       "    }\n",
       "\n",
       "    .dataframe thead th {\n",
       "        text-align: right;\n",
       "    }\n",
       "</style>\n",
       "<table border=\"1\" class=\"dataframe\">\n",
       "  <thead>\n",
       "    <tr style=\"text-align: right;\">\n",
       "      <th></th>\n",
       "      <th>Issue</th>\n",
       "      <th>Parts</th>\n",
       "      <th>IS_COMPLAINT</th>\n",
       "    </tr>\n",
       "  </thead>\n",
       "  <tbody>\n",
       "    <tr>\n",
       "      <th>0</th>\n",
       "      <td>Belt not tight</td>\n",
       "      <td>Tire,Axle,Wheel</td>\n",
       "      <td>1</td>\n",
       "    </tr>\n",
       "    <tr>\n",
       "      <th>1</th>\n",
       "      <td>Air bag</td>\n",
       "      <td>Seat,Lock,Latch</td>\n",
       "      <td>0</td>\n",
       "    </tr>\n",
       "    <tr>\n",
       "      <th>2</th>\n",
       "      <td>Power train is too strong and motorized</td>\n",
       "      <td>Tire,Axle,Wheel</td>\n",
       "      <td>1</td>\n",
       "    </tr>\n",
       "    <tr>\n",
       "      <th>3</th>\n",
       "      <td>Overheating in the motor</td>\n",
       "      <td>Seat,Lock,Latch</td>\n",
       "      <td>0</td>\n",
       "    </tr>\n",
       "  </tbody>\n",
       "</table>\n",
       "</div>"
      ],
      "text/plain": [
       "                                     Issue            Parts  IS_COMPLAINT\n",
       "0                           Belt not tight  Tire,Axle,Wheel             1\n",
       "1                                  Air bag  Seat,Lock,Latch             0\n",
       "2  Power train is too strong and motorized  Tire,Axle,Wheel             1\n",
       "3                 Overheating in the motor  Seat,Lock,Latch             0"
      ]
     },
     "execution_count": 508,
     "metadata": {},
     "output_type": "execute_result"
    }
   ],
   "source": [
    "# Set up so that Parts data is easy to learn (Tire, Axle, Wheel), and issue is more or less unrelated to each other.\n",
    "# This proves that no matter how easy parts data is to learn, duplicates in issue column will probably far extreme and biased weights.\n",
    "a = pd.DataFrame([\n",
    "    [\"Belt not tight\", \"Tire,Axle,Wheel\", 1],\n",
    "    [\"Air bag\", \"Seat,Lock,Latch\", 0],\n",
    "    [\"Power train is too strong and motorized\", \"Tire,Axle,Wheel\", 1],\n",
    "    [\"Overheating in the motor\", \"Seat,Lock,Latch\", 0],\n",
    "], columns=[\"Issue\", \"Parts\", \"IS_COMPLAINT\"])\n",
    "a"
   ]
  },
  {
   "cell_type": "code",
   "execution_count": 509,
   "metadata": {},
   "outputs": [
    {
     "data": {
      "text/plain": [
       "LogisticRegression(random_state=42)"
      ]
     },
     "execution_count": 509,
     "metadata": {},
     "output_type": "execute_result"
    }
   ],
   "source": [
    "clf_agg = TfidfVectorizer()\n",
    "combine_text = a[\"Issue\"] + \" \" + a[\"Parts\"]\n",
    "issue_frame = clf_agg.fit_transform(combine_text)\n",
    "label = a[\"IS_COMPLAINT\"]\n",
    "lr_agg = LogisticRegression(random_state=42)\n",
    "lr_agg.fit(\n",
    "    issue_frame, label\n",
    ")"
   ]
  },
  {
   "cell_type": "markdown",
   "metadata": {},
   "source": [
    "## Non-Aggregated Fields"
   ]
  },
  {
   "cell_type": "code",
   "execution_count": 510,
   "metadata": {},
   "outputs": [
    {
     "data": {
      "text/html": [
       "<div>\n",
       "<style scoped>\n",
       "    .dataframe tbody tr th:only-of-type {\n",
       "        vertical-align: middle;\n",
       "    }\n",
       "\n",
       "    .dataframe tbody tr th {\n",
       "        vertical-align: top;\n",
       "    }\n",
       "\n",
       "    .dataframe thead th {\n",
       "        text-align: right;\n",
       "    }\n",
       "</style>\n",
       "<table border=\"1\" class=\"dataframe\">\n",
       "  <thead>\n",
       "    <tr style=\"text-align: right;\">\n",
       "      <th></th>\n",
       "      <th>Issue</th>\n",
       "      <th>Parts</th>\n",
       "      <th>IS_COMPLAINT</th>\n",
       "    </tr>\n",
       "  </thead>\n",
       "  <tbody>\n",
       "    <tr>\n",
       "      <th>0</th>\n",
       "      <td>Belt not tight</td>\n",
       "      <td>Tire</td>\n",
       "      <td>1</td>\n",
       "    </tr>\n",
       "    <tr>\n",
       "      <th>0</th>\n",
       "      <td>Belt not tight</td>\n",
       "      <td>Axle</td>\n",
       "      <td>1</td>\n",
       "    </tr>\n",
       "    <tr>\n",
       "      <th>0</th>\n",
       "      <td>Belt not tight</td>\n",
       "      <td>Wheel</td>\n",
       "      <td>1</td>\n",
       "    </tr>\n",
       "    <tr>\n",
       "      <th>1</th>\n",
       "      <td>Air bag</td>\n",
       "      <td>Seat</td>\n",
       "      <td>0</td>\n",
       "    </tr>\n",
       "    <tr>\n",
       "      <th>1</th>\n",
       "      <td>Air bag</td>\n",
       "      <td>Lock</td>\n",
       "      <td>0</td>\n",
       "    </tr>\n",
       "    <tr>\n",
       "      <th>1</th>\n",
       "      <td>Air bag</td>\n",
       "      <td>Latch</td>\n",
       "      <td>0</td>\n",
       "    </tr>\n",
       "    <tr>\n",
       "      <th>2</th>\n",
       "      <td>Power train is too strong and motorized</td>\n",
       "      <td>Tire</td>\n",
       "      <td>1</td>\n",
       "    </tr>\n",
       "    <tr>\n",
       "      <th>2</th>\n",
       "      <td>Power train is too strong and motorized</td>\n",
       "      <td>Axle</td>\n",
       "      <td>1</td>\n",
       "    </tr>\n",
       "    <tr>\n",
       "      <th>2</th>\n",
       "      <td>Power train is too strong and motorized</td>\n",
       "      <td>Wheel</td>\n",
       "      <td>1</td>\n",
       "    </tr>\n",
       "    <tr>\n",
       "      <th>3</th>\n",
       "      <td>Overheating in the motor</td>\n",
       "      <td>Seat</td>\n",
       "      <td>0</td>\n",
       "    </tr>\n",
       "    <tr>\n",
       "      <th>3</th>\n",
       "      <td>Overheating in the motor</td>\n",
       "      <td>Lock</td>\n",
       "      <td>0</td>\n",
       "    </tr>\n",
       "    <tr>\n",
       "      <th>3</th>\n",
       "      <td>Overheating in the motor</td>\n",
       "      <td>Latch</td>\n",
       "      <td>0</td>\n",
       "    </tr>\n",
       "  </tbody>\n",
       "</table>\n",
       "</div>"
      ],
      "text/plain": [
       "                                     Issue  Parts  IS_COMPLAINT\n",
       "0                           Belt not tight   Tire             1\n",
       "0                           Belt not tight   Axle             1\n",
       "0                           Belt not tight  Wheel             1\n",
       "1                                  Air bag   Seat             0\n",
       "1                                  Air bag   Lock             0\n",
       "1                                  Air bag  Latch             0\n",
       "2  Power train is too strong and motorized   Tire             1\n",
       "2  Power train is too strong and motorized   Axle             1\n",
       "2  Power train is too strong and motorized  Wheel             1\n",
       "3                 Overheating in the motor   Seat             0\n",
       "3                 Overheating in the motor   Lock             0\n",
       "3                 Overheating in the motor  Latch             0"
      ]
     },
     "execution_count": 510,
     "metadata": {},
     "output_type": "execute_result"
    }
   ],
   "source": [
    "b = a.copy()\n",
    "b[\"Parts\"] = b[\"Parts\"].str.split(\",\")\n",
    "b = b.explode(\"Parts\")\n",
    "b"
   ]
  },
  {
   "cell_type": "code",
   "execution_count": 511,
   "metadata": {},
   "outputs": [
    {
     "data": {
      "text/plain": [
       "LogisticRegression(random_state=42)"
      ]
     },
     "execution_count": 511,
     "metadata": {},
     "output_type": "execute_result"
    }
   ],
   "source": [
    "combine_text = b[\"Issue\"] + \" \" + b[\"Parts\"]\n",
    "clf_non_agg = TfidfVectorizer()\n",
    "clf_non_agg.fit(combine_text)\n",
    "issue_frame = clf_non_agg.transform(combine_text)\n",
    "label = b[\"IS_COMPLAINT\"]\n",
    "lr_non_agg = LogisticRegression(random_state=42)\n",
    "lr_non_agg.fit(\n",
    "    issue_frame, label\n",
    ")\n"
   ]
  },
  {
   "cell_type": "code",
   "execution_count": 512,
   "metadata": {},
   "outputs": [],
   "source": [
    "unique_issue = b[\"Issue\"].str.lower().str.split().explode().unique()\n",
    "unique_parts = b[\"Parts\"].str.lower().str.split().explode().unique()"
   ]
  },
  {
   "cell_type": "code",
   "execution_count": 513,
   "metadata": {},
   "outputs": [],
   "source": [
    "# Aggregated LR Weights\n",
    "df_aggregated = pd.DataFrame(lr_agg.coef_,\n",
    "    columns=clf_agg.get_feature_names()\n",
    ")"
   ]
  },
  {
   "cell_type": "code",
   "execution_count": 514,
   "metadata": {},
   "outputs": [],
   "source": [
    "# Non-Aggregated LR Weights\n",
    "df_non_aggregate = pd.DataFrame(\n",
    "    lr_non_agg.coef_,\n",
    "    columns=clf_non_agg.get_feature_names()\n",
    ")"
   ]
  },
  {
   "cell_type": "markdown",
   "metadata": {},
   "source": [
    "## Compare Aggregated and Non-Aggregated Weights"
   ]
  },
  {
   "cell_type": "code",
   "execution_count": 515,
   "metadata": {},
   "outputs": [
    {
     "data": {
      "text/html": [
       "<div>\n",
       "<style scoped>\n",
       "    .dataframe tbody tr th:only-of-type {\n",
       "        vertical-align: middle;\n",
       "    }\n",
       "\n",
       "    .dataframe tbody tr th {\n",
       "        vertical-align: top;\n",
       "    }\n",
       "\n",
       "    .dataframe thead th {\n",
       "        text-align: right;\n",
       "    }\n",
       "</style>\n",
       "<table border=\"1\" class=\"dataframe\">\n",
       "  <thead>\n",
       "    <tr style=\"text-align: right;\">\n",
       "      <th></th>\n",
       "      <th>tire</th>\n",
       "      <th>axle</th>\n",
       "      <th>wheel</th>\n",
       "      <th>seat</th>\n",
       "      <th>lock</th>\n",
       "      <th>latch</th>\n",
       "    </tr>\n",
       "  </thead>\n",
       "  <tbody>\n",
       "    <tr>\n",
       "      <th>0</th>\n",
       "      <td>0.234362</td>\n",
       "      <td>0.234362</td>\n",
       "      <td>0.234362</td>\n",
       "      <td>-0.273653</td>\n",
       "      <td>-0.273653</td>\n",
       "      <td>-0.273653</td>\n",
       "    </tr>\n",
       "  </tbody>\n",
       "</table>\n",
       "</div>"
      ],
      "text/plain": [
       "       tire      axle     wheel      seat      lock     latch\n",
       "0  0.234362  0.234362  0.234362 -0.273653 -0.273653 -0.273653"
      ]
     },
     "execution_count": 515,
     "metadata": {},
     "output_type": "execute_result"
    }
   ],
   "source": [
    "df_aggregated[unique_parts]"
   ]
  },
  {
   "cell_type": "code",
   "execution_count": 516,
   "metadata": {},
   "outputs": [
    {
     "data": {
      "text/html": [
       "<div>\n",
       "<style scoped>\n",
       "    .dataframe tbody tr th:only-of-type {\n",
       "        vertical-align: middle;\n",
       "    }\n",
       "\n",
       "    .dataframe tbody tr th {\n",
       "        vertical-align: top;\n",
       "    }\n",
       "\n",
       "    .dataframe thead th {\n",
       "        text-align: right;\n",
       "    }\n",
       "</style>\n",
       "<table border=\"1\" class=\"dataframe\">\n",
       "  <thead>\n",
       "    <tr style=\"text-align: right;\">\n",
       "      <th></th>\n",
       "      <th>tire</th>\n",
       "      <th>axle</th>\n",
       "      <th>wheel</th>\n",
       "      <th>seat</th>\n",
       "      <th>lock</th>\n",
       "      <th>latch</th>\n",
       "    </tr>\n",
       "  </thead>\n",
       "  <tbody>\n",
       "    <tr>\n",
       "      <th>0</th>\n",
       "      <td>0.287286</td>\n",
       "      <td>0.287286</td>\n",
       "      <td>0.287286</td>\n",
       "      <td>-0.341084</td>\n",
       "      <td>-0.341084</td>\n",
       "      <td>-0.341084</td>\n",
       "    </tr>\n",
       "  </tbody>\n",
       "</table>\n",
       "</div>"
      ],
      "text/plain": [
       "       tire      axle     wheel      seat      lock     latch\n",
       "0  0.287286  0.287286  0.287286 -0.341084 -0.341084 -0.341084"
      ]
     },
     "execution_count": 516,
     "metadata": {},
     "output_type": "execute_result"
    }
   ],
   "source": [
    "df_non_aggregate[unique_parts]"
   ]
  },
  {
   "cell_type": "markdown",
   "metadata": {},
   "source": [
    "Tire, Axle, Wheel raises log-odds of complaint, while seat, lock, latch decreases log-odds complaints. "
   ]
  },
  {
   "cell_type": "code",
   "execution_count": 517,
   "metadata": {},
   "outputs": [
    {
     "data": {
      "text/html": [
       "<div>\n",
       "<style scoped>\n",
       "    .dataframe tbody tr th:only-of-type {\n",
       "        vertical-align: middle;\n",
       "    }\n",
       "\n",
       "    .dataframe tbody tr th {\n",
       "        vertical-align: top;\n",
       "    }\n",
       "\n",
       "    .dataframe thead th {\n",
       "        text-align: right;\n",
       "    }\n",
       "</style>\n",
       "<table border=\"1\" class=\"dataframe\">\n",
       "  <thead>\n",
       "    <tr style=\"text-align: right;\">\n",
       "      <th></th>\n",
       "      <th>Issue</th>\n",
       "      <th>Parts</th>\n",
       "      <th>IS_COMPLAINT</th>\n",
       "    </tr>\n",
       "  </thead>\n",
       "  <tbody>\n",
       "    <tr>\n",
       "      <th>0</th>\n",
       "      <td>Belt not tight</td>\n",
       "      <td>Tire,Axle,Wheel</td>\n",
       "      <td>1</td>\n",
       "    </tr>\n",
       "    <tr>\n",
       "      <th>1</th>\n",
       "      <td>Air bag</td>\n",
       "      <td>Seat,Lock,Latch</td>\n",
       "      <td>0</td>\n",
       "    </tr>\n",
       "    <tr>\n",
       "      <th>2</th>\n",
       "      <td>Power train is too strong and motorized</td>\n",
       "      <td>Tire,Axle,Wheel</td>\n",
       "      <td>1</td>\n",
       "    </tr>\n",
       "    <tr>\n",
       "      <th>3</th>\n",
       "      <td>Overheating in the motor</td>\n",
       "      <td>Seat,Lock,Latch</td>\n",
       "      <td>0</td>\n",
       "    </tr>\n",
       "  </tbody>\n",
       "</table>\n",
       "</div>"
      ],
      "text/plain": [
       "                                     Issue            Parts  IS_COMPLAINT\n",
       "0                           Belt not tight  Tire,Axle,Wheel             1\n",
       "1                                  Air bag  Seat,Lock,Latch             0\n",
       "2  Power train is too strong and motorized  Tire,Axle,Wheel             1\n",
       "3                 Overheating in the motor  Seat,Lock,Latch             0"
      ]
     },
     "execution_count": 517,
     "metadata": {},
     "output_type": "execute_result"
    }
   ],
   "source": [
    "a"
   ]
  },
  {
   "cell_type": "markdown",
   "metadata": {},
   "source": [
    "This proves that both models are able to learn feature weights for component parts, regardless of rather data is duplicated on issue or not, because logistic regression is trained based on **average loss across all features** and in both data formats, parts appear the same amount of times regardless of data format, so the weights trained are similar."
   ]
  },
  {
   "cell_type": "code",
   "execution_count": 518,
   "metadata": {},
   "outputs": [
    {
     "data": {
      "text/html": [
       "<div>\n",
       "<style scoped>\n",
       "    .dataframe tbody tr th:only-of-type {\n",
       "        vertical-align: middle;\n",
       "    }\n",
       "\n",
       "    .dataframe tbody tr th {\n",
       "        vertical-align: top;\n",
       "    }\n",
       "\n",
       "    .dataframe thead th {\n",
       "        text-align: right;\n",
       "    }\n",
       "</style>\n",
       "<table border=\"1\" class=\"dataframe\">\n",
       "  <thead>\n",
       "    <tr style=\"text-align: right;\">\n",
       "      <th></th>\n",
       "      <th>0</th>\n",
       "    </tr>\n",
       "  </thead>\n",
       "  <tbody>\n",
       "    <tr>\n",
       "      <th>count</th>\n",
       "      <td>6.000000</td>\n",
       "    </tr>\n",
       "    <tr>\n",
       "      <th>mean</th>\n",
       "      <td>0.007254</td>\n",
       "    </tr>\n",
       "    <tr>\n",
       "      <th>std</th>\n",
       "      <td>0.065921</td>\n",
       "    </tr>\n",
       "    <tr>\n",
       "      <th>min</th>\n",
       "      <td>-0.052924</td>\n",
       "    </tr>\n",
       "    <tr>\n",
       "      <th>25%</th>\n",
       "      <td>-0.052924</td>\n",
       "    </tr>\n",
       "    <tr>\n",
       "      <th>50%</th>\n",
       "      <td>0.007254</td>\n",
       "    </tr>\n",
       "    <tr>\n",
       "      <th>75%</th>\n",
       "      <td>0.067431</td>\n",
       "    </tr>\n",
       "    <tr>\n",
       "      <th>max</th>\n",
       "      <td>0.067431</td>\n",
       "    </tr>\n",
       "  </tbody>\n",
       "</table>\n",
       "</div>"
      ],
      "text/plain": [
       "              0\n",
       "count  6.000000\n",
       "mean   0.007254\n",
       "std    0.065921\n",
       "min   -0.052924\n",
       "25%   -0.052924\n",
       "50%    0.007254\n",
       "75%    0.067431\n",
       "max    0.067431"
      ]
     },
     "execution_count": 518,
     "metadata": {},
     "output_type": "execute_result"
    }
   ],
   "source": [
    "(df_aggregated[unique_parts] - df_non_aggregate[unique_parts]).T.describe()"
   ]
  },
  {
   "cell_type": "code",
   "execution_count": 519,
   "metadata": {},
   "outputs": [
    {
     "data": {
      "text/html": [
       "<div>\n",
       "<style scoped>\n",
       "    .dataframe tbody tr th:only-of-type {\n",
       "        vertical-align: middle;\n",
       "    }\n",
       "\n",
       "    .dataframe tbody tr th {\n",
       "        vertical-align: top;\n",
       "    }\n",
       "\n",
       "    .dataframe thead th {\n",
       "        text-align: right;\n",
       "    }\n",
       "</style>\n",
       "<table border=\"1\" class=\"dataframe\">\n",
       "  <thead>\n",
       "    <tr style=\"text-align: right;\">\n",
       "      <th></th>\n",
       "      <th>belt</th>\n",
       "      <th>not</th>\n",
       "      <th>tight</th>\n",
       "      <th>air</th>\n",
       "      <th>bag</th>\n",
       "      <th>power</th>\n",
       "      <th>train</th>\n",
       "      <th>is</th>\n",
       "      <th>too</th>\n",
       "      <th>strong</th>\n",
       "      <th>and</th>\n",
       "      <th>motorized</th>\n",
       "      <th>overheating</th>\n",
       "      <th>in</th>\n",
       "      <th>the</th>\n",
       "      <th>motor</th>\n",
       "    </tr>\n",
       "  </thead>\n",
       "  <tbody>\n",
       "    <tr>\n",
       "      <th>0</th>\n",
       "      <td>0.170761</td>\n",
       "      <td>0.170761</td>\n",
       "      <td>0.170761</td>\n",
       "      <td>-0.191577</td>\n",
       "      <td>-0.191577</td>\n",
       "      <td>0.126498</td>\n",
       "      <td>0.126498</td>\n",
       "      <td>0.126498</td>\n",
       "      <td>0.126498</td>\n",
       "      <td>0.126498</td>\n",
       "      <td>0.126498</td>\n",
       "      <td>0.126498</td>\n",
       "      <td>-0.155517</td>\n",
       "      <td>-0.155517</td>\n",
       "      <td>-0.155517</td>\n",
       "      <td>-0.155517</td>\n",
       "    </tr>\n",
       "  </tbody>\n",
       "</table>\n",
       "</div>"
      ],
      "text/plain": [
       "       belt       not     tight       air       bag     power     train  \\\n",
       "0  0.170761  0.170761  0.170761 -0.191577 -0.191577  0.126498  0.126498   \n",
       "\n",
       "         is       too    strong       and  motorized  overheating        in  \\\n",
       "0  0.126498  0.126498  0.126498  0.126498   0.126498    -0.155517 -0.155517   \n",
       "\n",
       "        the     motor  \n",
       "0 -0.155517 -0.155517  "
      ]
     },
     "execution_count": 519,
     "metadata": {},
     "output_type": "execute_result"
    }
   ],
   "source": [
    "df_aggregated[unique_issue]"
   ]
  },
  {
   "cell_type": "code",
   "execution_count": 520,
   "metadata": {},
   "outputs": [
    {
     "data": {
      "text/html": [
       "<div>\n",
       "<style scoped>\n",
       "    .dataframe tbody tr th:only-of-type {\n",
       "        vertical-align: middle;\n",
       "    }\n",
       "\n",
       "    .dataframe tbody tr th {\n",
       "        vertical-align: top;\n",
       "    }\n",
       "\n",
       "    .dataframe thead th {\n",
       "        text-align: right;\n",
       "    }\n",
       "</style>\n",
       "<table border=\"1\" class=\"dataframe\">\n",
       "  <thead>\n",
       "    <tr style=\"text-align: right;\">\n",
       "      <th></th>\n",
       "      <th>belt</th>\n",
       "      <th>not</th>\n",
       "      <th>tight</th>\n",
       "      <th>air</th>\n",
       "      <th>bag</th>\n",
       "      <th>power</th>\n",
       "      <th>train</th>\n",
       "      <th>is</th>\n",
       "      <th>too</th>\n",
       "      <th>strong</th>\n",
       "      <th>and</th>\n",
       "      <th>motorized</th>\n",
       "      <th>overheating</th>\n",
       "      <th>in</th>\n",
       "      <th>the</th>\n",
       "      <th>motor</th>\n",
       "    </tr>\n",
       "  </thead>\n",
       "  <tbody>\n",
       "    <tr>\n",
       "      <th>0</th>\n",
       "      <td>0.450449</td>\n",
       "      <td>0.450449</td>\n",
       "      <td>0.450449</td>\n",
       "      <td>-0.515165</td>\n",
       "      <td>-0.515165</td>\n",
       "      <td>0.310878</td>\n",
       "      <td>0.310878</td>\n",
       "      <td>0.310878</td>\n",
       "      <td>0.310878</td>\n",
       "      <td>0.310878</td>\n",
       "      <td>0.310878</td>\n",
       "      <td>0.310878</td>\n",
       "      <td>-0.388731</td>\n",
       "      <td>-0.388731</td>\n",
       "      <td>-0.388731</td>\n",
       "      <td>-0.388731</td>\n",
       "    </tr>\n",
       "  </tbody>\n",
       "</table>\n",
       "</div>"
      ],
      "text/plain": [
       "       belt       not     tight       air       bag     power     train  \\\n",
       "0  0.450449  0.450449  0.450449 -0.515165 -0.515165  0.310878  0.310878   \n",
       "\n",
       "         is       too    strong       and  motorized  overheating        in  \\\n",
       "0  0.310878  0.310878  0.310878  0.310878   0.310878    -0.388731 -0.388731   \n",
       "\n",
       "        the     motor  \n",
       "0 -0.388731 -0.388731  "
      ]
     },
     "execution_count": 520,
     "metadata": {},
     "output_type": "execute_result"
    }
   ],
   "source": [
    "df_non_aggregate[unique_issue]"
   ]
  },
  {
   "cell_type": "code",
   "execution_count": 521,
   "metadata": {},
   "outputs": [
    {
     "data": {
      "text/html": [
       "<div>\n",
       "<style scoped>\n",
       "    .dataframe tbody tr th:only-of-type {\n",
       "        vertical-align: middle;\n",
       "    }\n",
       "\n",
       "    .dataframe tbody tr th {\n",
       "        vertical-align: top;\n",
       "    }\n",
       "\n",
       "    .dataframe thead th {\n",
       "        text-align: right;\n",
       "    }\n",
       "</style>\n",
       "<table border=\"1\" class=\"dataframe\">\n",
       "  <thead>\n",
       "    <tr style=\"text-align: right;\">\n",
       "      <th></th>\n",
       "      <th>0</th>\n",
       "    </tr>\n",
       "  </thead>\n",
       "  <tbody>\n",
       "    <tr>\n",
       "      <th>count</th>\n",
       "      <td>16.000000</td>\n",
       "    </tr>\n",
       "    <tr>\n",
       "      <th>mean</th>\n",
       "      <td>-0.034356</td>\n",
       "    </tr>\n",
       "    <tr>\n",
       "      <th>std</th>\n",
       "      <td>0.242314</td>\n",
       "    </tr>\n",
       "    <tr>\n",
       "      <th>min</th>\n",
       "      <td>-0.279689</td>\n",
       "    </tr>\n",
       "    <tr>\n",
       "      <th>25%</th>\n",
       "      <td>-0.184380</td>\n",
       "    </tr>\n",
       "    <tr>\n",
       "      <th>50%</th>\n",
       "      <td>-0.184380</td>\n",
       "    </tr>\n",
       "    <tr>\n",
       "      <th>75%</th>\n",
       "      <td>0.233214</td>\n",
       "    </tr>\n",
       "    <tr>\n",
       "      <th>max</th>\n",
       "      <td>0.323588</td>\n",
       "    </tr>\n",
       "  </tbody>\n",
       "</table>\n",
       "</div>"
      ],
      "text/plain": [
       "               0\n",
       "count  16.000000\n",
       "mean   -0.034356\n",
       "std     0.242314\n",
       "min    -0.279689\n",
       "25%    -0.184380\n",
       "50%    -0.184380\n",
       "75%     0.233214\n",
       "max     0.323588"
      ]
     },
     "execution_count": 521,
     "metadata": {},
     "output_type": "execute_result"
    }
   ],
   "source": [
    "(df_aggregated[unique_issue] - df_non_aggregate[unique_issue]).T.describe()"
   ]
  },
  {
   "cell_type": "markdown",
   "metadata": {},
   "source": [
    "You can see for duplicated issue column, standard deviation is much higher. Non aggregate data format would train multiple times on the same issue and develop much more extreme weights for specific terms.\n",
    "\n",
    "These weights will really explode in our logistic regression on recall data, since data duplication is present on nearly 80% of the dataset."
   ]
  },
  {
   "cell_type": "markdown",
   "metadata": {},
   "source": [
    "With that being said, if you're interested in predicting likelihood of entry being recall or complaint and want to exploit the component parts column, feature-based, non-linear algorithms like Neural Networks and Random Forests will learn from parts much better."
   ]
  }
 ],
 "metadata": {
  "kernelspec": {
   "display_name": "deep_learning",
   "language": "python",
   "name": "python3"
  },
  "language_info": {
   "codemirror_mode": {
    "name": "ipython",
    "version": 3
   },
   "file_extension": ".py",
   "mimetype": "text/x-python",
   "name": "python",
   "nbconvert_exporter": "python",
   "pygments_lexer": "ipython3",
   "version": "3.8.20"
  }
 },
 "nbformat": 4,
 "nbformat_minor": 2
}
