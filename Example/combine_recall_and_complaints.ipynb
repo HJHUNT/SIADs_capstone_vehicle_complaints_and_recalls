{
 "cells": [
  {
   "cell_type": "markdown",
   "metadata": {},
   "source": [
    "# Combining Complaints and Recall for Information Retrieval\n",
    "\n",
    "**Author:** Harris Zheng\n",
    "\n",
    "**Date:** March 2nd, 2025\n",
    "\n",
    "TODO: Add remainder columns"
   ]
  },
  {
   "cell_type": "markdown",
   "metadata": {},
   "source": [
    "# Import Packages"
   ]
  },
  {
   "cell_type": "code",
   "execution_count": 9,
   "metadata": {},
   "outputs": [],
   "source": [
    "import pandas as pd\n",
    "import pprint\n",
    "import numpy as np\n",
    "from sklearn.feature_extraction.text import CountVectorizer\n",
    "import matplotlib.pyplot as plt\n",
    "import os\n",
    "import string\n",
    "import re\n"
   ]
  },
  {
   "cell_type": "markdown",
   "metadata": {},
   "source": [
    "# Utilities"
   ]
  },
  {
   "cell_type": "code",
   "execution_count": 10,
   "metadata": {},
   "outputs": [],
   "source": [
    "def fill_string_spaces(df : pd.DataFrame):\n",
    "    # Fill null string columns in DataFrame\n",
    "    for column in df.columns:\n",
    "        if df[column].dtype == object:\n",
    "            df[column] = df[column].str.replace(\"\\s+\", \" \", regex=True)"
   ]
  },
  {
   "cell_type": "code",
   "execution_count": 48,
   "metadata": {},
   "outputs": [],
   "source": [
    "def fill_string_nulls(df : pd.DataFrame):\n",
    "    # Fill null string columns in DataFrame\n",
    "    for column in df.columns:\n",
    "        if df[column].dtype == object:\n",
    "            df[column] = df[column].fillna(\"\")"
   ]
  },
  {
   "cell_type": "code",
   "execution_count": 49,
   "metadata": {},
   "outputs": [],
   "source": [
    "def trim_strings(df : pd.DataFrame):\n",
    "    # Fill null string columns in DataFrame\n",
    "    for column in df.columns:\n",
    "        if df[column].dtype == object:\n",
    "            df[column] = df[column].str.strip()"
   ]
  },
  {
   "cell_type": "code",
   "execution_count": 50,
   "metadata": {},
   "outputs": [],
   "source": [
    "def find_duplicate_and_non_duplicate_columns(df : pd.DataFrame, \n",
    "                                             column_defining_uniqueness : str):\n",
    "    '''\n",
    "    input: dataframe, and unique column identifier\n",
    "    returns: duplicated columns and non-duplicated columns\n",
    "    '''\n",
    "    column_uniqueness = (\n",
    "        df.groupby(column_defining_uniqueness)\n",
    "        .nunique().sum(axis=0) \n",
    "        - \n",
    "        len(df[column_defining_uniqueness].unique())\n",
    "    )\n",
    "    duplicated_columns = column_uniqueness.loc[column_uniqueness > 0].index\n",
    "    non_duplicated_columns = set(df.columns) - set(duplicated_columns)\n",
    "\n",
    "    return list(duplicated_columns), list(non_duplicated_columns)"
   ]
  },
  {
   "cell_type": "markdown",
   "metadata": {},
   "source": [
    "# Ingest Data"
   ]
  },
  {
   "cell_type": "markdown",
   "metadata": {},
   "source": [
    "## Recall"
   ]
  },
  {
   "cell_type": "code",
   "execution_count": 15,
   "metadata": {},
   "outputs": [],
   "source": [
    "PARENT_DIR = os.getcwd().rsplit(\"\\\\\", maxsplit=1)[0]\n",
    "DATASET_DIR = os.path.join(PARENT_DIR, \"Datasets\")"
   ]
  },
  {
   "cell_type": "code",
   "execution_count": 16,
   "metadata": {},
   "outputs": [
    {
     "name": "stderr",
     "output_type": "stream",
     "text": [
      "C:\\Users\\harri\\AppData\\Local\\Temp\\ipykernel_13348\\2915165312.py:1: DtypeWarning: Columns (17,18,24,25,26) have mixed types. Specify dtype option on import or set low_memory=False.\n",
      "  df_recall = pd.read_csv(f\"{DATASET_DIR}/FLAT_RCL.txt\", sep='\\t', header=None, on_bad_lines='skip')\n"
     ]
    },
    {
     "data": {
      "text/html": [
       "<div>\n",
       "<style scoped>\n",
       "    .dataframe tbody tr th:only-of-type {\n",
       "        vertical-align: middle;\n",
       "    }\n",
       "\n",
       "    .dataframe tbody tr th {\n",
       "        vertical-align: top;\n",
       "    }\n",
       "\n",
       "    .dataframe thead th {\n",
       "        text-align: right;\n",
       "    }\n",
       "</style>\n",
       "<table border=\"1\" class=\"dataframe\">\n",
       "  <thead>\n",
       "    <tr style=\"text-align: right;\">\n",
       "      <th></th>\n",
       "      <th>RECORD_ID</th>\n",
       "      <th>CAMPNO</th>\n",
       "      <th>MAKETXT</th>\n",
       "      <th>MODELTXT</th>\n",
       "      <th>YEARTXT</th>\n",
       "      <th>MFGCAMPNO</th>\n",
       "      <th>COMPNAME</th>\n",
       "      <th>MFGNAME</th>\n",
       "      <th>BGMAN</th>\n",
       "      <th>ENDMAN</th>\n",
       "      <th>...</th>\n",
       "      <th>RPNO</th>\n",
       "      <th>FMVSS</th>\n",
       "      <th>DESC_DEFECT</th>\n",
       "      <th>CONSEQUENCE_DEFECT</th>\n",
       "      <th>CORRECTIVE_ACTION</th>\n",
       "      <th>NOTES</th>\n",
       "      <th>RCL_CMPT_ID</th>\n",
       "      <th>MFR_COMP_NAME</th>\n",
       "      <th>MFR_COMP_DESC</th>\n",
       "      <th>MFR_COMP_PTNO</th>\n",
       "    </tr>\n",
       "  </thead>\n",
       "  <tbody>\n",
       "    <tr>\n",
       "      <th>0</th>\n",
       "      <td>1</td>\n",
       "      <td>02V288000</td>\n",
       "      <td>FORD</td>\n",
       "      <td>FOCUS</td>\n",
       "      <td>2000</td>\n",
       "      <td>02S41</td>\n",
       "      <td>ELECTRICAL SYSTEM:12V/24V/48V BATTERY:CABLES</td>\n",
       "      <td>FORD MOTOR COMPANY</td>\n",
       "      <td>19990719.0</td>\n",
       "      <td>20010531.0</td>\n",
       "      <td>...</td>\n",
       "      <td>NaN</td>\n",
       "      <td>NaN</td>\n",
       "      <td>CERTAIN PASSENGER VEHICLES EQUIPPED WITH ZETEC...</td>\n",
       "      <td>THIS, IN TURN, COULD CAUSE THE BATTERY CABLES ...</td>\n",
       "      <td>DEALERS WILL INSPECT THE BATTERY CABLES FOR TH...</td>\n",
       "      <td>ALSO CONTACT THE NATIONAL HIGHWAY TRAFFIC SAFE...</td>\n",
       "      <td>000015339000215021000000202</td>\n",
       "      <td>NaN</td>\n",
       "      <td>NaN</td>\n",
       "      <td>NaN</td>\n",
       "    </tr>\n",
       "    <tr>\n",
       "      <th>1</th>\n",
       "      <td>2</td>\n",
       "      <td>02V288000</td>\n",
       "      <td>FORD</td>\n",
       "      <td>FOCUS</td>\n",
       "      <td>2001</td>\n",
       "      <td>02S41</td>\n",
       "      <td>ELECTRICAL SYSTEM:12V/24V/48V BATTERY:CABLES</td>\n",
       "      <td>FORD MOTOR COMPANY</td>\n",
       "      <td>19990719.0</td>\n",
       "      <td>20010531.0</td>\n",
       "      <td>...</td>\n",
       "      <td>NaN</td>\n",
       "      <td>NaN</td>\n",
       "      <td>CERTAIN PASSENGER VEHICLES EQUIPPED WITH ZETEC...</td>\n",
       "      <td>THIS, IN TURN, COULD CAUSE THE BATTERY CABLES ...</td>\n",
       "      <td>DEALERS WILL INSPECT THE BATTERY CABLES FOR TH...</td>\n",
       "      <td>ALSO CONTACT THE NATIONAL HIGHWAY TRAFFIC SAFE...</td>\n",
       "      <td>000015339000215022000000202</td>\n",
       "      <td>NaN</td>\n",
       "      <td>NaN</td>\n",
       "      <td>NaN</td>\n",
       "    </tr>\n",
       "    <tr>\n",
       "      <th>2</th>\n",
       "      <td>3</td>\n",
       "      <td>02V236000</td>\n",
       "      <td>JAYCO</td>\n",
       "      <td>FT EAGLE 10 SG</td>\n",
       "      <td>2003</td>\n",
       "      <td>NaN</td>\n",
       "      <td>EQUIPMENT:OTHER:LABELS</td>\n",
       "      <td>JAYCO, INC.</td>\n",
       "      <td>20020730.0</td>\n",
       "      <td>20020813.0</td>\n",
       "      <td>...</td>\n",
       "      <td>NaN</td>\n",
       "      <td>NaN</td>\n",
       "      <td>ON CERTAIN FOLDING TENT CAMPERS, THE FEDERAL C...</td>\n",
       "      <td>IF THE TIRES WERE INFLATED TO 80 PSI, THEY COU...</td>\n",
       "      <td>OWNERS WILL BE MAILED CORRECT LABELS FOR INSTA...</td>\n",
       "      <td>ALSO, CUSTOMERS CAN CONTACT THE NATIONAL HIGHW...</td>\n",
       "      <td>000015210000106403000000349</td>\n",
       "      <td>NaN</td>\n",
       "      <td>NaN</td>\n",
       "      <td>NaN</td>\n",
       "    </tr>\n",
       "    <tr>\n",
       "      <th>3</th>\n",
       "      <td>4</td>\n",
       "      <td>02V237000</td>\n",
       "      <td>HOLIDAY RAMBLER</td>\n",
       "      <td>ENDEAVOR</td>\n",
       "      <td>2000</td>\n",
       "      <td>NaN</td>\n",
       "      <td>STRUCTURE</td>\n",
       "      <td>MONACO COACH CORP.</td>\n",
       "      <td>NaN</td>\n",
       "      <td>NaN</td>\n",
       "      <td>...</td>\n",
       "      <td>NaN</td>\n",
       "      <td>NaN</td>\n",
       "      <td>ON CERTAIN CLASS A MOTOR HOMES, THE FLOOR TRUS...</td>\n",
       "      <td>CONDITIONS CAN RESULT IN THE BOTTOMING OUT THE...</td>\n",
       "      <td>DEALERS WILL INSPECT THE FLOOR TRUSS NETWORK S...</td>\n",
       "      <td>CUSTOMERS CAN ALSO CONTACT THE NATIONAL HIGHWA...</td>\n",
       "      <td>000015211000083965000000272</td>\n",
       "      <td>NaN</td>\n",
       "      <td>NaN</td>\n",
       "      <td>NaN</td>\n",
       "    </tr>\n",
       "    <tr>\n",
       "      <th>4</th>\n",
       "      <td>5</td>\n",
       "      <td>02V237000</td>\n",
       "      <td>HOLIDAY RAMBLER</td>\n",
       "      <td>ENDEAVOR</td>\n",
       "      <td>1999</td>\n",
       "      <td>NaN</td>\n",
       "      <td>STRUCTURE</td>\n",
       "      <td>MONACO COACH CORP.</td>\n",
       "      <td>NaN</td>\n",
       "      <td>NaN</td>\n",
       "      <td>...</td>\n",
       "      <td>NaN</td>\n",
       "      <td>NaN</td>\n",
       "      <td>ON CERTAIN CLASS A MOTOR HOMES, THE FLOOR TRUS...</td>\n",
       "      <td>CONDITIONS CAN RESULT IN THE BOTTOMING OUT THE...</td>\n",
       "      <td>DEALERS WILL INSPECT THE FLOOR TRUSS NETWORK S...</td>\n",
       "      <td>CUSTOMERS CAN ALSO CONTACT THE NATIONAL HIGHWA...</td>\n",
       "      <td>000015211000080938000000272</td>\n",
       "      <td>NaN</td>\n",
       "      <td>NaN</td>\n",
       "      <td>NaN</td>\n",
       "    </tr>\n",
       "  </tbody>\n",
       "</table>\n",
       "<p>5 rows × 27 columns</p>\n",
       "</div>"
      ],
      "text/plain": [
       "   RECORD_ID     CAMPNO          MAKETXT        MODELTXT  YEARTXT MFGCAMPNO  \\\n",
       "0          1  02V288000             FORD           FOCUS     2000     02S41   \n",
       "1          2  02V288000             FORD           FOCUS     2001     02S41   \n",
       "2          3  02V236000            JAYCO  FT EAGLE 10 SG     2003       NaN   \n",
       "3          4  02V237000  HOLIDAY RAMBLER        ENDEAVOR     2000       NaN   \n",
       "4          5  02V237000  HOLIDAY RAMBLER        ENDEAVOR     1999       NaN   \n",
       "\n",
       "                                       COMPNAME             MFGNAME  \\\n",
       "0  ELECTRICAL SYSTEM:12V/24V/48V BATTERY:CABLES  FORD MOTOR COMPANY   \n",
       "1  ELECTRICAL SYSTEM:12V/24V/48V BATTERY:CABLES  FORD MOTOR COMPANY   \n",
       "2                        EQUIPMENT:OTHER:LABELS         JAYCO, INC.   \n",
       "3                                     STRUCTURE  MONACO COACH CORP.   \n",
       "4                                     STRUCTURE  MONACO COACH CORP.   \n",
       "\n",
       "        BGMAN      ENDMAN  ... RPNO  FMVSS  \\\n",
       "0  19990719.0  20010531.0  ...  NaN    NaN   \n",
       "1  19990719.0  20010531.0  ...  NaN    NaN   \n",
       "2  20020730.0  20020813.0  ...  NaN    NaN   \n",
       "3         NaN         NaN  ...  NaN    NaN   \n",
       "4         NaN         NaN  ...  NaN    NaN   \n",
       "\n",
       "                                         DESC_DEFECT  \\\n",
       "0  CERTAIN PASSENGER VEHICLES EQUIPPED WITH ZETEC...   \n",
       "1  CERTAIN PASSENGER VEHICLES EQUIPPED WITH ZETEC...   \n",
       "2  ON CERTAIN FOLDING TENT CAMPERS, THE FEDERAL C...   \n",
       "3  ON CERTAIN CLASS A MOTOR HOMES, THE FLOOR TRUS...   \n",
       "4  ON CERTAIN CLASS A MOTOR HOMES, THE FLOOR TRUS...   \n",
       "\n",
       "                                  CONSEQUENCE_DEFECT  \\\n",
       "0  THIS, IN TURN, COULD CAUSE THE BATTERY CABLES ...   \n",
       "1  THIS, IN TURN, COULD CAUSE THE BATTERY CABLES ...   \n",
       "2  IF THE TIRES WERE INFLATED TO 80 PSI, THEY COU...   \n",
       "3  CONDITIONS CAN RESULT IN THE BOTTOMING OUT THE...   \n",
       "4  CONDITIONS CAN RESULT IN THE BOTTOMING OUT THE...   \n",
       "\n",
       "                                   CORRECTIVE_ACTION  \\\n",
       "0  DEALERS WILL INSPECT THE BATTERY CABLES FOR TH...   \n",
       "1  DEALERS WILL INSPECT THE BATTERY CABLES FOR TH...   \n",
       "2  OWNERS WILL BE MAILED CORRECT LABELS FOR INSTA...   \n",
       "3  DEALERS WILL INSPECT THE FLOOR TRUSS NETWORK S...   \n",
       "4  DEALERS WILL INSPECT THE FLOOR TRUSS NETWORK S...   \n",
       "\n",
       "                                               NOTES  \\\n",
       "0  ALSO CONTACT THE NATIONAL HIGHWAY TRAFFIC SAFE...   \n",
       "1  ALSO CONTACT THE NATIONAL HIGHWAY TRAFFIC SAFE...   \n",
       "2  ALSO, CUSTOMERS CAN CONTACT THE NATIONAL HIGHW...   \n",
       "3  CUSTOMERS CAN ALSO CONTACT THE NATIONAL HIGHWA...   \n",
       "4  CUSTOMERS CAN ALSO CONTACT THE NATIONAL HIGHWA...   \n",
       "\n",
       "                   RCL_CMPT_ID MFR_COMP_NAME MFR_COMP_DESC MFR_COMP_PTNO  \n",
       "0  000015339000215021000000202           NaN           NaN           NaN  \n",
       "1  000015339000215022000000202           NaN           NaN           NaN  \n",
       "2  000015210000106403000000349           NaN           NaN           NaN  \n",
       "3  000015211000083965000000272           NaN           NaN           NaN  \n",
       "4  000015211000080938000000272           NaN           NaN           NaN  \n",
       "\n",
       "[5 rows x 27 columns]"
      ]
     },
     "execution_count": 16,
     "metadata": {},
     "output_type": "execute_result"
    }
   ],
   "source": [
    "df_recall = pd.read_csv(f\"{DATASET_DIR}/FLAT_RCL.txt\", sep='\\t', header=None, on_bad_lines='skip')\n",
    "# use the column names listed above\n",
    "df_recall.columns = ['RECORD_ID', 'CAMPNO', 'MAKETXT', 'MODELTXT', 'YEARTXT', 'MFGCAMPNO', 'COMPNAME', 'MFGNAME', 'BGMAN', 'ENDMAN', 'RCLTYPECD', 'POTAFF', 'ODATE', 'INFLUENCED_BY', 'MFGTXT', 'RCDATE', 'DATEA', 'RPNO', 'FMVSS', 'DESC_DEFECT', 'CONSEQUENCE_DEFECT', 'CORRECTIVE_ACTION', 'NOTES', 'RCL_CMPT_ID', 'MFR_COMP_NAME', 'MFR_COMP_DESC', 'MFR_COMP_PTNO']\n",
    "df_recall.head()"
   ]
  },
  {
   "cell_type": "markdown",
   "metadata": {},
   "source": [
    "## Complaints\n",
    "2025 data"
   ]
  },
  {
   "cell_type": "code",
   "execution_count": 17,
   "metadata": {},
   "outputs": [
    {
     "name": "stderr",
     "output_type": "stream",
     "text": [
      "C:\\Users\\harri\\AppData\\Local\\Temp\\ipykernel_13348\\2535702850.py:1: DtypeWarning: Columns (29,32,35,41,44) have mixed types. Specify dtype option on import or set low_memory=False.\n",
      "  df_complaints = pd.read_csv(f\"{DATASET_DIR}/COMPLAINTS_RECEIVED_2025-2025.txt\",\n"
     ]
    }
   ],
   "source": [
    "df_complaints = pd.read_csv(f\"{DATASET_DIR}/COMPLAINTS_RECEIVED_2025-2025.txt\", \n",
    "                            sep='\\t', \n",
    "                            header=None, \n",
    "                            index_col=0)\n",
    "df_complaints.columns = ['ODINO', 'MFR_NAME', 'MAKETXT', 'MODELTXT', 'YEARTXT', 'CRASH', 'FAILDATE', 'FIRE', 'INJURED', 'DEATHS', 'COMPDESC', 'CITY', 'STATE', 'VIN', 'DATEA', 'LDATE', 'MILES', 'OCCURENCES', 'CDESCR', 'CMPL_TYPE', 'POLICE_RPT_YN', 'PURCH_DT', 'ORIG_OWNER_YN', 'ANTI_BRAKES_YN', 'CRUISE_CONT_YN', 'NUM_CYLS', 'DRIVE_TRAIN', 'FUEL_SYS', 'FUEL_TYPE',\n",
    "              'TRANS_TYPE', 'VEH_SPEED', 'DOT', 'TIRE_SIZE', 'LOC_OF_TIRE', 'TIRE_FAIL_TYPE', 'ORIG_EQUIP_YN', 'MANUF_DT', 'SEAT_TYPE', 'RESTRAINT_TYPE', 'DEALER_NAME', 'DEALER_TEL', 'DEALER_CITY', 'DEALER_STATE', 'DEALER_ZIP', 'PROD_TYPE', 'REPAIRED_YN', 'MEDICAL_ATTN', 'VEHICLES_TOWED_YN']"
   ]
  },
  {
   "cell_type": "code",
   "execution_count": 18,
   "metadata": {},
   "outputs": [
    {
     "data": {
      "text/plain": [
       "17239"
      ]
     },
     "execution_count": 18,
     "metadata": {},
     "output_type": "execute_result"
    }
   ],
   "source": [
    "len(df_complaints)"
   ]
  },
  {
   "cell_type": "code",
   "execution_count": 19,
   "metadata": {},
   "outputs": [
    {
     "data": {
      "text/html": [
       "<div>\n",
       "<style scoped>\n",
       "    .dataframe tbody tr th:only-of-type {\n",
       "        vertical-align: middle;\n",
       "    }\n",
       "\n",
       "    .dataframe tbody tr th {\n",
       "        vertical-align: top;\n",
       "    }\n",
       "\n",
       "    .dataframe thead th {\n",
       "        text-align: right;\n",
       "    }\n",
       "</style>\n",
       "<table border=\"1\" class=\"dataframe\">\n",
       "  <thead>\n",
       "    <tr style=\"text-align: right;\">\n",
       "      <th></th>\n",
       "      <th>ODINO</th>\n",
       "      <th>MFR_NAME</th>\n",
       "      <th>MAKETXT</th>\n",
       "      <th>MODELTXT</th>\n",
       "      <th>YEARTXT</th>\n",
       "      <th>CRASH</th>\n",
       "      <th>FAILDATE</th>\n",
       "      <th>FIRE</th>\n",
       "      <th>INJURED</th>\n",
       "      <th>DEATHS</th>\n",
       "      <th>...</th>\n",
       "      <th>RESTRAINT_TYPE</th>\n",
       "      <th>DEALER_NAME</th>\n",
       "      <th>DEALER_TEL</th>\n",
       "      <th>DEALER_CITY</th>\n",
       "      <th>DEALER_STATE</th>\n",
       "      <th>DEALER_ZIP</th>\n",
       "      <th>PROD_TYPE</th>\n",
       "      <th>REPAIRED_YN</th>\n",
       "      <th>MEDICAL_ATTN</th>\n",
       "      <th>VEHICLES_TOWED_YN</th>\n",
       "    </tr>\n",
       "    <tr>\n",
       "      <th>0</th>\n",
       "      <th></th>\n",
       "      <th></th>\n",
       "      <th></th>\n",
       "      <th></th>\n",
       "      <th></th>\n",
       "      <th></th>\n",
       "      <th></th>\n",
       "      <th></th>\n",
       "      <th></th>\n",
       "      <th></th>\n",
       "      <th></th>\n",
       "      <th></th>\n",
       "      <th></th>\n",
       "      <th></th>\n",
       "      <th></th>\n",
       "      <th></th>\n",
       "      <th></th>\n",
       "      <th></th>\n",
       "      <th></th>\n",
       "      <th></th>\n",
       "      <th></th>\n",
       "    </tr>\n",
       "  </thead>\n",
       "  <tbody>\n",
       "    <tr>\n",
       "      <th>2051723</th>\n",
       "      <td>11633472</td>\n",
       "      <td>Ford Motor Company</td>\n",
       "      <td>FORD</td>\n",
       "      <td>EXPLORER</td>\n",
       "      <td>2016</td>\n",
       "      <td>N</td>\n",
       "      <td>20240701</td>\n",
       "      <td>N</td>\n",
       "      <td>0</td>\n",
       "      <td>0</td>\n",
       "      <td>...</td>\n",
       "      <td>NaN</td>\n",
       "      <td>NaN</td>\n",
       "      <td>NaN</td>\n",
       "      <td>NaN</td>\n",
       "      <td>NaN</td>\n",
       "      <td>NaN</td>\n",
       "      <td>V</td>\n",
       "      <td>NaN</td>\n",
       "      <td>N</td>\n",
       "      <td>N</td>\n",
       "    </tr>\n",
       "    <tr>\n",
       "      <th>2051724</th>\n",
       "      <td>11633473</td>\n",
       "      <td>Chrysler (FCA US, LLC)</td>\n",
       "      <td>JEEP</td>\n",
       "      <td>GLADIATOR</td>\n",
       "      <td>2022</td>\n",
       "      <td>N</td>\n",
       "      <td>20241231</td>\n",
       "      <td>N</td>\n",
       "      <td>0</td>\n",
       "      <td>0</td>\n",
       "      <td>...</td>\n",
       "      <td>NaN</td>\n",
       "      <td>NaN</td>\n",
       "      <td>NaN</td>\n",
       "      <td>NaN</td>\n",
       "      <td>NaN</td>\n",
       "      <td>NaN</td>\n",
       "      <td>V</td>\n",
       "      <td>NaN</td>\n",
       "      <td>N</td>\n",
       "      <td>N</td>\n",
       "    </tr>\n",
       "    <tr>\n",
       "      <th>2051725</th>\n",
       "      <td>11633474</td>\n",
       "      <td>Toyota Motor Corporation</td>\n",
       "      <td>TOYOTA</td>\n",
       "      <td>TUNDRA</td>\n",
       "      <td>2024</td>\n",
       "      <td>N</td>\n",
       "      <td>20241101</td>\n",
       "      <td>N</td>\n",
       "      <td>0</td>\n",
       "      <td>0</td>\n",
       "      <td>...</td>\n",
       "      <td>NaN</td>\n",
       "      <td>NaN</td>\n",
       "      <td>NaN</td>\n",
       "      <td>NaN</td>\n",
       "      <td>NaN</td>\n",
       "      <td>NaN</td>\n",
       "      <td>V</td>\n",
       "      <td>NaN</td>\n",
       "      <td>N</td>\n",
       "      <td>N</td>\n",
       "    </tr>\n",
       "    <tr>\n",
       "      <th>2051726</th>\n",
       "      <td>11633475</td>\n",
       "      <td>General Motors, LLC</td>\n",
       "      <td>BUICK</td>\n",
       "      <td>ENVISTA</td>\n",
       "      <td>2024</td>\n",
       "      <td>N</td>\n",
       "      <td>20241229</td>\n",
       "      <td>N</td>\n",
       "      <td>0</td>\n",
       "      <td>0</td>\n",
       "      <td>...</td>\n",
       "      <td>NaN</td>\n",
       "      <td>NaN</td>\n",
       "      <td>NaN</td>\n",
       "      <td>NaN</td>\n",
       "      <td>NaN</td>\n",
       "      <td>NaN</td>\n",
       "      <td>V</td>\n",
       "      <td>NaN</td>\n",
       "      <td>N</td>\n",
       "      <td>N</td>\n",
       "    </tr>\n",
       "    <tr>\n",
       "      <th>2051727</th>\n",
       "      <td>11633475</td>\n",
       "      <td>General Motors, LLC</td>\n",
       "      <td>BUICK</td>\n",
       "      <td>ENVISTA</td>\n",
       "      <td>2024</td>\n",
       "      <td>N</td>\n",
       "      <td>20241229</td>\n",
       "      <td>N</td>\n",
       "      <td>0</td>\n",
       "      <td>0</td>\n",
       "      <td>...</td>\n",
       "      <td>NaN</td>\n",
       "      <td>NaN</td>\n",
       "      <td>NaN</td>\n",
       "      <td>NaN</td>\n",
       "      <td>NaN</td>\n",
       "      <td>NaN</td>\n",
       "      <td>V</td>\n",
       "      <td>NaN</td>\n",
       "      <td>N</td>\n",
       "      <td>N</td>\n",
       "    </tr>\n",
       "  </tbody>\n",
       "</table>\n",
       "<p>5 rows × 48 columns</p>\n",
       "</div>"
      ],
      "text/plain": [
       "            ODINO                  MFR_NAME MAKETXT   MODELTXT  YEARTXT CRASH  \\\n",
       "0                                                                               \n",
       "2051723  11633472        Ford Motor Company    FORD   EXPLORER     2016     N   \n",
       "2051724  11633473    Chrysler (FCA US, LLC)    JEEP  GLADIATOR     2022     N   \n",
       "2051725  11633474  Toyota Motor Corporation  TOYOTA     TUNDRA     2024     N   \n",
       "2051726  11633475       General Motors, LLC   BUICK    ENVISTA     2024     N   \n",
       "2051727  11633475       General Motors, LLC   BUICK    ENVISTA     2024     N   \n",
       "\n",
       "         FAILDATE FIRE  INJURED  DEATHS  ... RESTRAINT_TYPE DEALER_NAME  \\\n",
       "0                                        ...                              \n",
       "2051723  20240701    N        0       0  ...            NaN         NaN   \n",
       "2051724  20241231    N        0       0  ...            NaN         NaN   \n",
       "2051725  20241101    N        0       0  ...            NaN         NaN   \n",
       "2051726  20241229    N        0       0  ...            NaN         NaN   \n",
       "2051727  20241229    N        0       0  ...            NaN         NaN   \n",
       "\n",
       "        DEALER_TEL DEALER_CITY  DEALER_STATE  DEALER_ZIP  PROD_TYPE  \\\n",
       "0                                                                     \n",
       "2051723        NaN         NaN           NaN         NaN          V   \n",
       "2051724        NaN         NaN           NaN         NaN          V   \n",
       "2051725        NaN         NaN           NaN         NaN          V   \n",
       "2051726        NaN         NaN           NaN         NaN          V   \n",
       "2051727        NaN         NaN           NaN         NaN          V   \n",
       "\n",
       "         REPAIRED_YN MEDICAL_ATTN VEHICLES_TOWED_YN  \n",
       "0                                                    \n",
       "2051723          NaN            N                 N  \n",
       "2051724          NaN            N                 N  \n",
       "2051725          NaN            N                 N  \n",
       "2051726          NaN            N                 N  \n",
       "2051727          NaN            N                 N  \n",
       "\n",
       "[5 rows x 48 columns]"
      ]
     },
     "execution_count": 19,
     "metadata": {},
     "output_type": "execute_result"
    }
   ],
   "source": [
    "df_complaints.head()"
   ]
  },
  {
   "cell_type": "markdown",
   "metadata": {},
   "source": [
    "## Column Intersection Between Recall and Complaints"
   ]
  },
  {
   "cell_type": "code",
   "execution_count": 20,
   "metadata": {},
   "outputs": [
    {
     "data": {
      "text/plain": [
       "Index(['RECORD_ID', 'CAMPNO', 'MAKETXT', 'MODELTXT', 'YEARTXT', 'MFGCAMPNO',\n",
       "       'COMPNAME', 'MFGNAME', 'BGMAN', 'ENDMAN', 'RCLTYPECD', 'POTAFF',\n",
       "       'ODATE', 'INFLUENCED_BY', 'MFGTXT', 'RCDATE', 'DATEA', 'RPNO', 'FMVSS',\n",
       "       'DESC_DEFECT', 'CONSEQUENCE_DEFECT', 'CORRECTIVE_ACTION', 'NOTES',\n",
       "       'RCL_CMPT_ID', 'MFR_COMP_NAME', 'MFR_COMP_DESC', 'MFR_COMP_PTNO'],\n",
       "      dtype='object')"
      ]
     },
     "execution_count": 20,
     "metadata": {},
     "output_type": "execute_result"
    }
   ],
   "source": [
    "df_recall.columns"
   ]
  },
  {
   "cell_type": "code",
   "execution_count": 21,
   "metadata": {},
   "outputs": [
    {
     "data": {
      "text/plain": [
       "Index(['ODINO', 'MFR_NAME', 'MAKETXT', 'MODELTXT', 'YEARTXT', 'CRASH',\n",
       "       'FAILDATE', 'FIRE', 'INJURED', 'DEATHS', 'COMPDESC', 'CITY', 'STATE',\n",
       "       'VIN', 'DATEA', 'LDATE', 'MILES', 'OCCURENCES', 'CDESCR', 'CMPL_TYPE',\n",
       "       'POLICE_RPT_YN', 'PURCH_DT', 'ORIG_OWNER_YN', 'ANTI_BRAKES_YN',\n",
       "       'CRUISE_CONT_YN', 'NUM_CYLS', 'DRIVE_TRAIN', 'FUEL_SYS', 'FUEL_TYPE',\n",
       "       'TRANS_TYPE', 'VEH_SPEED', 'DOT', 'TIRE_SIZE', 'LOC_OF_TIRE',\n",
       "       'TIRE_FAIL_TYPE', 'ORIG_EQUIP_YN', 'MANUF_DT', 'SEAT_TYPE',\n",
       "       'RESTRAINT_TYPE', 'DEALER_NAME', 'DEALER_TEL', 'DEALER_CITY',\n",
       "       'DEALER_STATE', 'DEALER_ZIP', 'PROD_TYPE', 'REPAIRED_YN',\n",
       "       'MEDICAL_ATTN', 'VEHICLES_TOWED_YN'],\n",
       "      dtype='object')"
      ]
     },
     "execution_count": 21,
     "metadata": {},
     "output_type": "execute_result"
    }
   ],
   "source": [
    "df_complaints.columns"
   ]
  },
  {
   "cell_type": "code",
   "execution_count": 22,
   "metadata": {},
   "outputs": [
    {
     "data": {
      "text/plain": [
       "{'DATEA', 'MAKETXT', 'MODELTXT', 'YEARTXT'}"
      ]
     },
     "execution_count": 22,
     "metadata": {},
     "output_type": "execute_result"
    }
   ],
   "source": [
    "set(df_complaints.columns) & set(df_recall.columns)"
   ]
  },
  {
   "cell_type": "markdown",
   "metadata": {},
   "source": [
    "Other columns we should merge together aside from intersecting columns: \n",
    "- COMPNAME, COMPDESC. \n",
    "- MFR_NAME, MFG_NAME. "
   ]
  },
  {
   "cell_type": "markdown",
   "metadata": {},
   "source": [
    "# Preprocessing"
   ]
  },
  {
   "cell_type": "markdown",
   "metadata": {},
   "source": [
    "### Setting up Text"
   ]
  },
  {
   "cell_type": "code",
   "execution_count": 23,
   "metadata": {},
   "outputs": [],
   "source": [
    "fill_string_nulls(df_complaints)\n",
    "fill_string_nulls(df_recall)"
   ]
  },
  {
   "cell_type": "code",
   "execution_count": 24,
   "metadata": {},
   "outputs": [],
   "source": [
    "df_complaints[\"MMYTXT\"] = (\n",
    "    df_complaints[\"MAKETXT\"] + \" \" + df_complaints[\"MODELTXT\"] + \" \" + df_complaints[\"YEARTXT\"].astype(str).fillna(\"\")\n",
    ")\n",
    "df_complaints[\"CDESCR_CODE\"] = pd.factorize(df_complaints['CDESCR'])[0]\n",
    "\n",
    "df_recall[\"MMYTXT\"] = (\n",
    "    df_recall[\"MAKETXT\"] + \" \" + df_recall[\"MODELTXT\"] + \" \" + df_recall[\"YEARTXT\"].astype(str).fillna(\"\")\n",
    ")\n",
    "df_recall[\"CDESCR\"] = (\n",
    "    df_recall[\"DESC_DEFECT\"]\n",
    "    .str.cat(\n",
    "        df_recall[[\"CONSEQUENCE_DEFECT\"]],\n",
    "        sep=\"\\r\\n\"\n",
    "    )\n",
    ")\n",
    "df_recall[\"CDESCR_CODE\"] = pd.factorize(df_recall['CDESCR'])[0]\n"
   ]
  },
  {
   "cell_type": "code",
   "execution_count": 25,
   "metadata": {},
   "outputs": [],
   "source": [
    "assert max(df_recall[\"CDESCR\"].str.split(\"\\r\\n\").str.len()) == 2, \"Split is not clean\""
   ]
  },
  {
   "cell_type": "code",
   "execution_count": 26,
   "metadata": {},
   "outputs": [],
   "source": [
    "# df_recall[\"CDESCR-\"] = df_recall[\"DESC_DEFECT\"].str.cat(\n",
    "#     df_recall[[\"CONSEQUENCE_DEFECT\", \"CORRECTIVE_ACTION\"]],\n",
    "#     sep=\"- \"\n",
    "# )\n",
    "# df_recall[\"CDESCR-\"].str.split(\"- \").str.len().describe()"
   ]
  },
  {
   "cell_type": "markdown",
   "metadata": {},
   "source": [
    "Ideally we want cdescr to always split into number of elements we desire. Let's use a different separator."
   ]
  },
  {
   "cell_type": "code",
   "execution_count": 27,
   "metadata": {},
   "outputs": [],
   "source": [
    "# df_complaints[\"MMYTXT\"] = (\n",
    "#     df_complaints[\"MAKETXT\"] + \" \" + df_complaints[\"MODELTXT\"] + \" \" + df_complaints[\"YEARTXT\"].astype(str).fillna(\"\")\n",
    "# )\n",
    "# df_recall[\"MMYTXT\"] = (\n",
    "#     df_recall[\"MAKETXT\"] + \" \" + df_recall[\"MODELTXT\"] + \" \" + df_recall[\"YEARTXT\"].astype(str).fillna(\"\")\n",
    "# )\n",
    "# df_recall[\"CDESCR\"] = df_recall[\"DESC_DEFECT\"].str.cat(\n",
    "#     df_recall[[\"CONSEQUENCE_DEFECT\", \"CORRECTIVE_ACTION\"]],\n",
    "#     sep=\"\\r\\n\"\n",
    "# )"
   ]
  },
  {
   "cell_type": "markdown",
   "metadata": {},
   "source": [
    "Better split :))"
   ]
  },
  {
   "cell_type": "code",
   "execution_count": 28,
   "metadata": {},
   "outputs": [],
   "source": [
    "fill_string_spaces(df_complaints)\n",
    "fill_string_spaces(df_recall)"
   ]
  },
  {
   "cell_type": "code",
   "execution_count": 29,
   "metadata": {},
   "outputs": [],
   "source": [
    "trim_strings(df_complaints)\n",
    "trim_strings(df_recall)"
   ]
  },
  {
   "cell_type": "code",
   "execution_count": 30,
   "metadata": {},
   "outputs": [],
   "source": [
    "# df_recall[\"CDESCR\"].str.split(\"<br>\").str.len().describe()"
   ]
  },
  {
   "cell_type": "code",
   "execution_count": 31,
   "metadata": {},
   "outputs": [],
   "source": [
    "# df_complaints[\"YEARTXT\"] = df_complaints[\"YEARTXT\"].astype(str) # None entries get converted to literal string 'None'\n",
    "# df_recall[\"YEARTXT\"] = df_recall[\"YEARTXT\"].astype(str)"
   ]
  },
  {
   "cell_type": "code",
   "execution_count": 32,
   "metadata": {},
   "outputs": [
    {
     "data": {
      "text/plain": [
       "Index(['RECORD_ID', 'CAMPNO', 'MAKETXT', 'MODELTXT', 'YEARTXT', 'MFGCAMPNO',\n",
       "       'COMPNAME', 'MFGNAME', 'BGMAN', 'ENDMAN', 'RCLTYPECD', 'POTAFF',\n",
       "       'ODATE', 'INFLUENCED_BY', 'MFGTXT', 'RCDATE', 'DATEA', 'RPNO', 'FMVSS',\n",
       "       'DESC_DEFECT', 'CONSEQUENCE_DEFECT', 'CORRECTIVE_ACTION', 'NOTES',\n",
       "       'RCL_CMPT_ID', 'MFR_COMP_NAME', 'MFR_COMP_DESC', 'MFR_COMP_PTNO',\n",
       "       'MMYTXT', 'CDESCR', 'CDESCR_CODE'],\n",
       "      dtype='object')"
      ]
     },
     "execution_count": 32,
     "metadata": {},
     "output_type": "execute_result"
    }
   ],
   "source": [
    "df_recall.columns"
   ]
  },
  {
   "cell_type": "code",
   "execution_count": 33,
   "metadata": {},
   "outputs": [
    {
     "data": {
      "text/plain": [
       "Index(['ODINO', 'MFR_NAME', 'MAKETXT', 'MODELTXT', 'YEARTXT', 'CRASH',\n",
       "       'FAILDATE', 'FIRE', 'INJURED', 'DEATHS', 'COMPDESC', 'CITY', 'STATE',\n",
       "       'VIN', 'DATEA', 'LDATE', 'MILES', 'OCCURENCES', 'CDESCR', 'CMPL_TYPE',\n",
       "       'POLICE_RPT_YN', 'PURCH_DT', 'ORIG_OWNER_YN', 'ANTI_BRAKES_YN',\n",
       "       'CRUISE_CONT_YN', 'NUM_CYLS', 'DRIVE_TRAIN', 'FUEL_SYS', 'FUEL_TYPE',\n",
       "       'TRANS_TYPE', 'VEH_SPEED', 'DOT', 'TIRE_SIZE', 'LOC_OF_TIRE',\n",
       "       'TIRE_FAIL_TYPE', 'ORIG_EQUIP_YN', 'MANUF_DT', 'SEAT_TYPE',\n",
       "       'RESTRAINT_TYPE', 'DEALER_NAME', 'DEALER_TEL', 'DEALER_CITY',\n",
       "       'DEALER_STATE', 'DEALER_ZIP', 'PROD_TYPE', 'REPAIRED_YN',\n",
       "       'MEDICAL_ATTN', 'VEHICLES_TOWED_YN', 'MMYTXT', 'CDESCR_CODE'],\n",
       "      dtype='object')"
      ]
     },
     "execution_count": 33,
     "metadata": {},
     "output_type": "execute_result"
    }
   ],
   "source": [
    "df_complaints.columns"
   ]
  },
  {
   "cell_type": "markdown",
   "metadata": {},
   "source": [
    "### Remove Duplicates (If Specified)"
   ]
  },
  {
   "cell_type": "code",
   "execution_count": 34,
   "metadata": {},
   "outputs": [
    {
     "data": {
      "text/plain": [
       "0\n",
       "2051723    11633472\n",
       "2051724    11633473\n",
       "2051725    11633474\n",
       "2051726    11633475\n",
       "2051727    11633475\n",
       "             ...   \n",
       "2068958    11645456\n",
       "2068959    11645457\n",
       "2068960    11645457\n",
       "2068961    11645457\n",
       "2068962    11645458\n",
       "Name: ODINO, Length: 17239, dtype: int64"
      ]
     },
     "execution_count": 34,
     "metadata": {},
     "output_type": "execute_result"
    }
   ],
   "source": [
    "df_complaints[\"ODINO\"]"
   ]
  },
  {
   "cell_type": "code",
   "execution_count": 51,
   "metadata": {},
   "outputs": [],
   "source": [
    "def process_columns_accordingly(df : pd.DataFrame, \n",
    "                                column_defining_uniqueness : str):\n",
    "    duplicate_columns, non_duplicate_columns = find_duplicate_and_non_duplicate_columns(\n",
    "        df, \n",
    "        column_defining_uniqueness\n",
    "    )\n",
    "    df_dup = df.groupby(column_defining_uniqueness).agg(\n",
    "        {\n",
    "            duplicate_column : lambda x: ', '.join(set(x.astype(str).fillna(\"\")))\n",
    "            for duplicate_column in duplicate_columns\n",
    "        }\n",
    "    )\n",
    "    df_no_dup = df.groupby(column_defining_uniqueness).agg(\n",
    "        {\n",
    "            non_duplicate_column : \"first\"\n",
    "            for non_duplicate_column in non_duplicate_columns\n",
    "        }\n",
    "    )\n",
    "    df_size = df.groupby(column_defining_uniqueness).size()\n",
    "    df_size.name = \"NUMRECORDS\"\n",
    "    df_new = pd.concat(\n",
    "        [\n",
    "            df_dup,\n",
    "            df_no_dup,\n",
    "            df_size\n",
    "        ],\n",
    "        axis=1\n",
    "    )\n",
    "    return df_new\n",
    "\n",
    "\n",
    "    \n"
   ]
  },
  {
   "cell_type": "code",
   "execution_count": 52,
   "metadata": {},
   "outputs": [],
   "source": [
    "df_complaints_new = process_columns_accordingly(\n",
    "    df_complaints, \"CDESCR_CODE\"\n",
    ")"
   ]
  },
  {
   "cell_type": "code",
   "execution_count": 53,
   "metadata": {},
   "outputs": [],
   "source": [
    "df_recall_new = process_columns_accordingly(\n",
    "    df_recall, \"CDESCR_CODE\"\n",
    ")"
   ]
  },
  {
   "cell_type": "markdown",
   "metadata": {},
   "source": [
    "## Try speeding up function"
   ]
  },
  {
   "cell_type": "code",
   "execution_count": 54,
   "metadata": {},
   "outputs": [],
   "source": [
    "def process_columns_accordingly(df : pd.DataFrame, \n",
    "                                column_defining_uniqueness : str):\n",
    "    duplicate_columns, non_duplicate_columns = find_duplicate_and_non_duplicate_columns(\n",
    "        df, \n",
    "        column_defining_uniqueness\n",
    "    )\n",
    "    df[duplicate_columns] = df[duplicate_columns].fillna(\"\").astype(str) # Preprocess ahead of time\n",
    "    grouper = df.groupby(column_defining_uniqueness) # Avoid group recomputes\n",
    "    df_dup = grouper.agg(\n",
    "        {\n",
    "            duplicate_column : lambda x: ', '.join(pd.unique(x))\n",
    "            for duplicate_column in duplicate_columns\n",
    "        }\n",
    "    )\n",
    "    df_no_dup = grouper.agg(\n",
    "        {\n",
    "            non_duplicate_column : \"first\"\n",
    "            for non_duplicate_column in non_duplicate_columns\n",
    "        }\n",
    "    )\n",
    "    df_size = grouper.size()\n",
    "    df_size.name = \"NUMRECORDS\"\n",
    "    df_new = pd.concat(\n",
    "        [\n",
    "            df_dup,\n",
    "            df_no_dup,\n",
    "            df_size\n",
    "        ],\n",
    "        axis=1\n",
    "    )\n",
    "    return df_new\n",
    "\n",
    "\n",
    "    \n"
   ]
  },
  {
   "cell_type": "markdown",
   "metadata": {},
   "source": [
    "### Merge"
   ]
  },
  {
   "cell_type": "code",
   "execution_count": 55,
   "metadata": {},
   "outputs": [],
   "source": [
    "df_complaints_new = process_columns_accordingly(\n",
    "    df_complaints, \"CDESCR_CODE\"\n",
    ")"
   ]
  },
  {
   "cell_type": "code",
   "execution_count": 56,
   "metadata": {},
   "outputs": [],
   "source": [
    "df_recall_new = process_columns_accordingly(\n",
    "    df_recall, \"CDESCR_CODE\"\n",
    ")"
   ]
  },
  {
   "cell_type": "code",
   "execution_count": 59,
   "metadata": {},
   "outputs": [],
   "source": [
    "df_recall_new = df_recall_new.rename(\n",
    "    {\n",
    "        \"COMPNAME\":\"COMPDESC\",\n",
    "        \"MFGNAME\":\"MFR_NAME\"\n",
    "    },\n",
    "    axis=1\n",
    ")"
   ]
  },
  {
   "cell_type": "markdown",
   "metadata": {},
   "source": [
    "# Combine Recall and Complaints"
   ]
  },
  {
   "cell_type": "code",
   "execution_count": 60,
   "metadata": {},
   "outputs": [],
   "source": [
    "df_complaints_new[\"IS_COMPLAINT\"] = True\n",
    "df_recall_new[\"IS_COMPLAINT\"] = False"
   ]
  },
  {
   "cell_type": "code",
   "execution_count": 61,
   "metadata": {},
   "outputs": [],
   "source": [
    "df_final = pd.concat(\n",
    "    [df_complaints_new,\n",
    "    df_recall_new]\n",
    ").drop(\"CDESCR_CODE\", axis=1).reset_index(drop=True)"
   ]
  },
  {
   "cell_type": "code",
   "execution_count": 62,
   "metadata": {},
   "outputs": [
    {
     "data": {
      "text/plain": [
       "37422"
      ]
     },
     "execution_count": 62,
     "metadata": {},
     "output_type": "execute_result"
    }
   ],
   "source": [
    "len(df_final)"
   ]
  },
  {
   "cell_type": "code",
   "execution_count": 63,
   "metadata": {},
   "outputs": [
    {
     "data": {
      "text/html": [
       "<div>\n",
       "<style scoped>\n",
       "    .dataframe tbody tr th:only-of-type {\n",
       "        vertical-align: middle;\n",
       "    }\n",
       "\n",
       "    .dataframe tbody tr th {\n",
       "        vertical-align: top;\n",
       "    }\n",
       "\n",
       "    .dataframe thead th {\n",
       "        text-align: right;\n",
       "    }\n",
       "</style>\n",
       "<table border=\"1\" class=\"dataframe\">\n",
       "  <thead>\n",
       "    <tr style=\"text-align: right;\">\n",
       "      <th></th>\n",
       "      <th>ODINO</th>\n",
       "      <th>MFR_NAME</th>\n",
       "      <th>MAKETXT</th>\n",
       "      <th>MODELTXT</th>\n",
       "      <th>YEARTXT</th>\n",
       "      <th>CRASH</th>\n",
       "      <th>FAILDATE</th>\n",
       "      <th>FIRE</th>\n",
       "      <th>INJURED</th>\n",
       "      <th>DEATHS</th>\n",
       "      <th>...</th>\n",
       "      <th>RCL_CMPT_ID</th>\n",
       "      <th>MFR_COMP_NAME</th>\n",
       "      <th>MFR_COMP_DESC</th>\n",
       "      <th>MFR_COMP_PTNO</th>\n",
       "      <th>BGMAN</th>\n",
       "      <th>DESC_DEFECT</th>\n",
       "      <th>CONSEQUENCE_DEFECT</th>\n",
       "      <th>RPNO</th>\n",
       "      <th>FMVSS</th>\n",
       "      <th>ENDMAN</th>\n",
       "    </tr>\n",
       "  </thead>\n",
       "  <tbody>\n",
       "    <tr>\n",
       "      <th>0</th>\n",
       "      <td>11633472</td>\n",
       "      <td>Ford Motor Company</td>\n",
       "      <td>FORD</td>\n",
       "      <td>EXPLORER</td>\n",
       "      <td>2016</td>\n",
       "      <td>N</td>\n",
       "      <td>20240701</td>\n",
       "      <td>N</td>\n",
       "      <td>0</td>\n",
       "      <td>0</td>\n",
       "      <td>...</td>\n",
       "      <td>NaN</td>\n",
       "      <td>NaN</td>\n",
       "      <td>NaN</td>\n",
       "      <td>NaN</td>\n",
       "      <td>NaN</td>\n",
       "      <td>NaN</td>\n",
       "      <td>NaN</td>\n",
       "      <td>NaN</td>\n",
       "      <td>NaN</td>\n",
       "      <td>NaN</td>\n",
       "    </tr>\n",
       "    <tr>\n",
       "      <th>1</th>\n",
       "      <td>11633473</td>\n",
       "      <td>Chrysler (FCA US, LLC)</td>\n",
       "      <td>JEEP</td>\n",
       "      <td>GLADIATOR</td>\n",
       "      <td>2022</td>\n",
       "      <td>N</td>\n",
       "      <td>20241231</td>\n",
       "      <td>N</td>\n",
       "      <td>0</td>\n",
       "      <td>0</td>\n",
       "      <td>...</td>\n",
       "      <td>NaN</td>\n",
       "      <td>NaN</td>\n",
       "      <td>NaN</td>\n",
       "      <td>NaN</td>\n",
       "      <td>NaN</td>\n",
       "      <td>NaN</td>\n",
       "      <td>NaN</td>\n",
       "      <td>NaN</td>\n",
       "      <td>NaN</td>\n",
       "      <td>NaN</td>\n",
       "    </tr>\n",
       "    <tr>\n",
       "      <th>2</th>\n",
       "      <td>11633474</td>\n",
       "      <td>Toyota Motor Corporation</td>\n",
       "      <td>TOYOTA</td>\n",
       "      <td>TUNDRA</td>\n",
       "      <td>2024</td>\n",
       "      <td>N</td>\n",
       "      <td>20241101</td>\n",
       "      <td>N</td>\n",
       "      <td>0</td>\n",
       "      <td>0</td>\n",
       "      <td>...</td>\n",
       "      <td>NaN</td>\n",
       "      <td>NaN</td>\n",
       "      <td>NaN</td>\n",
       "      <td>NaN</td>\n",
       "      <td>NaN</td>\n",
       "      <td>NaN</td>\n",
       "      <td>NaN</td>\n",
       "      <td>NaN</td>\n",
       "      <td>NaN</td>\n",
       "      <td>NaN</td>\n",
       "    </tr>\n",
       "    <tr>\n",
       "      <th>3</th>\n",
       "      <td>11633475</td>\n",
       "      <td>General Motors, LLC</td>\n",
       "      <td>BUICK</td>\n",
       "      <td>ENVISTA</td>\n",
       "      <td>2024</td>\n",
       "      <td>N</td>\n",
       "      <td>20241229</td>\n",
       "      <td>N</td>\n",
       "      <td>0</td>\n",
       "      <td>0</td>\n",
       "      <td>...</td>\n",
       "      <td>NaN</td>\n",
       "      <td>NaN</td>\n",
       "      <td>NaN</td>\n",
       "      <td>NaN</td>\n",
       "      <td>NaN</td>\n",
       "      <td>NaN</td>\n",
       "      <td>NaN</td>\n",
       "      <td>NaN</td>\n",
       "      <td>NaN</td>\n",
       "      <td>NaN</td>\n",
       "    </tr>\n",
       "    <tr>\n",
       "      <th>4</th>\n",
       "      <td>11633476</td>\n",
       "      <td>Honda (American Honda Motor Co.)</td>\n",
       "      <td>HONDA</td>\n",
       "      <td>PROLOGUE</td>\n",
       "      <td>2024</td>\n",
       "      <td>N</td>\n",
       "      <td>20241227</td>\n",
       "      <td>N</td>\n",
       "      <td>0</td>\n",
       "      <td>0</td>\n",
       "      <td>...</td>\n",
       "      <td>NaN</td>\n",
       "      <td>NaN</td>\n",
       "      <td>NaN</td>\n",
       "      <td>NaN</td>\n",
       "      <td>NaN</td>\n",
       "      <td>NaN</td>\n",
       "      <td>NaN</td>\n",
       "      <td>NaN</td>\n",
       "      <td>NaN</td>\n",
       "      <td>NaN</td>\n",
       "    </tr>\n",
       "    <tr>\n",
       "      <th>...</th>\n",
       "      <td>...</td>\n",
       "      <td>...</td>\n",
       "      <td>...</td>\n",
       "      <td>...</td>\n",
       "      <td>...</td>\n",
       "      <td>...</td>\n",
       "      <td>...</td>\n",
       "      <td>...</td>\n",
       "      <td>...</td>\n",
       "      <td>...</td>\n",
       "      <td>...</td>\n",
       "      <td>...</td>\n",
       "      <td>...</td>\n",
       "      <td>...</td>\n",
       "      <td>...</td>\n",
       "      <td>...</td>\n",
       "      <td>...</td>\n",
       "      <td>...</td>\n",
       "      <td>...</td>\n",
       "      <td>...</td>\n",
       "      <td>...</td>\n",
       "    </tr>\n",
       "    <tr>\n",
       "      <th>37417</th>\n",
       "      <td>NaN</td>\n",
       "      <td>Tiffin Motorhomes, Inc.</td>\n",
       "      <td>TIFFIN</td>\n",
       "      <td>PHAETON, ZEPHYR, ALLEGRO BUS</td>\n",
       "      <td>2023, 2022, 2024, 2025</td>\n",
       "      <td>NaN</td>\n",
       "      <td>NaN</td>\n",
       "      <td>NaN</td>\n",
       "      <td>NaN</td>\n",
       "      <td>NaN</td>\n",
       "      <td>...</td>\n",
       "      <td>000127267005430764000000212, 00012726700495275...</td>\n",
       "      <td>Module Multi Plex IFM</td>\n",
       "      <td>Chassis Control Module</td>\n",
       "      <td>CR0033</td>\n",
       "      <td>20220502.0</td>\n",
       "      <td>Tiffin Motorhomes, Inc. (Tiffin) is recalling ...</td>\n",
       "      <td>An engine shutdown increases the risk of a crash.</td>\n",
       "      <td></td>\n",
       "      <td></td>\n",
       "      <td>20230522.0</td>\n",
       "    </tr>\n",
       "    <tr>\n",
       "      <th>37418</th>\n",
       "      <td>NaN</td>\n",
       "      <td>Maserati North America, Inc.</td>\n",
       "      <td>MASERATI</td>\n",
       "      <td>GHIBLI, QUATTROPORTE, LEVANTE, MC20, MC20 CIEL...</td>\n",
       "      <td>2021, 2022, 2023, 2025, 2024</td>\n",
       "      <td>NaN</td>\n",
       "      <td>NaN</td>\n",
       "      <td>NaN</td>\n",
       "      <td>NaN</td>\n",
       "      <td>NaN</td>\n",
       "      <td>...</td>\n",
       "      <td>000127948004696784000001881, 00012794800469678...</td>\n",
       "      <td>Radio Software</td>\n",
       "      <td>Radio Software</td>\n",
       "      <td>T27.52 for Ghibli, Quattroporte and Levante, U...</td>\n",
       "      <td>20200729.0</td>\n",
       "      <td>Maserati North America, Inc. (Maserati) is rec...</td>\n",
       "      <td>A rearview camera image that does not display ...</td>\n",
       "      <td></td>\n",
       "      <td>None</td>\n",
       "      <td>20240124.0</td>\n",
       "    </tr>\n",
       "    <tr>\n",
       "      <th>37419</th>\n",
       "      <td>NaN</td>\n",
       "      <td>Nova Bus (US) Inc.</td>\n",
       "      <td>NOVA BUS</td>\n",
       "      <td>LFS</td>\n",
       "      <td>2005, 2006, 2007, 2008</td>\n",
       "      <td>NaN</td>\n",
       "      <td>NaN</td>\n",
       "      <td>NaN</td>\n",
       "      <td>NaN</td>\n",
       "      <td>NaN</td>\n",
       "      <td>...</td>\n",
       "      <td>000127951002185725000001483, 00012795100218572...</td>\n",
       "      <td>Window</td>\n",
       "      <td>WDO L SLDR 44% TEMP GREY PO</td>\n",
       "      <td></td>\n",
       "      <td>20051125.0</td>\n",
       "      <td>Nova Bus (US) Inc. (Nova Bus) is recalling cer...</td>\n",
       "      <td>An insufficient number of emergency exits can ...</td>\n",
       "      <td></td>\n",
       "      <td>None</td>\n",
       "      <td>20071112.0</td>\n",
       "    </tr>\n",
       "    <tr>\n",
       "      <th>37420</th>\n",
       "      <td>NaN</td>\n",
       "      <td>Chrysler (FCA US, LLC)</td>\n",
       "      <td>DODGE, ALFA ROMEO</td>\n",
       "      <td>HORNET, TONALE</td>\n",
       "      <td>2025, 2024</td>\n",
       "      <td>NaN</td>\n",
       "      <td>NaN</td>\n",
       "      <td>NaN</td>\n",
       "      <td>NaN</td>\n",
       "      <td>NaN</td>\n",
       "      <td>...</td>\n",
       "      <td>000127532005643746000000063, 00012753200558519...</td>\n",
       "      <td>Brake Pedal</td>\n",
       "      <td>Brake Pedal</td>\n",
       "      <td>68607352AA</td>\n",
       "      <td>NaN</td>\n",
       "      <td>Chrysler (FCA US, LLC) is recalling certain 20...</td>\n",
       "      <td>A loss of brake function increases the risk of...</td>\n",
       "      <td></td>\n",
       "      <td></td>\n",
       "      <td>NaN</td>\n",
       "    </tr>\n",
       "    <tr>\n",
       "      <th>37421</th>\n",
       "      <td>NaN</td>\n",
       "      <td>Honda (American Honda Motor Co.)</td>\n",
       "      <td>HONDA</td>\n",
       "      <td>CIVIC, CIVIC HYBRID, ACCORD HYBRID, ACCORD, CR...</td>\n",
       "      <td>2025, 2023, 2024</td>\n",
       "      <td>NaN</td>\n",
       "      <td>NaN</td>\n",
       "      <td>NaN</td>\n",
       "      <td>NaN</td>\n",
       "      <td>NaN</td>\n",
       "      <td>...</td>\n",
       "      <td>000127556005660317000000152, 00012755600566032...</td>\n",
       "      <td>PUMP ASSY,FUEL H/P</td>\n",
       "      <td>PUMP ASSY,FUEL H/P</td>\n",
       "      <td>16790-6MA-J010-M1, 16790-6MA-J011-M1, 16790-6M...</td>\n",
       "      <td>20221111.0</td>\n",
       "      <td>Honda (American Honda Motor Co.) is recalling ...</td>\n",
       "      <td>A fuel leak in the presence of an ignition sou...</td>\n",
       "      <td></td>\n",
       "      <td></td>\n",
       "      <td>20240912.0</td>\n",
       "    </tr>\n",
       "  </tbody>\n",
       "</table>\n",
       "<p>37422 rows × 72 columns</p>\n",
       "</div>"
      ],
      "text/plain": [
       "          ODINO                          MFR_NAME            MAKETXT  \\\n",
       "0      11633472                Ford Motor Company               FORD   \n",
       "1      11633473            Chrysler (FCA US, LLC)               JEEP   \n",
       "2      11633474          Toyota Motor Corporation             TOYOTA   \n",
       "3      11633475               General Motors, LLC              BUICK   \n",
       "4      11633476  Honda (American Honda Motor Co.)              HONDA   \n",
       "...         ...                               ...                ...   \n",
       "37417       NaN           Tiffin Motorhomes, Inc.             TIFFIN   \n",
       "37418       NaN      Maserati North America, Inc.           MASERATI   \n",
       "37419       NaN                Nova Bus (US) Inc.           NOVA BUS   \n",
       "37420       NaN            Chrysler (FCA US, LLC)  DODGE, ALFA ROMEO   \n",
       "37421       NaN  Honda (American Honda Motor Co.)              HONDA   \n",
       "\n",
       "                                                MODELTXT  \\\n",
       "0                                               EXPLORER   \n",
       "1                                              GLADIATOR   \n",
       "2                                                 TUNDRA   \n",
       "3                                                ENVISTA   \n",
       "4                                               PROLOGUE   \n",
       "...                                                  ...   \n",
       "37417                       PHAETON, ZEPHYR, ALLEGRO BUS   \n",
       "37418  GHIBLI, QUATTROPORTE, LEVANTE, MC20, MC20 CIEL...   \n",
       "37419                                                LFS   \n",
       "37420                                     HORNET, TONALE   \n",
       "37421  CIVIC, CIVIC HYBRID, ACCORD HYBRID, ACCORD, CR...   \n",
       "\n",
       "                            YEARTXT CRASH  FAILDATE FIRE INJURED DEATHS  ...  \\\n",
       "0                              2016     N  20240701    N       0      0  ...   \n",
       "1                              2022     N  20241231    N       0      0  ...   \n",
       "2                              2024     N  20241101    N       0      0  ...   \n",
       "3                              2024     N  20241229    N       0      0  ...   \n",
       "4                              2024     N  20241227    N       0      0  ...   \n",
       "...                             ...   ...       ...  ...     ...    ...  ...   \n",
       "37417        2023, 2022, 2024, 2025   NaN       NaN  NaN     NaN    NaN  ...   \n",
       "37418  2021, 2022, 2023, 2025, 2024   NaN       NaN  NaN     NaN    NaN  ...   \n",
       "37419        2005, 2006, 2007, 2008   NaN       NaN  NaN     NaN    NaN  ...   \n",
       "37420                    2025, 2024   NaN       NaN  NaN     NaN    NaN  ...   \n",
       "37421              2025, 2023, 2024   NaN       NaN  NaN     NaN    NaN  ...   \n",
       "\n",
       "                                             RCL_CMPT_ID  \\\n",
       "0                                                    NaN   \n",
       "1                                                    NaN   \n",
       "2                                                    NaN   \n",
       "3                                                    NaN   \n",
       "4                                                    NaN   \n",
       "...                                                  ...   \n",
       "37417  000127267005430764000000212, 00012726700495275...   \n",
       "37418  000127948004696784000001881, 00012794800469678...   \n",
       "37419  000127951002185725000001483, 00012795100218572...   \n",
       "37420  000127532005643746000000063, 00012753200558519...   \n",
       "37421  000127556005660317000000152, 00012755600566032...   \n",
       "\n",
       "               MFR_COMP_NAME                MFR_COMP_DESC  \\\n",
       "0                        NaN                          NaN   \n",
       "1                        NaN                          NaN   \n",
       "2                        NaN                          NaN   \n",
       "3                        NaN                          NaN   \n",
       "4                        NaN                          NaN   \n",
       "...                      ...                          ...   \n",
       "37417  Module Multi Plex IFM       Chassis Control Module   \n",
       "37418         Radio Software               Radio Software   \n",
       "37419                 Window  WDO L SLDR 44% TEMP GREY PO   \n",
       "37420            Brake Pedal                  Brake Pedal   \n",
       "37421     PUMP ASSY,FUEL H/P           PUMP ASSY,FUEL H/P   \n",
       "\n",
       "                                           MFR_COMP_PTNO       BGMAN  \\\n",
       "0                                                    NaN         NaN   \n",
       "1                                                    NaN         NaN   \n",
       "2                                                    NaN         NaN   \n",
       "3                                                    NaN         NaN   \n",
       "4                                                    NaN         NaN   \n",
       "...                                                  ...         ...   \n",
       "37417                                             CR0033  20220502.0   \n",
       "37418  T27.52 for Ghibli, Quattroporte and Levante, U...  20200729.0   \n",
       "37419                                                     20051125.0   \n",
       "37420                                         68607352AA         NaN   \n",
       "37421  16790-6MA-J010-M1, 16790-6MA-J011-M1, 16790-6M...  20221111.0   \n",
       "\n",
       "                                             DESC_DEFECT  \\\n",
       "0                                                    NaN   \n",
       "1                                                    NaN   \n",
       "2                                                    NaN   \n",
       "3                                                    NaN   \n",
       "4                                                    NaN   \n",
       "...                                                  ...   \n",
       "37417  Tiffin Motorhomes, Inc. (Tiffin) is recalling ...   \n",
       "37418  Maserati North America, Inc. (Maserati) is rec...   \n",
       "37419  Nova Bus (US) Inc. (Nova Bus) is recalling cer...   \n",
       "37420  Chrysler (FCA US, LLC) is recalling certain 20...   \n",
       "37421  Honda (American Honda Motor Co.) is recalling ...   \n",
       "\n",
       "                                      CONSEQUENCE_DEFECT RPNO FMVSS  \\\n",
       "0                                                    NaN  NaN   NaN   \n",
       "1                                                    NaN  NaN   NaN   \n",
       "2                                                    NaN  NaN   NaN   \n",
       "3                                                    NaN  NaN   NaN   \n",
       "4                                                    NaN  NaN   NaN   \n",
       "...                                                  ...  ...   ...   \n",
       "37417  An engine shutdown increases the risk of a crash.              \n",
       "37418  A rearview camera image that does not display ...       None   \n",
       "37419  An insufficient number of emergency exits can ...       None   \n",
       "37420  A loss of brake function increases the risk of...              \n",
       "37421  A fuel leak in the presence of an ignition sou...              \n",
       "\n",
       "           ENDMAN  \n",
       "0             NaN  \n",
       "1             NaN  \n",
       "2             NaN  \n",
       "3             NaN  \n",
       "4             NaN  \n",
       "...           ...  \n",
       "37417  20230522.0  \n",
       "37418  20240124.0  \n",
       "37419  20071112.0  \n",
       "37420         NaN  \n",
       "37421  20240912.0  \n",
       "\n",
       "[37422 rows x 72 columns]"
      ]
     },
     "execution_count": 63,
     "metadata": {},
     "output_type": "execute_result"
    }
   ],
   "source": [
    "df_final"
   ]
  },
  {
   "cell_type": "code",
   "execution_count": 144,
   "metadata": {},
   "outputs": [
    {
     "data": {
      "text/plain": [
       "Index(['ANTI_BRAKES_YN', 'BGMAN', 'CAMPNO', 'CDESCR', 'CITY', 'CMPL_TYPE',\n",
       "       'COMPDESC', 'CONSEQUENCE_DEFECT', 'CORRECTIVE_ACTION', 'CRASH',\n",
       "       'CRUISE_CONT_YN', 'DATEA', 'DEALER_CITY', 'DEALER_NAME', 'DEALER_STATE',\n",
       "       'DEALER_TEL', 'DEALER_ZIP', 'DEATHS', 'DESC_DEFECT', 'DOT',\n",
       "       'DRIVE_TRAIN', 'ENDMAN', 'FAILDATE', 'FIRE', 'FMVSS', 'FUEL_SYS',\n",
       "       'FUEL_TYPE', 'INFLUENCED_BY', 'INJURED', 'IS_COMPLAINT', 'LDATE',\n",
       "       'LOC_OF_TIRE', 'MAKETXT', 'MANUF_DT', 'MEDICAL_ATTN', 'MFGCAMPNO',\n",
       "       'MFGTXT', 'MFR_COMP_DESC', 'MFR_COMP_NAME', 'MFR_COMP_PTNO', 'MFR_NAME',\n",
       "       'MILES', 'MMYTXT', 'MODELTXT', 'NOTES', 'NUMRECORDS', 'NUM_CYLS',\n",
       "       'OCCURENCES', 'ODATE', 'ODINO', 'ORIG_EQUIP_YN', 'ORIG_OWNER_YN',\n",
       "       'POLICE_RPT_YN', 'POTAFF', 'PROD_TYPE', 'PURCH_DT', 'RCDATE',\n",
       "       'RCLTYPECD', 'RCL_CMPT_ID', 'RECORD_ID', 'REPAIRED_YN',\n",
       "       'RESTRAINT_TYPE', 'RPNO', 'SEAT_TYPE', 'STATE', 'TIRE_FAIL_TYPE',\n",
       "       'TIRE_SIZE', 'TRANS_TYPE', 'VEHICLES_TOWED_YN', 'VEH_SPEED', 'VIN',\n",
       "       'YEARTXT'],\n",
       "      dtype='object')"
      ]
     },
     "execution_count": 144,
     "metadata": {},
     "output_type": "execute_result"
    }
   ],
   "source": [
    "df_final.columns.sort_values()"
   ]
  },
  {
   "cell_type": "code",
   "execution_count": 146,
   "metadata": {},
   "outputs": [
    {
     "name": "stdout",
     "output_type": "stream",
     "text": [
      "<class 'pandas.core.frame.DataFrame'>\n",
      "RangeIndex: 37422 entries, 0 to 37421\n",
      "Data columns (total 72 columns):\n",
      " #   Column              Non-Null Count  Dtype  \n",
      "---  ------              --------------  -----  \n",
      " 0   ODINO               11627 non-null  object \n",
      " 1   MFR_NAME            37422 non-null  object \n",
      " 2   MAKETXT             37422 non-null  object \n",
      " 3   MODELTXT            37422 non-null  object \n",
      " 4   YEARTXT             37422 non-null  object \n",
      " 5   CRASH               11627 non-null  object \n",
      " 6   FAILDATE            11627 non-null  object \n",
      " 7   FIRE                11627 non-null  object \n",
      " 8   INJURED             11627 non-null  object \n",
      " 9   DEATHS              11627 non-null  object \n",
      " 10  COMPDESC            37422 non-null  object \n",
      " 11  CITY                11627 non-null  object \n",
      " 12  STATE               11627 non-null  object \n",
      " 13  VIN                 11627 non-null  object \n",
      " 14  DATEA               37422 non-null  object \n",
      " 15  LDATE               11627 non-null  object \n",
      " 16  CMPL_TYPE           11627 non-null  object \n",
      " 17  POLICE_RPT_YN       11627 non-null  object \n",
      " 18  ORIG_OWNER_YN       11627 non-null  object \n",
      " 19  ANTI_BRAKES_YN      11627 non-null  object \n",
      " 20  CRUISE_CONT_YN      11627 non-null  object \n",
      " 21  FUEL_TYPE           11627 non-null  object \n",
      " 22  DOT                 11627 non-null  object \n",
      " 23  LOC_OF_TIRE         11627 non-null  object \n",
      " 24  TIRE_FAIL_TYPE      11627 non-null  object \n",
      " 25  ORIG_EQUIP_YN       11627 non-null  object \n",
      " 26  SEAT_TYPE           11627 non-null  object \n",
      " 27  RESTRAINT_TYPE      11627 non-null  object \n",
      " 28  DEALER_NAME         11627 non-null  object \n",
      " 29  DEALER_CITY         11627 non-null  object \n",
      " 30  DEALER_STATE        11627 non-null  object \n",
      " 31  PROD_TYPE           11627 non-null  object \n",
      " 32  REPAIRED_YN         11627 non-null  object \n",
      " 33  VEHICLES_TOWED_YN   11627 non-null  object \n",
      " 34  MMYTXT              37422 non-null  object \n",
      " 35  CDESCR              37422 non-null  object \n",
      " 36  OCCURENCES          0 non-null      float64\n",
      " 37  MANUF_DT            52 non-null     float64\n",
      " 38  VEH_SPEED           5521 non-null   float64\n",
      " 39  MILES               2285 non-null   float64\n",
      " 40  MEDICAL_ATTN        11627 non-null  object \n",
      " 41  FUEL_SYS            0 non-null      float64\n",
      " 42  TRANS_TYPE          0 non-null      float64\n",
      " 43  DEALER_TEL          11592 non-null  object \n",
      " 44  PURCH_DT            40 non-null     float64\n",
      " 45  DRIVE_TRAIN         0 non-null      float64\n",
      " 46  DEALER_ZIP          11579 non-null  object \n",
      " 47  NUM_CYLS            0 non-null      float64\n",
      " 48  TIRE_SIZE           0 non-null      float64\n",
      " 49  NUMRECORDS          37422 non-null  int64  \n",
      " 50  IS_COMPLAINT        37422 non-null  bool   \n",
      " 51  RECORD_ID           25795 non-null  object \n",
      " 52  CAMPNO              25795 non-null  object \n",
      " 53  MFGCAMPNO           25795 non-null  object \n",
      " 54  RCLTYPECD           25795 non-null  object \n",
      " 55  POTAFF              25795 non-null  object \n",
      " 56  ODATE               25795 non-null  object \n",
      " 57  INFLUENCED_BY       25795 non-null  object \n",
      " 58  MFGTXT              25795 non-null  object \n",
      " 59  RCDATE              25795 non-null  object \n",
      " 60  CORRECTIVE_ACTION   25795 non-null  object \n",
      " 61  NOTES               25795 non-null  object \n",
      " 62  RCL_CMPT_ID         25795 non-null  object \n",
      " 63  MFR_COMP_NAME       25795 non-null  object \n",
      " 64  MFR_COMP_DESC       25795 non-null  object \n",
      " 65  MFR_COMP_PTNO       25795 non-null  object \n",
      " 66  RPNO                22941 non-null  object \n",
      " 67  CONSEQUENCE_DEFECT  25795 non-null  object \n",
      " 68  DESC_DEFECT         25795 non-null  object \n",
      " 69  FMVSS               22189 non-null  object \n",
      " 70  BGMAN               18085 non-null  float64\n",
      " 71  ENDMAN              18151 non-null  float64\n",
      "dtypes: bool(1), float64(12), int64(1), object(58)\n",
      "memory usage: 20.3+ MB\n"
     ]
    }
   ],
   "source": [
    "df_final.info()"
   ]
  },
  {
   "cell_type": "code",
   "execution_count": 147,
   "metadata": {},
   "outputs": [
    {
     "data": {
      "text/html": [
       "<div>\n",
       "<style scoped>\n",
       "    .dataframe tbody tr th:only-of-type {\n",
       "        vertical-align: middle;\n",
       "    }\n",
       "\n",
       "    .dataframe tbody tr th {\n",
       "        vertical-align: top;\n",
       "    }\n",
       "\n",
       "    .dataframe thead th {\n",
       "        text-align: right;\n",
       "    }\n",
       "</style>\n",
       "<table border=\"1\" class=\"dataframe\">\n",
       "  <thead>\n",
       "    <tr style=\"text-align: right;\">\n",
       "      <th></th>\n",
       "      <th>ODINO</th>\n",
       "      <th>MFR_NAME</th>\n",
       "      <th>MAKETXT</th>\n",
       "      <th>MODELTXT</th>\n",
       "      <th>YEARTXT</th>\n",
       "      <th>CRASH</th>\n",
       "      <th>FAILDATE</th>\n",
       "      <th>FIRE</th>\n",
       "      <th>INJURED</th>\n",
       "      <th>DEATHS</th>\n",
       "      <th>...</th>\n",
       "      <th>RCL_CMPT_ID</th>\n",
       "      <th>MFR_COMP_NAME</th>\n",
       "      <th>MFR_COMP_DESC</th>\n",
       "      <th>MFR_COMP_PTNO</th>\n",
       "      <th>RPNO</th>\n",
       "      <th>CONSEQUENCE_DEFECT</th>\n",
       "      <th>DESC_DEFECT</th>\n",
       "      <th>FMVSS</th>\n",
       "      <th>BGMAN</th>\n",
       "      <th>ENDMAN</th>\n",
       "    </tr>\n",
       "  </thead>\n",
       "  <tbody>\n",
       "    <tr>\n",
       "      <th>0</th>\n",
       "      <td>11633472</td>\n",
       "      <td>Ford Motor Company</td>\n",
       "      <td>FORD</td>\n",
       "      <td>EXPLORER</td>\n",
       "      <td>2016</td>\n",
       "      <td>N</td>\n",
       "      <td>20240701</td>\n",
       "      <td>N</td>\n",
       "      <td>0</td>\n",
       "      <td>0</td>\n",
       "      <td>...</td>\n",
       "      <td>NaN</td>\n",
       "      <td>NaN</td>\n",
       "      <td>NaN</td>\n",
       "      <td>NaN</td>\n",
       "      <td>NaN</td>\n",
       "      <td>NaN</td>\n",
       "      <td>NaN</td>\n",
       "      <td>NaN</td>\n",
       "      <td>NaN</td>\n",
       "      <td>NaN</td>\n",
       "    </tr>\n",
       "    <tr>\n",
       "      <th>1</th>\n",
       "      <td>11633473</td>\n",
       "      <td>Chrysler (FCA US, LLC)</td>\n",
       "      <td>JEEP</td>\n",
       "      <td>GLADIATOR</td>\n",
       "      <td>2022</td>\n",
       "      <td>N</td>\n",
       "      <td>20241231</td>\n",
       "      <td>N</td>\n",
       "      <td>0</td>\n",
       "      <td>0</td>\n",
       "      <td>...</td>\n",
       "      <td>NaN</td>\n",
       "      <td>NaN</td>\n",
       "      <td>NaN</td>\n",
       "      <td>NaN</td>\n",
       "      <td>NaN</td>\n",
       "      <td>NaN</td>\n",
       "      <td>NaN</td>\n",
       "      <td>NaN</td>\n",
       "      <td>NaN</td>\n",
       "      <td>NaN</td>\n",
       "    </tr>\n",
       "    <tr>\n",
       "      <th>2</th>\n",
       "      <td>11633474</td>\n",
       "      <td>Toyota Motor Corporation</td>\n",
       "      <td>TOYOTA</td>\n",
       "      <td>TUNDRA</td>\n",
       "      <td>2024</td>\n",
       "      <td>N</td>\n",
       "      <td>20241101</td>\n",
       "      <td>N</td>\n",
       "      <td>0</td>\n",
       "      <td>0</td>\n",
       "      <td>...</td>\n",
       "      <td>NaN</td>\n",
       "      <td>NaN</td>\n",
       "      <td>NaN</td>\n",
       "      <td>NaN</td>\n",
       "      <td>NaN</td>\n",
       "      <td>NaN</td>\n",
       "      <td>NaN</td>\n",
       "      <td>NaN</td>\n",
       "      <td>NaN</td>\n",
       "      <td>NaN</td>\n",
       "    </tr>\n",
       "    <tr>\n",
       "      <th>3</th>\n",
       "      <td>11633475</td>\n",
       "      <td>General Motors, LLC</td>\n",
       "      <td>BUICK</td>\n",
       "      <td>ENVISTA</td>\n",
       "      <td>2024</td>\n",
       "      <td>N</td>\n",
       "      <td>20241229</td>\n",
       "      <td>N</td>\n",
       "      <td>0</td>\n",
       "      <td>0</td>\n",
       "      <td>...</td>\n",
       "      <td>NaN</td>\n",
       "      <td>NaN</td>\n",
       "      <td>NaN</td>\n",
       "      <td>NaN</td>\n",
       "      <td>NaN</td>\n",
       "      <td>NaN</td>\n",
       "      <td>NaN</td>\n",
       "      <td>NaN</td>\n",
       "      <td>NaN</td>\n",
       "      <td>NaN</td>\n",
       "    </tr>\n",
       "    <tr>\n",
       "      <th>4</th>\n",
       "      <td>11633476</td>\n",
       "      <td>Honda (American Honda Motor Co.)</td>\n",
       "      <td>HONDA</td>\n",
       "      <td>PROLOGUE</td>\n",
       "      <td>2024</td>\n",
       "      <td>N</td>\n",
       "      <td>20241227</td>\n",
       "      <td>N</td>\n",
       "      <td>0</td>\n",
       "      <td>0</td>\n",
       "      <td>...</td>\n",
       "      <td>NaN</td>\n",
       "      <td>NaN</td>\n",
       "      <td>NaN</td>\n",
       "      <td>NaN</td>\n",
       "      <td>NaN</td>\n",
       "      <td>NaN</td>\n",
       "      <td>NaN</td>\n",
       "      <td>NaN</td>\n",
       "      <td>NaN</td>\n",
       "      <td>NaN</td>\n",
       "    </tr>\n",
       "  </tbody>\n",
       "</table>\n",
       "<p>5 rows × 72 columns</p>\n",
       "</div>"
      ],
      "text/plain": [
       "      ODINO                          MFR_NAME MAKETXT   MODELTXT YEARTXT  \\\n",
       "0  11633472                Ford Motor Company    FORD   EXPLORER    2016   \n",
       "1  11633473            Chrysler (FCA US, LLC)    JEEP  GLADIATOR    2022   \n",
       "2  11633474          Toyota Motor Corporation  TOYOTA     TUNDRA    2024   \n",
       "3  11633475               General Motors, LLC   BUICK    ENVISTA    2024   \n",
       "4  11633476  Honda (American Honda Motor Co.)   HONDA   PROLOGUE    2024   \n",
       "\n",
       "  CRASH  FAILDATE FIRE INJURED DEATHS  ... RCL_CMPT_ID MFR_COMP_NAME  \\\n",
       "0     N  20240701    N       0      0  ...         NaN           NaN   \n",
       "1     N  20241231    N       0      0  ...         NaN           NaN   \n",
       "2     N  20241101    N       0      0  ...         NaN           NaN   \n",
       "3     N  20241229    N       0      0  ...         NaN           NaN   \n",
       "4     N  20241227    N       0      0  ...         NaN           NaN   \n",
       "\n",
       "  MFR_COMP_DESC MFR_COMP_PTNO RPNO CONSEQUENCE_DEFECT DESC_DEFECT FMVSS BGMAN  \\\n",
       "0           NaN           NaN  NaN                NaN         NaN   NaN   NaN   \n",
       "1           NaN           NaN  NaN                NaN         NaN   NaN   NaN   \n",
       "2           NaN           NaN  NaN                NaN         NaN   NaN   NaN   \n",
       "3           NaN           NaN  NaN                NaN         NaN   NaN   NaN   \n",
       "4           NaN           NaN  NaN                NaN         NaN   NaN   NaN   \n",
       "\n",
       "  ENDMAN  \n",
       "0    NaN  \n",
       "1    NaN  \n",
       "2    NaN  \n",
       "3    NaN  \n",
       "4    NaN  \n",
       "\n",
       "[5 rows x 72 columns]"
      ]
     },
     "execution_count": 147,
     "metadata": {},
     "output_type": "execute_result"
    }
   ],
   "source": [
    "df_final.head()"
   ]
  },
  {
   "cell_type": "code",
   "execution_count": 148,
   "metadata": {},
   "outputs": [],
   "source": [
    "df_final.to_csv(\n",
    "    f\"{DATASET_DIR}/complaints_and_recalls.csv\"\n",
    ")"
   ]
  },
  {
   "cell_type": "markdown",
   "metadata": {},
   "source": [
    "# Check our Python pipeline outputs"
   ]
  },
  {
   "cell_type": "code",
   "execution_count": 65,
   "metadata": {},
   "outputs": [
    {
     "name": "stderr",
     "output_type": "stream",
     "text": [
      "C:\\Users\\harri\\AppData\\Local\\Temp\\ipykernel_13348\\343808498.py:1: DtypeWarning: Columns (1,6,7,8,9,10,12,13,14,16,17,18,19,20,21,22,23,24,25,26,27,28,29,30,31,32,33,34,38,40,49,52,53,54,55,56,57,58,59,60,61,62,63,64,65,66,67,68,69,72) have mixed types. Specify dtype option on import or set low_memory=False.\n",
      "  test_agg = pd.read_csv(f\"{DATASET_DIR}/test_agg.csv\")\n"
     ]
    }
   ],
   "source": [
    "test_agg = pd.read_csv(f\"{DATASET_DIR}/test_agg.csv\")"
   ]
  },
  {
   "cell_type": "code",
   "execution_count": 71,
   "metadata": {},
   "outputs": [
    {
     "data": {
      "text/plain": [
       "IS_COMPLAINT\n",
       "False    25742\n",
       "True     11616\n",
       "Name: count, dtype: int64"
      ]
     },
     "execution_count": 71,
     "metadata": {},
     "output_type": "execute_result"
    }
   ],
   "source": [
    "test_agg[\"IS_COMPLAINT\"].value_counts()"
   ]
  },
  {
   "cell_type": "code",
   "execution_count": 66,
   "metadata": {},
   "outputs": [
    {
     "name": "stderr",
     "output_type": "stream",
     "text": [
      "C:\\Users\\harri\\AppData\\Local\\Temp\\ipykernel_13348\\2415690697.py:1: DtypeWarning: Columns (6,8,12,13,14,20,21,23,24,25,29,32,34,35,36,38,39,40,41,42,43,44,45,46,47,48,52,53,56,59,60,62,63,64,65,66,67,68,69,70,71) have mixed types. Specify dtype option on import or set low_memory=False.\n",
      "  test_no_agg = pd.read_csv(f\"{DATASET_DIR}/test_no_agg.csv\")\n"
     ]
    }
   ],
   "source": [
    "test_no_agg = pd.read_csv(f\"{DATASET_DIR}/test_no_agg.csv\")"
   ]
  },
  {
   "cell_type": "code",
   "execution_count": 72,
   "metadata": {},
   "outputs": [
    {
     "data": {
      "text/plain": [
       "IS_COMPLAINT\n",
       "False    293171\n",
       "True      17239\n",
       "Name: count, dtype: int64"
      ]
     },
     "execution_count": 72,
     "metadata": {},
     "output_type": "execute_result"
    }
   ],
   "source": [
    "test_no_agg[\"IS_COMPLAINT\"].value_counts()"
   ]
  },
  {
   "cell_type": "code",
   "execution_count": 75,
   "metadata": {},
   "outputs": [
    {
     "data": {
      "text/plain": [
       "OCCURENCES         0\n",
       "FUEL_SYS           0\n",
       "DRIVE_TRAIN        0\n",
       "NUM_CYLS           0\n",
       "TRANS_TYPE         0\n",
       "               ...  \n",
       "MAKETXT        37358\n",
       "Unnamed: 0     37358\n",
       "YEARTXT        37358\n",
       "MODELTXT       37358\n",
       "DATEA          37358\n",
       "Length: 73, dtype: int64"
      ]
     },
     "execution_count": 75,
     "metadata": {},
     "output_type": "execute_result"
    }
   ],
   "source": [
    "test_agg.notnull().sum(axis=0).sort_values()"
   ]
  },
  {
   "cell_type": "markdown",
   "metadata": {},
   "source": [
    "Unamed: 0 is the index"
   ]
  },
  {
   "cell_type": "code",
   "execution_count": 68,
   "metadata": {},
   "outputs": [
    {
     "data": {
      "text/plain": [
       "310410"
      ]
     },
     "execution_count": 68,
     "metadata": {},
     "output_type": "execute_result"
    }
   ],
   "source": [
    "len(test_no_agg)"
   ]
  },
  {
   "cell_type": "code",
   "execution_count": 74,
   "metadata": {},
   "outputs": [
    {
     "data": {
      "text/plain": [
       "DRIVE_TRAIN         0\n",
       "NUM_CYLS            0\n",
       "TRANS_TYPE          0\n",
       "FUEL_SYS            0\n",
       "OCCURENCES          0\n",
       "                ...  \n",
       "COMPDESC       310410\n",
       "MAKETXT        310410\n",
       "Unnamed: 0     310410\n",
       "YEARTXT        310410\n",
       "MODELTXT       310410\n",
       "Length: 72, dtype: int64"
      ]
     },
     "execution_count": 74,
     "metadata": {},
     "output_type": "execute_result"
    }
   ],
   "source": [
    "test_no_agg.notnull().sum(axis=0).sort_values()"
   ]
  },
  {
   "cell_type": "markdown",
   "metadata": {},
   "source": [
    "Unamed: 0 is the index"
   ]
  },
  {
   "cell_type": "markdown",
   "metadata": {},
   "source": [
    "Some of these columns shouldn't all be null."
   ]
  },
  {
   "cell_type": "markdown",
   "metadata": {},
   "source": [
    "I looked at the previous complaints dataset, looks like occurrences is actually null...."
   ]
  }
 ],
 "metadata": {
  "kernelspec": {
   "display_name": "capstone_vehicle_recall",
   "language": "python",
   "name": "python3"
  },
  "language_info": {
   "codemirror_mode": {
    "name": "ipython",
    "version": 3
   },
   "file_extension": ".py",
   "mimetype": "text/x-python",
   "name": "python",
   "nbconvert_exporter": "python",
   "pygments_lexer": "ipython3",
   "version": "3.10.16"
  }
 },
 "nbformat": 4,
 "nbformat_minor": 2
}
